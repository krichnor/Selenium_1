{
 "cells": [
  {
   "cell_type": "code",
   "execution_count": 2,
   "metadata": {},
   "outputs": [],
   "source": [
    "from selenium import webdriver\n",
    "from selenium.webdriver.common.by import By\n",
    "from selenium.webdriver.common.keys import Keys\n",
    "import pandas as pd\n",
    "import bs4 as bs4\n",
    "import time\n",
    "from selenium.webdriver.support.ui import WebDriverWait\n",
    "from selenium.common.exceptions import TimeoutException\n",
    "from selenium.webdriver.support import expected_conditions as EC\n",
    "import urllib"
   ]
  },
  {
   "cell_type": "code",
   "execution_count": 55,
   "metadata": {},
   "outputs": [],
   "source": [
    "fromChat = pd.read_csv(r'/Users/krichnorakhun/Documents/GP/inventory/chatToyota.csv')\n",
    "fromChat=fromChat[['Code']]\n",
    "fromChat.columns = ['PartNO']\n",
    "fromChat['Chat'] = 1"
   ]
  },
  {
   "cell_type": "code",
   "execution_count": 56,
   "metadata": {},
   "outputs": [],
   "source": [
    "#Frist batch\n",
    "GPInventory = pd.read_excel(r'/Users/krichnorakhun/Documents/GP/inventory/GP.xlsx')\n",
    "GPInventory = GPInventory.loc[GPInventory['ItemGroup'].apply(lambda x : str(x).find('TOYOTA'))>=0][['ItemCode']]\n",
    "GPInventory = GPInventory.drop_duplicates()\n",
    "GPInventory.loc[:,'ItemCode'] = GPInventory['ItemCode'].apply(lambda x : x[4:] )\n",
    "GPInventory = GPInventory.loc[GPInventory['ItemCode'].apply(lambda x : len(x)).isin([10,12])]\n",
    "GPInventory.columns = ['Code']\n",
    "GPInventory = GPInventory.reset_index()\n",
    "GPInventory = GPInventory.drop(['index'], axis=1)\n",
    "GPInventory.columns = ['PartNO']\n",
    "GPInventory['Done'] = 1"
   ]
  },
  {
   "cell_type": "code",
   "execution_count": 57,
   "metadata": {},
   "outputs": [],
   "source": [
    "NewFromGos = pd.read_excel(r'/Users/krichnorakhun/Documents/GP/inventory/List of Required EPC/Item-Toyota.xlsx', sheet_name='TOYOTA')\n",
    "NewFromGos['PartNO'] = NewFromGos['ItemCode'].apply(lambda x : x.replace('TOY-',''))\n",
    "NewFromGos = NewFromGos.loc[NewFromGos['PartNO'].apply(lambda x : len(x))>=10]\n",
    "NewFromGos = NewFromGos[['PartNO']]\n",
    "NewFromGos['Gos'] = 1"
   ]
  },
  {
   "cell_type": "code",
   "execution_count": 59,
   "metadata": {},
   "outputs": [],
   "source": [
    "Comb = pd.merge( NewFromGos, fromChat, left_on='PartNO', right_on = 'PartNO', how='outer')"
   ]
  },
  {
   "cell_type": "code",
   "execution_count": 61,
   "metadata": {},
   "outputs": [],
   "source": [
    "Comb = pd.merge( Comb,GPInventory, left_on='PartNO', right_on='PartNO', how='outer' )"
   ]
  },
  {
   "cell_type": "code",
   "execution_count": 80,
   "metadata": {},
   "outputs": [
    {
     "data": {
      "text/html": [
       "<div>\n",
       "<style scoped>\n",
       "    .dataframe tbody tr th:only-of-type {\n",
       "        vertical-align: middle;\n",
       "    }\n",
       "\n",
       "    .dataframe tbody tr th {\n",
       "        vertical-align: top;\n",
       "    }\n",
       "\n",
       "    .dataframe thead th {\n",
       "        text-align: right;\n",
       "    }\n",
       "</style>\n",
       "<table border=\"1\" class=\"dataframe\">\n",
       "  <thead>\n",
       "    <tr style=\"text-align: right;\">\n",
       "      <th></th>\n",
       "      <th>PartNO</th>\n",
       "      <th>Gos</th>\n",
       "      <th>Chat</th>\n",
       "      <th>Done</th>\n",
       "    </tr>\n",
       "  </thead>\n",
       "  <tbody>\n",
       "    <tr>\n",
       "      <th>34805</th>\n",
       "      <td>6480102908</td>\n",
       "      <td>NaN</td>\n",
       "      <td>1.0</td>\n",
       "      <td>NaN</td>\n",
       "    </tr>\n",
       "    <tr>\n",
       "      <th>34806</th>\n",
       "      <td>8850128360</td>\n",
       "      <td>NaN</td>\n",
       "      <td>1.0</td>\n",
       "      <td>NaN</td>\n",
       "    </tr>\n",
       "    <tr>\n",
       "      <th>34807</th>\n",
       "      <td>8851528200</td>\n",
       "      <td>NaN</td>\n",
       "      <td>1.0</td>\n",
       "      <td>NaN</td>\n",
       "    </tr>\n",
       "    <tr>\n",
       "      <th>34808</th>\n",
       "      <td>87139YZZ45</td>\n",
       "      <td>NaN</td>\n",
       "      <td>1.0</td>\n",
       "      <td>NaN</td>\n",
       "    </tr>\n",
       "    <tr>\n",
       "      <th>34809</th>\n",
       "      <td>821540K010</td>\n",
       "      <td>NaN</td>\n",
       "      <td>1.0</td>\n",
       "      <td>NaN</td>\n",
       "    </tr>\n",
       "    <tr>\n",
       "      <th>...</th>\n",
       "      <td>...</td>\n",
       "      <td>...</td>\n",
       "      <td>...</td>\n",
       "      <td>...</td>\n",
       "    </tr>\n",
       "    <tr>\n",
       "      <th>46491</th>\n",
       "      <td>6168104020</td>\n",
       "      <td>NaN</td>\n",
       "      <td>1.0</td>\n",
       "      <td>NaN</td>\n",
       "    </tr>\n",
       "    <tr>\n",
       "      <th>46492</th>\n",
       "      <td>6810106111</td>\n",
       "      <td>NaN</td>\n",
       "      <td>1.0</td>\n",
       "      <td>NaN</td>\n",
       "    </tr>\n",
       "    <tr>\n",
       "      <th>46493</th>\n",
       "      <td>8266335050</td>\n",
       "      <td>NaN</td>\n",
       "      <td>1.0</td>\n",
       "      <td>NaN</td>\n",
       "    </tr>\n",
       "    <tr>\n",
       "      <th>46494</th>\n",
       "      <td>7735021020</td>\n",
       "      <td>NaN</td>\n",
       "      <td>1.0</td>\n",
       "      <td>NaN</td>\n",
       "    </tr>\n",
       "    <tr>\n",
       "      <th>46495</th>\n",
       "      <td>293450E010</td>\n",
       "      <td>NaN</td>\n",
       "      <td>1.0</td>\n",
       "      <td>NaN</td>\n",
       "    </tr>\n",
       "  </tbody>\n",
       "</table>\n",
       "<p>11691 rows × 4 columns</p>\n",
       "</div>"
      ],
      "text/plain": [
       "             PartNO  Gos  Chat  Done\n",
       "34805   6480102908   NaN   1.0   NaN\n",
       "34806   8850128360   NaN   1.0   NaN\n",
       "34807   8851528200   NaN   1.0   NaN\n",
       "34808   87139YZZ45   NaN   1.0   NaN\n",
       "34809   821540K010   NaN   1.0   NaN\n",
       "...             ...  ...   ...   ...\n",
       "46491   6168104020   NaN   1.0   NaN\n",
       "46492   6810106111   NaN   1.0   NaN\n",
       "46493   8266335050   NaN   1.0   NaN\n",
       "46494   7735021020   NaN   1.0   NaN\n",
       "46495   293450E010   NaN   1.0   NaN\n",
       "\n",
       "[11691 rows x 4 columns]"
      ]
     },
     "execution_count": 80,
     "metadata": {},
     "output_type": "execute_result"
    }
   ],
   "source": [
    "Comb.loc[(Comb['Gos'].isna()) & (Comb['Done'].isna()) & (~Comb['Chat'].isna())]"
   ]
  },
  {
   "cell_type": "code",
   "execution_count": 87,
   "metadata": {},
   "outputs": [],
   "source": [
    "Comb.to_csv(r'/Users/krichnorakhun/Documents/GP/inventory/TOY-CompleteList.csv', index=False)"
   ]
  },
  {
   "cell_type": "code",
   "execution_count": 86,
   "metadata": {},
   "outputs": [
    {
     "data": {
      "text/plain": [
       "PartNO\n",
       "10    29512\n",
       "12    16250\n",
       "11      698\n",
       "13       45\n",
       "14       24\n",
       "15        1\n",
       "Name: count, dtype: int64"
      ]
     },
     "execution_count": 86,
     "metadata": {},
     "output_type": "execute_result"
    }
   ],
   "source": [
    "Comb['PartNO'].apply(lambda x : len(x)).value_counts()"
   ]
  }
 ],
 "metadata": {
  "kernelspec": {
   "display_name": "selenium",
   "language": "python",
   "name": "python3"
  },
  "language_info": {
   "codemirror_mode": {
    "name": "ipython",
    "version": 3
   },
   "file_extension": ".py",
   "mimetype": "text/x-python",
   "name": "python",
   "nbconvert_exporter": "python",
   "pygments_lexer": "ipython3",
   "version": "3.9.12"
  }
 },
 "nbformat": 4,
 "nbformat_minor": 2
}
