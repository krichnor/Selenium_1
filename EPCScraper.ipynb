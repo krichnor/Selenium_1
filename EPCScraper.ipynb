{
 "cells": [
  {
   "cell_type": "code",
   "execution_count": 1,
   "metadata": {},
   "outputs": [],
   "source": [
    "from selenium import webdriver\n",
    "from selenium.webdriver.common.by import By\n",
    "from selenium.webdriver.common.keys import Keys\n",
    "import pandas as pd\n",
    "import bs4 as bs4\n",
    "import time\n",
    "from selenium.webdriver.support.ui import WebDriverWait\n",
    "from selenium.common.exceptions import TimeoutException\n",
    "from selenium.webdriver.support import expected_conditions as EC"
   ]
  },
  {
   "cell_type": "code",
   "execution_count": 2,
   "metadata": {},
   "outputs": [],
   "source": [
    "driver = webdriver.Edge()\n",
    "driver.get('https://spsepchtr.mx.toyota.co.jp/kN0k/V2/servlet/jp.co.toyota.pv2y580.servlet.CCV2Y580')\n",
    "user_input = driver.find_element(By.XPATH,'/html/body/div/div[2]/div[2]/div/div/form/div[2]/div[1]/table/tbody/tr[1]/td[2]/input')\n",
    "user_input.send_keys('12062B5@97221')\n",
    "pwd_input = driver.find_element(By.XPATH, '/html/body/div/div[2]/div[2]/div/div/form/div[2]/div[1]/table/tbody/tr[2]/td[2]/input')\n",
    "pwd_input.send_keys('Gpauto555#')\n",
    "pwd_input.send_keys(Keys.ENTER)"
   ]
  },
  {
   "cell_type": "code",
   "execution_count": null,
   "metadata": {},
   "outputs": [],
   "source": [
    "confirm_login_button = driver.find_element(By.XPATH,'/html/body/div/div[2]/div/div[2]/input[1]')\n",
    "confirm_login_button.click()"
   ]
  },
  {
   "cell_type": "code",
   "execution_count": 3,
   "metadata": {},
   "outputs": [],
   "source": [
    "# Wait for the new window/tab and then switch to it\n",
    "window_handles = driver.window_handles\n",
    "driver.switch_to.window(window_handles[-1])"
   ]
  },
  {
   "cell_type": "code",
   "execution_count": 4,
   "metadata": {},
   "outputs": [],
   "source": [
    "#Get into the menu to search parts.\n",
    "iframe = driver.find_element(By.XPATH,'/html/body/div/iframe')\n",
    "driver.switch_to.frame(iframe)\n",
    "partSearch_button = driver.find_element(By.XPATH,'/html/body/form/div[1]/div[1]/div[3]/div[1]/fieldset/button[2]')\n",
    "partSearch_button.click()"
   ]
  },
  {
   "cell_type": "code",
   "execution_count": null,
   "metadata": {},
   "outputs": [],
   "source": [
    "#Get into iframe that contain input box\n",
    "driver.switch_to.default_content()\n",
    "iframe = driver.find_element(By.XPATH,'/html/body/div[2]/iframe')\n",
    "driver.switch_to.frame(iframe)"
   ]
  },
  {
   "cell_type": "markdown",
   "metadata": {},
   "source": [
    "<font color='lightgreen'>Part to be lookup</font>"
   ]
  },
  {
   "cell_type": "code",
   "execution_count": 6,
   "metadata": {},
   "outputs": [],
   "source": [
    "partlist = pd.read_csv(r'/Users/krichnorakhun/Documents/GP/dataResult/replyWithFormat_ml.csv')"
   ]
  },
  {
   "cell_type": "code",
   "execution_count": 7,
   "metadata": {},
   "outputs": [],
   "source": [
    "partlist = partlist.loc[partlist['Brand']=='TOYOTA'][['Code']]"
   ]
  },
  {
   "cell_type": "code",
   "execution_count": 8,
   "metadata": {},
   "outputs": [
    {
     "data": {
      "text/plain": [
       "Code\n",
       "10    39144\n",
       "12     1854\n",
       "11      404\n",
       "7        41\n",
       "13       11\n",
       "14        6\n",
       "9         2\n",
       "6         1\n",
       "40        1\n",
       "Name: count, dtype: int64"
      ]
     },
     "execution_count": 8,
     "metadata": {},
     "output_type": "execute_result"
    }
   ],
   "source": [
    "partlist['Code'].apply(lambda x : len(str(x).strip())).value_counts()"
   ]
  },
  {
   "cell_type": "code",
   "execution_count": 9,
   "metadata": {},
   "outputs": [],
   "source": [
    "partlist = partlist.loc[partlist['Code'].apply(lambda x : len(str(x).strip())) == 10].drop_duplicates()"
   ]
  },
  {
   "cell_type": "code",
   "execution_count": 10,
   "metadata": {},
   "outputs": [],
   "source": [
    "partlist = partlist.loc[partlist['Code'].apply(lambda x : len(str(x).strip())) == 12]"
   ]
  },
  {
   "cell_type": "code",
   "execution_count": 11,
   "metadata": {},
   "outputs": [],
   "source": [
    "partlist = partlist.drop_duplicates()"
   ]
  },
  {
   "cell_type": "code",
   "execution_count": 12,
   "metadata": {},
   "outputs": [],
   "source": [
    "partlist = partlist.reset_index().drop(['index'],axis=1)"
   ]
  },
  {
   "cell_type": "code",
   "execution_count": 9,
   "metadata": {},
   "outputs": [],
   "source": [
    "GPInventory = pd.read_excel(r'/Users/krichnorakhun/Documents/GP/inventory/GP.xlsx')\n",
    "GPInventory = GPInventory.loc[GPInventory['ItemGroup'].apply(lambda x : str(x).find('TOYOTA'))>=0][['ItemCode']]"
   ]
  },
  {
   "cell_type": "code",
   "execution_count": 10,
   "metadata": {},
   "outputs": [],
   "source": [
    "GPInventory = GPInventory.loc[GPInventory['ItemCode'].apply(lambda x : len(str(x).strip()))==14].drop_duplicates()"
   ]
  },
  {
   "cell_type": "code",
   "execution_count": 11,
   "metadata": {},
   "outputs": [],
   "source": [
    "\n",
    "GPInventory['ItemCode'] = GPInventory['ItemCode'].apply(lambda x  : str(x).split('-')[1].strip() )\n",
    "GPInventory.columns = ['Code']"
   ]
  },
  {
   "cell_type": "code",
   "execution_count": 12,
   "metadata": {},
   "outputs": [],
   "source": [
    "GPInventory = GPInventory.reset_index().drop(['index'],axis=1)"
   ]
  },
  {
   "cell_type": "code",
   "execution_count": 13,
   "metadata": {},
   "outputs": [
    {
     "data": {
      "text/html": [
       "<div>\n",
       "<style scoped>\n",
       "    .dataframe tbody tr th:only-of-type {\n",
       "        vertical-align: middle;\n",
       "    }\n",
       "\n",
       "    .dataframe tbody tr th {\n",
       "        vertical-align: top;\n",
       "    }\n",
       "\n",
       "    .dataframe thead th {\n",
       "        text-align: right;\n",
       "    }\n",
       "</style>\n",
       "<table border=\"1\" class=\"dataframe\">\n",
       "  <thead>\n",
       "    <tr style=\"text-align: right;\">\n",
       "      <th></th>\n",
       "      <th>Code</th>\n",
       "    </tr>\n",
       "  </thead>\n",
       "  <tbody>\n",
       "    <tr>\n",
       "      <th>0</th>\n",
       "      <td>041110E042</td>\n",
       "    </tr>\n",
       "    <tr>\n",
       "      <th>1</th>\n",
       "      <td>0411130544</td>\n",
       "    </tr>\n",
       "    <tr>\n",
       "      <th>2</th>\n",
       "      <td>04152YZZA1</td>\n",
       "    </tr>\n",
       "    <tr>\n",
       "      <th>3</th>\n",
       "      <td>04152YZZA5</td>\n",
       "    </tr>\n",
       "    <tr>\n",
       "      <th>4</th>\n",
       "      <td>041110C136</td>\n",
       "    </tr>\n",
       "    <tr>\n",
       "      <th>...</th>\n",
       "      <td>...</td>\n",
       "    </tr>\n",
       "    <tr>\n",
       "      <th>4139</th>\n",
       "      <td>PZ0460KB44</td>\n",
       "    </tr>\n",
       "    <tr>\n",
       "      <th>4140</th>\n",
       "      <td>PZ0460KS65</td>\n",
       "    </tr>\n",
       "    <tr>\n",
       "      <th>4141</th>\n",
       "      <td>PZT018702L</td>\n",
       "    </tr>\n",
       "    <tr>\n",
       "      <th>4142</th>\n",
       "      <td>PZT018742L</td>\n",
       "    </tr>\n",
       "    <tr>\n",
       "      <th>4143</th>\n",
       "      <td>PZT018752L</td>\n",
       "    </tr>\n",
       "  </tbody>\n",
       "</table>\n",
       "<p>4144 rows × 1 columns</p>\n",
       "</div>"
      ],
      "text/plain": [
       "            Code\n",
       "0     041110E042\n",
       "1     0411130544\n",
       "2     04152YZZA1\n",
       "3     04152YZZA5\n",
       "4     041110C136\n",
       "...          ...\n",
       "4139  PZ0460KB44\n",
       "4140  PZ0460KS65\n",
       "4141  PZT018702L\n",
       "4142  PZT018742L\n",
       "4143  PZT018752L\n",
       "\n",
       "[4144 rows x 1 columns]"
      ]
     },
     "execution_count": 13,
     "metadata": {},
     "output_type": "execute_result"
    }
   ],
   "source": [
    "GPInventory"
   ]
  },
  {
   "cell_type": "markdown",
   "metadata": {},
   "source": [
    "<font color='yellow'>Looping get data </font>"
   ]
  },
  {
   "cell_type": "code",
   "execution_count": 15,
   "metadata": {},
   "outputs": [],
   "source": [
    "def clickInput(x):\n",
    "    #Get input box\n",
    "    part_1 = driver.find_element(By.XPATH,'/html/body/form/div[1]/div[1]/div[1]/div[2]/input[1]')\n",
    "    part_2 = driver.find_element(By.XPATH,'/html/body/form/div[1]/div[1]/div[1]/div[2]/input[2]')\n",
    "    part_3 = driver.find_element(By.XPATH,'/html/body/form/div[1]/div[1]/div[1]/div[2]/input[3]')\n",
    "    part_1.send_keys(x[:6])\n",
    "    part_2.send_keys(x[6:11])\n",
    "    #part_3.send_keys(x[11:])\n",
    "    part_3.send_keys(Keys.ENTER)\n",
    "    Run_Botton = driver.find_element(By.XPATH,'/html/body/form/div[1]/div[3]/div[2]/button[10]')\n",
    "    Run_Botton.click()\n",
    "    return"
   ]
  },
  {
   "cell_type": "code",
   "execution_count": 16,
   "metadata": {},
   "outputs": [],
   "source": [
    "def getResult_1(x,output):\n",
    "    tempData = pd.DataFrame()\n",
    "    soup = bs4.BeautifulSoup(x)\n",
    "    tableInSoup = soup.find_all('table',{'class':'excelLikeList'})\n",
    "    tempData.loc[0, 'PartID'] = tableInSoup[0].find_all('div', { 'class':'side'})[0].text\n",
    "    tempData.loc[0, 'Part Description'] = tableInSoup[0].find_all('div', { 'class':'side'})[1].text\n",
    "    output = pd.concat([output,tempData], ignore_index=True)\n",
    "    return(output)"
   ]
  },
  {
   "cell_type": "code",
   "execution_count": 17,
   "metadata": {},
   "outputs": [],
   "source": [
    "def clickNewInput():\n",
    "    newFind = driver.find_element(By.XPATH,'/html/body/form/div[1]/div[3]/div[2]/button[1]')\n",
    "    newFind.click()\n"
   ]
  },
  {
   "cell_type": "code",
   "execution_count": 18,
   "metadata": {},
   "outputs": [],
   "source": [
    "def getResult_2(data,output):\n",
    "    soup = bs4.BeautifulSoup(data)\n",
    "    tableInSoup = soup.find_all('table',{'class':'excelLikeList'})\n",
    "    tempData = pd.DataFrame()\n",
    "    for x in tableInSoup[1].find_all('tr'):\n",
    "        tempData.loc[0,'PartID'] = x.find_all('td')[1].text\n",
    "        tempData.loc[0,'PNC'] = x.find_all('td')[2].text\n",
    "        tempData.loc[0,'Count'] = x.find_all('td')[3].text\n",
    "        tempData.loc[0,'Catalogue'] = x.find_all('td')[4].text\n",
    "        tempData.loc[0,'Model'] = x.find_all('td')[5].text\n",
    "        tempData.loc[0,'Fr-To'] = x.find_all('td')[6].text\n",
    "        tempData.loc[0,'Model(Details)'] = x.find_all('td')[7].text\n",
    "        output = pd.concat([output, tempData], ignore_index=True)\n",
    "    return(output)\n",
    "    #print(x.find_all('td')[1].text)"
   ]
  },
  {
   "cell_type": "code",
   "execution_count": 19,
   "metadata": {},
   "outputs": [],
   "source": [
    "def wait_for_page_load(driver, timeout=30):\n",
    "    try:\n",
    "        WebDriverWait(driver, timeout).until(\n",
    "            lambda d: d.execute_script('return document.readyState') == 'complete'\n",
    "        )\n",
    "    except TimeoutException:\n",
    "        print(\"Timed out waiting for page to load\")"
   ]
  },
  {
   "cell_type": "code",
   "execution_count": 7,
   "metadata": {},
   "outputs": [],
   "source": [
    "MainTable = pd.DataFrame()\n",
    "SecondTable = pd.DataFrame()"
   ]
  },
  {
   "cell_type": "code",
   "execution_count": null,
   "metadata": {},
   "outputs": [],
   "source": [
    "for index, row in GPInventory.iloc[568:].iterrows():\n",
    "    clickInput(row['Code'].strip())\n",
    "    wait = WebDriverWait(driver, 60) \n",
    "    data = driver.page_source\n",
    "    soup = bs4.BeautifulSoup(data)\n",
    "\n",
    "    try:\n",
    "        wait.until(EC.visibility_of_element_located((By.ID, 'eltColF10_divListSelectHinban4')))\n",
    "        data = driver.page_source\n",
    "        soup = bs4.BeautifulSoup(data)\n",
    "        if soup.find_all('div',{'id':'eltColF10_divListSelectHinban4'})[0].text != 'ไม่มีใช้งาน':\n",
    "            wait.until(EC.visibility_of_element_located((By.ID, 'eltRowF10_divListSearch1')))\n",
    "       \n",
    "        time.sleep(1)\n",
    "        data = driver.page_source\n",
    "        MainTable = getResult_1(data,MainTable)\n",
    "        SecondTable = getResult_2(data,SecondTable)\n",
    "        print(index)\n",
    "        \n",
    "    except TimeoutException:\n",
    "        print(\"Timeout occurred! Performing alternative steps.\")\n",
    "\n",
    "    finally:\n",
    "        clickNewInput()"
   ]
  },
  {
   "cell_type": "code",
   "execution_count": 889,
   "metadata": {},
   "outputs": [],
   "source": [
    "clickNewInput()"
   ]
  },
  {
   "cell_type": "code",
   "execution_count": null,
   "metadata": {},
   "outputs": [],
   "source": []
  },
  {
   "cell_type": "code",
   "execution_count": 902,
   "metadata": {},
   "outputs": [],
   "source": [
    "MainTable = MainTable.drop_duplicates()"
   ]
  },
  {
   "cell_type": "code",
   "execution_count": 905,
   "metadata": {},
   "outputs": [],
   "source": [
    "MainTable = MainTable.loc[MainTable['Part Description']!='']"
   ]
  },
  {
   "cell_type": "code",
   "execution_count": 906,
   "metadata": {},
   "outputs": [],
   "source": [
    "MainTable.to_excel(r'/Users/krichnorakhun/Documents/GP/inventory/EPC_Main_from_Inventory_full.xlsx', index=False)"
   ]
  },
  {
   "cell_type": "code",
   "execution_count": 909,
   "metadata": {},
   "outputs": [],
   "source": [
    "SecondTable = SecondTable.drop_duplicates()"
   ]
  },
  {
   "cell_type": "code",
   "execution_count": 910,
   "metadata": {},
   "outputs": [],
   "source": [
    "SecondTable.to_excel(r'/Users/krichnorakhun/Documents/GP/inventory/EPC_Secondary_from_Inventory_full.xlsx', index=False)"
   ]
  },
  {
   "cell_type": "code",
   "execution_count": 13,
   "metadata": {},
   "outputs": [
    {
     "data": {
      "text/html": [
       "<div>\n",
       "<style scoped>\n",
       "    .dataframe tbody tr th:only-of-type {\n",
       "        vertical-align: middle;\n",
       "    }\n",
       "\n",
       "    .dataframe tbody tr th {\n",
       "        vertical-align: top;\n",
       "    }\n",
       "\n",
       "    .dataframe thead th {\n",
       "        text-align: right;\n",
       "    }\n",
       "</style>\n",
       "<table border=\"1\" class=\"dataframe\">\n",
       "  <thead>\n",
       "    <tr style=\"text-align: right;\">\n",
       "      <th></th>\n",
       "      <th>PartID</th>\n",
       "      <th>PNC</th>\n",
       "      <th>Count</th>\n",
       "      <th>Catalogue</th>\n",
       "      <th>Model</th>\n",
       "      <th>Fr-To</th>\n",
       "      <th>Model(Details)</th>\n",
       "    </tr>\n",
       "  </thead>\n",
       "  <tbody>\n",
       "    <tr>\n",
       "      <th>0</th>\n",
       "      <td>04111-30544</td>\n",
       "      <td>04111</td>\n",
       "      <td>01</td>\n",
       "      <td>711350</td>\n",
       "      <td>HIACE</td>\n",
       "      <td>201005- 201309</td>\n",
       "      <td>2KDFTV..KDH222..TH</td>\n",
       "    </tr>\n",
       "    <tr>\n",
       "      <th>1</th>\n",
       "      <td>04112-0L191</td>\n",
       "      <td>04112</td>\n",
       "      <td>01</td>\n",
       "      <td>6713A0</td>\n",
       "      <td>FORTUNER</td>\n",
       "      <td>201410- 201611</td>\n",
       "      <td>2KDFTV..KUN50,60..IDN,MA,PHL,SA,VN*130</td>\n",
       "    </tr>\n",
       "    <tr>\n",
       "      <th>2</th>\n",
       "      <td>04112-0L191</td>\n",
       "      <td>04112</td>\n",
       "      <td>01</td>\n",
       "      <td>672380</td>\n",
       "      <td>HILUX</td>\n",
       "      <td>201410- 201601</td>\n",
       "      <td>2KDFTV..KUN25..IDN,MA2KDFTV..KUN35..DLX..PHL2K...</td>\n",
       "    </tr>\n",
       "    <tr>\n",
       "      <th>3</th>\n",
       "      <td>04112-0L191</td>\n",
       "      <td>04112</td>\n",
       "      <td>01</td>\n",
       "      <td>672390</td>\n",
       "      <td>HILUX</td>\n",
       "      <td>201505- 201707</td>\n",
       "      <td>2KDFTV..KUN125,135..HDCR</td>\n",
       "    </tr>\n",
       "    <tr>\n",
       "      <th>4</th>\n",
       "      <td>04226-0L010</td>\n",
       "      <td>04226</td>\n",
       "      <td>01</td>\n",
       "      <td>611260</td>\n",
       "      <td>INNOVA/KIJANG INNOVA</td>\n",
       "      <td>200507- 200708</td>\n",
       "      <td>2KDFTV..KUN40..IND*163 OR *184</td>\n",
       "    </tr>\n",
       "    <tr>\n",
       "      <th>...</th>\n",
       "      <td>...</td>\n",
       "      <td>...</td>\n",
       "      <td>...</td>\n",
       "      <td>...</td>\n",
       "      <td>...</td>\n",
       "      <td>...</td>\n",
       "      <td>...</td>\n",
       "    </tr>\n",
       "    <tr>\n",
       "      <th>151463</th>\n",
       "      <td>99366-H1700</td>\n",
       "      <td>16361A</td>\n",
       "      <td>01</td>\n",
       "      <td>156360</td>\n",
       "      <td>COROLLA/ALTIS (ASIA)</td>\n",
       "      <td>200903- 201105</td>\n",
       "      <td>1ZZFE,3ZZFE..ZZE14#..IDN,IND,MA,PHL,PKN,TAIW,T...</td>\n",
       "    </tr>\n",
       "    <tr>\n",
       "      <th>151464</th>\n",
       "      <td>99366-H1700</td>\n",
       "      <td>16361A</td>\n",
       "      <td>01</td>\n",
       "      <td>156360</td>\n",
       "      <td>COROLLA/ALTIS (ASIA)</td>\n",
       "      <td>201008- 201311</td>\n",
       "      <td>3ZZFE..ZZE141</td>\n",
       "    </tr>\n",
       "    <tr>\n",
       "      <th>151465</th>\n",
       "      <td>99366-H1700</td>\n",
       "      <td>16361A</td>\n",
       "      <td>01</td>\n",
       "      <td>513120</td>\n",
       "      <td>ISIS</td>\n",
       "      <td>200903- 200909</td>\n",
       "      <td>1ZZFE..ZNM10</td>\n",
       "    </tr>\n",
       "    <tr>\n",
       "      <th>151466</th>\n",
       "      <td>99367-J1960</td>\n",
       "      <td>16361A</td>\n",
       "      <td>01</td>\n",
       "      <td>283320</td>\n",
       "      <td>CAMRY/HYBRID (ASIA)</td>\n",
       "      <td>201112- 201504</td>\n",
       "      <td>1AZFE..ACV51</td>\n",
       "    </tr>\n",
       "    <tr>\n",
       "      <th>151467</th>\n",
       "      <td>99367-J1960</td>\n",
       "      <td>16361A</td>\n",
       "      <td>01</td>\n",
       "      <td>284590</td>\n",
       "      <td>CAMRY/HYBRID</td>\n",
       "      <td>201208- 201411</td>\n",
       "      <td>1AZFE..ACV51</td>\n",
       "    </tr>\n",
       "  </tbody>\n",
       "</table>\n",
       "<p>151468 rows × 7 columns</p>\n",
       "</div>"
      ],
      "text/plain": [
       "             PartID     PNC Count Catalogue                 Model  \\\n",
       "0       04111-30544   04111    01    711350                 HIACE   \n",
       "1       04112-0L191   04112    01    6713A0              FORTUNER   \n",
       "2       04112-0L191   04112    01    672380                 HILUX   \n",
       "3       04112-0L191   04112    01    672390                 HILUX   \n",
       "4       04226-0L010   04226    01    611260  INNOVA/KIJANG INNOVA   \n",
       "...             ...     ...   ...       ...                   ...   \n",
       "151463  99366-H1700  16361A    01    156360  COROLLA/ALTIS (ASIA)   \n",
       "151464  99366-H1700  16361A    01    156360  COROLLA/ALTIS (ASIA)   \n",
       "151465  99366-H1700  16361A    01    513120                  ISIS   \n",
       "151466  99367-J1960  16361A    01    283320   CAMRY/HYBRID (ASIA)   \n",
       "151467  99367-J1960  16361A    01    284590          CAMRY/HYBRID   \n",
       "\n",
       "                 Fr-To                                     Model(Details)  \n",
       "0       201005- 201309                                 2KDFTV..KDH222..TH  \n",
       "1       201410- 201611             2KDFTV..KUN50,60..IDN,MA,PHL,SA,VN*130  \n",
       "2       201410- 201601  2KDFTV..KUN25..IDN,MA2KDFTV..KUN35..DLX..PHL2K...  \n",
       "3       201505- 201707                           2KDFTV..KUN125,135..HDCR  \n",
       "4       200507- 200708                     2KDFTV..KUN40..IND*163 OR *184  \n",
       "...                ...                                                ...  \n",
       "151463  200903- 201105  1ZZFE,3ZZFE..ZZE14#..IDN,IND,MA,PHL,PKN,TAIW,T...  \n",
       "151464  201008- 201311                                      3ZZFE..ZZE141  \n",
       "151465  200903- 200909                                       1ZZFE..ZNM10  \n",
       "151466  201112- 201504                                       1AZFE..ACV51  \n",
       "151467  201208- 201411                                       1AZFE..ACV51  \n",
       "\n",
       "[151468 rows x 7 columns]"
      ]
     },
     "execution_count": 13,
     "metadata": {},
     "output_type": "execute_result"
    }
   ],
   "source": [
    "pd.read_excel(r'/Users/krichnorakhun/Documents/GP/inventory/EPC_Secondary_from_Inventory_full.xlsx')"
   ]
  }
 ],
 "metadata": {
  "kernelspec": {
   "display_name": "selenium",
   "language": "python",
   "name": "python3"
  },
  "language_info": {
   "codemirror_mode": {
    "name": "ipython",
    "version": 3
   },
   "file_extension": ".py",
   "mimetype": "text/x-python",
   "name": "python",
   "nbconvert_exporter": "python",
   "pygments_lexer": "ipython3",
   "version": "3.9.12"
  }
 },
 "nbformat": 4,
 "nbformat_minor": 2
}
