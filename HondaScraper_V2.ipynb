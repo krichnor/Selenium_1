{
 "cells": [
  {
   "cell_type": "code",
   "execution_count": 1,
   "metadata": {},
   "outputs": [],
   "source": [
    "from selenium import webdriver\n",
    "from selenium.webdriver.support.ui import Select\n",
    "from selenium.webdriver.common.by import By\n",
    "from selenium.webdriver.common.keys import Keys\n",
    "import pandas as pd \n",
    "import bs4 as bs4\n",
    "import time\n",
    "from selenium.webdriver.support.ui import WebDriverWait\n",
    "from selenium.common.exceptions import TimeoutException\n",
    "from selenium.webdriver.support import expected_conditions as EC\n",
    "import urllib\n",
    "from PIL import Image\n"
   ]
  },
  {
   "cell_type": "code",
   "execution_count": 6,
   "metadata": {},
   "outputs": [],
   "source": [
    "Hon = pd.read_excel(r'/Users/krichnorakhun/Documents/GP/inventory/List of Required EPC/Item.xlsx')"
   ]
  },
  {
   "cell_type": "code",
   "execution_count": 7,
   "metadata": {},
   "outputs": [],
   "source": [
    "Hon = Hon[['PartNo']].drop_duplicates()\n",
    "Hon = Hon.reset_index().drop('index',axis=1)"
   ]
  },
  {
   "cell_type": "code",
   "execution_count": null,
   "metadata": {},
   "outputs": [],
   "source": []
  },
  {
   "cell_type": "code",
   "execution_count": 352,
   "metadata": {},
   "outputs": [],
   "source": [
    "driver = webdriver.Chrome()\n",
    "driver.get('https://hatcepc.honda.co.th/epc/index.jsf')\n",
    "userInput = driver.find_element(By.ID,'loginForm:j_idt19')\n",
    "userInput.send_keys('AD009252')\n",
    "pwdInput = driver.find_element(By.ID,'loginForm:password1')\n",
    "pwdInput.send_keys('Nutty@012')\n",
    "pwdInput.send_keys(Keys.ENTER)"
   ]
  },
  {
   "cell_type": "code",
   "execution_count": 5,
   "metadata": {},
   "outputs": [],
   "source": [
    "def SetupConfig():\n",
    "    driver.find_element(By.XPATH,'/html/body/div[1]/div/span/form/div[1]/div[3]').click()\n",
    "    driver.find_element(By.XPATH,'/html/body/div[12]/div/ul/li[2]').click()\n",
    "    driver.find_element(By.XPATH,'/html/body/div[2]/form[1]/ul/li[4]/span/div[1]/div[2]/ul/li[3]').click()"
   ]
  },
  {
   "cell_type": "code",
   "execution_count": 6,
   "metadata": {},
   "outputs": [],
   "source": [
    "def InputSearchBox(PartNo):             \n",
    "        wait = WebDriverWait(driver, 10)  # Adjust the timeout as needed\n",
    "        wait.until(EC.element_to_be_clickable((By.ID, 'searchValue')))        \n",
    "        driver.find_element(By.ID,'searchValue').clear()\n",
    "        driver.find_element(By.ID,'searchValue').send_keys(PartNo)\n",
    "        driver.find_element(By.ID,'searchValue').send_keys(Keys.ENTER)\n",
    "        waiting()\n",
    "        print('input '+PartNo)"
   ]
  },
  {
   "cell_type": "code",
   "execution_count": 7,
   "metadata": {},
   "outputs": [],
   "source": [
    "data = driver.page_source\n",
    "soup = bs4.BeautifulSoup(data)"
   ]
  },
  {
   "cell_type": "code",
   "execution_count": 8,
   "metadata": {},
   "outputs": [],
   "source": [
    "foundItem = len(soup.find_all('tbody',{'id':'itemSearchTable_data'})[0].find_all('tr'))"
   ]
  },
  {
   "cell_type": "code",
   "execution_count": 7,
   "metadata": {},
   "outputs": [],
   "source": [
    "def ChangeDisplayItem():\n",
    "    wait = WebDriverWait(driver, 10)\n",
    "    try:\n",
    "        wait.until(EC.element_to_be_clickable((By.XPATH, \"/html/body/div[2]/form[2]/div/fieldset/div/div/div[3]/select\")))\n",
    "        data = driver.page_source\n",
    "        soup = bs4.BeautifulSoup(data)\n",
    "\n",
    "        #To Select 10 rows per page.\n",
    "        optionDisplay = soup.find_all('select')[3].find_all('option')\n",
    "        optionDisplay = [x.text for x in optionDisplay]\n",
    "        optionDisplay ='50' if '50' in optionDisplay else max(optionDisplay, key=int)\n",
    "        optionDisplay\n",
    "        dropdownMaxDisplay = driver.find_element(By.XPATH,'/html/body/div[2]/form[2]/div/fieldset/div/div/div[3]/select')\n",
    "        # Create a Select object\n",
    "        select = Select(dropdownMaxDisplay)\n",
    "        select.select_by_visible_text(optionDisplay)\n",
    "        waitingNextPage()\n",
    "        data = driver.page_source\n",
    "        soup = bs4.BeautifulSoup(data)\n",
    "        foundPage = driver.find_element(By.XPATH,'/html/body/div[2]/form[2]/div/fieldset/div/div/div[3]/span[1]').text\n",
    "        foundPage = int(foundPage.split(' ')[2].replace(')',''))\n",
    "        return(foundPage)\n",
    "\n",
    "    except TimeoutException:\n",
    "        data = driver.page_source\n",
    "        soup = bs4.BeautifulSoup(data)\n",
    "        foundItem = len(soup.find_all('tbody',{'id':'itemSearchTable_data'})[0].find_all('tr'))\n",
    "        if foundItem <= 5:\n",
    "            return(1)           "
   ]
  },
  {
   "cell_type": "code",
   "execution_count": 10,
   "metadata": {},
   "outputs": [],
   "source": [
    "data = driver.page_source\n",
    "soup = bs4.BeautifulSoup(data)"
   ]
  },
  {
   "cell_type": "code",
   "execution_count": null,
   "metadata": {},
   "outputs": [],
   "source": [
    "foundItem = driver.find_element(By.XPATH,'/html/body/div[2]/form[2]/div/fieldset/div/div/div[3]/span[1]').text\n",
    "foundItem = int(foundItem.split(' ')[2].replace(')',''))"
   ]
  },
  {
   "cell_type": "code",
   "execution_count": 8,
   "metadata": {},
   "outputs": [],
   "source": [
    "def findNLoop():\n",
    "    wait = WebDriverWait(driver, 10)\n",
    "    wait.until(EC.element_to_be_clickable((By.XPATH, \"/html/body/div[2]/form[2]/div/fieldset/div/div/div[3]/select\")))\n",
    "    data = driver.page_source\n",
    "    soup = bs4.BeautifulSoup(data)\n",
    "    nLoop = len(soup.find_all('span',{'class':'ui-paginator-pages'})[0].find_all('a'))\n",
    "    return(nLoop)"
   ]
  },
  {
   "cell_type": "code",
   "execution_count": 9,
   "metadata": {},
   "outputs": [],
   "source": [
    "def ClosePartList():\n",
    "    driver.find_element(By.XPATH,'/html/body/div[2]/form[2]/div/fieldset/div/div/div[1]/button/span[1]').click()\n",
    "    return"
   ]
  },
  {
   "cell_type": "code",
   "execution_count": 10,
   "metadata": {},
   "outputs": [],
   "source": [
    "def getModel():\n",
    "    data = driver.page_source\n",
    "    soup = bs4.BeautifulSoup(data)\n",
    "    wait = WebDriverWait(driver, 30) \n",
    "    try:\n",
    "        wait.until(EC.presence_of_element_located((By.ID, 'searchResultPanel')))\n",
    "        MatchPartList = soup.find_all('tbody',{'id':'itemSearchTable_data'})[0].find_all('tr')\n",
    "        part_list = [x.find_all('td')[0].text for x in MatchPartList]\n",
    "        part_desc_list = [x.find_all('td')[1].text.replace(',',':') for x in MatchPartList]\n",
    "        # Combine the two lists into a list of tuples\n",
    "        combined_data = list(zip(part_list, part_desc_list))\n",
    "        \n",
    "        MatchPartList = pd.DataFrame(combined_data, columns=['Part', 'PartDescription'])\n",
    "        MatchPartList['PartID'] = MatchPartList['Part'].apply(lambda x : x.split('(',1)[0].split(' - ')[0])\n",
    "        MatchPartList['CarModel'] = MatchPartList['Part'].apply(lambda x : x.split('(',1)[1].split(')')[0] )\n",
    "        MatchPartList = MatchPartList.loc[MatchPartList['CarModel'].apply(lambda x : x.find(' TH '))>=0]\n",
    "    except TimeoutException:\n",
    "        print(\"Timeout occurred! Performing alternative steps.\")\n",
    "    finally:\n",
    "        print('Got:'+str(len(MatchPartList)))\n",
    "    return(MatchPartList)"
   ]
  },
  {
   "cell_type": "code",
   "execution_count": 11,
   "metadata": {},
   "outputs": [],
   "source": [
    "def ClickNext():\n",
    "    wait = WebDriverWait(driver, 60)  # 30 seconds wait\n",
    "    div_locator = (By.XPATH,\"/html/body/div[2]/form[2]/div/fieldset/div/div/div[3]/a[3]/span\")\n",
    "    wait.until(EC.element_to_be_clickable(div_locator))\n",
    "\n",
    "    #Java Click\n",
    "    element = driver.find_element(By.XPATH, '/html/body/div[2]/form[2]/div/fieldset/div/div/div[3]/a[3]/span')\n",
    "    driver.execute_script(\"arguments[0].click();\", element)\n",
    "    \n",
    "    #Previous Click\n",
    "    #driver.find_element(By.XPATH,'/html/body/div[2]/form[2]/div/fieldset/div/div/div[3]/a[3]/span').click()\n",
    "    #print('Click Next')\n",
    "    return"
   ]
  },
  {
   "cell_type": "code",
   "execution_count": 12,
   "metadata": {},
   "outputs": [],
   "source": [
    "def waiting():\n",
    "    div_locator = (By.ID, \"j_idt321_content\")\n",
    "    # wait = WebDriverWait(driver, 10)  # 30 seconds wait\n",
    "    # wait.until(EC.visibility_of_element_located(div_locator))\n",
    "\n",
    "    wait = WebDriverWait(driver, 60)  # 30 seconds wait\n",
    "    wait.until(EC.invisibility_of_element_located(div_locator))\n",
    "    print('Waiting for sandClock Disappear')\n",
    "    return\n"
   ]
  },
  {
   "cell_type": "code",
   "execution_count": 13,
   "metadata": {},
   "outputs": [],
   "source": [
    "def waitingNextPage():\n",
    "    div_locator = (By.CSS_SELECTOR, \".ui-dialog-content.ui-widget-content\")\n",
    "    \n",
    "    try:\n",
    "        wait = WebDriverWait(driver, 3)  # 3 seconds wait\n",
    "        wait.until(EC.visibility_of_element_located(div_locator))\n",
    "        print(\"Waiting icon is visible\", end='-->')\n",
    "    except TimeoutException:\n",
    "        print(\"Waiting icon is already visible\", end='-->')\n",
    "\n",
    "    wait = WebDriverWait(driver, 60)  # 30 seconds wait\n",
    "    div_locator = (By.XPATH, \"/html/body/div[9]/div\")\n",
    "    wait.until(EC.invisibility_of_element_located(div_locator))\n",
    "    print('Waiting icon is invisible')\n",
    "    return\n"
   ]
  },
  {
   "cell_type": "code",
   "execution_count": 18,
   "metadata": {},
   "outputs": [],
   "source": [
    "PartList = ['01431SAET01','01432SAET01','01463S2A010','01463S87A01','01463SAA901','01463SHJA01',\n",
    "            '01464T0AA02','01464T9AT01','01464TF0010','01465S9A000']"
   ]
  },
  {
   "cell_type": "code",
   "execution_count": 14,
   "metadata": {},
   "outputs": [],
   "source": [
    "def CheckEmpty():\n",
    "    waitingNextPage()\n",
    "    data = driver.page_source\n",
    "    soup = bs4.BeautifulSoup(data)\n",
    "    foundItem = len(soup.find_all('tbody',{'id':'itemSearchTable_data'})[0].find_all('tr'))\n",
    "    foundText = soup.find_all('tbody',{'id':'itemSearchTable_data'})[0].find_all('tr')[0].text\n",
    "    if foundText == 'ไม่พบรายการที่ตรงกัน ...':\n",
    "        return(True)\n",
    "    else:\n",
    "        return(False)"
   ]
  },
  {
   "cell_type": "code",
   "execution_count": 15,
   "metadata": {},
   "outputs": [],
   "source": [
    "\n",
    "def is_next_button_clickable():\n",
    "    try:\n",
    "        # Assuming this is the locator for your \"next\" button\n",
    "        next_button_locator = (By.XPATH, \"/html/body/div[2]/form[2]/div/fieldset/div/div/div[3]/a[3]/span\")\n",
    "        WebDriverWait(driver, 10).until(EC.element_to_be_clickable(next_button_locator))\n",
    "\n",
    "        WebDriverWait(driver, 10).until(EC.visibility_of_element_located(next_button_locator))\n",
    "        data = driver.page_source\n",
    "        soup = bs4.BeautifulSoup(data)\n",
    "        nextButton = len(soup.find_all('a',{'class':'ui-paginator-next ui-state-default ui-corner-all' }))\n",
    "        if nextButton == 0:\n",
    "            return False\n",
    "        else:\n",
    "            return True         \n",
    "    except TimeoutException:\n",
    "        # If the button is not clickable within the timeout period, return False\n",
    "        return False"
   ]
  },
  {
   "cell_type": "code",
   "execution_count": 17,
   "metadata": {},
   "outputs": [
    {
     "ename": "IndentationError",
     "evalue": "expected an indented block (3387818342.py, line 2)",
     "output_type": "error",
     "traceback": [
      "\u001b[0;36m  Cell \u001b[0;32mIn[17], line 2\u001b[0;36m\u001b[0m\n\u001b[0;31m    \u001b[0m\n\u001b[0m    ^\u001b[0m\n\u001b[0;31mIndentationError\u001b[0m\u001b[0;31m:\u001b[0m expected an indented block\n"
     ]
    }
   ],
   "source": [
    "def getImage():\n",
    "    "
   ]
  },
  {
   "cell_type": "code",
   "execution_count": 456,
   "metadata": {},
   "outputs": [],
   "source": [
    "ClosePartList()"
   ]
  },
  {
   "cell_type": "code",
   "execution_count": 461,
   "metadata": {},
   "outputs": [],
   "source": [
    "driver.find_element(By.XPATH,'/html/body/div[2]/form[2]/div/fieldset/div/div/div[1]/button/span[1]').click()"
   ]
  },
  {
   "cell_type": "markdown",
   "metadata": {},
   "source": [
    "<font color='yellow' size=5>Manual Run</font>"
   ]
  },
  {
   "cell_type": "code",
   "execution_count": 96,
   "metadata": {},
   "outputs": [
    {
     "name": "stdout",
     "output_type": "stream",
     "text": [
      "Waiting for sandClock Disappear\n",
      "input 39794SDA902\n"
     ]
    }
   ],
   "source": [
    "PartID = Hon.iloc[3162:3163, 0].iloc[0]\n",
    "InputSearchBox(PartID)   "
   ]
  },
  {
   "cell_type": "code",
   "execution_count": 102,
   "metadata": {},
   "outputs": [
    {
     "name": "stdout",
     "output_type": "stream",
     "text": [
      "Waiting icon is already visible-->Waiting icon is invisible\n",
      "40\n"
     ]
    }
   ],
   "source": [
    "#If False\n",
    "PageNum = ChangeDisplayItem()\n",
    "print(PageNum)"
   ]
  },
  {
   "cell_type": "code",
   "execution_count": null,
   "metadata": {},
   "outputs": [],
   "source": [
    "ModelList = pd.concat([ModelList, getModel()], ignore_index=True)"
   ]
  },
  {
   "cell_type": "code",
   "execution_count": null,
   "metadata": {},
   "outputs": [],
   "source": [
    "n = 2\n",
    "while is_next_button_clickable() and PageNum>1:\n",
    "    ClickNext()\n",
    "    waitingNextPage()\n",
    "    print('Page:' + str(n), end=' ')\n",
    "    ModelList = pd.concat([ModelList, getModel()], ignore_index=True)\n",
    "    n += 1"
   ]
  },
  {
   "cell_type": "code",
   "execution_count": 105,
   "metadata": {},
   "outputs": [],
   "source": [
    "driver.find_element(By.XPATH,'/html/body/div[2]/form[2]/div/fieldset/div/div/div[2]/table/tbody/tr[1]/td[3]/button[2]').click()"
   ]
  },
  {
   "cell_type": "code",
   "execution_count": null,
   "metadata": {},
   "outputs": [],
   "source": [
    "data = driver.page_source\n",
    "soup = bs4.BeautifulSoup(data)\n",
    "getIndexOfPartAndClick(soup,PartID)"
   ]
  },
  {
   "cell_type": "code",
   "execution_count": 361,
   "metadata": {},
   "outputs": [
    {
     "name": "stdout",
     "output_type": "stream",
     "text": [
      "Already Pop up\n",
      "Waiting icon is already visible-->Waiting icon is invisible\n",
      "done\n",
      "width=960:height=479\n",
      "ปลั๊ก หัวเทียน\n"
     ]
    }
   ],
   "source": [
    "zoomImage()\n",
    "CaptureImage(PartID)\n",
    "DescText = GetDesc()\n",
    "print(DescText)"
   ]
  },
  {
   "cell_type": "code",
   "execution_count": 362,
   "metadata": {},
   "outputs": [],
   "source": [
    "element = driver.find_element(By.XPATH, '/html/body/div[6]/div/div/div/div[2]/div/div/form[2]/div[2]/div[2]/div/div/div[1]/span/span/button[4]')\n",
    "driver.execute_script(\"arguments[0].click();\", element)"
   ]
  },
  {
   "cell_type": "code",
   "execution_count": 363,
   "metadata": {},
   "outputs": [],
   "source": [
    "#Get Cat\n",
    "driver.execute_script(\"window.scrollTo(0, 0)\")\n",
    "driver.find_element(By.XPATH,'/html/body/div[6]/div/div/div/div[2]/div/div/form[2]/div[2]/div[1]').click()"
   ]
  },
  {
   "cell_type": "code",
   "execution_count": 364,
   "metadata": {},
   "outputs": [
    {
     "name": "stdout",
     "output_type": "stream",
     "text": [
      "ENGINE:HIGH TENSION CORD/PLUG\n"
     ]
    }
   ],
   "source": [
    "data = driver.page_source\n",
    "soup = bs4.BeautifulSoup(data)\n",
    "catList = soup.find_all('select',{'name':'catSelection:groupSelect_input'})[0].find_all('option')\n",
    "cat = [cat for cat in catList if 'selected' in (cat.get('selected') or '')][0].text.replace(',',':')\n",
    "subCatList = soup.find_all('select',{'name':'catSelection:diagramSelect_input'})[0].find_all('option')\n",
    "subCat = [subCat for subCat in subCatList if 'selected' in (subCat.get('selected') or '')][0].text.split('\\t')[1].strip()\n",
    "print(cat+':'+subCat)"
   ]
  },
  {
   "cell_type": "code",
   "execution_count": 365,
   "metadata": {},
   "outputs": [],
   "source": [
    "ModelList.loc[ModelList['PartID'].apply(lambda x : x.replace('-',''))==PartID, 'DescText'] = DescText\n",
    "ModelList.loc[ModelList['PartID'].apply(lambda x : x.replace('-',''))==PartID, 'Cat'] = cat\n",
    "ModelList.loc[ModelList['PartID'].apply(lambda x : x.replace('-',''))==PartID, 'SubCat'] = subCat"
   ]
  },
  {
   "cell_type": "markdown",
   "metadata": {},
   "source": [
    "<font color='yellow' size=5>Run</font>"
   ]
  },
  {
   "cell_type": "code",
   "execution_count": 400,
   "metadata": {},
   "outputs": [
    {
     "name": "stdout",
     "output_type": "stream",
     "text": [
      "15:Waiting for sandClock Disappear\n",
      "input 04602SWA305ZZ\n",
      "Waiting icon is already visible-->Waiting icon is invisible\n",
      "True\n",
      "Waiting icon is already visible-->Waiting icon is invisible\n",
      "16:Waiting for sandClock Disappear\n",
      "input 04602SZY310ZZ\n",
      "Waiting icon is already visible-->Waiting icon is invisible\n",
      "False\n",
      "Waiting icon is already visible-->Waiting icon is invisible\n",
      "Waiting icon is already visible-->Waiting icon is invisible\n",
      "Waiting icon is already visible-->Waiting icon is invisible\n",
      "Page:1 Got:0\n",
      "Waiting icon is already visible-->Waiting icon is invisible\n",
      "done\n",
      "width=960:height=479\n",
      "17:Waiting for sandClock Disappear\n",
      "input 04602TG0T01ZZ\n",
      "Waiting icon is already visible-->Waiting icon is invisible\n",
      "False\n",
      "Waiting icon is already visible-->Waiting icon is invisible\n",
      "Waiting icon is already visible-->Waiting icon is invisible\n",
      "Waiting icon is already visible-->Waiting icon is invisible\n",
      "Page:1 Got:0\n",
      "Waiting icon is already visible-->Waiting icon is invisible\n",
      "done\n",
      "width=960:height=480\n",
      "18:Waiting for sandClock Disappear\n",
      "input 04603SNBY00ZZ\n",
      "Waiting icon is already visible-->Waiting icon is invisible\n",
      "False\n",
      "Waiting icon is already visible-->Waiting icon is invisible\n",
      "Waiting icon is already visible-->Waiting icon is invisible\n",
      "Waiting icon is already visible-->Waiting icon is invisible\n",
      "Page:1 Got:0\n",
      "Waiting icon is already visible-->Waiting icon is invisible\n",
      "done\n",
      "width=960:height=479\n",
      "19:Waiting for sandClock Disappear\n",
      "input 04603SYY310ZZ\n",
      "Waiting icon is already visible-->Waiting icon is invisible\n",
      "False\n",
      "Waiting icon is already visible-->Waiting icon is invisible\n",
      "Waiting icon is already visible-->Waiting icon is invisible\n",
      "Waiting icon is already visible-->Waiting icon is invisible\n",
      "Page:1 Got:0\n",
      "Waiting icon is already visible-->Waiting icon is invisible\n",
      "done\n",
      "width=960:height=480\n",
      "20:Waiting for sandClock Disappear\n",
      "input 04604SEMG00ZZ\n",
      "Waiting icon is already visible-->Waiting icon is invisible\n",
      "True\n",
      "Waiting icon is already visible-->Waiting icon is invisible\n",
      "21:Waiting for sandClock Disappear\n",
      "input 04611SYY300ZZ\n",
      "Waiting icon is already visible-->Waiting icon is invisible\n",
      "False\n",
      "Waiting icon is already visible-->Waiting icon is invisible\n",
      "Waiting icon is already visible-->Waiting icon is invisible\n",
      "Waiting icon is already visible-->Waiting icon is invisible\n",
      "Page:1 Got:0\n",
      "Waiting icon is already visible-->Waiting icon is invisible\n",
      "Page:2 Got:0\n",
      "Waiting icon is already visible-->Waiting icon is invisible\n",
      "done\n",
      "width=960:height=479\n",
      "22:Waiting for sandClock Disappear\n",
      "input 04636SEMG00ZZ\n",
      "Waiting icon is already visible-->Waiting icon is invisible\n",
      "True\n",
      "Waiting icon is already visible-->Waiting icon is invisible\n",
      "23:Waiting for sandClock Disappear\n",
      "input 04641T9AT00ZZ\n",
      "Waiting icon is already visible-->Waiting icon is invisible\n",
      "True\n",
      "Waiting icon is already visible-->Waiting icon is invisible\n",
      "24:Waiting for sandClock Disappear\n",
      "input 04645T9AT00ZZ\n",
      "Waiting icon is already visible-->Waiting icon is invisible\n",
      "True\n",
      "Waiting icon is already visible-->Waiting icon is invisible\n",
      "25:Waiting for sandClock Disappear\n",
      "input 04646SEMG00ZZ\n",
      "Waiting icon is already visible-->Waiting icon is invisible\n",
      "True\n",
      "Waiting icon is already visible-->Waiting icon is invisible\n",
      "26:Waiting for sandClock Disappear\n",
      "input 04646T9A306ZZ\n",
      "Waiting icon is already visible-->Waiting icon is invisible\n",
      "True\n",
      "Waiting icon is already visible-->Waiting icon is invisible\n",
      "27:Waiting for sandClock Disappear\n",
      "input 04655SNL305ZZ\n",
      "Waiting icon is already visible-->Waiting icon is invisible\n",
      "True\n",
      "Waiting icon is already visible-->Waiting icon is invisible\n",
      "28:Waiting for sandClock Disappear\n",
      "input 04711S7AN00ZZ\n",
      "Waiting icon is already visible-->Waiting icon is invisible\n",
      "False\n",
      "Waiting icon is already visible-->Waiting icon is invisible\n",
      "Waiting icon is already visible-->Waiting icon is invisible\n",
      "Waiting icon is already visible-->Waiting icon is invisible\n",
      "Page:1 Got:0\n",
      "Waiting icon is already visible-->Waiting icon is invisible\n",
      "Page:2 Got:0\n",
      "Waiting icon is already visible-->Waiting icon is invisible\n",
      "done\n",
      "width=960:height=480\n",
      "29:Waiting for sandClock Disappear\n",
      "input 04711T6A900ZZ\n",
      "Waiting icon is already visible-->Waiting icon is invisible\n",
      "False\n",
      "Waiting icon is already visible-->Waiting icon is invisible\n",
      "Waiting icon is already visible-->Waiting icon is invisible\n",
      "Waiting icon is already visible-->Waiting icon is invisible\n",
      "Page:1 Got:0\n",
      "Waiting icon is already visible-->Waiting icon is invisible\n",
      "Page:2 Got:0\n",
      "Waiting icon is already visible-->Waiting icon is invisible\n",
      "Page:3 Got:0\n",
      "Waiting icon is already visible-->Waiting icon is invisible\n",
      "done\n",
      "width=960:height=480\n",
      "30:Waiting for sandClock Disappear\n",
      "input 04715TF0N00ZZ\n",
      "Waiting icon is already visible-->Waiting icon is invisible\n",
      "False\n",
      "Waiting icon is already visible-->Waiting icon is invisible\n",
      "Waiting icon is already visible-->Waiting icon is invisible\n",
      "Waiting icon is already visible-->"
     ]
    },
    {
     "ename": "KeyboardInterrupt",
     "evalue": "",
     "output_type": "error",
     "traceback": [
      "\u001b[0;31m---------------------------------------------------------------------------\u001b[0m",
      "\u001b[0;31mKeyboardInterrupt\u001b[0m                         Traceback (most recent call last)",
      "\u001b[1;32m/Users/krichnorakhun/Documents/Machine Learning/selenium/HondaScraper_V2.ipynb Cell 38\u001b[0m line \u001b[0;36m2\n\u001b[1;32m     <a href='vscode-notebook-cell:/Users/krichnorakhun/Documents/Machine%20Learning/selenium/HondaScraper_V2.ipynb#X52sZmlsZQ%3D%3D?line=20'>21</a>\u001b[0m \u001b[39melse\u001b[39;00m:\n\u001b[1;32m     <a href='vscode-notebook-cell:/Users/krichnorakhun/Documents/Machine%20Learning/selenium/HondaScraper_V2.ipynb#X52sZmlsZQ%3D%3D?line=21'>22</a>\u001b[0m     waitingNextPage()\n\u001b[0;32m---> <a href='vscode-notebook-cell:/Users/krichnorakhun/Documents/Machine%20Learning/selenium/HondaScraper_V2.ipynb#X52sZmlsZQ%3D%3D?line=22'>23</a>\u001b[0m     PageNum \u001b[39m=\u001b[39m ChangeDisplayItem()        \n\u001b[1;32m     <a href='vscode-notebook-cell:/Users/krichnorakhun/Documents/Machine%20Learning/selenium/HondaScraper_V2.ipynb#X52sZmlsZQ%3D%3D?line=24'>25</a>\u001b[0m     \u001b[39mprint\u001b[39m(\u001b[39m'\u001b[39m\u001b[39mPage:1\u001b[39m\u001b[39m'\u001b[39m, end\u001b[39m=\u001b[39m\u001b[39m'\u001b[39m\u001b[39m \u001b[39m\u001b[39m'\u001b[39m)\n\u001b[1;32m     <a href='vscode-notebook-cell:/Users/krichnorakhun/Documents/Machine%20Learning/selenium/HondaScraper_V2.ipynb#X52sZmlsZQ%3D%3D?line=25'>26</a>\u001b[0m     ModelList \u001b[39m=\u001b[39m pd\u001b[39m.\u001b[39mconcat([ModelList, getModel()], ignore_index\u001b[39m=\u001b[39m\u001b[39mTrue\u001b[39;00m)\n",
      "\u001b[1;32m/Users/krichnorakhun/Documents/Machine Learning/selenium/HondaScraper_V2.ipynb Cell 38\u001b[0m line \u001b[0;36m1\n\u001b[1;32m     <a href='vscode-notebook-cell:/Users/krichnorakhun/Documents/Machine%20Learning/selenium/HondaScraper_V2.ipynb#X52sZmlsZQ%3D%3D?line=14'>15</a>\u001b[0m select \u001b[39m=\u001b[39m Select(dropdownMaxDisplay)\n\u001b[1;32m     <a href='vscode-notebook-cell:/Users/krichnorakhun/Documents/Machine%20Learning/selenium/HondaScraper_V2.ipynb#X52sZmlsZQ%3D%3D?line=15'>16</a>\u001b[0m select\u001b[39m.\u001b[39mselect_by_visible_text(optionDisplay)\n\u001b[0;32m---> <a href='vscode-notebook-cell:/Users/krichnorakhun/Documents/Machine%20Learning/selenium/HondaScraper_V2.ipynb#X52sZmlsZQ%3D%3D?line=16'>17</a>\u001b[0m waitingNextPage()\n\u001b[1;32m     <a href='vscode-notebook-cell:/Users/krichnorakhun/Documents/Machine%20Learning/selenium/HondaScraper_V2.ipynb#X52sZmlsZQ%3D%3D?line=17'>18</a>\u001b[0m data \u001b[39m=\u001b[39m driver\u001b[39m.\u001b[39mpage_source\n\u001b[1;32m     <a href='vscode-notebook-cell:/Users/krichnorakhun/Documents/Machine%20Learning/selenium/HondaScraper_V2.ipynb#X52sZmlsZQ%3D%3D?line=18'>19</a>\u001b[0m soup \u001b[39m=\u001b[39m bs4\u001b[39m.\u001b[39mBeautifulSoup(data)\n",
      "\u001b[1;32m/Users/krichnorakhun/Documents/Machine Learning/selenium/HondaScraper_V2.ipynb Cell 38\u001b[0m line \u001b[0;36m1\n\u001b[1;32m     <a href='vscode-notebook-cell:/Users/krichnorakhun/Documents/Machine%20Learning/selenium/HondaScraper_V2.ipynb#X52sZmlsZQ%3D%3D?line=10'>11</a>\u001b[0m wait \u001b[39m=\u001b[39m WebDriverWait(driver, \u001b[39m60\u001b[39m)  \u001b[39m# 30 seconds wait\u001b[39;00m\n\u001b[1;32m     <a href='vscode-notebook-cell:/Users/krichnorakhun/Documents/Machine%20Learning/selenium/HondaScraper_V2.ipynb#X52sZmlsZQ%3D%3D?line=11'>12</a>\u001b[0m div_locator \u001b[39m=\u001b[39m (By\u001b[39m.\u001b[39mXPATH, \u001b[39m\"\u001b[39m\u001b[39m/html/body/div[9]/div\u001b[39m\u001b[39m\"\u001b[39m)\n\u001b[0;32m---> <a href='vscode-notebook-cell:/Users/krichnorakhun/Documents/Machine%20Learning/selenium/HondaScraper_V2.ipynb#X52sZmlsZQ%3D%3D?line=12'>13</a>\u001b[0m wait\u001b[39m.\u001b[39;49muntil(EC\u001b[39m.\u001b[39;49minvisibility_of_element_located(div_locator))\n\u001b[1;32m     <a href='vscode-notebook-cell:/Users/krichnorakhun/Documents/Machine%20Learning/selenium/HondaScraper_V2.ipynb#X52sZmlsZQ%3D%3D?line=13'>14</a>\u001b[0m \u001b[39mprint\u001b[39m(\u001b[39m'\u001b[39m\u001b[39mWaiting icon is invisible\u001b[39m\u001b[39m'\u001b[39m)\n\u001b[1;32m     <a href='vscode-notebook-cell:/Users/krichnorakhun/Documents/Machine%20Learning/selenium/HondaScraper_V2.ipynb#X52sZmlsZQ%3D%3D?line=14'>15</a>\u001b[0m \u001b[39mreturn\u001b[39;00m\n",
      "File \u001b[0;32m~/Documents/Machine Learning/selenium/lib/python3.9/site-packages/selenium/webdriver/support/wait.py:98\u001b[0m, in \u001b[0;36mWebDriverWait.until\u001b[0;34m(self, method, message)\u001b[0m\n\u001b[1;32m     96\u001b[0m     screen \u001b[39m=\u001b[39m \u001b[39mgetattr\u001b[39m(exc, \u001b[39m\"\u001b[39m\u001b[39mscreen\u001b[39m\u001b[39m\"\u001b[39m, \u001b[39mNone\u001b[39;00m)\n\u001b[1;32m     97\u001b[0m     stacktrace \u001b[39m=\u001b[39m \u001b[39mgetattr\u001b[39m(exc, \u001b[39m\"\u001b[39m\u001b[39mstacktrace\u001b[39m\u001b[39m\"\u001b[39m, \u001b[39mNone\u001b[39;00m)\n\u001b[0;32m---> 98\u001b[0m time\u001b[39m.\u001b[39;49msleep(\u001b[39mself\u001b[39;49m\u001b[39m.\u001b[39;49m_poll)\n\u001b[1;32m     99\u001b[0m \u001b[39mif\u001b[39;00m time\u001b[39m.\u001b[39mmonotonic() \u001b[39m>\u001b[39m end_time:\n\u001b[1;32m    100\u001b[0m     \u001b[39mbreak\u001b[39;00m\n",
      "\u001b[0;31mKeyboardInterrupt\u001b[0m: "
     ]
    }
   ],
   "source": [
    "SetupConfig()\n",
    "#InputSearchBox(PartList[0])\n",
    "#ChangeDisplayItem()\n",
    "#ClosePartList()\n",
    "\n",
    "#ModelList = pd.DataFrame()\n",
    "for index, row in Hon[15:].iterrows():\n",
    "    PartID = row['PartNo']\n",
    "    print(str(index)+':',end='')\n",
    "    InputSearchBox(PartID)    \n",
    "    time.sleep(1)  \n",
    "    print(CheckEmpty())\n",
    "    \n",
    "    if CheckEmpty():\n",
    "        tempTable = pd.DataFrame(columns=['Part', 'PartDescription', 'PartID', 'CarModel','DescText','Cat','SubCat'])\n",
    "        tempTable.loc[0] = [None,'ไม่พบรายการที่ตรงกัน', PartID, 'ไม่พบรายการที่ตรงกัน', None,None,None]\n",
    "        ModelList = pd.concat([ModelList, tempTable], ignore_index=True)\n",
    "        #Close current search\n",
    "        ClosePartList()\n",
    "       \n",
    "    else:\n",
    "        waitingNextPage()\n",
    "        PageNum = ChangeDisplayItem()        \n",
    "\n",
    "        print('Page:1', end=' ')\n",
    "        ModelList = pd.concat([ModelList, getModel()], ignore_index=True)\n",
    "        # Start loop\n",
    "        n = 2\n",
    "        while is_next_button_clickable() and PageNum>1:\n",
    "            ClickNext()\n",
    "            waitingNextPage()\n",
    "            print('Page:' + str(n), end=' ')\n",
    "            ModelList = pd.concat([ModelList, getModel()], ignore_index=True)\n",
    "            n += 1        \n",
    "        DescText,cat,subCat = getImage(PartID)\n",
    "        \n",
    "        ModelList.loc[ModelList['PartID'].apply(lambda x : x.replace('-',''))==PartID, 'DescText'] = DescText\n",
    "        ModelList.loc[ModelList['PartID'].apply(lambda x : x.replace('-',''))==PartID, 'Cat'] = cat\n",
    "        ModelList.loc[ModelList['PartID'].apply(lambda x : x.replace('-',''))==PartID, 'SubCat'] = subCat"
   ]
  },
  {
   "cell_type": "code",
   "execution_count": 397,
   "metadata": {},
   "outputs": [
    {
     "data": {
      "text/html": [
       "<div>\n",
       "<style scoped>\n",
       "    .dataframe tbody tr th:only-of-type {\n",
       "        vertical-align: middle;\n",
       "    }\n",
       "\n",
       "    .dataframe tbody tr th {\n",
       "        vertical-align: top;\n",
       "    }\n",
       "\n",
       "    .dataframe thead th {\n",
       "        text-align: right;\n",
       "    }\n",
       "</style>\n",
       "<table border=\"1\" class=\"dataframe\">\n",
       "  <thead>\n",
       "    <tr style=\"text-align: right;\">\n",
       "      <th></th>\n",
       "      <th>PartNo</th>\n",
       "    </tr>\n",
       "  </thead>\n",
       "  <tbody>\n",
       "    <tr>\n",
       "      <th>0</th>\n",
       "      <td>01463S87A01</td>\n",
       "    </tr>\n",
       "    <tr>\n",
       "      <th>1</th>\n",
       "      <td>01463SHJA01</td>\n",
       "    </tr>\n",
       "    <tr>\n",
       "      <th>2</th>\n",
       "      <td>01464TF0010</td>\n",
       "    </tr>\n",
       "    <tr>\n",
       "      <th>3</th>\n",
       "      <td>01465SWA020</td>\n",
       "    </tr>\n",
       "    <tr>\n",
       "      <th>4</th>\n",
       "      <td>01465TF0010</td>\n",
       "    </tr>\n",
       "    <tr>\n",
       "      <th>...</th>\n",
       "      <td>...</td>\n",
       "    </tr>\n",
       "    <tr>\n",
       "      <th>1012</th>\n",
       "      <td>H4502SR3T01</td>\n",
       "    </tr>\n",
       "    <tr>\n",
       "      <th>1013</th>\n",
       "      <td>H5699PAAT01</td>\n",
       "    </tr>\n",
       "    <tr>\n",
       "      <th>1014</th>\n",
       "      <td>H5699PLMT01</td>\n",
       "    </tr>\n",
       "    <tr>\n",
       "      <th>1015</th>\n",
       "      <td>H7662SB3800</td>\n",
       "    </tr>\n",
       "    <tr>\n",
       "      <th>1016</th>\n",
       "      <td>H7662SM4900</td>\n",
       "    </tr>\n",
       "  </tbody>\n",
       "</table>\n",
       "<p>1017 rows × 1 columns</p>\n",
       "</div>"
      ],
      "text/plain": [
       "           PartNo\n",
       "0     01463S87A01\n",
       "1     01463SHJA01\n",
       "2     01464TF0010\n",
       "3     01465SWA020\n",
       "4     01465TF0010\n",
       "...           ...\n",
       "1012  H4502SR3T01\n",
       "1013  H5699PAAT01\n",
       "1014  H5699PLMT01\n",
       "1015  H7662SB3800\n",
       "1016  H7662SM4900\n",
       "\n",
       "[1017 rows x 1 columns]"
      ]
     },
     "execution_count": 397,
     "metadata": {},
     "output_type": "execute_result"
    }
   ],
   "source": [
    "Hon"
   ]
  },
  {
   "cell_type": "code",
   "execution_count": 25,
   "metadata": {},
   "outputs": [
    {
     "data": {
      "text/plain": [
       "Series([], Name: PartID, dtype: object)"
      ]
     },
     "execution_count": 25,
     "metadata": {},
     "output_type": "execute_result"
    }
   ],
   "source": [
    "ModelList['PartID'].apply(lambda x : x.replace('-',''))#==PartID"
   ]
  },
  {
   "cell_type": "code",
   "execution_count": 371,
   "metadata": {},
   "outputs": [],
   "source": [
    "ModelList.to_parquet(r'/Users/krichnorakhun/Documents/Machine Learning/selenium/parquet/H9-Table1.parquet')"
   ]
  },
  {
   "cell_type": "code",
   "execution_count": 2,
   "metadata": {},
   "outputs": [],
   "source": [
    "comb1 = pd.read_parquet(r'/Users/krichnorakhun/Documents/Machine Learning/selenium/parquet/H-Table12.parquet')\n",
    "comb2 = pd.read_parquet(r'/Users/krichnorakhun/Documents/Machine Learning/selenium/parquet/H2-Table2.parquet')\n",
    "comb3 = pd.read_parquet(r'/Users/krichnorakhun/Documents/Machine Learning/selenium/parquet/H3-Table1.parquet')\n",
    "comb4 = pd.read_parquet(r'/Users/krichnorakhun/Documents/Machine Learning/selenium/parquet/H4-Table1.parquet')\n",
    "comb5 = pd.read_parquet(r'/Users/krichnorakhun/Documents/Machine Learning/selenium/parquet/H5-Table1.parquet')\n",
    "comb6 = pd.read_parquet(r'/Users/krichnorakhun/Documents/Machine Learning/selenium/parquet/H6-Table1.parquet')\n",
    "comb7 = pd.read_parquet(r'/Users/krichnorakhun/Documents/Machine Learning/selenium/parquet/H7-Table1.parquet')\n",
    "comb8 = pd.read_parquet(r'/Users/krichnorakhun/Documents/Machine Learning/selenium/parquet/H8-Table1.parquet')"
   ]
  },
  {
   "cell_type": "code",
   "execution_count": 3,
   "metadata": {},
   "outputs": [],
   "source": [
    "comb = pd.concat([comb1,comb2,comb3,comb4,comb5,comb6,comb7,comb8], ignore_index=True)\n",
    "comb = comb.drop_duplicates()\n",
    "comb = comb.loc[~comb['DescText'].isna()]\n",
    "comb = comb.drop(['Part'], axis=1)"
   ]
  },
  {
   "cell_type": "code",
   "execution_count": 376,
   "metadata": {},
   "outputs": [
    {
     "data": {
      "text/html": [
       "<div>\n",
       "<style scoped>\n",
       "    .dataframe tbody tr th:only-of-type {\n",
       "        vertical-align: middle;\n",
       "    }\n",
       "\n",
       "    .dataframe tbody tr th {\n",
       "        vertical-align: top;\n",
       "    }\n",
       "\n",
       "    .dataframe thead th {\n",
       "        text-align: right;\n",
       "    }\n",
       "</style>\n",
       "<table border=\"1\" class=\"dataframe\">\n",
       "  <thead>\n",
       "    <tr style=\"text-align: right;\">\n",
       "      <th></th>\n",
       "      <th>PartNo</th>\n",
       "    </tr>\n",
       "  </thead>\n",
       "  <tbody>\n",
       "    <tr>\n",
       "      <th>0</th>\n",
       "      <td>01431SAET01</td>\n",
       "    </tr>\n",
       "    <tr>\n",
       "      <th>1</th>\n",
       "      <td>01432SAET01</td>\n",
       "    </tr>\n",
       "    <tr>\n",
       "      <th>2</th>\n",
       "      <td>01463S2A010</td>\n",
       "    </tr>\n",
       "    <tr>\n",
       "      <th>3</th>\n",
       "      <td>01463S87A01</td>\n",
       "    </tr>\n",
       "    <tr>\n",
       "      <th>4</th>\n",
       "      <td>01463SAA901</td>\n",
       "    </tr>\n",
       "  </tbody>\n",
       "</table>\n",
       "</div>"
      ],
      "text/plain": [
       "        PartNo\n",
       "0  01431SAET01\n",
       "1  01432SAET01\n",
       "2  01463S2A010\n",
       "3  01463S87A01\n",
       "4  01463SAA901"
      ]
     },
     "execution_count": 376,
     "metadata": {},
     "output_type": "execute_result"
    }
   ],
   "source": [
    "Hon.head(5)"
   ]
  },
  {
   "cell_type": "code",
   "execution_count": 4,
   "metadata": {},
   "outputs": [],
   "source": [
    "comb.loc[:,'PartID'] = comb['PartID'].apply(lambda x : x.replace('-',''))"
   ]
  },
  {
   "cell_type": "code",
   "execution_count": 8,
   "metadata": {},
   "outputs": [],
   "source": [
    "comb = pd.merge(Hon, comb, left_on='PartNo', right_on='PartID', how='left')"
   ]
  },
  {
   "cell_type": "code",
   "execution_count": 9,
   "metadata": {},
   "outputs": [],
   "source": [
    "Hon = pd.DataFrame(comb.loc[comb['PartID'].isna()]['PartNo'].unique(), columns=['PartNo'])"
   ]
  },
  {
   "cell_type": "code",
   "execution_count": 10,
   "metadata": {},
   "outputs": [],
   "source": [
    "Hon = Hon.reset_index(drop=True)"
   ]
  },
  {
   "cell_type": "code",
   "execution_count": 11,
   "metadata": {},
   "outputs": [],
   "source": [
    "comb = comb.loc[~comb['PartID'].isna()].drop_duplicates()\n",
    "comb = comb.drop(['PartNo'], axis=1)"
   ]
  },
  {
   "cell_type": "code",
   "execution_count": 16,
   "metadata": {},
   "outputs": [],
   "source": [
    "comb.to_csv(r'/Volumes/500G/GP/Honda/ScrapingResult/Hon_Table_Full_UTF8.csv', index=False , encoding='UTF-8')"
   ]
  },
  {
   "cell_type": "code",
   "execution_count": 12,
   "metadata": {},
   "outputs": [
    {
     "data": {
      "text/plain": [
       "10665"
      ]
     },
     "execution_count": 12,
     "metadata": {},
     "output_type": "execute_result"
    }
   ],
   "source": [
    "comb['PartID'].nunique()"
   ]
  },
  {
   "cell_type": "code",
   "execution_count": 78,
   "metadata": {},
   "outputs": [],
   "source": [
    "ChangeDisplayItem()"
   ]
  },
  {
   "cell_type": "code",
   "execution_count": 16,
   "metadata": {},
   "outputs": [],
   "source": [
    "def getIndexOfPartAndClick(soup,PartID):\n",
    "    data = driver.page_source\n",
    "    soup = bs4.BeautifulSoup(data)\n",
    "    listData = soup.find_all('tbody',{'class':'ui-datatable-data ui-widget-content'})[5].find_all('tr')\n",
    "    listDataPart = [i.find_all('td')[2].text.replace('หมายเลขอะไหล่','').replace('-','') for i in listData]\n",
    "\n",
    "    getIndex = listDataPart.index(PartID) if PartID in listDataPart else -1\n",
    "    selectionID = listData[getIndex].find_all('td')[5].find_all('div')[0].get('id')\n",
    "    driver.find_element(By.ID,selectionID).click()\n",
    "    #time.sleep(5)"
   ]
  },
  {
   "cell_type": "code",
   "execution_count": 17,
   "metadata": {},
   "outputs": [],
   "source": [
    "def zoomImage():\n",
    "    #Pop image Out and zoom in\n",
    "    try:\n",
    "        popUp_locator = (By.XPATH,'/html/body/div[6]/div/div/div/div[2]/div/div/form[2]/div[2]/div[2]/div/div/div[1]/span/span/button[3]')\n",
    "        WebDriverWait(driver, 10).until(EC.visibility_of_element_located(popUp_locator))\n",
    "        driver.find_element(*popUp_locator).click()\n",
    "    except TimeoutException:\n",
    "        wait = WebDriverWait(driver, 10)\n",
    "        PopIn = (By.XPATH,'/html/body/div[6]/div/div/div/div[2]/div/div/form[2]/div[2]/div[2]/div/div/div[1]/span/span/button[4]')\n",
    "        wait.until(EC.visibility_of_element_located(PopIn))\n",
    "        print('Already Pop up')\n",
    "        \n",
    "    while driver.find_element(By.XPATH, '/html/body/div[6]/div/div/div/div[2]/div/div/form[2]/div[2]/div[2]/div/div/div[2]/div/div/div/img[1]').size['height']<450:\n",
    "        driver.find_element(By.XPATH,'/html/body/div[6]/div/div/div/div[2]/div/div/form[2]/div[2]/div[2]/div/div/div[1]/span/span/button[1]').click()\n",
    "        time.sleep(1)\n",
    "    waitingNextPage()"
   ]
  },
  {
   "cell_type": "code",
   "execution_count": 18,
   "metadata": {},
   "outputs": [],
   "source": [
    "def CaptureImage(PartID):\n",
    "    # Locate the image element\n",
    "    img_element = driver.find_element(By.XPATH, '/html/body/div[6]/div/div/div/div[2]/div/div/form[2]/div[2]/div[2]/div/div/div[2]/div/div/div/img[1]')\n",
    "\n",
    "    # Get the location and size of the image element\n",
    "    location = img_element.location\n",
    "    size = img_element.size\n",
    "\n",
    "    # Take a screenshot of the entire page\n",
    "    driver.execute_script(\"window.scrollTo(0, 0)\")\n",
    "    time.sleep(2)\n",
    "    try:\n",
    "        driver.save_screenshot('page_screenshot.png')\n",
    "    except TimeoutException:\n",
    "        time.sleep(2)\n",
    "        driver.save_screenshot('page_screenshot.png')\n",
    "    finally:\n",
    "        print('done')\n",
    "\n",
    "    # Use PIL to crop the image\n",
    "    x = location['x']\n",
    "    y = location['y']\n",
    "    width = size['width']\n",
    "    height = size['height']\n",
    "    im = Image.open('page_screenshot.png')\n",
    "    im = im.crop((int(x), int(y), int(x + width), int(y + height)))\n",
    "    im.save('images/HON-'+PartID+'.png')\n",
    "    print('width='+str(width)+':height='+str(height))\n"
   ]
  },
  {
   "cell_type": "code",
   "execution_count": 19,
   "metadata": {},
   "outputs": [],
   "source": [
    "def GetDesc():\n",
    "    data = driver.page_source\n",
    "    soup = bs4.BeautifulSoup(data)\n",
    "    listTable = soup.find_all('div',{'class':'ui-tabs-panels'})[0].find_all('tbody',{'id':'lonTabView:lonTable_data'})[0].find_all('tr')\n",
    "    listTable = [row for row in listTable if 'highlightLON' in row.get('class')]\n",
    "    listTable = [row.find_all('td')[3].text for row in listTable]\n",
    "    listTable = [\n",
    "        row.replace('(เกี่ยวเนื่องกับเลขอ้างอิง)/รายละเอียดค่าแรง', '').split('-')[0].replace(',', '').strip() \n",
    "        for row in listTable \n",
    "        if any(substring in row for substring in ['ตรวจและซ่อมแซม', 'เปลี่ยน'])\n",
    "    ]\n",
    "    DescText = ':'.join(listTable)\n",
    "    return(DescText)\n"
   ]
  },
  {
   "cell_type": "code",
   "execution_count": 20,
   "metadata": {},
   "outputs": [],
   "source": [
    "def getCat():\n",
    "    data = driver.page_source\n",
    "    soup = bs4.BeautifulSoup(data)\n",
    "    catList = soup.find_all('select',{'name':'catSelection:groupSelect_input'})[0].find_all('option')\n",
    "    cat = [cat for cat in catList if 'selected' in (cat.get('selected') or '')][0].text.replace(',',':')\n",
    "    subCatList = soup.find_all('select',{'name':'catSelection:diagramSelect_input'})[0].find_all('option')\n",
    "    subCat = [subCat for subCat in subCatList if 'selected' in (subCat.get('selected') or '')][0].text.split('\\t')[1].strip()\n",
    "    return(cat, subCat)\n"
   ]
  },
  {
   "cell_type": "code",
   "execution_count": 21,
   "metadata": {},
   "outputs": [],
   "source": [
    "def getImage(PartID):\n",
    "    wait = WebDriverWait(driver, 10)\n",
    "    picToClick = (By.XPATH, \"/html/body/div[2]/form[2]/div/fieldset/div/div/div[2]/table/tbody/tr[1]/td[3]/button[2]\")\n",
    "    wait.until(EC.element_to_be_clickable(picToClick))\n",
    "    driver.find_element(By.XPATH,'/html/body/div[2]/form[2]/div/fieldset/div/div/div[2]/table/tbody/tr[1]/td[3]/button[2]').click()\n",
    "    #Waiting for image displayed\n",
    "    wait = WebDriverWait(driver, 60)  # 60 seconds wait\n",
    "    image_locator = (By.XPATH, \"/html/body/div[6]/div/div/div/div[2]/div/div/form[2]/div[2]/div[2]/div/div/div[2]/div/div/div\")\n",
    "    wait.until(EC.visibility_of_element_located(image_locator))\n",
    "\n",
    "    data = driver.page_source\n",
    "    soup = bs4.BeautifulSoup(data)\n",
    "    getIndexOfPartAndClick(soup,PartID)\n",
    "    zoomImage()\n",
    "    CaptureImage(PartID)\n",
    "    DescText = GetDesc()\n",
    "    #Click Pop In and Close\n",
    "    data = driver.page_source\n",
    "    soup = bs4.BeautifulSoup(data)\n",
    "    time.sleep(1)\n",
    "    getIndexOfPartAndClick(soup,PartID) \n",
    "    time.sleep(1)\n",
    "    #Clear checkbox\n",
    "    wait = WebDriverWait(driver, 10)\n",
    "    PopIn = (By.XPATH,'/html/body/div[6]/div/div/div/div[2]/div/div/form[2]/div[2]/div[2]/div/div/div[1]/span/span/button[4]')\n",
    "    wait.until(EC.visibility_of_element_located(PopIn))    \n",
    "    \n",
    "    driver.execute_script(\"window.scrollTo(0, 0)\")\n",
    "    time.sleep(1)\n",
    "    wait = WebDriverWait(driver, 10)\n",
    "    PopIn = (By.XPATH,'/html/body/div[6]/div/div/div/div[2]/div/div/form[2]/div[2]/div[2]/div/div/div[1]/span/span/button[4]')    \n",
    "    wait.until(EC.element_to_be_clickable(PopIn))   \n",
    "    element = driver.find_element(By.XPATH, '/html/body/div[6]/div/div/div/div[2]/div/div/form[2]/div[2]/div[2]/div/div/div[1]/span/span/button[4]')\n",
    "    driver.execute_script(\"arguments[0].click();\", element)\n",
    "    #driver.find_element(*PopIn).click()    \n",
    "    \n",
    "    #Click See catetory\n",
    "    driver.execute_script(\"window.scrollTo(0, 0)\")\n",
    "    driver.find_element(By.XPATH,'/html/body/div[6]/div/div/div/div[2]/div/div/form[2]/div[2]/div[1]').click()\n",
    "    \n",
    "    cat,subCat = getCat()\n",
    "    #Click Close\n",
    "    driver.find_element(By.XPATH,'/html/body/div[6]/div/div/div/div[2]/div/div/form[1]/div/ul/li[1]/a').click()\n",
    "    return(DescText,cat,subCat)\n"
   ]
  },
  {
   "cell_type": "markdown",
   "metadata": {},
   "source": [
    "In case of failure because of screen saver."
   ]
  },
  {
   "cell_type": "code",
   "execution_count": 26,
   "metadata": {},
   "outputs": [],
   "source": [
    "cat,subCat = getCat()"
   ]
  },
  {
   "cell_type": "code",
   "execution_count": 28,
   "metadata": {},
   "outputs": [
    {
     "data": {
      "text/plain": [
       "'CONTROL UNIT(ENGINE ROOM) (1)'"
      ]
     },
     "execution_count": 28,
     "metadata": {},
     "output_type": "execute_result"
    }
   ],
   "source": [
    "subCat"
   ]
  },
  {
   "cell_type": "code",
   "execution_count": 423,
   "metadata": {},
   "outputs": [
    {
     "name": "stdout",
     "output_type": "stream",
     "text": [
      "done\n",
      "width=960:height=480\n"
     ]
    },
    {
     "ename": "TimeoutException",
     "evalue": "Message: \nStacktrace:\n0   chromedriver                        0x00000001049e84dc chromedriver + 4162780\n1   chromedriver                        0x00000001049e0664 chromedriver + 4130404\n2   chromedriver                        0x0000000104637bc0 chromedriver + 293824\n3   chromedriver                        0x000000010467e040 chromedriver + 581696\n4   chromedriver                        0x00000001046bdab0 chromedriver + 842416\n5   chromedriver                        0x00000001046716bc chromedriver + 530108\n6   chromedriver                        0x0000000104672930 chromedriver + 534832\n7   chromedriver                        0x00000001049ade08 chromedriver + 3923464\n8   chromedriver                        0x00000001049b23dc chromedriver + 3941340\n9   chromedriver                        0x0000000104996038 chromedriver + 3825720\n10  chromedriver                        0x00000001049b2f3c chromedriver + 3944252\n11  chromedriver                        0x00000001049886f4 chromedriver + 3770100\n12  chromedriver                        0x00000001049cf980 chromedriver + 4061568\n13  chromedriver                        0x00000001049cfaf8 chromedriver + 4061944\n14  chromedriver                        0x00000001049e02e4 chromedriver + 4129508\n15  libsystem_pthread.dylib             0x00000001a683c26c _pthread_start + 148\n16  libsystem_pthread.dylib             0x00000001a683708c thread_start + 8\n",
     "output_type": "error",
     "traceback": [
      "\u001b[0;31m---------------------------------------------------------------------------\u001b[0m",
      "\u001b[0;31mTimeoutException\u001b[0m                          Traceback (most recent call last)",
      "\u001b[1;32m/Users/krichnorakhun/Documents/Machine Learning/selenium/HondaScraper_V2.ipynb Cell 42\u001b[0m line \u001b[0;36m1\n\u001b[1;32m     <a href='vscode-notebook-cell:/Users/krichnorakhun/Documents/Machine%20Learning/selenium/HondaScraper_V2.ipynb#Y314sZmlsZQ%3D%3D?line=11'>12</a>\u001b[0m wait \u001b[39m=\u001b[39m WebDriverWait(driver, \u001b[39m10\u001b[39m)\n\u001b[1;32m     <a href='vscode-notebook-cell:/Users/krichnorakhun/Documents/Machine%20Learning/selenium/HondaScraper_V2.ipynb#Y314sZmlsZQ%3D%3D?line=12'>13</a>\u001b[0m PopIn \u001b[39m=\u001b[39m (By\u001b[39m.\u001b[39mXPATH,\u001b[39m'\u001b[39m\u001b[39m/html/body/div[6]/div/div/div/div[2]/div/div/form[2]/div[2]/div[2]/div/div/div[1]/span/span/button[4]\u001b[39m\u001b[39m'\u001b[39m)\n\u001b[0;32m---> <a href='vscode-notebook-cell:/Users/krichnorakhun/Documents/Machine%20Learning/selenium/HondaScraper_V2.ipynb#Y314sZmlsZQ%3D%3D?line=13'>14</a>\u001b[0m wait\u001b[39m.\u001b[39;49muntil(EC\u001b[39m.\u001b[39;49mvisibility_of_element_located(PopIn))    \n\u001b[1;32m     <a href='vscode-notebook-cell:/Users/krichnorakhun/Documents/Machine%20Learning/selenium/HondaScraper_V2.ipynb#Y314sZmlsZQ%3D%3D?line=15'>16</a>\u001b[0m driver\u001b[39m.\u001b[39mexecute_script(\u001b[39m\"\u001b[39m\u001b[39mwindow.scrollTo(0, 0)\u001b[39m\u001b[39m\"\u001b[39m)\n\u001b[1;32m     <a href='vscode-notebook-cell:/Users/krichnorakhun/Documents/Machine%20Learning/selenium/HondaScraper_V2.ipynb#Y314sZmlsZQ%3D%3D?line=16'>17</a>\u001b[0m time\u001b[39m.\u001b[39msleep(\u001b[39m1\u001b[39m)\n",
      "File \u001b[0;32m~/Documents/Machine Learning/selenium/lib/python3.9/site-packages/selenium/webdriver/support/wait.py:101\u001b[0m, in \u001b[0;36mWebDriverWait.until\u001b[0;34m(self, method, message)\u001b[0m\n\u001b[1;32m     99\u001b[0m     \u001b[39mif\u001b[39;00m time\u001b[39m.\u001b[39mmonotonic() \u001b[39m>\u001b[39m end_time:\n\u001b[1;32m    100\u001b[0m         \u001b[39mbreak\u001b[39;00m\n\u001b[0;32m--> 101\u001b[0m \u001b[39mraise\u001b[39;00m TimeoutException(message, screen, stacktrace)\n",
      "\u001b[0;31mTimeoutException\u001b[0m: Message: \nStacktrace:\n0   chromedriver                        0x00000001049e84dc chromedriver + 4162780\n1   chromedriver                        0x00000001049e0664 chromedriver + 4130404\n2   chromedriver                        0x0000000104637bc0 chromedriver + 293824\n3   chromedriver                        0x000000010467e040 chromedriver + 581696\n4   chromedriver                        0x00000001046bdab0 chromedriver + 842416\n5   chromedriver                        0x00000001046716bc chromedriver + 530108\n6   chromedriver                        0x0000000104672930 chromedriver + 534832\n7   chromedriver                        0x00000001049ade08 chromedriver + 3923464\n8   chromedriver                        0x00000001049b23dc chromedriver + 3941340\n9   chromedriver                        0x0000000104996038 chromedriver + 3825720\n10  chromedriver                        0x00000001049b2f3c chromedriver + 3944252\n11  chromedriver                        0x00000001049886f4 chromedriver + 3770100\n12  chromedriver                        0x00000001049cf980 chromedriver + 4061568\n13  chromedriver                        0x00000001049cfaf8 chromedriver + 4061944\n14  chromedriver                        0x00000001049e02e4 chromedriver + 4129508\n15  libsystem_pthread.dylib             0x00000001a683c26c _pthread_start + 148\n16  libsystem_pthread.dylib             0x00000001a683708c thread_start + 8\n"
     ]
    }
   ],
   "source": [
    "#In case error because of screen saver.\n",
    "CaptureImage(PartID)\n",
    "\n",
    "DescText = GetDesc()\n",
    "#Click Pop In and Close\n",
    "data = driver.page_source\n",
    "soup = bs4.BeautifulSoup(data)\n",
    "time.sleep(1)\n",
    "getIndexOfPartAndClick(soup,PartID) \n",
    "time.sleep(1)\n",
    "#Clear checkbox\n",
    "wait = WebDriverWait(driver, 10)\n",
    "PopIn = (By.XPATH,'/html/body/div[6]/div/div/div/div[2]/div/div/form[2]/div[2]/div[2]/div/div/div[1]/span/span/button[4]')\n",
    "wait.until(EC.visibility_of_element_located(PopIn))    \n",
    "    \n",
    "driver.execute_script(\"window.scrollTo(0, 0)\")\n",
    "time.sleep(1)\n",
    "driver.find_element(*PopIn).click()    \n",
    "    \n",
    "#Click See catetory\n",
    "driver.execute_script(\"window.scrollTo(0, 0)\")\n",
    "driver.find_element(By.XPATH,'/html/body/div[6]/div/div/div/div[2]/div/div/form[2]/div[2]/div[1]').click()\n",
    "    \n",
    "cat,subCat = getCat()\n",
    "#Click Close\n",
    "driver.find_element(By.XPATH,'/html/body/div[6]/div/div/div/div[2]/div/div/form[1]/div/ul/li[1]/a').click()"
   ]
  },
  {
   "cell_type": "code",
   "execution_count": 32,
   "metadata": {},
   "outputs": [],
   "source": [
    "ModelList.loc[ModelList['PartID'].apply(lambda x : x.replace('-',''))==PartID, 'DescText'] = DescText\n",
    "ModelList.loc[ModelList['PartID'].apply(lambda x : x.replace('-',''))==PartID, 'Cat'] = cat\n",
    "ModelList.loc[ModelList['PartID'].apply(lambda x : x.replace('-',''))==PartID, 'SubCat'] = subCat"
   ]
  },
  {
   "cell_type": "code",
   "execution_count": null,
   "metadata": {},
   "outputs": [],
   "source": [
    "DescText,cat,subCat = getImage(PartID)\n",
    "ModelList.loc[ModelList['PartID'].apply(lambda x : x.replace('-',''))==PartID, 'DescText'] = DescText\n",
    "ModelList.loc[ModelList['PartID'].apply(lambda x : x.replace('-',''))==PartID, 'Cat'] = cat\n",
    "ModelList.loc[ModelList['PartID'].apply(lambda x : x.replace('-',''))==PartID, 'SubCat'] = subCat"
   ]
  },
  {
   "cell_type": "code",
   "execution_count": 116,
   "metadata": {},
   "outputs": [
    {
     "data": {
      "text/html": [
       "<div>\n",
       "<style scoped>\n",
       "    .dataframe tbody tr th:only-of-type {\n",
       "        vertical-align: middle;\n",
       "    }\n",
       "\n",
       "    .dataframe tbody tr th {\n",
       "        vertical-align: top;\n",
       "    }\n",
       "\n",
       "    .dataframe thead th {\n",
       "        text-align: right;\n",
       "    }\n",
       "</style>\n",
       "<table border=\"1\" class=\"dataframe\">\n",
       "  <thead>\n",
       "    <tr style=\"text-align: right;\">\n",
       "      <th></th>\n",
       "      <th>Part</th>\n",
       "      <th>PartDescription</th>\n",
       "      <th>PartID</th>\n",
       "      <th>CarModel</th>\n",
       "      <th>DescText</th>\n",
       "      <th>Cat</th>\n",
       "      <th>SubCat</th>\n",
       "    </tr>\n",
       "  </thead>\n",
       "  <tbody>\n",
       "    <tr>\n",
       "      <th>0</th>\n",
       "      <td>37870-PJ7-003 - 18S04KT1 ( CIVIC 4Dr 1996 TH -...</td>\n",
       "      <td>SENSOR ASSY.: WATER TEMP (TW5) (MATSUSHITA)</td>\n",
       "      <td>37870-PJ7-003</td>\n",
       "      <td>CIVIC 4Dr 1996 TH - [ 5MT - LXI ]</td>\n",
       "      <td>เซ็นเซอร์ อุณหภูมิน้ำ</td>\n",
       "      <td>ENGINE</td>\n",
       "      <td>WATER PUMP/SENSOR</td>\n",
       "    </tr>\n",
       "    <tr>\n",
       "      <th>1</th>\n",
       "      <td>37870-PJ7-003 - 18S04KT1 ( CIVIC 4Dr 1996 TH -...</td>\n",
       "      <td>SENSOR ASSY.: WATER TEMP (TW5) (MATSUSHITA)</td>\n",
       "      <td>37870-PJ7-003</td>\n",
       "      <td>CIVIC 4Dr 1996 TH - [ 5MT - LXI ]</td>\n",
       "      <td>เซ็นเซอร์ อุณหภูมิน้ำ</td>\n",
       "      <td>ENGINE</td>\n",
       "      <td>WATER PUMP/SENSOR</td>\n",
       "    </tr>\n",
       "    <tr>\n",
       "      <th>2</th>\n",
       "      <td>37870-PJ7-003 - 18S04KT1 ( CIVIC 4Dr 1996 TH -...</td>\n",
       "      <td>SENSOR ASSY.: WATER TEMP (TW5) (MATSUSHITA)</td>\n",
       "      <td>37870-PJ7-003</td>\n",
       "      <td>CIVIC 4Dr 1996 TH - [ 5MT - LXI ]</td>\n",
       "      <td>เซ็นเซอร์ อุณหภูมิน้ำ</td>\n",
       "      <td>ENGINE</td>\n",
       "      <td>WATER PUMP/SENSOR</td>\n",
       "    </tr>\n",
       "    <tr>\n",
       "      <th>3</th>\n",
       "      <td>37870-PJ7-003 - 18S04KT1 ( CIVIC 4Dr 1996 TH -...</td>\n",
       "      <td>SENSOR ASSY.: WATER TEMP (TW5) (MATSUSHITA)</td>\n",
       "      <td>37870-PJ7-003</td>\n",
       "      <td>CIVIC 4Dr 1996 TH - [ 4AT - EXI ]</td>\n",
       "      <td>เซ็นเซอร์ อุณหภูมิน้ำ</td>\n",
       "      <td>ENGINE</td>\n",
       "      <td>WATER PUMP/SENSOR</td>\n",
       "    </tr>\n",
       "    <tr>\n",
       "      <th>4</th>\n",
       "      <td>37870-PJ7-003 - 18S04KT1 ( CIVIC 4Dr 1996 TH -...</td>\n",
       "      <td>SENSOR ASSY.: WATER TEMP (TW5) (MATSUSHITA)</td>\n",
       "      <td>37870-PJ7-003</td>\n",
       "      <td>CIVIC 4Dr 1996 TH - [ 4AT - EXI ]</td>\n",
       "      <td>เซ็นเซอร์ อุณหภูมิน้ำ</td>\n",
       "      <td>ENGINE</td>\n",
       "      <td>WATER PUMP/SENSOR</td>\n",
       "    </tr>\n",
       "    <tr>\n",
       "      <th>...</th>\n",
       "      <td>...</td>\n",
       "      <td>...</td>\n",
       "      <td>...</td>\n",
       "      <td>...</td>\n",
       "      <td>...</td>\n",
       "      <td>...</td>\n",
       "      <td>...</td>\n",
       "    </tr>\n",
       "    <tr>\n",
       "      <th>11715</th>\n",
       "      <td>39794-SDA-902 - 18TY2D01 ( LEGEND 4Dr 2016 TH ...</td>\n",
       "      <td>RELAY ASSY.: ENGINE CONTROL MODULE (MITSUBA) (...</td>\n",
       "      <td>39794-SDA-902</td>\n",
       "      <td>LEGEND 4Dr 2016 TH - [ DCT - EX ]</td>\n",
       "      <td>RELAY MAIN SOLENOID:RELAY IGNITION COIL</td>\n",
       "      <td>ELECTRICAL EQUIPMENTS:EXHAUST:HEATER</td>\n",
       "      <td>CONTROL UNIT(ENGINE ROOM) (2)</td>\n",
       "    </tr>\n",
       "    <tr>\n",
       "      <th>11716</th>\n",
       "      <td>39794-SDA-902 - 18TY2D01 ( LEGEND 4Dr 2016 TH ...</td>\n",
       "      <td>RELAY ASSY.: ENGINE CONTROL MODULE (MITSUBA) (...</td>\n",
       "      <td>39794-SDA-902</td>\n",
       "      <td>LEGEND 4Dr 2016 TH - [ DCT - EX ]</td>\n",
       "      <td>RELAY MAIN SOLENOID:RELAY IGNITION COIL</td>\n",
       "      <td>ELECTRICAL EQUIPMENTS:EXHAUST:HEATER</td>\n",
       "      <td>CONTROL UNIT(ENGINE ROOM) (2)</td>\n",
       "    </tr>\n",
       "    <tr>\n",
       "      <th>11717</th>\n",
       "      <td>39794-SDA-902 - 18TY2D01 ( LEGEND 4Dr 2016 TH ...</td>\n",
       "      <td>RELAY ASSY.: ENGINE CONTROL MODULE (MITSUBA) (...</td>\n",
       "      <td>39794-SDA-902</td>\n",
       "      <td>LEGEND 4Dr 2016 TH - [ DCT - EX ]</td>\n",
       "      <td>RELAY MAIN SOLENOID:RELAY IGNITION COIL</td>\n",
       "      <td>ELECTRICAL EQUIPMENTS:EXHAUST:HEATER</td>\n",
       "      <td>CONTROL UNIT(ENGINE ROOM) (2)</td>\n",
       "    </tr>\n",
       "    <tr>\n",
       "      <th>11718</th>\n",
       "      <td>39794-SDA-902 - 18TY2D01 ( LEGEND 4Dr 2016 TH ...</td>\n",
       "      <td>RELAY ASSY.: ENGINE CONTROL MODULE (MITSUBA) (...</td>\n",
       "      <td>39794-SDA-902</td>\n",
       "      <td>LEGEND 4Dr 2016 TH - [ DCT - EX ]</td>\n",
       "      <td>RELAY MAIN SOLENOID:RELAY IGNITION COIL</td>\n",
       "      <td>ELECTRICAL EQUIPMENTS:EXHAUST:HEATER</td>\n",
       "      <td>CONTROL UNIT(ENGINE ROOM) (2)</td>\n",
       "    </tr>\n",
       "    <tr>\n",
       "      <th>11719</th>\n",
       "      <td>39794-SDA-902 - 18TY2D01 ( LEGEND 4Dr 2016 TH ...</td>\n",
       "      <td>RELAY ASSY.: ENGINE CONTROL MODULE (MITSUBA) (...</td>\n",
       "      <td>39794-SDA-902</td>\n",
       "      <td>LEGEND 4Dr 2016 TH - [ DCT - EX ]</td>\n",
       "      <td>RELAY MAIN SOLENOID:RELAY IGNITION COIL</td>\n",
       "      <td>ELECTRICAL EQUIPMENTS:EXHAUST:HEATER</td>\n",
       "      <td>CONTROL UNIT(ENGINE ROOM) (2)</td>\n",
       "    </tr>\n",
       "  </tbody>\n",
       "</table>\n",
       "<p>11720 rows × 7 columns</p>\n",
       "</div>"
      ],
      "text/plain": [
       "                                                    Part  \\\n",
       "0      37870-PJ7-003 - 18S04KT1 ( CIVIC 4Dr 1996 TH -...   \n",
       "1      37870-PJ7-003 - 18S04KT1 ( CIVIC 4Dr 1996 TH -...   \n",
       "2      37870-PJ7-003 - 18S04KT1 ( CIVIC 4Dr 1996 TH -...   \n",
       "3      37870-PJ7-003 - 18S04KT1 ( CIVIC 4Dr 1996 TH -...   \n",
       "4      37870-PJ7-003 - 18S04KT1 ( CIVIC 4Dr 1996 TH -...   \n",
       "...                                                  ...   \n",
       "11715  39794-SDA-902 - 18TY2D01 ( LEGEND 4Dr 2016 TH ...   \n",
       "11716  39794-SDA-902 - 18TY2D01 ( LEGEND 4Dr 2016 TH ...   \n",
       "11717  39794-SDA-902 - 18TY2D01 ( LEGEND 4Dr 2016 TH ...   \n",
       "11718  39794-SDA-902 - 18TY2D01 ( LEGEND 4Dr 2016 TH ...   \n",
       "11719  39794-SDA-902 - 18TY2D01 ( LEGEND 4Dr 2016 TH ...   \n",
       "\n",
       "                                         PartDescription         PartID  \\\n",
       "0            SENSOR ASSY.: WATER TEMP (TW5) (MATSUSHITA)  37870-PJ7-003   \n",
       "1            SENSOR ASSY.: WATER TEMP (TW5) (MATSUSHITA)  37870-PJ7-003   \n",
       "2            SENSOR ASSY.: WATER TEMP (TW5) (MATSUSHITA)  37870-PJ7-003   \n",
       "3            SENSOR ASSY.: WATER TEMP (TW5) (MATSUSHITA)  37870-PJ7-003   \n",
       "4            SENSOR ASSY.: WATER TEMP (TW5) (MATSUSHITA)  37870-PJ7-003   \n",
       "...                                                  ...            ...   \n",
       "11715  RELAY ASSY.: ENGINE CONTROL MODULE (MITSUBA) (...  39794-SDA-902   \n",
       "11716  RELAY ASSY.: ENGINE CONTROL MODULE (MITSUBA) (...  39794-SDA-902   \n",
       "11717  RELAY ASSY.: ENGINE CONTROL MODULE (MITSUBA) (...  39794-SDA-902   \n",
       "11718  RELAY ASSY.: ENGINE CONTROL MODULE (MITSUBA) (...  39794-SDA-902   \n",
       "11719  RELAY ASSY.: ENGINE CONTROL MODULE (MITSUBA) (...  39794-SDA-902   \n",
       "\n",
       "                                  CarModel  \\\n",
       "0       CIVIC 4Dr 1996 TH - [ 5MT - LXI ]    \n",
       "1       CIVIC 4Dr 1996 TH - [ 5MT - LXI ]    \n",
       "2       CIVIC 4Dr 1996 TH - [ 5MT - LXI ]    \n",
       "3       CIVIC 4Dr 1996 TH - [ 4AT - EXI ]    \n",
       "4       CIVIC 4Dr 1996 TH - [ 4AT - EXI ]    \n",
       "...                                    ...   \n",
       "11715   LEGEND 4Dr 2016 TH - [ DCT - EX ]    \n",
       "11716   LEGEND 4Dr 2016 TH - [ DCT - EX ]    \n",
       "11717   LEGEND 4Dr 2016 TH - [ DCT - EX ]    \n",
       "11718   LEGEND 4Dr 2016 TH - [ DCT - EX ]    \n",
       "11719   LEGEND 4Dr 2016 TH - [ DCT - EX ]    \n",
       "\n",
       "                                      DescText  \\\n",
       "0                        เซ็นเซอร์ อุณหภูมิน้ำ   \n",
       "1                        เซ็นเซอร์ อุณหภูมิน้ำ   \n",
       "2                        เซ็นเซอร์ อุณหภูมิน้ำ   \n",
       "3                        เซ็นเซอร์ อุณหภูมิน้ำ   \n",
       "4                        เซ็นเซอร์ อุณหภูมิน้ำ   \n",
       "...                                        ...   \n",
       "11715  RELAY MAIN SOLENOID:RELAY IGNITION COIL   \n",
       "11716  RELAY MAIN SOLENOID:RELAY IGNITION COIL   \n",
       "11717  RELAY MAIN SOLENOID:RELAY IGNITION COIL   \n",
       "11718  RELAY MAIN SOLENOID:RELAY IGNITION COIL   \n",
       "11719  RELAY MAIN SOLENOID:RELAY IGNITION COIL   \n",
       "\n",
       "                                        Cat                         SubCat  \n",
       "0                                    ENGINE              WATER PUMP/SENSOR  \n",
       "1                                    ENGINE              WATER PUMP/SENSOR  \n",
       "2                                    ENGINE              WATER PUMP/SENSOR  \n",
       "3                                    ENGINE              WATER PUMP/SENSOR  \n",
       "4                                    ENGINE              WATER PUMP/SENSOR  \n",
       "...                                     ...                            ...  \n",
       "11715  ELECTRICAL EQUIPMENTS:EXHAUST:HEATER  CONTROL UNIT(ENGINE ROOM) (2)  \n",
       "11716  ELECTRICAL EQUIPMENTS:EXHAUST:HEATER  CONTROL UNIT(ENGINE ROOM) (2)  \n",
       "11717  ELECTRICAL EQUIPMENTS:EXHAUST:HEATER  CONTROL UNIT(ENGINE ROOM) (2)  \n",
       "11718  ELECTRICAL EQUIPMENTS:EXHAUST:HEATER  CONTROL UNIT(ENGINE ROOM) (2)  \n",
       "11719  ELECTRICAL EQUIPMENTS:EXHAUST:HEATER  CONTROL UNIT(ENGINE ROOM) (2)  \n",
       "\n",
       "[11720 rows x 7 columns]"
      ]
     },
     "execution_count": 116,
     "metadata": {},
     "output_type": "execute_result"
    }
   ],
   "source": [
    "ModelList"
   ]
  }
 ],
 "metadata": {
  "kernelspec": {
   "display_name": "selenium",
   "language": "python",
   "name": "python3"
  },
  "language_info": {
   "codemirror_mode": {
    "name": "ipython",
    "version": 3
   },
   "file_extension": ".py",
   "mimetype": "text/x-python",
   "name": "python",
   "nbconvert_exporter": "python",
   "pygments_lexer": "ipython3",
   "version": "3.9.12"
  }
 },
 "nbformat": 4,
 "nbformat_minor": 2
}
