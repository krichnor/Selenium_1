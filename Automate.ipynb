{
 "cells": [
  {
   "cell_type": "code",
   "execution_count": 1,
   "metadata": {},
   "outputs": [],
   "source": [
    "from selenium import webdriver\n",
    "from selenium.webdriver.support.ui import Select\n",
    "from selenium.webdriver.common.by import By\n",
    "from selenium.webdriver.common.keys import Keys\n",
    "import pandas as pd \n",
    "import bs4 as bs4\n",
    "import time\n",
    "from selenium.webdriver.support.ui import WebDriverWait\n",
    "from selenium.common.exceptions import TimeoutException\n",
    "from selenium.webdriver.support import expected_conditions as EC\n",
    "from selenium.webdriver.common.action_chains import ActionChains\n",
    "from selenium.common.exceptions import NoSuchElementException\n",
    "#import urllib\n",
    "from PIL import Image\n",
    "import numpy as np"
   ]
  },
  {
   "cell_type": "code",
   "execution_count": 24,
   "metadata": {},
   "outputs": [],
   "source": [
    "def CheckExist(xpath, wait):   \n",
    "    locator=(By.XPATH,xpath)\n",
    "    try: \n",
    "        WebDriverWait(driver,wait).until(EC.presence_of_element_located(locator))\n",
    "        return('ok')\n",
    "    except TimeoutException:\n",
    "        return('timeout')\n",
    "    return "
   ]
  },
  {
   "cell_type": "code",
   "execution_count": 43,
   "metadata": {},
   "outputs": [],
   "source": [
    "def LoginSubmit():\n",
    "    userInput = driver.find_element(By.XPATH,'/html/body/snapon-app/snapon-base/div/div/snapon-login/div[2]/div/form/div/div[2]/div[6]/input')\n",
    "    userInput.send_keys('TIS60user1')\n",
    "    pwdInput = driver.find_element(By.XPATH,'/html/body/snapon-app/snapon-base/div/div/snapon-login/div[2]/div/form/div/div[2]/div[7]/input')\n",
    "    pwdInput.send_keys('Z8aj9Liz')\n",
    "    loginbut = driver.find_element(By.XPATH,'/html/body/snapon-app/snapon-base/div/div/snapon-login/div[2]/div/form/div/div[2]/div[10]/button/span')\n",
    "    loginbut.click()\n",
    "\n",
    "    PopMessage = '/html/body/snapon-app/snapon-epc/div/split-panel/split-area[1]/epc-navigation/notification-dialog/p-dialog/div/div/div[1]/div/button/timesicon'\n",
    "    check = CheckExist(PopMessage,15)\n",
    "    if check == 'ok':\n",
    "        PopMessage = driver.find_element(By.XPATH,PopMessage)\n",
    "        PopMessage.click()\n",
    "        return ('ok')\n",
    "    else:\n",
    "        return('timeout')"
   ]
  },
  {
   "cell_type": "code",
   "execution_count": 42,
   "metadata": {},
   "outputs": [],
   "source": [
    "def VINSearch(VINCode):\n",
    "    inputVIN = driver.find_element(By.XPATH,'/html/body/snapon-app/snapon-epc/div/div[1]/div[2]/epc-toolbar/p-toolbar/div/div[1]/p-dropdown/div/input')\n",
    "    inputVIN.send_keys(VINCode)\n",
    "    clickSearch = driver.find_element(By.XPATH,'/html/body/snapon-app/snapon-epc/div/div[1]/div[2]/epc-toolbar/p-toolbar/div/div[1]/button')\n",
    "    clickSearch.click()\n"
   ]
  },
  {
   "cell_type": "code",
   "execution_count": 75,
   "metadata": {},
   "outputs": [],
   "source": [
    "def getMainCat():\n",
    "    data = driver.page_source\n",
    "    soup = bs4.BeautifulSoup(data)\n",
    "    TableFrame = soup.find_all('div',{'class':'ag-center-cols-container', 'ref':'eContainer','role':'rowgroup'})[0]\n",
    "    MainCat = TableFrame.findAll('div',{'class':'ag-cell-wrapper'})\n",
    "    MainCat = '\\n'.join([x.text for x in list(MainCat)])\n",
    "    return(MainCat)"
   ]
  },
  {
   "cell_type": "code",
   "execution_count": 111,
   "metadata": {},
   "outputs": [],
   "source": [
    "def ClickOnCat(clickText):\n",
    "    data = driver.page_source\n",
    "    soup = bs4.BeautifulSoup(data)\n",
    "    target_text = clickText\n",
    "    element = soup.findAll('span', text=target_text)\n",
    "\n",
    "    if element:\n",
    "        # Find the parent div with the necessary attributes to locate it in Selenium\n",
    "        parent_div = element[0].find_parent('div', class_='ag-row')\n",
    "\n",
    "        if parent_div:\n",
    "            # Get the unique attribute to locate this element using Selenium\n",
    "            row_id = parent_div.get('row-id')\n",
    "            # Create the XPath using the row-id\n",
    "            xpath = f\"//div[@row-id='{row_id}']\"\n",
    "\n",
    "            # Use Selenium to find the element and click it\n",
    "            selenium_element = driver.find_element(By.XPATH, xpath)\n",
    "            actions = ActionChains(driver)\n",
    "            actions.move_to_element(selenium_element).click().perform()"
   ]
  },
  {
   "cell_type": "code",
   "execution_count": 144,
   "metadata": {},
   "outputs": [],
   "source": [
    "def findSubCat():\n",
    "    data = driver.page_source\n",
    "    soup = bs4.BeautifulSoup(data)\n",
    "    FrameSubCat = soup.findAll('div',{'class':'ag-center-cols-container', 'role':'rowgroup'})[1]\n",
    "    FrameSubCat = list(FrameSubCat.findAll('div',{'class':'ag-cell-wrapper'}))\n",
    "    FrameSubCat = '\\n'.join([x.text for x in FrameSubCat])\n",
    "    return(FrameSubCat)"
   ]
  },
  {
   "cell_type": "code",
   "execution_count": 281,
   "metadata": {},
   "outputs": [],
   "source": [
    "def getTableResult():\n",
    "    data = driver.page_source\n",
    "    soup = bs4.BeautifulSoup(data)\n",
    "    CrossCatKey = list(soup.findAll('div',{'class':'ag-cell-value ag-cell ag-cell-not-inline-editing ag-cell-normal-height fixed-height','col-id':'crossCatKey'}))\n",
    "    FormattedPartNo = list(soup.findAll('div',{'class':'ag-cell-value ag-cell ag-cell-not-inline-editing ag-cell-normal-height fixed-height','col-id':'formattedPartNumber'}))\n",
    "    Position = list(soup.findAll('div',{'class':'ag-cell-value ag-cell ag-cell-not-inline-editing ag-cell-normal-height fixed-height','col-id':'position','aria-colindex':'7'}))\n",
    "    Description = list(soup.findAll('div',{'class':'ag-cell-value ag-cell ag-cell-not-inline-editing ag-cell-normal-height','col-id':'description'}))\n",
    "\n",
    "    CrossCatKeyX = []\n",
    "    for idx, x in enumerate(CrossCatKey):\n",
    "        gotX = x.findAll('suppress-value-renderer',{'class':'ng-star-inserted'})\n",
    "        if len(gotX)>0:\n",
    "            CrossCatKeyX.append(gotX[0].text)\n",
    "    FormattedPartNo = [x.text for x in FormattedPartNo]\n",
    "    Position = [x.text for x in Position]\n",
    "    Description = [x.text for x in Description]\n",
    "    dataTable = { 'FIG_KEY':CrossCatKeyX,\n",
    "                'PART_NO' :FormattedPartNo,\n",
    "                'POSITION':Position,\n",
    "                'DESCRIPTION':Description }\n",
    "    dataTable = pd.DataFrame(dataTable)\n",
    "    return(dataTable)\n"
   ]
  },
  {
   "cell_type": "code",
   "execution_count": 97,
   "metadata": {},
   "outputs": [
    {
     "name": "stdout",
     "output_type": "stream",
     "text": [
      "login ok\n",
      "Main Category : \n",
      "0 - ENGINE,EMISSION,ENGINE ELECTRICAL\n",
      "1 - FUEL TANK,COOLING,AIR INTAKE,EXHAUST SYSTEM\n",
      "2 - CLUTCH,TRANSMISSION,TRANS AXLE\n",
      "3 - BRAKE,BRAKES SYSTEM\n",
      "4 - PROPELLER SHAFT,AXLES,STEERING,SUSPENSION\n",
      "5 - FRAME,CAB MOUNTING\n",
      "6 - EXTERIOR BODY,GLASS MOUNTING,DOOR TRIM,MOLDING\n",
      "7 - INTERIOR TRIM,EMBLEMS,LABELS,SEATS,MIRRORS\n",
      "8 - CHASSIS ELECTRICAL,HEATING,AIR CONDITIONING,WIPERS,RADIO\n",
      "9 - TOOLS\n"
     ]
    }
   ],
   "source": [
    "VIN = 'MP1TFR86JEG007983'\n",
    "driver = webdriver.Chrome()\n",
    "driver.get('https://isuzu.snaponepc.com/epc/#/')\n",
    "xpath = \"/html/body/snapon-app/snapon-base/div/div/snapon-login/div[2]/div/form/div/div[2]/div[6]/input\"\n",
    "waitforLogin = CheckExist(xpath,10)\n",
    "if waitforLogin == 'ok':\n",
    "    print('login '+LoginSubmit())\n",
    "    VINSearch(VIN)\n",
    "    time.sleep(3)\n",
    "    print('Main Category : \\n'+ getMainCat())\n",
    "else:\n",
    "    print('timeout')\n"
   ]
  },
  {
   "cell_type": "code",
   "execution_count": 115,
   "metadata": {},
   "outputs": [
    {
     "name": "stderr",
     "output_type": "stream",
     "text": [
      "/var/folders/z3/9bpskt7j7tvfmp076hkrvm1h0000gn/T/ipykernel_81922/27207204.py:5: DeprecationWarning: The 'text' argument to find()-type methods is deprecated. Use 'string' instead.\n",
      "  element = soup.findAll('span', text=target_text)\n"
     ]
    }
   ],
   "source": [
    "TobeClick = '6 - EXTERIOR BODY,GLASS MOUNTING,DOOR TRIM,MOLDING'\n",
    "ClickOnCat(TobeClick)"
   ]
  },
  {
   "cell_type": "code",
   "execution_count": 145,
   "metadata": {},
   "outputs": [
    {
     "name": "stdout",
     "output_type": "stream",
     "text": [
      "6-01 - FRONT BUMPER\n",
      "6-03 - RADIATOR GRILLE\n",
      "6-05 - FRONT PANEL\n",
      "6-07 - FRONT WINDOW GLASS AND WEATHERSTRIP\n",
      "6-10 - ENGINE HOOD AND LOCK\n",
      "6-14 - DASH PANEL AND FENDER SKIRT\n",
      "6-20 - SIDE PANEL AND STEP\n",
      "6-30 - FRONT DOOR AND HINGE\n",
      "6-31 - FRONT DOOR GLASS AND REGULATOR\n",
      "6-32 - FRONT DOOR LOCK AND HANDLE\n",
      "6-35 - FRONT DOOR TRIM\n",
      "6-43 - SIDE TRIM\n",
      "6-45 - MOLDING AND STRIPE\n",
      "6-47 - MUD GUARD AND INSULATOR\n",
      "6-50 - REAR DOOR AND HINGE\n",
      "6-51 - REAR DOOR GLASS AND REGULATOR\n",
      "6-52 - REAR DOOR LOCK AND HANDLE\n",
      "6-55 - REAR DOOR TRIM\n",
      "6-60 - ROOF PANEL\n",
      "6-66 - HEAD LINING AND TRIM\n",
      "6-70 - FLOOR PANEL\n",
      "6-75 - MAT AND CARPET\n",
      "6-76 - FLOOR EQUIPMENT AND SEALING\n",
      "6-78 - FLOOR HOLE PLUG\n",
      "6-80 - BACK PANEL\n",
      "6-82 - BACK GLASS AND WEATHERSTRIP\n",
      "6-84 - BACK TRIM\n",
      "6-86 - TRUNK OPENER AND FUEL LID\n",
      "6-90 - REAR BUMPER\n"
     ]
    }
   ],
   "source": [
    "print(findSubCat())"
   ]
  },
  {
   "cell_type": "code",
   "execution_count": 279,
   "metadata": {},
   "outputs": [
    {
     "name": "stderr",
     "output_type": "stream",
     "text": [
      "/var/folders/z3/9bpskt7j7tvfmp076hkrvm1h0000gn/T/ipykernel_81922/27207204.py:5: DeprecationWarning: The 'text' argument to find()-type methods is deprecated. Use 'string' instead.\n",
      "  element = soup.findAll('span', text=target_text)\n"
     ]
    }
   ],
   "source": [
    "TobeClick = '6-90 - REAR BUMPER'\n",
    "ClickOnCat(TobeClick)"
   ]
  },
  {
   "cell_type": "code",
   "execution_count": 283,
   "metadata": {},
   "outputs": [
    {
     "data": {
      "text/html": [
       "<div>\n",
       "<style scoped>\n",
       "    .dataframe tbody tr th:only-of-type {\n",
       "        vertical-align: middle;\n",
       "    }\n",
       "\n",
       "    .dataframe tbody tr th {\n",
       "        vertical-align: top;\n",
       "    }\n",
       "\n",
       "    .dataframe thead th {\n",
       "        text-align: right;\n",
       "    }\n",
       "</style>\n",
       "<table border=\"1\" class=\"dataframe\">\n",
       "  <thead>\n",
       "    <tr style=\"text-align: right;\">\n",
       "      <th></th>\n",
       "      <th>FIG_KEY</th>\n",
       "      <th>PART_NO</th>\n",
       "      <th>POSITION</th>\n",
       "      <th>DESCRIPTION</th>\n",
       "    </tr>\n",
       "  </thead>\n",
       "  <tbody>\n",
       "    <tr>\n",
       "      <th>0</th>\n",
       "      <td>690-001(A)</td>\n",
       "      <td>8-98153-274-4</td>\n",
       "      <td></td>\n",
       "      <td>BUMPER; RR</td>\n",
       "    </tr>\n",
       "    <tr>\n",
       "      <th>1</th>\n",
       "      <td>690-002</td>\n",
       "      <td>8-98062-142-0</td>\n",
       "      <td></td>\n",
       "      <td>BOLT; BACK BAR</td>\n",
       "    </tr>\n",
       "    <tr>\n",
       "      <th>2</th>\n",
       "      <td>690-225</td>\n",
       "      <td>8-98102-359-2</td>\n",
       "      <td></td>\n",
       "      <td>PAD; STEP,RR BUMPER</td>\n",
       "    </tr>\n",
       "    <tr>\n",
       "      <th>3</th>\n",
       "      <td>690-349</td>\n",
       "      <td>8-98238-273-0</td>\n",
       "      <td>R</td>\n",
       "      <td>SHELL; RR BUMPER</td>\n",
       "    </tr>\n",
       "    <tr>\n",
       "      <th>4</th>\n",
       "      <td></td>\n",
       "      <td>8-98238-274-0</td>\n",
       "      <td>L</td>\n",
       "      <td></td>\n",
       "    </tr>\n",
       "  </tbody>\n",
       "</table>\n",
       "</div>"
      ],
      "text/plain": [
       "      FIG_KEY        PART_NO POSITION          DESCRIPTION\n",
       "0  690-001(A)  8-98153-274-4                    BUMPER; RR\n",
       "1     690-002  8-98062-142-0                BOLT; BACK BAR\n",
       "2     690-225  8-98102-359-2           PAD; STEP,RR BUMPER\n",
       "3     690-349  8-98238-273-0        R     SHELL; RR BUMPER\n",
       "4              8-98238-274-0        L                     "
      ]
     },
     "execution_count": 283,
     "metadata": {},
     "output_type": "execute_result"
    }
   ],
   "source": [
    "getTableResult()"
   ]
  }
 ],
 "metadata": {
  "kernelspec": {
   "display_name": "selenium",
   "language": "python",
   "name": "python3"
  },
  "language_info": {
   "codemirror_mode": {
    "name": "ipython",
    "version": 3
   },
   "file_extension": ".py",
   "mimetype": "text/x-python",
   "name": "python",
   "nbconvert_exporter": "python",
   "pygments_lexer": "ipython3",
   "version": "3.9.12"
  }
 },
 "nbformat": 4,
 "nbformat_minor": 2
}
