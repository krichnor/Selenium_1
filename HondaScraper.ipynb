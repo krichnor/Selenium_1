{
 "cells": [
  {
   "cell_type": "code",
   "execution_count": 498,
   "metadata": {},
   "outputs": [],
   "source": [
    "from selenium import webdriver\n",
    "from selenium.webdriver.support.ui import Select\n",
    "from selenium.webdriver.common.by import By\n",
    "from selenium.webdriver.common.keys import Keys\n",
    "import pandas as pd \n",
    "import bs4 as bs4\n",
    "import time\n",
    "from selenium.webdriver.support.ui import WebDriverWait\n",
    "from selenium.common.exceptions import TimeoutException\n",
    "from selenium.webdriver.support import expected_conditions as EC\n",
    "import urllib\n"
   ]
  },
  {
   "cell_type": "code",
   "execution_count": 620,
   "metadata": {},
   "outputs": [],
   "source": [
    "driver = webdriver.Chrome()\n",
    "driver.get('https://hatcepc.honda.co.th/epc/index.jsf')\n",
    "userInput = driver.find_element(By.ID,'loginForm:j_idt19')\n",
    "userInput.send_keys('AD009252')\n",
    "pwdInput = driver.find_element(By.ID,'loginForm:password1')\n",
    "pwdInput.send_keys('Nutty@012')\n",
    "pwdInput.send_keys(Keys.ENTER)"
   ]
  },
  {
   "cell_type": "code",
   "execution_count": 621,
   "metadata": {},
   "outputs": [],
   "source": [
    "driver.find_element(By.XPATH,'/html/body/div[1]/div/span/form/div[1]/div[3]').click()\n",
    "driver.find_element(By.XPATH,'/html/body/div[12]/div/ul/li[2]').click()\n",
    "driver.find_element(By.XPATH,'/html/body/div[2]/form[1]/ul/li[4]/span/div[1]/div[2]/ul/li[3]').click()"
   ]
  },
  {
   "cell_type": "code",
   "execution_count": 526,
   "metadata": {},
   "outputs": [],
   "source": [
    "PartList = ['01431SAET01','01432SAET01','01463S2A010','01463S87A01','01463SAA901','01463SHJA01',\n",
    "            '01464T0AA02','01464T9AT01','01464TF0010','01465S9A000']"
   ]
  },
  {
   "cell_type": "markdown",
   "metadata": {},
   "source": [
    "<font color='yellow' size=5>Change display items to 10</font>"
   ]
  },
  {
   "cell_type": "code",
   "execution_count": 555,
   "metadata": {},
   "outputs": [],
   "source": [
    "def ChangeDisplayItem():\n",
    "    data = driver.page_source\n",
    "    soup = bs4.BeautifulSoup(data)\n",
    "\n",
    "    #To Select 10 rows per page.\n",
    "    optionDisplay = soup.find_all('select')[3].find_all('option')\n",
    "    optionDisplay = [x.text for x in optionDisplay]\n",
    "    optionDisplay ='50' if '50' in optionDisplay else max(optionDisplay, key=int)\n",
    "    optionDisplay\n",
    "    dropdownMaxDisplay = driver.find_element(By.XPATH,'/html/body/div[2]/form[2]/div/fieldset/div/div/div[3]/select')\n",
    "    # Create a Select object\n",
    "    select = Select(dropdownMaxDisplay)\n",
    "    select.select_by_visible_text(optionDisplay)"
   ]
  },
  {
   "cell_type": "code",
   "execution_count": 625,
   "metadata": {},
   "outputs": [],
   "source": [
    "def wait_for_ajax(driver):\n",
    "    wait = WebDriverWait(driver, 10)\n",
    "    try:\n",
    "        wait.until(lambda driver: driver.execute_script('return jQuery.active') == 0)\n",
    "        wait.until(lambda driver: driver.execute_script('return document.readyState') == 'complete')\n",
    "    except Exception as e:\n",
    "        pass  # Handle the exception or pass\n",
    "\n"
   ]
  },
  {
   "cell_type": "code",
   "execution_count": 643,
   "metadata": {},
   "outputs": [],
   "source": [
    "def InputSearchBox(PartNo):        \n",
    "        wait = WebDriverWait(driver, 10)  # Adjust the timeout as needed\n",
    "        wait.until(EC.element_to_be_clickable((By.ID, 'searchValue')))\n",
    "        time.sleep(5) \n",
    "        driver.find_element(By.ID,'searchValue').clear()\n",
    "        driver.find_element(By.ID,'searchValue').send_keys(PartNo)\n",
    "        driver.find_element(By.ID,'searchValue').send_keys(Keys.ENTER)\n",
    "        print('input '+PartNo)"
   ]
  },
  {
   "cell_type": "code",
   "execution_count": 630,
   "metadata": {},
   "outputs": [],
   "source": [
    "def getModel(soup):\n",
    "    wait = WebDriverWait(driver, 30) \n",
    "    try:\n",
    "        wait.until(EC.presence_of_element_located((By.ID, 'searchResultPanel')))\n",
    "        MatchPartList = soup.find_all('tbody',{'id':'itemSearchTable_data'})[0].find_all('tr')\n",
    "        MatchPartList = pd.DataFrame([x.find_all('td')[0].text for x in MatchPartList] ,columns=['Part'])\n",
    "        MatchPartList['PartID'] = MatchPartList['Part'].apply(lambda x : x.split('(',1)[0].split(' - ')[0])\n",
    "        MatchPartList['CarModel'] = MatchPartList['Part'].apply(lambda x : x.split('(',1)[1].split(')')[0] )\n",
    "        MatchPartList['PartDescription'] = MatchPartList['Part'].apply(lambda x : x.split(')',1)[1])\n",
    "        MatchPartList = MatchPartList.loc[MatchPartList['CarModel'].apply(lambda x : x.find(' TH '))>=0]\n",
    "    except TimeoutException:\n",
    "        print(\"Timeout occurred! Performing alternative steps.\")\n",
    "    finally:\n",
    "        print('done'+str(len(MatchPartList)))\n",
    "    return(MatchPartList)"
   ]
  },
  {
   "cell_type": "code",
   "execution_count": 560,
   "metadata": {},
   "outputs": [],
   "source": [
    "def checkData(partCheck):\n",
    "    # Set your timeout period (in seconds)\n",
    "    timeout = 20\n",
    "    start_time = time.time()\n",
    "    partCheck = partCheck.strip()\n",
    "    \n",
    "    found = False\n",
    "    while True:\n",
    "        try:\n",
    "            data = driver.page_source\n",
    "            soup = bs4.BeautifulSoup(data)\n",
    "            # Attempt your operation\n",
    "            # First condition using BeautifulSoup\n",
    "            text_beautifulsoup = soup.find_all('tbody', {'id': 'itemSearchTable_data'})[0].find_all('tr')[0].find_all('td')[0].text.replace('-', '')\n",
    "            condition1 = partCheck in text_beautifulsoup\n",
    "\n",
    "            # Second condition using Selenium\n",
    "            text_selenium = driver.find_element(By.XPATH, '/html/body/div[2]/form[2]/div/fieldset/div/div/div[2]/table/tbody/tr').text\n",
    "            condition2 = text_selenium == 'ไม่พบรายการที่ตรงกัน ...'\n",
    "            result = condition1 or condition2\n",
    "            #print('selenium = '+text_selenium)\n",
    "            #print('soup='+text_beautifulsoup)\n",
    "            if result:\n",
    "                found = True\n",
    "                \n",
    "                if text_selenium == 'ไม่พบรายการที่ตรงกัน ...':\n",
    "                    print('empty row '+partCheck)\n",
    "                    time.sleep(1)\n",
    "                    return(condition2, condition1)\n",
    "                else:\n",
    "                    print(\"Found the desired text. \"+partCheck)\n",
    "                    return(condition2, condition1)\n",
    "                break\n",
    "        except IndexError:\n",
    "            print(\"Element not found in the structure. Retrying...\")\n",
    "        except AttributeError:\n",
    "            print(\"A 'find' method was called on a NoneType object. Retrying...\")\n",
    "\n",
    "        # Check if the timeout period has been exceeded\n",
    "        if time.time() - start_time > timeout:\n",
    "            print(\"Timeout reached.\")\n",
    "            return(False)\n",
    "            break\n",
    "\n",
    "        # Optional: add a short delay before retrying\n",
    "        print('retry '+partCheck )\n",
    "        #time.sleep(1)"
   ]
  },
  {
   "cell_type": "code",
   "execution_count": 511,
   "metadata": {},
   "outputs": [
    {
     "data": {
      "text/plain": [
       "['01431SAET01',\n",
       " '01432SAET01',\n",
       " '01463S2A010',\n",
       " '01463S87A01',\n",
       " '01463SAA901',\n",
       " '01463SHJA01',\n",
       " '01464T0AA02',\n",
       " '01464T9AT01',\n",
       " '01464TF0010',\n",
       " '01465S9A000']"
      ]
     },
     "execution_count": 511,
     "metadata": {},
     "output_type": "execute_result"
    }
   ],
   "source": [
    "PartList"
   ]
  },
  {
   "cell_type": "markdown",
   "metadata": {},
   "source": [
    "<font color='yellow' size=5>Simulate Running</font>"
   ]
  },
  {
   "cell_type": "code",
   "execution_count": 539,
   "metadata": {},
   "outputs": [
    {
     "name": "stdout",
     "output_type": "stream",
     "text": [
      "input 01431SAET01\n"
     ]
    }
   ],
   "source": [
    "InputSearchBox(PartList[0])"
   ]
  },
  {
   "cell_type": "code",
   "execution_count": 540,
   "metadata": {},
   "outputs": [
    {
     "name": "stdout",
     "output_type": "stream",
     "text": [
      "Found the desired text. 01431SAET01\n"
     ]
    },
    {
     "data": {
      "text/plain": [
       "(False, True)"
      ]
     },
     "execution_count": 540,
     "metadata": {},
     "output_type": "execute_result"
    }
   ],
   "source": [
    "checkData(PartList[0])"
   ]
  },
  {
   "cell_type": "code",
   "execution_count": 541,
   "metadata": {},
   "outputs": [],
   "source": [
    "ChangeDisplayItem()"
   ]
  },
  {
   "cell_type": "code",
   "execution_count": 542,
   "metadata": {},
   "outputs": [],
   "source": [
    "data = driver.page_source\n",
    "soup = bs4.BeautifulSoup(data)"
   ]
  },
  {
   "cell_type": "code",
   "execution_count": 543,
   "metadata": {},
   "outputs": [],
   "source": [
    "MatchPartList = soup.find_all('tbody',{'id':'itemSearchTable_data'})[0].find_all('tr')\n",
    "MatchPartList = pd.DataFrame([x.find_all('td')[0].text for x in MatchPartList] ,columns=['Part'])\n",
    "MatchPartList['PartID'] = MatchPartList['Part'].apply(lambda x : x.split('(',1)[0].split(' - ')[0])\n",
    "MatchPartList['CarModel'] = MatchPartList['Part'].apply(lambda x : x.split('(',1)[1].split(')')[0] )\n",
    "MatchPartList['PartDescription'] = MatchPartList['Part'].apply(lambda x : x.split(')',1)[1])\n",
    "MatchPartList.loc[MatchPartList['CarModel'].apply(lambda x : x.find(' TH '))>=0]"
   ]
  },
  {
   "cell_type": "code",
   "execution_count": 584,
   "metadata": {},
   "outputs": [
    {
     "name": "stdout",
     "output_type": "stream",
     "text": [
      "Page 1\n",
      "Page 2\n"
     ]
    }
   ],
   "source": [
    "data = driver.page_source\n",
    "soup = bs4.BeautifulSoup(data)\n",
    "nLoop = len(soup.find_all('span',{'class':'ui-paginator-pages'})[0].find_all('a'))\n",
    "for page in range(1, nLoop + 1):\n",
    "    print('Page '+str(page))\n",
    "#driver.find_element(By.XPATH,'/html/body/div[2]/form[2]/div/fieldset/div/div/div[3]/span[2]')\n"
   ]
  },
  {
   "cell_type": "code",
   "execution_count": 585,
   "metadata": {},
   "outputs": [],
   "source": [
    "def findNLoop():\n",
    "    data = driver.page_source\n",
    "    soup = bs4.BeautifulSoup(data)\n",
    "    nLoop = len(soup.find_all('span',{'class':'ui-paginator-pages'})[0].find_all('a'))\n",
    "    return(nLoop)"
   ]
  },
  {
   "cell_type": "code",
   "execution_count": 580,
   "metadata": {},
   "outputs": [
    {
     "data": {
      "text/plain": [
       "2"
      ]
     },
     "execution_count": 580,
     "metadata": {},
     "output_type": "execute_result"
    }
   ],
   "source": [
    "len(soup.find_all('span',{'class':'ui-paginator-pages'})[0].find_all('a'))"
   ]
  },
  {
   "cell_type": "code",
   "execution_count": 589,
   "metadata": {},
   "outputs": [],
   "source": [
    "driver.find_element(By.XPATH,'/html/body/div[2]/form[2]/div/fieldset/div/div/div[3]/a[3]/span').click()\n",
    "#driver.find_element(By.XPATH,'/html/body/div[2]/form[2]/div/fieldset/div/div/div[3]/a[3]/span').click()"
   ]
  },
  {
   "cell_type": "markdown",
   "metadata": {},
   "source": [
    "<font color='lightgreen' size=5>Run Looping</font>"
   ]
  },
  {
   "cell_type": "code",
   "execution_count": 646,
   "metadata": {},
   "outputs": [
    {
     "name": "stdout",
     "output_type": "stream",
     "text": [
      "input 01431SAET01\n",
      "Found the desired text. 01431SAET01\n",
      "first run\n",
      "Page 1FalseTrue\n",
      "done32\n",
      "Found the desired text. 01431SAET01\n",
      "Page 2FalseTrue\n",
      "done32\n",
      "input 01432SAET01\n",
      "retry 01432SAET01\n",
      "retry 01432SAET01\n",
      "retry 01432SAET01\n",
      "retry 01432SAET01\n",
      "retry 01432SAET01\n",
      "retry 01432SAET01\n",
      "Found the desired text. 01432SAET01\n",
      "Page 1FalseTrue\n",
      "done32\n",
      "Found the desired text. 01432SAET01\n",
      "Page 2FalseTrue\n",
      "done32\n",
      "input 01463S2A010\n",
      "retry 01463S2A010\n",
      "retry 01463S2A010\n",
      "retry 01463S2A010\n",
      "retry 01463S2A010\n",
      "retry 01463S2A010\n",
      "retry 01463S2A010\n",
      "retry 01463S2A010\n",
      "retry 01463S2A010\n",
      "retry 01463S2A010\n",
      "retry 01463S2A010\n",
      "retry 01463S2A010\n",
      "retry 01463S2A010\n",
      "retry 01463S2A010\n",
      "retry 01463S2A010\n",
      "Found the desired text. 01463S2A010\n",
      "Page 1FalseTrue\n",
      "done12\n",
      "Found the desired text. 01463S2A010\n",
      "Page 2FalseTrue\n",
      "done12\n",
      "Found the desired text. 01463S2A010\n",
      "Page 3FalseTrue\n",
      "done12\n",
      "Found the desired text. 01463S2A010\n",
      "Page 4FalseTrue\n",
      "done12\n",
      "Found the desired text. 01463S2A010\n",
      "Page 5FalseTrue\n",
      "done12\n",
      "Found the desired text. 01463S2A010\n",
      "Page 6FalseTrue\n",
      "done12\n",
      "Found the desired text. 01463S2A010\n",
      "Page 7FalseTrue\n",
      "done12\n",
      "Found the desired text. 01463S2A010\n",
      "Page 8FalseTrue\n",
      "done15\n",
      "Found the desired text. 01463S2A010\n",
      "Page 9FalseTrue\n",
      "done15\n",
      "Found the desired text. 01463S2A010\n",
      "Page 10FalseTrue\n",
      "done15\n",
      "input 01463S87A01\n",
      "retry 01463S87A01\n",
      "retry 01463S87A01\n",
      "retry 01463S87A01\n",
      "retry 01463S87A01\n",
      "retry 01463S87A01\n",
      "retry 01463S87A01\n",
      "retry 01463S87A01\n",
      "retry 01463S87A01\n",
      "retry 01463S87A01\n",
      "retry 01463S87A01\n",
      "retry 01463S87A01\n",
      "retry 01463S87A01\n",
      "retry 01463S87A01\n",
      "retry 01463S87A01\n",
      "retry 01463S87A01\n",
      "retry 01463S87A01\n",
      "Timeout reached.\n"
     ]
    },
    {
     "ename": "TypeError",
     "evalue": "cannot unpack non-iterable bool object",
     "output_type": "error",
     "traceback": [
      "\u001b[0;31m---------------------------------------------------------------------------\u001b[0m",
      "\u001b[0;31mTypeError\u001b[0m                                 Traceback (most recent call last)",
      "\u001b[1;32m/Users/krichnorakhun/Documents/Machine Learning/selenium/HondaScraper.ipynb Cell 23\u001b[0m line \u001b[0;36m7\n\u001b[1;32m      <a href='vscode-notebook-cell:/Users/krichnorakhun/Documents/Machine%20Learning/selenium/HondaScraper.ipynb#X61sZmlsZQ%3D%3D?line=3'>4</a>\u001b[0m InputSearchBox(partRunning)\n\u001b[1;32m      <a href='vscode-notebook-cell:/Users/krichnorakhun/Documents/Machine%20Learning/selenium/HondaScraper.ipynb#X61sZmlsZQ%3D%3D?line=4'>5</a>\u001b[0m \u001b[39m#time.sleep(5)\u001b[39;00m\n\u001b[0;32m----> <a href='vscode-notebook-cell:/Users/krichnorakhun/Documents/Machine%20Learning/selenium/HondaScraper.ipynb#X61sZmlsZQ%3D%3D?line=6'>7</a>\u001b[0m FoundNoUse, FoundModel \u001b[39m=\u001b[39m checkData(partRunning)\n\u001b[1;32m      <a href='vscode-notebook-cell:/Users/krichnorakhun/Documents/Machine%20Learning/selenium/HondaScraper.ipynb#X61sZmlsZQ%3D%3D?line=7'>8</a>\u001b[0m \u001b[39mif\u001b[39;00m FirstRun \u001b[39mand\u001b[39;00m FoundModel:        \n\u001b[1;32m      <a href='vscode-notebook-cell:/Users/krichnorakhun/Documents/Machine%20Learning/selenium/HondaScraper.ipynb#X61sZmlsZQ%3D%3D?line=8'>9</a>\u001b[0m     ChangeDisplayItem()\n",
      "\u001b[0;31mTypeError\u001b[0m: cannot unpack non-iterable bool object"
     ]
    }
   ],
   "source": [
    "ResultData = pd.DataFrame()\n",
    "FirstRun = True\n",
    "for partRunning in PartList[:10]:\n",
    "    InputSearchBox(partRunning)\n",
    "    #time.sleep(5)\n",
    "\n",
    "    FoundNoUse, FoundModel = checkData(partRunning)\n",
    "    if FirstRun and FoundModel:        \n",
    "        ChangeDisplayItem()\n",
    "        FirstRun=False\n",
    "        print('first run')\n",
    "\n",
    "    #Check number of pages to be click through.\n",
    "    nLoop = findNLoop()\n",
    "    for page in range(1, nLoop + 1):\n",
    "        print('Page '+str(page)+str(FoundNoUse)+str(FoundModel))\n",
    "        if FoundModel:\n",
    "            data = driver.page_source\n",
    "            soup = bs4.BeautifulSoup(data)\n",
    "            getModelList = getModel(soup)            \n",
    "        elif FoundNoUse:\n",
    "            getModelList = pd.DataFrame(columns=['Part', 'PartID', 'CarModel', 'PartDescription'])\n",
    "            getModelList.loc[0] = [None, partRunning, None, None]\n",
    "        else:\n",
    "            print('Timeout.....')\n",
    "        \n",
    "        ResultData = pd.concat([ ResultData, getModelList] , ignore_index=True)\n",
    "\n",
    "        #Click Next page\n",
    "        if page < nLoop:\n",
    "            wait = WebDriverWait(driver, 60)\n",
    "            wait.until(EC.visibility_of_element_located((By.CSS_SELECTOR, '.ui-paginator-next.ui-state-default.ui-corner-all')))\n",
    "            #wait.until(EC.visibility_of_element_located((By.CLASS_NAME, 'ui-icon ui-icon-seek-next')))\n",
    "            element_to_click = driver.find_element(By.XPATH, '/html/body/div[2]/form[2]/div/fieldset/div/div/div[3]/a[3]/span')\n",
    "            driver.execute_script(\"arguments[0].click();\", element_to_click)\n",
    "\n",
    "            #driver.find_element(By.XPATH,'/html/body/div[2]/form[2]/div/fieldset/div/div/div[3]/a[3]/span').click()\n",
    "            FoundNoUse, FoundModel = checkData(partRunning)        \n",
    "\n",
    "    next \n",
    "    #wait.until(EC.visibility_of_element_located((By.CSS_SELECTOR, '.ui-button-text ui-c')))   \n",
    "    #wait.until(EC.element_to_be_clickable((By.XPATH, '/html/body/div[2]/form[2]/div/fieldset/div/div/div[1]/button'))).click()\n",
    "    button = driver.find_element(By.XPATH, '/html/body/div[2]/form[2]/div/fieldset/div/div/div[1]/button')\n",
    "    driver.execute_script(\"arguments[0].click();\", button)\n",
    "    \n",
    "    #driver.find_element(By.XPATH,'/html/body/div[2]/form[2]/div/fieldset/div/div/div[1]/button').click()\n",
    "    \n",
    "    "
   ]
  },
  {
   "cell_type": "code",
   "execution_count": 634,
   "metadata": {},
   "outputs": [
    {
     "data": {
      "text/html": [
       "<div>\n",
       "<style scoped>\n",
       "    .dataframe tbody tr th:only-of-type {\n",
       "        vertical-align: middle;\n",
       "    }\n",
       "\n",
       "    .dataframe tbody tr th {\n",
       "        vertical-align: top;\n",
       "    }\n",
       "\n",
       "    .dataframe thead th {\n",
       "        text-align: right;\n",
       "    }\n",
       "</style>\n",
       "<table border=\"1\" class=\"dataframe\">\n",
       "  <thead>\n",
       "    <tr style=\"text-align: right;\">\n",
       "      <th></th>\n",
       "      <th>Part</th>\n",
       "      <th>PartID</th>\n",
       "      <th>CarModel</th>\n",
       "      <th>PartDescription</th>\n",
       "    </tr>\n",
       "  </thead>\n",
       "  <tbody>\n",
       "    <tr>\n",
       "      <th>0</th>\n",
       "      <td>01431-SAE-T01 - 18SAA4T1 ( JAZZ 5Dr 2007 TH - ...</td>\n",
       "      <td>01431-SAE-T01</td>\n",
       "      <td>JAZZ 5Dr 2007 TH - [ 5MT - S ]</td>\n",
       "      <td>B-19 - REAR BRAKE(DRUM)</td>\n",
       "    </tr>\n",
       "    <tr>\n",
       "      <th>1</th>\n",
       "      <td>01431-SAE-T01 - 18SAA4T1 ( JAZZ 5Dr 2007 TH - ...</td>\n",
       "      <td>01431-SAE-T01</td>\n",
       "      <td>JAZZ 5Dr 2007 TH - [ 5MT - S ]</td>\n",
       "      <td>B-19 - REAR BRAKE(DRUM)</td>\n",
       "    </tr>\n",
       "    <tr>\n",
       "      <th>2</th>\n",
       "      <td>01431-SAE-T01 - 18SAA4T1 ( JAZZ 5Dr 2007 TH - ...</td>\n",
       "      <td>01431-SAE-T01</td>\n",
       "      <td>JAZZ 5Dr 2007 TH - [ CVT - S ]</td>\n",
       "      <td>B-19 - REAR BRAKE(DRUM)</td>\n",
       "    </tr>\n",
       "    <tr>\n",
       "      <th>3</th>\n",
       "      <td>01431-SAE-T01 - 18SAA4T1 ( JAZZ 5Dr 2007 TH - ...</td>\n",
       "      <td>01431-SAE-T01</td>\n",
       "      <td>JAZZ 5Dr 2007 TH - [ CVT - S ]</td>\n",
       "      <td>B-19 - REAR BRAKE(DRUM)</td>\n",
       "    </tr>\n",
       "    <tr>\n",
       "      <th>4</th>\n",
       "      <td>01431-SAE-T01 - 18SAA4T1 ( JAZZ 5Dr 2007 TH - ...</td>\n",
       "      <td>01431-SAE-T01</td>\n",
       "      <td>JAZZ 5Dr 2007 TH - [ 5MT - S BEIGE ]</td>\n",
       "      <td>B-19 - REAR BRAKE(DRUM)</td>\n",
       "    </tr>\n",
       "    <tr>\n",
       "      <th>5</th>\n",
       "      <td>01431-SAE-T01 - 18SAA4T1 ( JAZZ 5Dr 2007 TH - ...</td>\n",
       "      <td>01431-SAE-T01</td>\n",
       "      <td>JAZZ 5Dr 2007 TH - [ 5MT - S BEIGE ]</td>\n",
       "      <td>B-19 - REAR BRAKE(DRUM)</td>\n",
       "    </tr>\n",
       "    <tr>\n",
       "      <th>6</th>\n",
       "      <td>01431-SAE-T01 - 18SAA4T1 ( JAZZ 5Dr 2007 TH - ...</td>\n",
       "      <td>01431-SAE-T01</td>\n",
       "      <td>JAZZ 5Dr 2007 TH - [ CVT - S BEIGE ]</td>\n",
       "      <td>B-19 - REAR BRAKE(DRUM)</td>\n",
       "    </tr>\n",
       "    <tr>\n",
       "      <th>7</th>\n",
       "      <td>01431-SAE-T01 - 18SAA4T1 ( JAZZ 5Dr 2007 TH - ...</td>\n",
       "      <td>01431-SAE-T01</td>\n",
       "      <td>JAZZ 5Dr 2007 TH - [ CVT - S BEIGE ]</td>\n",
       "      <td>B-19 - REAR BRAKE(DRUM)</td>\n",
       "    </tr>\n",
       "    <tr>\n",
       "      <th>8</th>\n",
       "      <td>01431-SAE-T01 - 18SAA4T1 ( JAZZ 5Dr 2006 TH - ...</td>\n",
       "      <td>01431-SAE-T01</td>\n",
       "      <td>JAZZ 5Dr 2006 TH - [ 5MT - S ]</td>\n",
       "      <td>B-19 - REAR BRAKE(DRUM)</td>\n",
       "    </tr>\n",
       "    <tr>\n",
       "      <th>9</th>\n",
       "      <td>01431-SAE-T01 - 18SAA4T1 ( JAZZ 5Dr 2006 TH - ...</td>\n",
       "      <td>01431-SAE-T01</td>\n",
       "      <td>JAZZ 5Dr 2006 TH - [ 5MT - S ]</td>\n",
       "      <td>B-19 - REAR BRAKE(DRUM)</td>\n",
       "    </tr>\n",
       "    <tr>\n",
       "      <th>10</th>\n",
       "      <td>01431-SAE-T01 - 18SAA4T1 ( JAZZ 5Dr 2006 TH - ...</td>\n",
       "      <td>01431-SAE-T01</td>\n",
       "      <td>JAZZ 5Dr 2006 TH - [ CVT - S ]</td>\n",
       "      <td>B-19 - REAR BRAKE(DRUM)</td>\n",
       "    </tr>\n",
       "    <tr>\n",
       "      <th>11</th>\n",
       "      <td>01431-SAE-T01 - 18SAA4T1 ( JAZZ 5Dr 2006 TH - ...</td>\n",
       "      <td>01431-SAE-T01</td>\n",
       "      <td>JAZZ 5Dr 2006 TH - [ CVT - S ]</td>\n",
       "      <td>B-19 - REAR BRAKE(DRUM)</td>\n",
       "    </tr>\n",
       "    <tr>\n",
       "      <th>12</th>\n",
       "      <td>01431-SAE-T01 - 18SAA4T1 ( JAZZ 5Dr 2006 TH - ...</td>\n",
       "      <td>01431-SAE-T01</td>\n",
       "      <td>JAZZ 5Dr 2006 TH - [ 5MT - S BEIGE ]</td>\n",
       "      <td>B-19 - REAR BRAKE(DRUM)</td>\n",
       "    </tr>\n",
       "    <tr>\n",
       "      <th>13</th>\n",
       "      <td>01431-SAE-T01 - 18SAA4T1 ( JAZZ 5Dr 2006 TH - ...</td>\n",
       "      <td>01431-SAE-T01</td>\n",
       "      <td>JAZZ 5Dr 2006 TH - [ 5MT - S BEIGE ]</td>\n",
       "      <td>B-19 - REAR BRAKE(DRUM)</td>\n",
       "    </tr>\n",
       "    <tr>\n",
       "      <th>14</th>\n",
       "      <td>01431-SAE-T01 - 18SAA4T1 ( JAZZ 5Dr 2006 TH - ...</td>\n",
       "      <td>01431-SAE-T01</td>\n",
       "      <td>JAZZ 5Dr 2006 TH - [ CVT - S BEIGE ]</td>\n",
       "      <td>B-19 - REAR BRAKE(DRUM)</td>\n",
       "    </tr>\n",
       "    <tr>\n",
       "      <th>15</th>\n",
       "      <td>01431-SAE-T01 - 18SAA4T1 ( JAZZ 5Dr 2006 TH - ...</td>\n",
       "      <td>01431-SAE-T01</td>\n",
       "      <td>JAZZ 5Dr 2006 TH - [ CVT - S BEIGE ]</td>\n",
       "      <td>B-19 - REAR BRAKE(DRUM)</td>\n",
       "    </tr>\n",
       "    <tr>\n",
       "      <th>16</th>\n",
       "      <td>01431-SAE-T01 - 18SAA4T1 ( JAZZ 5Dr 2005 TH - ...</td>\n",
       "      <td>01431-SAE-T01</td>\n",
       "      <td>JAZZ 5Dr 2005 TH - [ 5MT - A ]</td>\n",
       "      <td>B-19 - REAR BRAKE(DRUM)</td>\n",
       "    </tr>\n",
       "    <tr>\n",
       "      <th>17</th>\n",
       "      <td>01431-SAE-T01 - 18SAA4T1 ( JAZZ 5Dr 2005 TH - ...</td>\n",
       "      <td>01431-SAE-T01</td>\n",
       "      <td>JAZZ 5Dr 2005 TH - [ 5MT - A ]</td>\n",
       "      <td>B-19 - REAR BRAKE(DRUM)</td>\n",
       "    </tr>\n",
       "    <tr>\n",
       "      <th>18</th>\n",
       "      <td>01431-SAE-T01 - 18SAA4T1 ( JAZZ 5Dr 2005 TH - ...</td>\n",
       "      <td>01431-SAE-T01</td>\n",
       "      <td>JAZZ 5Dr 2005 TH - [ CVT - A ]</td>\n",
       "      <td>B-19 - REAR BRAKE(DRUM)</td>\n",
       "    </tr>\n",
       "    <tr>\n",
       "      <th>19</th>\n",
       "      <td>01431-SAE-T01 - 18SAA4T1 ( JAZZ 5Dr 2005 TH - ...</td>\n",
       "      <td>01431-SAE-T01</td>\n",
       "      <td>JAZZ 5Dr 2005 TH - [ CVT - A ]</td>\n",
       "      <td>B-19 - REAR BRAKE(DRUM)</td>\n",
       "    </tr>\n",
       "    <tr>\n",
       "      <th>20</th>\n",
       "      <td>01431-SAE-T01 - 18SAA4T1 ( JAZZ 5Dr 2005 TH - ...</td>\n",
       "      <td>01431-SAE-T01</td>\n",
       "      <td>JAZZ 5Dr 2005 TH - [ 5MT - S ]</td>\n",
       "      <td>B-19 - REAR BRAKE(DRUM)</td>\n",
       "    </tr>\n",
       "    <tr>\n",
       "      <th>21</th>\n",
       "      <td>01431-SAE-T01 - 18SAA4T1 ( JAZZ 5Dr 2005 TH - ...</td>\n",
       "      <td>01431-SAE-T01</td>\n",
       "      <td>JAZZ 5Dr 2005 TH - [ 5MT - S ]</td>\n",
       "      <td>B-19 - REAR BRAKE(DRUM)</td>\n",
       "    </tr>\n",
       "    <tr>\n",
       "      <th>22</th>\n",
       "      <td>01431-SAE-T01 - 18SAA4T1 ( JAZZ 5Dr 2005 TH - ...</td>\n",
       "      <td>01431-SAE-T01</td>\n",
       "      <td>JAZZ 5Dr 2005 TH - [ CVT - S ]</td>\n",
       "      <td>B-19 - REAR BRAKE(DRUM)</td>\n",
       "    </tr>\n",
       "    <tr>\n",
       "      <th>23</th>\n",
       "      <td>01431-SAE-T01 - 18SAA4T1 ( JAZZ 5Dr 2005 TH - ...</td>\n",
       "      <td>01431-SAE-T01</td>\n",
       "      <td>JAZZ 5Dr 2005 TH - [ CVT - S ]</td>\n",
       "      <td>B-19 - REAR BRAKE(DRUM)</td>\n",
       "    </tr>\n",
       "    <tr>\n",
       "      <th>24</th>\n",
       "      <td>01431-SAE-T01 - 18SAA4T1 ( JAZZ 5Dr 2004 TH - ...</td>\n",
       "      <td>01431-SAE-T01</td>\n",
       "      <td>JAZZ 5Dr 2004 TH - [ 5MT - A ]</td>\n",
       "      <td>B-19 - REAR BRAKE(DRUM)</td>\n",
       "    </tr>\n",
       "    <tr>\n",
       "      <th>25</th>\n",
       "      <td>01431-SAE-T01 - 18SAA4T1 ( JAZZ 5Dr 2004 TH - ...</td>\n",
       "      <td>01431-SAE-T01</td>\n",
       "      <td>JAZZ 5Dr 2004 TH - [ 5MT - A ]</td>\n",
       "      <td>B-19 - REAR BRAKE(DRUM)</td>\n",
       "    </tr>\n",
       "    <tr>\n",
       "      <th>26</th>\n",
       "      <td>01431-SAE-T01 - 18SAA4T1 ( JAZZ 5Dr 2004 TH - ...</td>\n",
       "      <td>01431-SAE-T01</td>\n",
       "      <td>JAZZ 5Dr 2004 TH - [ CVT - A ]</td>\n",
       "      <td>B-19 - REAR BRAKE(DRUM)</td>\n",
       "    </tr>\n",
       "    <tr>\n",
       "      <th>27</th>\n",
       "      <td>01431-SAE-T01 - 18SAA4T1 ( JAZZ 5Dr 2004 TH - ...</td>\n",
       "      <td>01431-SAE-T01</td>\n",
       "      <td>JAZZ 5Dr 2004 TH - [ CVT - A ]</td>\n",
       "      <td>B-19 - REAR BRAKE(DRUM)</td>\n",
       "    </tr>\n",
       "    <tr>\n",
       "      <th>28</th>\n",
       "      <td>01431-SAE-T01 - 18SAA4T1 ( JAZZ 5Dr 2004 TH - ...</td>\n",
       "      <td>01431-SAE-T01</td>\n",
       "      <td>JAZZ 5Dr 2004 TH - [ 5MT - S ]</td>\n",
       "      <td>B-19 - REAR BRAKE(DRUM)</td>\n",
       "    </tr>\n",
       "    <tr>\n",
       "      <th>29</th>\n",
       "      <td>01431-SAE-T01 - 18SAA4T1 ( JAZZ 5Dr 2004 TH - ...</td>\n",
       "      <td>01431-SAE-T01</td>\n",
       "      <td>JAZZ 5Dr 2004 TH - [ 5MT - S ]</td>\n",
       "      <td>B-19 - REAR BRAKE(DRUM)</td>\n",
       "    </tr>\n",
       "    <tr>\n",
       "      <th>30</th>\n",
       "      <td>01431-SAE-T01 - 18SAA4T1 ( JAZZ 5Dr 2004 TH - ...</td>\n",
       "      <td>01431-SAE-T01</td>\n",
       "      <td>JAZZ 5Dr 2004 TH - [ CVT - S ]</td>\n",
       "      <td>B-19 - REAR BRAKE(DRUM)</td>\n",
       "    </tr>\n",
       "    <tr>\n",
       "      <th>31</th>\n",
       "      <td>01431-SAE-T01 - 18SAA4T1 ( JAZZ 5Dr 2004 TH - ...</td>\n",
       "      <td>01431-SAE-T01</td>\n",
       "      <td>JAZZ 5Dr 2004 TH - [ CVT - S ]</td>\n",
       "      <td>B-19 - REAR BRAKE(DRUM)</td>\n",
       "    </tr>\n",
       "  </tbody>\n",
       "</table>\n",
       "</div>"
      ],
      "text/plain": [
       "                                                 Part         PartID  \\\n",
       "0   01431-SAE-T01 - 18SAA4T1 ( JAZZ 5Dr 2007 TH - ...  01431-SAE-T01   \n",
       "1   01431-SAE-T01 - 18SAA4T1 ( JAZZ 5Dr 2007 TH - ...  01431-SAE-T01   \n",
       "2   01431-SAE-T01 - 18SAA4T1 ( JAZZ 5Dr 2007 TH - ...  01431-SAE-T01   \n",
       "3   01431-SAE-T01 - 18SAA4T1 ( JAZZ 5Dr 2007 TH - ...  01431-SAE-T01   \n",
       "4   01431-SAE-T01 - 18SAA4T1 ( JAZZ 5Dr 2007 TH - ...  01431-SAE-T01   \n",
       "5   01431-SAE-T01 - 18SAA4T1 ( JAZZ 5Dr 2007 TH - ...  01431-SAE-T01   \n",
       "6   01431-SAE-T01 - 18SAA4T1 ( JAZZ 5Dr 2007 TH - ...  01431-SAE-T01   \n",
       "7   01431-SAE-T01 - 18SAA4T1 ( JAZZ 5Dr 2007 TH - ...  01431-SAE-T01   \n",
       "8   01431-SAE-T01 - 18SAA4T1 ( JAZZ 5Dr 2006 TH - ...  01431-SAE-T01   \n",
       "9   01431-SAE-T01 - 18SAA4T1 ( JAZZ 5Dr 2006 TH - ...  01431-SAE-T01   \n",
       "10  01431-SAE-T01 - 18SAA4T1 ( JAZZ 5Dr 2006 TH - ...  01431-SAE-T01   \n",
       "11  01431-SAE-T01 - 18SAA4T1 ( JAZZ 5Dr 2006 TH - ...  01431-SAE-T01   \n",
       "12  01431-SAE-T01 - 18SAA4T1 ( JAZZ 5Dr 2006 TH - ...  01431-SAE-T01   \n",
       "13  01431-SAE-T01 - 18SAA4T1 ( JAZZ 5Dr 2006 TH - ...  01431-SAE-T01   \n",
       "14  01431-SAE-T01 - 18SAA4T1 ( JAZZ 5Dr 2006 TH - ...  01431-SAE-T01   \n",
       "15  01431-SAE-T01 - 18SAA4T1 ( JAZZ 5Dr 2006 TH - ...  01431-SAE-T01   \n",
       "16  01431-SAE-T01 - 18SAA4T1 ( JAZZ 5Dr 2005 TH - ...  01431-SAE-T01   \n",
       "17  01431-SAE-T01 - 18SAA4T1 ( JAZZ 5Dr 2005 TH - ...  01431-SAE-T01   \n",
       "18  01431-SAE-T01 - 18SAA4T1 ( JAZZ 5Dr 2005 TH - ...  01431-SAE-T01   \n",
       "19  01431-SAE-T01 - 18SAA4T1 ( JAZZ 5Dr 2005 TH - ...  01431-SAE-T01   \n",
       "20  01431-SAE-T01 - 18SAA4T1 ( JAZZ 5Dr 2005 TH - ...  01431-SAE-T01   \n",
       "21  01431-SAE-T01 - 18SAA4T1 ( JAZZ 5Dr 2005 TH - ...  01431-SAE-T01   \n",
       "22  01431-SAE-T01 - 18SAA4T1 ( JAZZ 5Dr 2005 TH - ...  01431-SAE-T01   \n",
       "23  01431-SAE-T01 - 18SAA4T1 ( JAZZ 5Dr 2005 TH - ...  01431-SAE-T01   \n",
       "24  01431-SAE-T01 - 18SAA4T1 ( JAZZ 5Dr 2004 TH - ...  01431-SAE-T01   \n",
       "25  01431-SAE-T01 - 18SAA4T1 ( JAZZ 5Dr 2004 TH - ...  01431-SAE-T01   \n",
       "26  01431-SAE-T01 - 18SAA4T1 ( JAZZ 5Dr 2004 TH - ...  01431-SAE-T01   \n",
       "27  01431-SAE-T01 - 18SAA4T1 ( JAZZ 5Dr 2004 TH - ...  01431-SAE-T01   \n",
       "28  01431-SAE-T01 - 18SAA4T1 ( JAZZ 5Dr 2004 TH - ...  01431-SAE-T01   \n",
       "29  01431-SAE-T01 - 18SAA4T1 ( JAZZ 5Dr 2004 TH - ...  01431-SAE-T01   \n",
       "30  01431-SAE-T01 - 18SAA4T1 ( JAZZ 5Dr 2004 TH - ...  01431-SAE-T01   \n",
       "31  01431-SAE-T01 - 18SAA4T1 ( JAZZ 5Dr 2004 TH - ...  01431-SAE-T01   \n",
       "\n",
       "                                  CarModel          PartDescription  \n",
       "0          JAZZ 5Dr 2007 TH - [ 5MT - S ]   B-19 - REAR BRAKE(DRUM)  \n",
       "1          JAZZ 5Dr 2007 TH - [ 5MT - S ]   B-19 - REAR BRAKE(DRUM)  \n",
       "2          JAZZ 5Dr 2007 TH - [ CVT - S ]   B-19 - REAR BRAKE(DRUM)  \n",
       "3          JAZZ 5Dr 2007 TH - [ CVT - S ]   B-19 - REAR BRAKE(DRUM)  \n",
       "4    JAZZ 5Dr 2007 TH - [ 5MT - S BEIGE ]   B-19 - REAR BRAKE(DRUM)  \n",
       "5    JAZZ 5Dr 2007 TH - [ 5MT - S BEIGE ]   B-19 - REAR BRAKE(DRUM)  \n",
       "6    JAZZ 5Dr 2007 TH - [ CVT - S BEIGE ]   B-19 - REAR BRAKE(DRUM)  \n",
       "7    JAZZ 5Dr 2007 TH - [ CVT - S BEIGE ]   B-19 - REAR BRAKE(DRUM)  \n",
       "8          JAZZ 5Dr 2006 TH - [ 5MT - S ]   B-19 - REAR BRAKE(DRUM)  \n",
       "9          JAZZ 5Dr 2006 TH - [ 5MT - S ]   B-19 - REAR BRAKE(DRUM)  \n",
       "10         JAZZ 5Dr 2006 TH - [ CVT - S ]   B-19 - REAR BRAKE(DRUM)  \n",
       "11         JAZZ 5Dr 2006 TH - [ CVT - S ]   B-19 - REAR BRAKE(DRUM)  \n",
       "12   JAZZ 5Dr 2006 TH - [ 5MT - S BEIGE ]   B-19 - REAR BRAKE(DRUM)  \n",
       "13   JAZZ 5Dr 2006 TH - [ 5MT - S BEIGE ]   B-19 - REAR BRAKE(DRUM)  \n",
       "14   JAZZ 5Dr 2006 TH - [ CVT - S BEIGE ]   B-19 - REAR BRAKE(DRUM)  \n",
       "15   JAZZ 5Dr 2006 TH - [ CVT - S BEIGE ]   B-19 - REAR BRAKE(DRUM)  \n",
       "16         JAZZ 5Dr 2005 TH - [ 5MT - A ]   B-19 - REAR BRAKE(DRUM)  \n",
       "17         JAZZ 5Dr 2005 TH - [ 5MT - A ]   B-19 - REAR BRAKE(DRUM)  \n",
       "18         JAZZ 5Dr 2005 TH - [ CVT - A ]   B-19 - REAR BRAKE(DRUM)  \n",
       "19         JAZZ 5Dr 2005 TH - [ CVT - A ]   B-19 - REAR BRAKE(DRUM)  \n",
       "20         JAZZ 5Dr 2005 TH - [ 5MT - S ]   B-19 - REAR BRAKE(DRUM)  \n",
       "21         JAZZ 5Dr 2005 TH - [ 5MT - S ]   B-19 - REAR BRAKE(DRUM)  \n",
       "22         JAZZ 5Dr 2005 TH - [ CVT - S ]   B-19 - REAR BRAKE(DRUM)  \n",
       "23         JAZZ 5Dr 2005 TH - [ CVT - S ]   B-19 - REAR BRAKE(DRUM)  \n",
       "24         JAZZ 5Dr 2004 TH - [ 5MT - A ]   B-19 - REAR BRAKE(DRUM)  \n",
       "25         JAZZ 5Dr 2004 TH - [ 5MT - A ]   B-19 - REAR BRAKE(DRUM)  \n",
       "26         JAZZ 5Dr 2004 TH - [ CVT - A ]   B-19 - REAR BRAKE(DRUM)  \n",
       "27         JAZZ 5Dr 2004 TH - [ CVT - A ]   B-19 - REAR BRAKE(DRUM)  \n",
       "28         JAZZ 5Dr 2004 TH - [ 5MT - S ]   B-19 - REAR BRAKE(DRUM)  \n",
       "29         JAZZ 5Dr 2004 TH - [ 5MT - S ]   B-19 - REAR BRAKE(DRUM)  \n",
       "30         JAZZ 5Dr 2004 TH - [ CVT - S ]   B-19 - REAR BRAKE(DRUM)  \n",
       "31         JAZZ 5Dr 2004 TH - [ CVT - S ]   B-19 - REAR BRAKE(DRUM)  "
      ]
     },
     "execution_count": 634,
     "metadata": {},
     "output_type": "execute_result"
    }
   ],
   "source": [
    "ResultData"
   ]
  },
  {
   "cell_type": "code",
   "execution_count": 563,
   "metadata": {},
   "outputs": [
    {
     "data": {
      "text/html": [
       "<div>\n",
       "<style scoped>\n",
       "    .dataframe tbody tr th:only-of-type {\n",
       "        vertical-align: middle;\n",
       "    }\n",
       "\n",
       "    .dataframe tbody tr th {\n",
       "        vertical-align: top;\n",
       "    }\n",
       "\n",
       "    .dataframe thead th {\n",
       "        text-align: right;\n",
       "    }\n",
       "</style>\n",
       "<table border=\"1\" class=\"dataframe\">\n",
       "  <thead>\n",
       "    <tr style=\"text-align: right;\">\n",
       "      <th></th>\n",
       "      <th>PartID</th>\n",
       "      <th>CarModel</th>\n",
       "      <th>PartDescription</th>\n",
       "    </tr>\n",
       "  </thead>\n",
       "  <tbody>\n",
       "    <tr>\n",
       "      <th>0</th>\n",
       "      <td>01431-SAE-T01</td>\n",
       "      <td>JAZZ 5Dr 2007 TH - [ 5MT - S ]</td>\n",
       "      <td>B-19 - REAR BRAKE(DRUM)</td>\n",
       "    </tr>\n",
       "    <tr>\n",
       "      <th>50</th>\n",
       "      <td>01432-SAE-T01</td>\n",
       "      <td>JAZZ 5Dr 2007 TH - [ 5MT - S ]</td>\n",
       "      <td>B-19 - REAR BRAKE(DRUM)</td>\n",
       "    </tr>\n",
       "    <tr>\n",
       "      <th>100</th>\n",
       "      <td>01463-S2A-010</td>\n",
       "      <td>CITY 4Dr 2019 FO - [ CVT - VTI-S ]</td>\n",
       "      <td>B-22 - FRONT BRAKE</td>\n",
       "    </tr>\n",
       "    <tr>\n",
       "      <th>150</th>\n",
       "      <td>01463S87A01</td>\n",
       "      <td>None</td>\n",
       "      <td>None</td>\n",
       "    </tr>\n",
       "    <tr>\n",
       "      <th>151</th>\n",
       "      <td>01463-SAA-901</td>\n",
       "      <td>BRIO 5Dr 2021 PH - [ 5MT - S ]</td>\n",
       "      <td>B-22 - FRONT BRAKE</td>\n",
       "    </tr>\n",
       "    <tr>\n",
       "      <th>201</th>\n",
       "      <td>01463SHJA01</td>\n",
       "      <td>None</td>\n",
       "      <td>None</td>\n",
       "    </tr>\n",
       "    <tr>\n",
       "      <th>202</th>\n",
       "      <td>01464-T0A-A02</td>\n",
       "      <td>CR-V 5Dr 2014 KU - [ 5AT - 24RVSI ]</td>\n",
       "      <td>B-25-21 - BRAKE LINES(2.0L)(2.4L)(V SA)(RH)</td>\n",
       "    </tr>\n",
       "    <tr>\n",
       "      <th>252</th>\n",
       "      <td>01464-T9A-T01</td>\n",
       "      <td>CITY 4Dr 2019 FO - [ CVT - VTI-S ]</td>\n",
       "      <td>B-25-21 - BRAKE LINES(VSA)(LH)</td>\n",
       "    </tr>\n",
       "    <tr>\n",
       "      <th>302</th>\n",
       "      <td>01464-TF0-010</td>\n",
       "      <td>JAZZ 5Dr 2014 KQ - [ 5MT - 1.3LX ]</td>\n",
       "      <td>B-25-20 - BRAKE PIPE/HOSE(VSA)</td>\n",
       "    </tr>\n",
       "    <tr>\n",
       "      <th>352</th>\n",
       "      <td>01465-S9A-000</td>\n",
       "      <td>CR-V 5Dr 2002 TH - [ 4AT - RVI ]</td>\n",
       "      <td>B-25-10 - BRAKE LINES (ABS)</td>\n",
       "    </tr>\n",
       "  </tbody>\n",
       "</table>\n",
       "</div>"
      ],
      "text/plain": [
       "            PartID                               CarModel  \\\n",
       "0    01431-SAE-T01        JAZZ 5Dr 2007 TH - [ 5MT - S ]    \n",
       "50   01432-SAE-T01        JAZZ 5Dr 2007 TH - [ 5MT - S ]    \n",
       "100  01463-S2A-010    CITY 4Dr 2019 FO - [ CVT - VTI-S ]    \n",
       "150    01463S87A01                                   None   \n",
       "151  01463-SAA-901        BRIO 5Dr 2021 PH - [ 5MT - S ]    \n",
       "201    01463SHJA01                                   None   \n",
       "202  01464-T0A-A02   CR-V 5Dr 2014 KU - [ 5AT - 24RVSI ]    \n",
       "252  01464-T9A-T01    CITY 4Dr 2019 FO - [ CVT - VTI-S ]    \n",
       "302  01464-TF0-010    JAZZ 5Dr 2014 KQ - [ 5MT - 1.3LX ]    \n",
       "352  01465-S9A-000      CR-V 5Dr 2002 TH - [ 4AT - RVI ]    \n",
       "\n",
       "                                 PartDescription  \n",
       "0                        B-19 - REAR BRAKE(DRUM)  \n",
       "50                       B-19 - REAR BRAKE(DRUM)  \n",
       "100                           B-22 - FRONT BRAKE  \n",
       "150                                         None  \n",
       "151                           B-22 - FRONT BRAKE  \n",
       "201                                         None  \n",
       "202  B-25-21 - BRAKE LINES(2.0L)(2.4L)(V SA)(RH)  \n",
       "252               B-25-21 - BRAKE LINES(VSA)(LH)  \n",
       "302               B-25-20 - BRAKE PIPE/HOSE(VSA)  \n",
       "352                  B-25-10 - BRAKE LINES (ABS)  "
      ]
     },
     "execution_count": 563,
     "metadata": {},
     "output_type": "execute_result"
    }
   ],
   "source": [
    "ResultData[['PartID','CarModel','PartDescription']].drop_duplicates(subset=['PartID'])"
   ]
  },
  {
   "cell_type": "code",
   "execution_count": 363,
   "metadata": {},
   "outputs": [
    {
     "name": "stdout",
     "output_type": "stream",
     "text": [
      "Found the desired text.\n"
     ]
    }
   ],
   "source": [
    "# Set your timeout period (in seconds)\n",
    "timeout = 10\n",
    "start_time = time.time()\n",
    "\n",
    "found = False\n",
    "while True:\n",
    "    try:\n",
    "        # Attempt your operation\n",
    "        result = soup.find_all('tbody', {'id': 'itemSearchTable_data'})[0].find_all('tr')[0].find_all('td')[0].text.replace('-', '').find('01465S9A000') >= 0\n",
    "        if result:\n",
    "            found = True\n",
    "            print(\"Found the desired text.\")\n",
    "            break\n",
    "    except IndexError:\n",
    "        print(\"Element not found in the structure. Retrying...\")\n",
    "    except AttributeError:\n",
    "        print(\"A 'find' method was called on a NoneType object. Retrying...\")\n",
    "\n",
    "    # Check if the timeout period has been exceeded\n",
    "    if time.time() - start_time > timeout:\n",
    "        print(\"Timeout reached.\")\n",
    "        break\n",
    "\n",
    "    # Optional: add a short delay before retrying\n",
    "    time.sleep(1)"
   ]
  },
  {
   "cell_type": "code",
   "execution_count": 366,
   "metadata": {},
   "outputs": [
    {
     "data": {
      "text/plain": [
       "'01465S9A000'"
      ]
     },
     "execution_count": 366,
     "metadata": {},
     "output_type": "execute_result"
    }
   ],
   "source": [
    "partRunning"
   ]
  },
  {
   "cell_type": "code",
   "execution_count": 372,
   "metadata": {},
   "outputs": [
    {
     "name": "stdout",
     "output_type": "stream",
     "text": [
      "Found the desired text.\n"
     ]
    },
    {
     "data": {
      "text/plain": [
       "True"
      ]
     },
     "execution_count": 372,
     "metadata": {},
     "output_type": "execute_result"
    }
   ],
   "source": [
    "checkData('01465S9A000')"
   ]
  },
  {
   "cell_type": "code",
   "execution_count": 217,
   "metadata": {},
   "outputs": [],
   "source": [
    "driver.find_element(By.ID,'searchValue').send_keys(PartList[0])\n",
    "driver.find_element(By.ID,'searchValue').send_keys(Keys.ENTER)"
   ]
  },
  {
   "cell_type": "code",
   "execution_count": null,
   "metadata": {},
   "outputs": [],
   "source": [
    "ChangeDisplayItem()"
   ]
  },
  {
   "cell_type": "code",
   "execution_count": 242,
   "metadata": {},
   "outputs": [],
   "source": [
    "data = driver.page_source\n",
    "soup = bs4.BeautifulSoup(data)"
   ]
  },
  {
   "cell_type": "code",
   "execution_count": 258,
   "metadata": {},
   "outputs": [],
   "source": [
    "MatchPartList = soup.find_all('tbody',{'id':'itemSearchTable_data'})[0].find_all('tr')\n",
    "MatchPartList = pd.DataFrame(([x.find_all('td')[0].text for x in MatchPartList]) ,columns=['Part'])\n",
    "MatchPartList['PartID'] = MatchPartList['Part'].apply(lambda x : x.split('(',1)[0].split(' - ')[0])\n",
    "MatchPartList['CarModel'] = MatchPartList['Part'].apply(lambda x : x.split('(',1)[1].split(')')[0] )\n",
    "MatchPartList['PartDescription'] = MatchPartList['Part'].apply(lambda x : x.split(')',1)[1])"
   ]
  },
  {
   "cell_type": "code",
   "execution_count": 249,
   "metadata": {},
   "outputs": [],
   "source": [
    "MatchPartList = soup.find_all('tbody',{'id':'itemSearchTable_data'})[0].find_all('tr')\n",
    "MatchPartList = pd.DataFrame(list(set([x.find_all('td')[0].text for x in MatchPartList])) ,columns=['Part'])"
   ]
  },
  {
   "cell_type": "code",
   "execution_count": 256,
   "metadata": {},
   "outputs": [],
   "source": [
    "MatchPartList = soup.find_all('tbody',{'id':'itemSearchTable_data'})[0].find_all('tr')"
   ]
  },
  {
   "cell_type": "code",
   "execution_count": 255,
   "metadata": {},
   "outputs": [
    {
     "data": {
      "text/plain": [
       "[<tr class=\"ui-widget-content ui-datatable-even\" data-ri=\"0\" role=\"row\"><td class=\"Wid40\" role=\"gridcell\"><span class=\"ui-column-title\"></span><span class=\"FontBold\">01431-SAE-T01</span> - 18SAA4T1 ( JAZZ 5Dr 2007 TH - [ 5MT - S ] )<br/>B-19 - REAR BRAKE(DRUM)</td><td class=\"Wid30\" role=\"gridcell\"><span class=\"ui-column-title\"></span>SHOE KIT, R. RR. BRAKE</td><td class=\"Wid20\" role=\"gridcell\"><span class=\"ui-column-title\"></span><input aria-disabled=\"false\" aria-readonly=\"false\" class=\"ui-inputfield ui-inputtext ui-widget ui-state-default ui-corner-all Wid10 ui-state-filled\" id=\"itemSearchTable:0:itemList\" name=\"itemSearchTable:0:itemList\" onkeyup=\"PrimeFaces.bcn(this,event,[function(event){return updateQtyToCart(event, this, '1')},function(event){PrimeFaces.ab({s:&quot;itemSearchTable:0:itemList&quot;,e:&quot;keyup&quot;,f:&quot;itemSearchResultForm&quot;,p:&quot;itemSearchTable:0:itemList&quot;,u:&quot;itemSearchTable topMenuForm mainPanel dialogPartAssociation menuForm overlayCartLogoutForm&quot;,onco:function(xhr,status,args,data){updateSearchControls();}});}])\" role=\"textbox\" style=\"text-align:center\" type=\"text\" value=\"0\"/><button aria-disabled=\"false\" class=\"ui-button ui-widget ui-state-default ui-corner-all ui-button-text-icon-left itemSearchAdd\" id=\"itemSearchTable:0:j_idt140\" name=\"itemSearchTable:0:j_idt140\" onclick='PrimeFaces.ab({s:\"itemSearchTable:0:j_idt140\",f:\"itemSearchResultForm\",p:\"itemSearchTable:0:j_idt140\",u:\"itemSearchTable topMenuForm mainPanel dialogPartAssociation menuForm overlayCartLogoutForm\",ps:true,onco:function(xhr,status,args,data){updateSearchControls();}});return false;' role=\"button\" type=\"submit\"><span class=\"ui-button-icon-left ui-icon ui-c fa fa-plus\"></span><span class=\"ui-button-text ui-c\">เพิ่ม 1</span></button><button aria-disabled=\"false\" class=\"ui-button ui-widget ui-state-default ui-corner-all ui-button-icon-only partDetailsButton RaisedButton\" id=\"itemSearchTable:0:j_idt141\" name=\"itemSearchTable:0:j_idt141\" onclick='PrimeFaces.ab({s:\"itemSearchTable:0:j_idt141\",f:\"itemSearchResultForm\",p:\"itemSearchTable:0:j_idt141\",u:\"itemSearchTable topMenuForm mainPanel dialogPartAssociation menuForm overlayCartLogoutForm\",ps:true});return false;' role=\"button\" type=\"submit\"><span class=\"ui-button-icon-left ui-icon ui-c fa fa-file-image-o\"></span><span class=\"ui-button-text ui-c\">ui-button</span></button></td></tr>,\n",
       " <tr class=\"ui-widget-content ui-datatable-odd\" data-ri=\"1\" role=\"row\"><td class=\"Wid40\" role=\"gridcell\"><span class=\"ui-column-title\"></span><span class=\"FontBold\">01431-SAE-T01</span> - 18SAA4T1 ( JAZZ 5Dr 2007 TH - [ 5MT - S ] )<br/>B-19 - REAR BRAKE(DRUM)</td><td class=\"Wid30\" role=\"gridcell\"><span class=\"ui-column-title\"></span>SHOE KIT, R. RR. BRAKE</td><td class=\"Wid20\" role=\"gridcell\"><span class=\"ui-column-title\"></span><input aria-disabled=\"false\" aria-readonly=\"false\" class=\"ui-inputfield ui-inputtext ui-widget ui-state-default ui-corner-all Wid10 ui-state-filled\" id=\"itemSearchTable:1:itemList\" name=\"itemSearchTable:1:itemList\" onkeyup=\"PrimeFaces.bcn(this,event,[function(event){return updateQtyToCart(event, this, '1')},function(event){PrimeFaces.ab({s:&quot;itemSearchTable:1:itemList&quot;,e:&quot;keyup&quot;,f:&quot;itemSearchResultForm&quot;,p:&quot;itemSearchTable:1:itemList&quot;,u:&quot;itemSearchTable topMenuForm mainPanel dialogPartAssociation menuForm overlayCartLogoutForm&quot;,onco:function(xhr,status,args,data){updateSearchControls();}});}])\" role=\"textbox\" style=\"text-align:center\" type=\"text\" value=\"0\"/><button aria-disabled=\"false\" class=\"ui-button ui-widget ui-state-default ui-corner-all ui-button-text-icon-left itemSearchAdd\" id=\"itemSearchTable:1:j_idt140\" name=\"itemSearchTable:1:j_idt140\" onclick='PrimeFaces.ab({s:\"itemSearchTable:1:j_idt140\",f:\"itemSearchResultForm\",p:\"itemSearchTable:1:j_idt140\",u:\"itemSearchTable topMenuForm mainPanel dialogPartAssociation menuForm overlayCartLogoutForm\",ps:true,onco:function(xhr,status,args,data){updateSearchControls();}});return false;' role=\"button\" type=\"submit\"><span class=\"ui-button-icon-left ui-icon ui-c fa fa-plus\"></span><span class=\"ui-button-text ui-c\">เพิ่ม 1</span></button><button aria-disabled=\"false\" class=\"ui-button ui-widget ui-state-default ui-corner-all ui-button-icon-only partDetailsButton RaisedButton\" id=\"itemSearchTable:1:j_idt141\" name=\"itemSearchTable:1:j_idt141\" onclick='PrimeFaces.ab({s:\"itemSearchTable:1:j_idt141\",f:\"itemSearchResultForm\",p:\"itemSearchTable:1:j_idt141\",u:\"itemSearchTable topMenuForm mainPanel dialogPartAssociation menuForm overlayCartLogoutForm\",ps:true});return false;' role=\"button\" type=\"submit\"><span class=\"ui-button-icon-left ui-icon ui-c fa fa-file-image-o\"></span><span class=\"ui-button-text ui-c\">ui-button</span></button></td></tr>,\n",
       " <tr class=\"ui-widget-content ui-datatable-even\" data-ri=\"2\" role=\"row\"><td class=\"Wid40\" role=\"gridcell\"><span class=\"ui-column-title\"></span><span class=\"FontBold\">01431-SAE-T01</span> - 18SAA4T1 ( JAZZ 5Dr 2007 TH - [ CVT - S ] )<br/>B-19 - REAR BRAKE(DRUM)</td><td class=\"Wid30\" role=\"gridcell\"><span class=\"ui-column-title\"></span>SHOE KIT, R. RR. BRAKE</td><td class=\"Wid20\" role=\"gridcell\"><span class=\"ui-column-title\"></span><input aria-disabled=\"false\" aria-readonly=\"false\" class=\"ui-inputfield ui-inputtext ui-widget ui-state-default ui-corner-all Wid10 ui-state-filled\" id=\"itemSearchTable:2:itemList\" name=\"itemSearchTable:2:itemList\" onkeyup=\"PrimeFaces.bcn(this,event,[function(event){return updateQtyToCart(event, this, '1')},function(event){PrimeFaces.ab({s:&quot;itemSearchTable:2:itemList&quot;,e:&quot;keyup&quot;,f:&quot;itemSearchResultForm&quot;,p:&quot;itemSearchTable:2:itemList&quot;,u:&quot;itemSearchTable topMenuForm mainPanel dialogPartAssociation menuForm overlayCartLogoutForm&quot;,onco:function(xhr,status,args,data){updateSearchControls();}});}])\" role=\"textbox\" style=\"text-align:center\" type=\"text\" value=\"0\"/><button aria-disabled=\"false\" class=\"ui-button ui-widget ui-state-default ui-corner-all ui-button-text-icon-left itemSearchAdd\" id=\"itemSearchTable:2:j_idt140\" name=\"itemSearchTable:2:j_idt140\" onclick='PrimeFaces.ab({s:\"itemSearchTable:2:j_idt140\",f:\"itemSearchResultForm\",p:\"itemSearchTable:2:j_idt140\",u:\"itemSearchTable topMenuForm mainPanel dialogPartAssociation menuForm overlayCartLogoutForm\",ps:true,onco:function(xhr,status,args,data){updateSearchControls();}});return false;' role=\"button\" type=\"submit\"><span class=\"ui-button-icon-left ui-icon ui-c fa fa-plus\"></span><span class=\"ui-button-text ui-c\">เพิ่ม 1</span></button><button aria-disabled=\"false\" class=\"ui-button ui-widget ui-state-default ui-corner-all ui-button-icon-only partDetailsButton RaisedButton\" id=\"itemSearchTable:2:j_idt141\" name=\"itemSearchTable:2:j_idt141\" onclick='PrimeFaces.ab({s:\"itemSearchTable:2:j_idt141\",f:\"itemSearchResultForm\",p:\"itemSearchTable:2:j_idt141\",u:\"itemSearchTable topMenuForm mainPanel dialogPartAssociation menuForm overlayCartLogoutForm\",ps:true});return false;' role=\"button\" type=\"submit\"><span class=\"ui-button-icon-left ui-icon ui-c fa fa-file-image-o\"></span><span class=\"ui-button-text ui-c\">ui-button</span></button></td></tr>,\n",
       " <tr class=\"ui-widget-content ui-datatable-odd\" data-ri=\"3\" role=\"row\"><td class=\"Wid40\" role=\"gridcell\"><span class=\"ui-column-title\"></span><span class=\"FontBold\">01431-SAE-T01</span> - 18SAA4T1 ( JAZZ 5Dr 2007 TH - [ CVT - S ] )<br/>B-19 - REAR BRAKE(DRUM)</td><td class=\"Wid30\" role=\"gridcell\"><span class=\"ui-column-title\"></span>SHOE KIT, R. RR. BRAKE</td><td class=\"Wid20\" role=\"gridcell\"><span class=\"ui-column-title\"></span><input aria-disabled=\"false\" aria-readonly=\"false\" class=\"ui-inputfield ui-inputtext ui-widget ui-state-default ui-corner-all Wid10 ui-state-filled\" id=\"itemSearchTable:3:itemList\" name=\"itemSearchTable:3:itemList\" onkeyup=\"PrimeFaces.bcn(this,event,[function(event){return updateQtyToCart(event, this, '1')},function(event){PrimeFaces.ab({s:&quot;itemSearchTable:3:itemList&quot;,e:&quot;keyup&quot;,f:&quot;itemSearchResultForm&quot;,p:&quot;itemSearchTable:3:itemList&quot;,u:&quot;itemSearchTable topMenuForm mainPanel dialogPartAssociation menuForm overlayCartLogoutForm&quot;,onco:function(xhr,status,args,data){updateSearchControls();}});}])\" role=\"textbox\" style=\"text-align:center\" type=\"text\" value=\"0\"/><button aria-disabled=\"false\" class=\"ui-button ui-widget ui-state-default ui-corner-all ui-button-text-icon-left itemSearchAdd\" id=\"itemSearchTable:3:j_idt140\" name=\"itemSearchTable:3:j_idt140\" onclick='PrimeFaces.ab({s:\"itemSearchTable:3:j_idt140\",f:\"itemSearchResultForm\",p:\"itemSearchTable:3:j_idt140\",u:\"itemSearchTable topMenuForm mainPanel dialogPartAssociation menuForm overlayCartLogoutForm\",ps:true,onco:function(xhr,status,args,data){updateSearchControls();}});return false;' role=\"button\" type=\"submit\"><span class=\"ui-button-icon-left ui-icon ui-c fa fa-plus\"></span><span class=\"ui-button-text ui-c\">เพิ่ม 1</span></button><button aria-disabled=\"false\" class=\"ui-button ui-widget ui-state-default ui-corner-all ui-button-icon-only partDetailsButton RaisedButton\" id=\"itemSearchTable:3:j_idt141\" name=\"itemSearchTable:3:j_idt141\" onclick='PrimeFaces.ab({s:\"itemSearchTable:3:j_idt141\",f:\"itemSearchResultForm\",p:\"itemSearchTable:3:j_idt141\",u:\"itemSearchTable topMenuForm mainPanel dialogPartAssociation menuForm overlayCartLogoutForm\",ps:true});return false;' role=\"button\" type=\"submit\"><span class=\"ui-button-icon-left ui-icon ui-c fa fa-file-image-o\"></span><span class=\"ui-button-text ui-c\">ui-button</span></button></td></tr>,\n",
       " <tr class=\"ui-widget-content ui-datatable-even\" data-ri=\"4\" role=\"row\"><td class=\"Wid40\" role=\"gridcell\"><span class=\"ui-column-title\"></span><span class=\"FontBold\">01431-SAE-T01</span> - 18SAA4T1 ( JAZZ 5Dr 2007 TH - [ 5MT - S BEIGE ] )<br/>B-19 - REAR BRAKE(DRUM)</td><td class=\"Wid30\" role=\"gridcell\"><span class=\"ui-column-title\"></span>SHOE KIT, R. RR. BRAKE</td><td class=\"Wid20\" role=\"gridcell\"><span class=\"ui-column-title\"></span><input aria-disabled=\"false\" aria-readonly=\"false\" class=\"ui-inputfield ui-inputtext ui-widget ui-state-default ui-corner-all Wid10 ui-state-filled\" id=\"itemSearchTable:4:itemList\" name=\"itemSearchTable:4:itemList\" onkeyup=\"PrimeFaces.bcn(this,event,[function(event){return updateQtyToCart(event, this, '1')},function(event){PrimeFaces.ab({s:&quot;itemSearchTable:4:itemList&quot;,e:&quot;keyup&quot;,f:&quot;itemSearchResultForm&quot;,p:&quot;itemSearchTable:4:itemList&quot;,u:&quot;itemSearchTable topMenuForm mainPanel dialogPartAssociation menuForm overlayCartLogoutForm&quot;,onco:function(xhr,status,args,data){updateSearchControls();}});}])\" role=\"textbox\" style=\"text-align:center\" type=\"text\" value=\"0\"/><button aria-disabled=\"false\" class=\"ui-button ui-widget ui-state-default ui-corner-all ui-button-text-icon-left itemSearchAdd\" id=\"itemSearchTable:4:j_idt140\" name=\"itemSearchTable:4:j_idt140\" onclick='PrimeFaces.ab({s:\"itemSearchTable:4:j_idt140\",f:\"itemSearchResultForm\",p:\"itemSearchTable:4:j_idt140\",u:\"itemSearchTable topMenuForm mainPanel dialogPartAssociation menuForm overlayCartLogoutForm\",ps:true,onco:function(xhr,status,args,data){updateSearchControls();}});return false;' role=\"button\" type=\"submit\"><span class=\"ui-button-icon-left ui-icon ui-c fa fa-plus\"></span><span class=\"ui-button-text ui-c\">เพิ่ม 1</span></button><button aria-disabled=\"false\" class=\"ui-button ui-widget ui-state-default ui-corner-all ui-button-icon-only partDetailsButton RaisedButton\" id=\"itemSearchTable:4:j_idt141\" name=\"itemSearchTable:4:j_idt141\" onclick='PrimeFaces.ab({s:\"itemSearchTable:4:j_idt141\",f:\"itemSearchResultForm\",p:\"itemSearchTable:4:j_idt141\",u:\"itemSearchTable topMenuForm mainPanel dialogPartAssociation menuForm overlayCartLogoutForm\",ps:true});return false;' role=\"button\" type=\"submit\"><span class=\"ui-button-icon-left ui-icon ui-c fa fa-file-image-o\"></span><span class=\"ui-button-text ui-c\">ui-button</span></button></td></tr>]"
      ]
     },
     "execution_count": 255,
     "metadata": {},
     "output_type": "execute_result"
    }
   ],
   "source": [
    "soup.find_all('tbody',{'id':'itemSearchTable_data'})[0].find_all('tr')"
   ]
  },
  {
   "cell_type": "code",
   "execution_count": 257,
   "metadata": {},
   "outputs": [
    {
     "data": {
      "text/html": [
       "<div>\n",
       "<style scoped>\n",
       "    .dataframe tbody tr th:only-of-type {\n",
       "        vertical-align: middle;\n",
       "    }\n",
       "\n",
       "    .dataframe tbody tr th {\n",
       "        vertical-align: top;\n",
       "    }\n",
       "\n",
       "    .dataframe thead th {\n",
       "        text-align: right;\n",
       "    }\n",
       "</style>\n",
       "<table border=\"1\" class=\"dataframe\">\n",
       "  <thead>\n",
       "    <tr style=\"text-align: right;\">\n",
       "      <th></th>\n",
       "      <th>Part</th>\n",
       "    </tr>\n",
       "  </thead>\n",
       "  <tbody>\n",
       "    <tr>\n",
       "      <th>0</th>\n",
       "      <td>01431-SAE-T01 - 18SAA4T1 ( JAZZ 5Dr 2007 TH - ...</td>\n",
       "    </tr>\n",
       "    <tr>\n",
       "      <th>1</th>\n",
       "      <td>01431-SAE-T01 - 18SAA4T1 ( JAZZ 5Dr 2007 TH - ...</td>\n",
       "    </tr>\n",
       "    <tr>\n",
       "      <th>2</th>\n",
       "      <td>01431-SAE-T01 - 18SAA4T1 ( JAZZ 5Dr 2007 TH - ...</td>\n",
       "    </tr>\n",
       "  </tbody>\n",
       "</table>\n",
       "</div>"
      ],
      "text/plain": [
       "                                                Part\n",
       "0  01431-SAE-T01 - 18SAA4T1 ( JAZZ 5Dr 2007 TH - ...\n",
       "1  01431-SAE-T01 - 18SAA4T1 ( JAZZ 5Dr 2007 TH - ...\n",
       "2  01431-SAE-T01 - 18SAA4T1 ( JAZZ 5Dr 2007 TH - ..."
      ]
     },
     "execution_count": 257,
     "metadata": {},
     "output_type": "execute_result"
    }
   ],
   "source": [
    "pd.DataFrame(list(set([x.find_all('td')[0].text for x in MatchPartList])) ,columns=['Part'])"
   ]
  },
  {
   "cell_type": "code",
   "execution_count": null,
   "metadata": {},
   "outputs": [],
   "source": []
  }
 ],
 "metadata": {
  "kernelspec": {
   "display_name": "selenium",
   "language": "python",
   "name": "python3"
  },
  "language_info": {
   "codemirror_mode": {
    "name": "ipython",
    "version": 3
   },
   "file_extension": ".py",
   "mimetype": "text/x-python",
   "name": "python",
   "nbconvert_exporter": "python",
   "pygments_lexer": "ipython3",
   "version": "3.9.12"
  }
 },
 "nbformat": 4,
 "nbformat_minor": 2
}
