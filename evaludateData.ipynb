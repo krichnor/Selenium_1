{
 "cells": [
  {
   "cell_type": "code",
   "execution_count": 414,
   "metadata": {},
   "outputs": [],
   "source": [
    "import pandas as pd"
   ]
  },
  {
   "cell_type": "code",
   "execution_count": 404,
   "metadata": {},
   "outputs": [
    {
     "ename": "FileNotFoundError",
     "evalue": "[Errno 2] No such file or directory: '/Volumes/500G/GP/Toyota/TOY-CompleteList.csv'",
     "output_type": "error",
     "traceback": [
      "\u001b[0;31m---------------------------------------------------------------------------\u001b[0m",
      "\u001b[0;31mFileNotFoundError\u001b[0m                         Traceback (most recent call last)",
      "\u001b[1;32m/Users/krichnorakhun/Documents/Machine Learning/selenium/evaludateData.ipynb Cell 2\u001b[0m line \u001b[0;36m1\n\u001b[0;32m----> <a href='vscode-notebook-cell:/Users/krichnorakhun/Documents/Machine%20Learning/selenium/evaludateData.ipynb#W1sZmlsZQ%3D%3D?line=0'>1</a>\u001b[0m Total \u001b[39m=\u001b[39m pd\u001b[39m.\u001b[39;49mread_csv(\u001b[39mr\u001b[39;49m\u001b[39m'\u001b[39;49m\u001b[39m/Volumes/500G/GP/Toyota/TOY-CompleteList.csv\u001b[39;49m\u001b[39m'\u001b[39;49m)\n",
      "File \u001b[0;32m~/Documents/Machine Learning/selenium/lib/python3.9/site-packages/pandas/io/parsers/readers.py:948\u001b[0m, in \u001b[0;36mread_csv\u001b[0;34m(filepath_or_buffer, sep, delimiter, header, names, index_col, usecols, dtype, engine, converters, true_values, false_values, skipinitialspace, skiprows, skipfooter, nrows, na_values, keep_default_na, na_filter, verbose, skip_blank_lines, parse_dates, infer_datetime_format, keep_date_col, date_parser, date_format, dayfirst, cache_dates, iterator, chunksize, compression, thousands, decimal, lineterminator, quotechar, quoting, doublequote, escapechar, comment, encoding, encoding_errors, dialect, on_bad_lines, delim_whitespace, low_memory, memory_map, float_precision, storage_options, dtype_backend)\u001b[0m\n\u001b[1;32m    935\u001b[0m kwds_defaults \u001b[39m=\u001b[39m _refine_defaults_read(\n\u001b[1;32m    936\u001b[0m     dialect,\n\u001b[1;32m    937\u001b[0m     delimiter,\n\u001b[0;32m   (...)\u001b[0m\n\u001b[1;32m    944\u001b[0m     dtype_backend\u001b[39m=\u001b[39mdtype_backend,\n\u001b[1;32m    945\u001b[0m )\n\u001b[1;32m    946\u001b[0m kwds\u001b[39m.\u001b[39mupdate(kwds_defaults)\n\u001b[0;32m--> 948\u001b[0m \u001b[39mreturn\u001b[39;00m _read(filepath_or_buffer, kwds)\n",
      "File \u001b[0;32m~/Documents/Machine Learning/selenium/lib/python3.9/site-packages/pandas/io/parsers/readers.py:611\u001b[0m, in \u001b[0;36m_read\u001b[0;34m(filepath_or_buffer, kwds)\u001b[0m\n\u001b[1;32m    608\u001b[0m _validate_names(kwds\u001b[39m.\u001b[39mget(\u001b[39m\"\u001b[39m\u001b[39mnames\u001b[39m\u001b[39m\"\u001b[39m, \u001b[39mNone\u001b[39;00m))\n\u001b[1;32m    610\u001b[0m \u001b[39m# Create the parser.\u001b[39;00m\n\u001b[0;32m--> 611\u001b[0m parser \u001b[39m=\u001b[39m TextFileReader(filepath_or_buffer, \u001b[39m*\u001b[39;49m\u001b[39m*\u001b[39;49mkwds)\n\u001b[1;32m    613\u001b[0m \u001b[39mif\u001b[39;00m chunksize \u001b[39mor\u001b[39;00m iterator:\n\u001b[1;32m    614\u001b[0m     \u001b[39mreturn\u001b[39;00m parser\n",
      "File \u001b[0;32m~/Documents/Machine Learning/selenium/lib/python3.9/site-packages/pandas/io/parsers/readers.py:1448\u001b[0m, in \u001b[0;36mTextFileReader.__init__\u001b[0;34m(self, f, engine, **kwds)\u001b[0m\n\u001b[1;32m   1445\u001b[0m     \u001b[39mself\u001b[39m\u001b[39m.\u001b[39moptions[\u001b[39m\"\u001b[39m\u001b[39mhas_index_names\u001b[39m\u001b[39m\"\u001b[39m] \u001b[39m=\u001b[39m kwds[\u001b[39m\"\u001b[39m\u001b[39mhas_index_names\u001b[39m\u001b[39m\"\u001b[39m]\n\u001b[1;32m   1447\u001b[0m \u001b[39mself\u001b[39m\u001b[39m.\u001b[39mhandles: IOHandles \u001b[39m|\u001b[39m \u001b[39mNone\u001b[39;00m \u001b[39m=\u001b[39m \u001b[39mNone\u001b[39;00m\n\u001b[0;32m-> 1448\u001b[0m \u001b[39mself\u001b[39m\u001b[39m.\u001b[39m_engine \u001b[39m=\u001b[39m \u001b[39mself\u001b[39;49m\u001b[39m.\u001b[39;49m_make_engine(f, \u001b[39mself\u001b[39;49m\u001b[39m.\u001b[39;49mengine)\n",
      "File \u001b[0;32m~/Documents/Machine Learning/selenium/lib/python3.9/site-packages/pandas/io/parsers/readers.py:1705\u001b[0m, in \u001b[0;36mTextFileReader._make_engine\u001b[0;34m(self, f, engine)\u001b[0m\n\u001b[1;32m   1703\u001b[0m     \u001b[39mif\u001b[39;00m \u001b[39m\"\u001b[39m\u001b[39mb\u001b[39m\u001b[39m\"\u001b[39m \u001b[39mnot\u001b[39;00m \u001b[39min\u001b[39;00m mode:\n\u001b[1;32m   1704\u001b[0m         mode \u001b[39m+\u001b[39m\u001b[39m=\u001b[39m \u001b[39m\"\u001b[39m\u001b[39mb\u001b[39m\u001b[39m\"\u001b[39m\n\u001b[0;32m-> 1705\u001b[0m \u001b[39mself\u001b[39m\u001b[39m.\u001b[39mhandles \u001b[39m=\u001b[39m get_handle(\n\u001b[1;32m   1706\u001b[0m     f,\n\u001b[1;32m   1707\u001b[0m     mode,\n\u001b[1;32m   1708\u001b[0m     encoding\u001b[39m=\u001b[39;49m\u001b[39mself\u001b[39;49m\u001b[39m.\u001b[39;49moptions\u001b[39m.\u001b[39;49mget(\u001b[39m\"\u001b[39;49m\u001b[39mencoding\u001b[39;49m\u001b[39m\"\u001b[39;49m, \u001b[39mNone\u001b[39;49;00m),\n\u001b[1;32m   1709\u001b[0m     compression\u001b[39m=\u001b[39;49m\u001b[39mself\u001b[39;49m\u001b[39m.\u001b[39;49moptions\u001b[39m.\u001b[39;49mget(\u001b[39m\"\u001b[39;49m\u001b[39mcompression\u001b[39;49m\u001b[39m\"\u001b[39;49m, \u001b[39mNone\u001b[39;49;00m),\n\u001b[1;32m   1710\u001b[0m     memory_map\u001b[39m=\u001b[39;49m\u001b[39mself\u001b[39;49m\u001b[39m.\u001b[39;49moptions\u001b[39m.\u001b[39;49mget(\u001b[39m\"\u001b[39;49m\u001b[39mmemory_map\u001b[39;49m\u001b[39m\"\u001b[39;49m, \u001b[39mFalse\u001b[39;49;00m),\n\u001b[1;32m   1711\u001b[0m     is_text\u001b[39m=\u001b[39;49mis_text,\n\u001b[1;32m   1712\u001b[0m     errors\u001b[39m=\u001b[39;49m\u001b[39mself\u001b[39;49m\u001b[39m.\u001b[39;49moptions\u001b[39m.\u001b[39;49mget(\u001b[39m\"\u001b[39;49m\u001b[39mencoding_errors\u001b[39;49m\u001b[39m\"\u001b[39;49m, \u001b[39m\"\u001b[39;49m\u001b[39mstrict\u001b[39;49m\u001b[39m\"\u001b[39;49m),\n\u001b[1;32m   1713\u001b[0m     storage_options\u001b[39m=\u001b[39;49m\u001b[39mself\u001b[39;49m\u001b[39m.\u001b[39;49moptions\u001b[39m.\u001b[39;49mget(\u001b[39m\"\u001b[39;49m\u001b[39mstorage_options\u001b[39;49m\u001b[39m\"\u001b[39;49m, \u001b[39mNone\u001b[39;49;00m),\n\u001b[1;32m   1714\u001b[0m )\n\u001b[1;32m   1715\u001b[0m \u001b[39massert\u001b[39;00m \u001b[39mself\u001b[39m\u001b[39m.\u001b[39mhandles \u001b[39mis\u001b[39;00m \u001b[39mnot\u001b[39;00m \u001b[39mNone\u001b[39;00m\n\u001b[1;32m   1716\u001b[0m f \u001b[39m=\u001b[39m \u001b[39mself\u001b[39m\u001b[39m.\u001b[39mhandles\u001b[39m.\u001b[39mhandle\n",
      "File \u001b[0;32m~/Documents/Machine Learning/selenium/lib/python3.9/site-packages/pandas/io/common.py:863\u001b[0m, in \u001b[0;36mget_handle\u001b[0;34m(path_or_buf, mode, encoding, compression, memory_map, is_text, errors, storage_options)\u001b[0m\n\u001b[1;32m    858\u001b[0m \u001b[39melif\u001b[39;00m \u001b[39misinstance\u001b[39m(handle, \u001b[39mstr\u001b[39m):\n\u001b[1;32m    859\u001b[0m     \u001b[39m# Check whether the filename is to be opened in binary mode.\u001b[39;00m\n\u001b[1;32m    860\u001b[0m     \u001b[39m# Binary mode does not support 'encoding' and 'newline'.\u001b[39;00m\n\u001b[1;32m    861\u001b[0m     \u001b[39mif\u001b[39;00m ioargs\u001b[39m.\u001b[39mencoding \u001b[39mand\u001b[39;00m \u001b[39m\"\u001b[39m\u001b[39mb\u001b[39m\u001b[39m\"\u001b[39m \u001b[39mnot\u001b[39;00m \u001b[39min\u001b[39;00m ioargs\u001b[39m.\u001b[39mmode:\n\u001b[1;32m    862\u001b[0m         \u001b[39m# Encoding\u001b[39;00m\n\u001b[0;32m--> 863\u001b[0m         handle \u001b[39m=\u001b[39m \u001b[39mopen\u001b[39;49m(\n\u001b[1;32m    864\u001b[0m             handle,\n\u001b[1;32m    865\u001b[0m             ioargs\u001b[39m.\u001b[39;49mmode,\n\u001b[1;32m    866\u001b[0m             encoding\u001b[39m=\u001b[39;49mioargs\u001b[39m.\u001b[39;49mencoding,\n\u001b[1;32m    867\u001b[0m             errors\u001b[39m=\u001b[39;49merrors,\n\u001b[1;32m    868\u001b[0m             newline\u001b[39m=\u001b[39;49m\u001b[39m\"\u001b[39;49m\u001b[39m\"\u001b[39;49m,\n\u001b[1;32m    869\u001b[0m         )\n\u001b[1;32m    870\u001b[0m     \u001b[39melse\u001b[39;00m:\n\u001b[1;32m    871\u001b[0m         \u001b[39m# Binary mode\u001b[39;00m\n\u001b[1;32m    872\u001b[0m         handle \u001b[39m=\u001b[39m \u001b[39mopen\u001b[39m(handle, ioargs\u001b[39m.\u001b[39mmode)\n",
      "\u001b[0;31mFileNotFoundError\u001b[0m: [Errno 2] No such file or directory: '/Volumes/500G/GP/Toyota/TOY-CompleteList.csv'"
     ]
    }
   ],
   "source": [
    "Total = pd.read_csv(r'/Volumes/500G/GP/Toyota/TOY-CompleteList.csv')"
   ]
  },
  {
   "cell_type": "code",
   "execution_count": 204,
   "metadata": {},
   "outputs": [],
   "source": [
    "Total['PartNO'] = Total['PartNO'].apply(lambda x : x[:12])"
   ]
  },
  {
   "cell_type": "code",
   "execution_count": 409,
   "metadata": {},
   "outputs": [],
   "source": [
    "result1 = pd.read_parquet(r'/Volumes/500G/GP/Toyota/ResultFromScrap/table1_backup.parquet')"
   ]
  },
  {
   "cell_type": "code",
   "execution_count": 410,
   "metadata": {},
   "outputs": [],
   "source": [
    "result1['PartID'] = result1['PartID'].apply(lambda x : x.replace('-',''))"
   ]
  },
  {
   "cell_type": "code",
   "execution_count": 210,
   "metadata": {},
   "outputs": [],
   "source": [
    "import glob\n",
    "#List a file for Loading new data\n",
    "\n",
    "#list related file\n",
    "directory = r'/Volumes/500G/GP/Toyota/Original Images/'\n",
    "# Replace 'file_template' with the pattern of the specific files you want to list\n",
    "file_template = '*.png'\n",
    "# Combine the directory and file template to create the full pattern\n",
    "full_pattern = f\"{directory}/{file_template}\"\n",
    "# Use glob to list files that match the pattern\n",
    "file_list = glob.glob(full_pattern)"
   ]
  },
  {
   "cell_type": "code",
   "execution_count": 211,
   "metadata": {},
   "outputs": [],
   "source": [
    "TotalImage = pd.DataFrame([ x.split('/')[6].split('.')[0] for x in file_list], columns=['TotalImages'])"
   ]
  },
  {
   "cell_type": "code",
   "execution_count": 213,
   "metadata": {},
   "outputs": [
    {
     "data": {
      "text/html": [
       "<div>\n",
       "<style scoped>\n",
       "    .dataframe tbody tr th:only-of-type {\n",
       "        vertical-align: middle;\n",
       "    }\n",
       "\n",
       "    .dataframe tbody tr th {\n",
       "        vertical-align: top;\n",
       "    }\n",
       "\n",
       "    .dataframe thead th {\n",
       "        text-align: right;\n",
       "    }\n",
       "</style>\n",
       "<table border=\"1\" class=\"dataframe\">\n",
       "  <thead>\n",
       "    <tr style=\"text-align: right;\">\n",
       "      <th></th>\n",
       "      <th>TotalImages</th>\n",
       "    </tr>\n",
       "  </thead>\n",
       "  <tbody>\n",
       "    <tr>\n",
       "      <th>0</th>\n",
       "      <td>3340430040</td>\n",
       "    </tr>\n",
       "    <tr>\n",
       "      <th>1</th>\n",
       "      <td>3339125030</td>\n",
       "    </tr>\n",
       "    <tr>\n",
       "      <th>2</th>\n",
       "      <td>1138205010</td>\n",
       "    </tr>\n",
       "    <tr>\n",
       "      <th>3</th>\n",
       "      <td>293450E010</td>\n",
       "    </tr>\n",
       "    <tr>\n",
       "      <th>4</th>\n",
       "      <td>8266335050</td>\n",
       "    </tr>\n",
       "    <tr>\n",
       "      <th>...</th>\n",
       "      <td>...</td>\n",
       "    </tr>\n",
       "    <tr>\n",
       "      <th>31258</th>\n",
       "      <td>791170K030</td>\n",
       "    </tr>\n",
       "    <tr>\n",
       "      <th>31259</th>\n",
       "      <td>52128YP610</td>\n",
       "    </tr>\n",
       "    <tr>\n",
       "      <th>31260</th>\n",
       "      <td>52127YP610</td>\n",
       "    </tr>\n",
       "    <tr>\n",
       "      <th>31261</th>\n",
       "      <td>4813102K60</td>\n",
       "    </tr>\n",
       "    <tr>\n",
       "      <th>31262</th>\n",
       "      <td>4813102G90</td>\n",
       "    </tr>\n",
       "  </tbody>\n",
       "</table>\n",
       "<p>31263 rows × 1 columns</p>\n",
       "</div>"
      ],
      "text/plain": [
       "      TotalImages\n",
       "0      3340430040\n",
       "1      3339125030\n",
       "2      1138205010\n",
       "3      293450E010\n",
       "4      8266335050\n",
       "...           ...\n",
       "31258  791170K030\n",
       "31259  52128YP610\n",
       "31260  52127YP610\n",
       "31261  4813102K60\n",
       "31262  4813102G90\n",
       "\n",
       "[31263 rows x 1 columns]"
      ]
     },
     "execution_count": 213,
     "metadata": {},
     "output_type": "execute_result"
    }
   ],
   "source": [
    "TotalImage"
   ]
  },
  {
   "cell_type": "markdown",
   "metadata": {},
   "source": [
    "<font color='yellow' size=5>get full list from email P'gos</font>"
   ]
  },
  {
   "cell_type": "code",
   "execution_count": 405,
   "metadata": {},
   "outputs": [],
   "source": [
    "TOYList = pd.read_excel(r'/Volumes/500G/GP/Toyota/RequirementData/Item.xlsx',sheet_name='TOYOTA')"
   ]
  },
  {
   "cell_type": "code",
   "execution_count": 406,
   "metadata": {},
   "outputs": [],
   "source": [
    "TOYList['PartNo'] = TOYList['PartNo'].apply(lambda x : x.replace('-',''))"
   ]
  },
  {
   "cell_type": "code",
   "execution_count": 407,
   "metadata": {},
   "outputs": [],
   "source": [
    "TOYList['PartNo'] = TOYList['PartNo'].apply(lambda x : x[:12])"
   ]
  },
  {
   "cell_type": "code",
   "execution_count": 408,
   "metadata": {},
   "outputs": [],
   "source": [
    "TOYList = TOYList.drop_duplicates(subset='PartNo', keep='first')"
   ]
  },
  {
   "cell_type": "code",
   "execution_count": 411,
   "metadata": {},
   "outputs": [],
   "source": [
    "missing = pd.merge(TOYList, result1, left_on='PartNo', right_on='PartID',how='left')"
   ]
  },
  {
   "cell_type": "code",
   "execution_count": 412,
   "metadata": {},
   "outputs": [
    {
     "name": "stderr",
     "output_type": "stream",
     "text": [
      "/var/folders/z3/9bpskt7j7tvfmp076hkrvm1h0000gn/T/ipykernel_15416/898845339.py:2: SettingWithCopyWarning: \n",
      "A value is trying to be set on a copy of a slice from a DataFrame.\n",
      "Try using .loc[row_indexer,col_indexer] = value instead\n",
      "\n",
      "See the caveats in the documentation: https://pandas.pydata.org/pandas-docs/stable/user_guide/indexing.html#returning-a-view-versus-a-copy\n",
      "  sam1['sam1'] = 'Y'\n"
     ]
    }
   ],
   "source": [
    "sam1 = TOYList[['PartNo']]\n",
    "sam1['sam1'] = 'Y'\n",
    "sam2 = result1[['PartID']]\n",
    "sam2['sam2'] = 'Y'\n",
    "sam2.columns = ['PartNo','sam2']"
   ]
  },
  {
   "cell_type": "code",
   "execution_count": 413,
   "metadata": {},
   "outputs": [
    {
     "data": {
      "text/html": [
       "<div>\n",
       "<style scoped>\n",
       "    .dataframe tbody tr th:only-of-type {\n",
       "        vertical-align: middle;\n",
       "    }\n",
       "\n",
       "    .dataframe tbody tr th {\n",
       "        vertical-align: top;\n",
       "    }\n",
       "\n",
       "    .dataframe thead th {\n",
       "        text-align: right;\n",
       "    }\n",
       "</style>\n",
       "<table border=\"1\" class=\"dataframe\">\n",
       "  <thead>\n",
       "    <tr style=\"text-align: right;\">\n",
       "      <th></th>\n",
       "      <th>PartNo</th>\n",
       "      <th>sam1</th>\n",
       "      <th>sam2</th>\n",
       "    </tr>\n",
       "  </thead>\n",
       "  <tbody>\n",
       "    <tr>\n",
       "      <th>0</th>\n",
       "      <td>000081219003</td>\n",
       "      <td>Y</td>\n",
       "      <td>NaN</td>\n",
       "    </tr>\n",
       "    <tr>\n",
       "      <th>1</th>\n",
       "      <td>000081219004</td>\n",
       "      <td>Y</td>\n",
       "      <td>NaN</td>\n",
       "    </tr>\n",
       "    <tr>\n",
       "      <th>2</th>\n",
       "      <td>000081219015</td>\n",
       "      <td>Y</td>\n",
       "      <td>NaN</td>\n",
       "    </tr>\n",
       "    <tr>\n",
       "      <th>3</th>\n",
       "      <td>000085401002</td>\n",
       "      <td>Y</td>\n",
       "      <td>Y</td>\n",
       "    </tr>\n",
       "    <tr>\n",
       "      <th>4</th>\n",
       "      <td>000085401017</td>\n",
       "      <td>Y</td>\n",
       "      <td>Y</td>\n",
       "    </tr>\n",
       "    <tr>\n",
       "      <th>...</th>\n",
       "      <td>...</td>\n",
       "      <td>...</td>\n",
       "      <td>...</td>\n",
       "    </tr>\n",
       "    <tr>\n",
       "      <th>49631</th>\n",
       "      <td>52128YP610</td>\n",
       "      <td>NaN</td>\n",
       "      <td>Y</td>\n",
       "    </tr>\n",
       "    <tr>\n",
       "      <th>49632</th>\n",
       "      <td>791170K030</td>\n",
       "      <td>NaN</td>\n",
       "      <td>Y</td>\n",
       "    </tr>\n",
       "    <tr>\n",
       "      <th>49633</th>\n",
       "      <td>8156058170</td>\n",
       "      <td>NaN</td>\n",
       "      <td>Y</td>\n",
       "    </tr>\n",
       "    <tr>\n",
       "      <th>49634</th>\n",
       "      <td>879400KM60</td>\n",
       "      <td>NaN</td>\n",
       "      <td>Y</td>\n",
       "    </tr>\n",
       "    <tr>\n",
       "      <th>49635</th>\n",
       "      <td>9028004001</td>\n",
       "      <td>NaN</td>\n",
       "      <td>Y</td>\n",
       "    </tr>\n",
       "  </tbody>\n",
       "</table>\n",
       "<p>49636 rows × 3 columns</p>\n",
       "</div>"
      ],
      "text/plain": [
       "             PartNo sam1 sam2\n",
       "0      000081219003    Y  NaN\n",
       "1      000081219004    Y  NaN\n",
       "2      000081219015    Y  NaN\n",
       "3      000085401002    Y    Y\n",
       "4      000085401017    Y    Y\n",
       "...             ...  ...  ...\n",
       "49631    52128YP610  NaN    Y\n",
       "49632    791170K030  NaN    Y\n",
       "49633    8156058170  NaN    Y\n",
       "49634    879400KM60  NaN    Y\n",
       "49635    9028004001  NaN    Y\n",
       "\n",
       "[49636 rows x 3 columns]"
      ]
     },
     "execution_count": 413,
     "metadata": {},
     "output_type": "execute_result"
    }
   ],
   "source": [
    "pd.merge(sam1, sam2, left_on='PartNo', right_on='PartNo' ,how='outer')"
   ]
  },
  {
   "cell_type": "code",
   "execution_count": 259,
   "metadata": {},
   "outputs": [],
   "source": [
    "missing.to_csv(r'/Volumes/500G/GP/Toyota/RequirementData/SecondScrap.csv', index=False)"
   ]
  },
  {
   "cell_type": "markdown",
   "metadata": {},
   "source": [
    "<font color=yellow size=5>Got result and check missing images</font>"
   ]
  },
  {
   "cell_type": "code",
   "execution_count": 351,
   "metadata": {},
   "outputs": [],
   "source": [
    "Second_result1 =  pd.read_parquet(r'parquet/table1_backupC.parquet')"
   ]
  },
  {
   "cell_type": "code",
   "execution_count": 356,
   "metadata": {},
   "outputs": [
    {
     "data": {
      "text/html": [
       "<div>\n",
       "<style scoped>\n",
       "    .dataframe tbody tr th:only-of-type {\n",
       "        vertical-align: middle;\n",
       "    }\n",
       "\n",
       "    .dataframe tbody tr th {\n",
       "        vertical-align: top;\n",
       "    }\n",
       "\n",
       "    .dataframe thead th {\n",
       "        text-align: right;\n",
       "    }\n",
       "</style>\n",
       "<table border=\"1\" class=\"dataframe\">\n",
       "  <thead>\n",
       "    <tr style=\"text-align: right;\">\n",
       "      <th></th>\n",
       "      <th>PartID</th>\n",
       "      <th>Part Description</th>\n",
       "    </tr>\n",
       "  </thead>\n",
       "  <tbody>\n",
       "    <tr>\n",
       "      <th>3</th>\n",
       "      <td>04111-0C106</td>\n",
       "      <td>ชุดปะเก็น, การซ่อมใหญ่เครื่องยนต์</td>\n",
       "    </tr>\n",
       "    <tr>\n",
       "      <th>4</th>\n",
       "      <td>04111-0C108</td>\n",
       "      <td>ชุดปะเก็น, การซ่อมใหญ่เครื่องยนต์</td>\n",
       "    </tr>\n",
       "    <tr>\n",
       "      <th>5</th>\n",
       "      <td>04111-0C121</td>\n",
       "      <td>ชุดปะเก็น, การซ่อมใหญ่เครื่องยนต์</td>\n",
       "    </tr>\n",
       "    <tr>\n",
       "      <th>6</th>\n",
       "      <td>04111-0C131</td>\n",
       "      <td>ชุดปะเก็น, การซ่อมใหญ่เครื่องยนต์</td>\n",
       "    </tr>\n",
       "    <tr>\n",
       "      <th>7</th>\n",
       "      <td>04111-0C160</td>\n",
       "      <td>ชุดปะเก็น, การซ่อมใหญ่เครื่องยนต์</td>\n",
       "    </tr>\n",
       "    <tr>\n",
       "      <th>...</th>\n",
       "      <td>...</td>\n",
       "      <td>...</td>\n",
       "    </tr>\n",
       "    <tr>\n",
       "      <th>13761</th>\n",
       "      <td>SU003-06070</td>\n",
       "      <td>ชุดกระบอก, ดิสก์เบรกหน้า, RH</td>\n",
       "    </tr>\n",
       "    <tr>\n",
       "      <th>13762</th>\n",
       "      <td>SU003-06071</td>\n",
       "      <td>ชุดกระบอก, ดิสก์เบรก, LH</td>\n",
       "    </tr>\n",
       "    <tr>\n",
       "      <th>13763</th>\n",
       "      <td>SU003-06093</td>\n",
       "      <td>แผงบังฝุ่น, แผงบังโคลนหน้า, RH</td>\n",
       "    </tr>\n",
       "    <tr>\n",
       "      <th>13764</th>\n",
       "      <td>SU003-07155</td>\n",
       "      <td>ขายึด, กันชนหน้าด้านข้าง, RH</td>\n",
       "    </tr>\n",
       "    <tr>\n",
       "      <th>13765</th>\n",
       "      <td>SU003-07156</td>\n",
       "      <td>ขายึด, กันชนหน้าด้านข้าง, LH</td>\n",
       "    </tr>\n",
       "  </tbody>\n",
       "</table>\n",
       "<p>11247 rows × 2 columns</p>\n",
       "</div>"
      ],
      "text/plain": [
       "            PartID                   Part Description\n",
       "3      04111-0C106  ชุดปะเก็น, การซ่อมใหญ่เครื่องยนต์\n",
       "4      04111-0C108  ชุดปะเก็น, การซ่อมใหญ่เครื่องยนต์\n",
       "5      04111-0C121  ชุดปะเก็น, การซ่อมใหญ่เครื่องยนต์\n",
       "6      04111-0C131  ชุดปะเก็น, การซ่อมใหญ่เครื่องยนต์\n",
       "7      04111-0C160  ชุดปะเก็น, การซ่อมใหญ่เครื่องยนต์\n",
       "...            ...                                ...\n",
       "13761  SU003-06070       ชุดกระบอก, ดิสก์เบรกหน้า, RH\n",
       "13762  SU003-06071           ชุดกระบอก, ดิสก์เบรก, LH\n",
       "13763  SU003-06093     แผงบังฝุ่น, แผงบังโคลนหน้า, RH\n",
       "13764  SU003-07155       ขายึด, กันชนหน้าด้านข้าง, RH\n",
       "13765  SU003-07156       ขายึด, กันชนหน้าด้านข้าง, LH\n",
       "\n",
       "[11247 rows x 2 columns]"
      ]
     },
     "execution_count": 356,
     "metadata": {},
     "output_type": "execute_result"
    }
   ],
   "source": [
    "Second_result1.loc[Second_result1['Part Description']!='ไม่มีใช้งาน']"
   ]
  },
  {
   "cell_type": "markdown",
   "metadata": {},
   "source": [
    "<font color='lightgreen' size=5>Get picture count</font>"
   ]
  },
  {
   "cell_type": "code",
   "execution_count": 520,
   "metadata": {},
   "outputs": [],
   "source": [
    "import glob\n",
    "#List a file for Loading new data\n",
    "\n",
    "#list related file\n",
    "directory = r'/Users/krichnorakhun/Documents/Machine Learning/selenium/images'\n",
    "# Replace 'file_template' with the pattern of the specific files you want to list\n",
    "file_template = '*.png'\n",
    "# Combine the directory and file template to create the full pattern\n",
    "full_pattern = f\"{directory}/{file_template}\"\n",
    "# Use glob to list files that match the pattern\n",
    "file_list = glob.glob(full_pattern)"
   ]
  },
  {
   "cell_type": "code",
   "execution_count": 521,
   "metadata": {},
   "outputs": [],
   "source": [
    "import os \n",
    "imageSize = pd.DataFrame()\n",
    "tempData = []\n",
    "for file in file_list:\n",
    "    file_size = os.path.getsize(file)\n",
    "    tempData.append({\n",
    "        'file': file,\n",
    "        'size': file_size\n",
    "        })\n",
    "imageSize = pd.DataFrame(tempData)"
   ]
  },
  {
   "cell_type": "code",
   "execution_count": 507,
   "metadata": {},
   "outputs": [],
   "source": [
    "imageSize = imageSize.loc[imageSize['size']<=3419]"
   ]
  },
  {
   "cell_type": "code",
   "execution_count": 522,
   "metadata": {},
   "outputs": [],
   "source": [
    "imageSize['PartID'] = imageSize['file'].apply(lambda x : x.split('/')[7].split('.')[0] )"
   ]
  },
  {
   "cell_type": "code",
   "execution_count": 523,
   "metadata": {},
   "outputs": [],
   "source": [
    "imageSize = imageSize.drop(['file','size'],axis=1)"
   ]
  },
  {
   "cell_type": "code",
   "execution_count": 398,
   "metadata": {},
   "outputs": [],
   "source": [
    "imageSize.to_csv(r'/Users/krichnorakhun/Documents/Machine Learning/selenium/missingImage.csv', index=False)"
   ]
  },
  {
   "cell_type": "code",
   "execution_count": 528,
   "metadata": {},
   "outputs": [
    {
     "data": {
      "text/html": [
       "<div>\n",
       "<style scoped>\n",
       "    .dataframe tbody tr th:only-of-type {\n",
       "        vertical-align: middle;\n",
       "    }\n",
       "\n",
       "    .dataframe tbody tr th {\n",
       "        vertical-align: top;\n",
       "    }\n",
       "\n",
       "    .dataframe thead th {\n",
       "        text-align: right;\n",
       "    }\n",
       "</style>\n",
       "<table border=\"1\" class=\"dataframe\">\n",
       "  <thead>\n",
       "    <tr style=\"text-align: right;\">\n",
       "      <th></th>\n",
       "      <th>PartID</th>\n",
       "    </tr>\n",
       "  </thead>\n",
       "  <tbody>\n",
       "    <tr>\n",
       "      <th>388</th>\n",
       "      <td>482010k541 2</td>\n",
       "    </tr>\n",
       "    <tr>\n",
       "      <th>4594</th>\n",
       "      <td>52127YP480 2</td>\n",
       "    </tr>\n",
       "    <tr>\n",
       "      <th>41311</th>\n",
       "      <td>886500db10 2</td>\n",
       "    </tr>\n",
       "  </tbody>\n",
       "</table>\n",
       "</div>"
      ],
      "text/plain": [
       "             PartID\n",
       "388    482010k541 2\n",
       "4594   52127YP480 2\n",
       "41311  886500db10 2"
      ]
     },
     "execution_count": 528,
     "metadata": {},
     "output_type": "execute_result"
    }
   ],
   "source": [
    "imageSize.loc[imageSize['PartID'].apply(lambda x : x.find(' '))!=-1]"
   ]
  },
  {
   "cell_type": "code",
   "execution_count": null,
   "metadata": {},
   "outputs": [],
   "source": []
  },
  {
   "cell_type": "markdown",
   "metadata": {},
   "source": [
    "Combine from missing and existing"
   ]
  },
  {
   "cell_type": "code",
   "execution_count": 486,
   "metadata": {},
   "outputs": [],
   "source": [
    "NewFromMissing = pd.read_parquet(r'parquet/table1_backupC.parquet')"
   ]
  },
  {
   "cell_type": "code",
   "execution_count": 487,
   "metadata": {},
   "outputs": [
    {
     "data": {
      "text/plain": [
       "13702"
      ]
     },
     "execution_count": 487,
     "metadata": {},
     "output_type": "execute_result"
    }
   ],
   "source": [
    "NewFromMissing['PartID'].nunique()"
   ]
  },
  {
   "cell_type": "code",
   "execution_count": 488,
   "metadata": {},
   "outputs": [],
   "source": [
    "result1 = pd.read_parquet(r'/Volumes/500G/GP/Toyota/ResultFromScrap/table1_backup.parquet')"
   ]
  },
  {
   "cell_type": "code",
   "execution_count": 489,
   "metadata": {},
   "outputs": [
    {
     "data": {
      "text/plain": [
       "35848"
      ]
     },
     "execution_count": 489,
     "metadata": {},
     "output_type": "execute_result"
    }
   ],
   "source": [
    "result1['PartID'].nunique()"
   ]
  },
  {
   "cell_type": "code",
   "execution_count": 490,
   "metadata": {},
   "outputs": [],
   "source": [
    "FinalTable1 = pd.concat( [result1, NewFromMissing], ignore_index=True)"
   ]
  },
  {
   "cell_type": "code",
   "execution_count": 491,
   "metadata": {},
   "outputs": [],
   "source": [
    "FinalTable1 = FinalTable1.drop_duplicates()"
   ]
  },
  {
   "cell_type": "code",
   "execution_count": 492,
   "metadata": {},
   "outputs": [],
   "source": [
    "FinalTable1.to_csv(r'/Volumes/500G/GP/Toyota/ResultFromScrap/TOY-Table1.csv', index=False)\n",
    "FinalTable1.to_parquet(r'/Volumes/500G/GP/Toyota/ResultFromScrap/TOY-Table1.parquet')"
   ]
  },
  {
   "cell_type": "code",
   "execution_count": null,
   "metadata": {},
   "outputs": [],
   "source": []
  },
  {
   "cell_type": "code",
   "execution_count": 502,
   "metadata": {},
   "outputs": [],
   "source": [
    "testData = pd.read_parquet(r'/Volumes/500G/GP/Toyota/ResultFromScrap/TOY-Table2.parquet')"
   ]
  },
  {
   "cell_type": "code",
   "execution_count": 504,
   "metadata": {},
   "outputs": [
    {
     "data": {
      "text/plain": [
       "42457"
      ]
     },
     "execution_count": 504,
     "metadata": {},
     "output_type": "execute_result"
    }
   ],
   "source": [
    "testData['PartID'].nunique()"
   ]
  },
  {
   "cell_type": "code",
   "execution_count": 501,
   "metadata": {},
   "outputs": [
    {
     "data": {
      "text/html": [
       "<div>\n",
       "<style scoped>\n",
       "    .dataframe tbody tr th:only-of-type {\n",
       "        vertical-align: middle;\n",
       "    }\n",
       "\n",
       "    .dataframe tbody tr th {\n",
       "        vertical-align: top;\n",
       "    }\n",
       "\n",
       "    .dataframe thead th {\n",
       "        text-align: right;\n",
       "    }\n",
       "</style>\n",
       "<table border=\"1\" class=\"dataframe\">\n",
       "  <thead>\n",
       "    <tr style=\"text-align: right;\">\n",
       "      <th></th>\n",
       "      <th>PartID</th>\n",
       "      <th>Part Description</th>\n",
       "    </tr>\n",
       "  </thead>\n",
       "  <tbody>\n",
       "    <tr>\n",
       "      <th>6</th>\n",
       "      <td>04111-0C105</td>\n",
       "      <td>ชุดปะเก็น, การซ่อมใหญ่เครื่องยนต์</td>\n",
       "    </tr>\n",
       "    <tr>\n",
       "      <th>7</th>\n",
       "      <td>04111-0C109</td>\n",
       "      <td>ชุดปะเก็น, การซ่อมใหญ่เครื่องยนต์</td>\n",
       "    </tr>\n",
       "    <tr>\n",
       "      <th>8</th>\n",
       "      <td>04111-0C126</td>\n",
       "      <td>ชุดปะเก็น, การซ่อมใหญ่เครื่องยนต์</td>\n",
       "    </tr>\n",
       "    <tr>\n",
       "      <th>10</th>\n",
       "      <td>04111-0C200</td>\n",
       "      <td>ชุดปะเก็น, การซ่อมใหญ่เครื่องยนต์</td>\n",
       "    </tr>\n",
       "    <tr>\n",
       "      <th>11</th>\n",
       "      <td>04111-0C222</td>\n",
       "      <td>ชุดปะเก็น, การซ่อมใหญ่เครื่องยนต์</td>\n",
       "    </tr>\n",
       "    <tr>\n",
       "      <th>...</th>\n",
       "      <td>...</td>\n",
       "      <td>...</td>\n",
       "    </tr>\n",
       "    <tr>\n",
       "      <th>49543</th>\n",
       "      <td>SU003-06070</td>\n",
       "      <td>ชุดกระบอก, ดิสก์เบรกหน้า, RH</td>\n",
       "    </tr>\n",
       "    <tr>\n",
       "      <th>49544</th>\n",
       "      <td>SU003-06071</td>\n",
       "      <td>ชุดกระบอก, ดิสก์เบรก, LH</td>\n",
       "    </tr>\n",
       "    <tr>\n",
       "      <th>49545</th>\n",
       "      <td>SU003-06093</td>\n",
       "      <td>แผงบังฝุ่น, แผงบังโคลนหน้า, RH</td>\n",
       "    </tr>\n",
       "    <tr>\n",
       "      <th>49546</th>\n",
       "      <td>SU003-07155</td>\n",
       "      <td>ขายึด, กันชนหน้าด้านข้าง, RH</td>\n",
       "    </tr>\n",
       "    <tr>\n",
       "      <th>49547</th>\n",
       "      <td>SU003-07156</td>\n",
       "      <td>ขายึด, กันชนหน้าด้านข้าง, LH</td>\n",
       "    </tr>\n",
       "  </tbody>\n",
       "</table>\n",
       "<p>42505 rows × 2 columns</p>\n",
       "</div>"
      ],
      "text/plain": [
       "            PartID                   Part Description\n",
       "6      04111-0C105  ชุดปะเก็น, การซ่อมใหญ่เครื่องยนต์\n",
       "7      04111-0C109  ชุดปะเก็น, การซ่อมใหญ่เครื่องยนต์\n",
       "8      04111-0C126  ชุดปะเก็น, การซ่อมใหญ่เครื่องยนต์\n",
       "10     04111-0C200  ชุดปะเก็น, การซ่อมใหญ่เครื่องยนต์\n",
       "11     04111-0C222  ชุดปะเก็น, การซ่อมใหญ่เครื่องยนต์\n",
       "...            ...                                ...\n",
       "49543  SU003-06070       ชุดกระบอก, ดิสก์เบรกหน้า, RH\n",
       "49544  SU003-06071           ชุดกระบอก, ดิสก์เบรก, LH\n",
       "49545  SU003-06093     แผงบังฝุ่น, แผงบังโคลนหน้า, RH\n",
       "49546  SU003-07155       ขายึด, กันชนหน้าด้านข้าง, RH\n",
       "49547  SU003-07156       ขายึด, กันชนหน้าด้านข้าง, LH\n",
       "\n",
       "[42505 rows x 2 columns]"
      ]
     },
     "execution_count": 501,
     "metadata": {},
     "output_type": "execute_result"
    }
   ],
   "source": [
    "testData.loc[testData['Part Description']!='ไม่มีใช้งาน']"
   ]
  }
 ],
 "metadata": {
  "kernelspec": {
   "display_name": "selenium",
   "language": "python",
   "name": "python3"
  },
  "language_info": {
   "codemirror_mode": {
    "name": "ipython",
    "version": 3
   },
   "file_extension": ".py",
   "mimetype": "text/x-python",
   "name": "python",
   "nbconvert_exporter": "python",
   "pygments_lexer": "ipython3",
   "version": "3.9.12"
  }
 },
 "nbformat": 4,
 "nbformat_minor": 2
}
