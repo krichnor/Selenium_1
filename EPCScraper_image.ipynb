{
 "cells": [
  {
   "cell_type": "code",
   "execution_count": 1,
   "metadata": {},
   "outputs": [],
   "source": [
    "from selenium import webdriver\n",
    "from selenium.webdriver.common.by import By\n",
    "from selenium.webdriver.common.keys import Keys\n",
    "import pandas as pd\n",
    "import bs4 as bs4\n",
    "import time\n",
    "from selenium.webdriver.support.ui import WebDriverWait\n",
    "from selenium.common.exceptions import TimeoutException\n",
    "from selenium.webdriver.support import expected_conditions as EC\n",
    "import urllib"
   ]
  },
  {
   "cell_type": "code",
   "execution_count": 21,
   "metadata": {},
   "outputs": [],
   "source": [
    "driver = webdriver.Edge()\n",
    "driver.get('https://spsepchtr.mx.toyota.co.jp/kN0k/V2/servlet/jp.co.toyota.pv2y580.servlet.CCV2Y580')\n",
    "user_input = driver.find_element(By.XPATH,'/html/body/div/div[2]/div[2]/div/div/form/div[2]/div[1]/table/tbody/tr[1]/td[2]/input')\n",
    "user_input.send_keys('12062B5@97221')\n",
    "pwd_input = driver.find_element(By.XPATH, '/html/body/div/div[2]/div[2]/div/div/form/div[2]/div[1]/table/tbody/tr[2]/td[2]/input')\n",
    "pwd_input.send_keys('Gpauto555#')\n",
    "pwd_input.send_keys(Keys.ENTER)"
   ]
  },
  {
   "cell_type": "code",
   "execution_count": 22,
   "metadata": {},
   "outputs": [],
   "source": [
    "confirm_login_button = driver.find_element(By.XPATH,'/html/body/div/div[2]/div/div[2]/input[1]')\n",
    "confirm_login_button.click()"
   ]
  },
  {
   "cell_type": "code",
   "execution_count": 23,
   "metadata": {},
   "outputs": [],
   "source": [
    "# Wait for the new window/tab and then switch to it\n",
    "window_handles = driver.window_handles\n",
    "driver.switch_to.window(window_handles[-1])"
   ]
  },
  {
   "cell_type": "code",
   "execution_count": 24,
   "metadata": {},
   "outputs": [],
   "source": [
    "#Get into the menu to search parts.\n",
    "iframe = driver.find_element(By.XPATH,'/html/body/div/iframe')\n",
    "driver.switch_to.frame(iframe)\n",
    "partSearch_button = driver.find_element(By.XPATH,'/html/body/form/div[1]/div[1]/div[3]/div[1]/fieldset/button[2]')\n",
    "partSearch_button.click()"
   ]
  },
  {
   "cell_type": "code",
   "execution_count": 25,
   "metadata": {},
   "outputs": [],
   "source": [
    "#Get into iframe that contain input box\n",
    "driver.switch_to.default_content()\n",
    "iframe = driver.find_element(By.XPATH,'/html/body/div[2]/iframe')\n",
    "driver.switch_to.frame(iframe)"
   ]
  },
  {
   "cell_type": "markdown",
   "metadata": {},
   "source": [
    "<font color='yellow' size = 5>Inventory</font>"
   ]
  },
  {
   "cell_type": "code",
   "execution_count": 32,
   "metadata": {},
   "outputs": [],
   "source": [
    "GPInventory = pd.read_excel(r'/Users/krichnorakhun/Documents/GP/inventory/GP.xlsx')\n",
    "GPInventory = GPInventory.loc[GPInventory['ItemGroup'].apply(lambda x : str(x).find('TOYOTA'))>=0][['ItemCode']]"
   ]
  },
  {
   "cell_type": "code",
   "execution_count": 33,
   "metadata": {},
   "outputs": [],
   "source": [
    "GPInventory = GPInventory.drop_duplicates()"
   ]
  },
  {
   "cell_type": "code",
   "execution_count": 34,
   "metadata": {},
   "outputs": [],
   "source": [
    "GPInventory.loc[:,'ItemCode'] = GPInventory['ItemCode'].apply(lambda x : x[4:] )"
   ]
  },
  {
   "cell_type": "code",
   "execution_count": 35,
   "metadata": {},
   "outputs": [],
   "source": [
    "GPInventory = GPInventory.loc[GPInventory['ItemCode'].apply(lambda x : len(x)).isin([10,12])]"
   ]
  },
  {
   "cell_type": "code",
   "execution_count": 36,
   "metadata": {},
   "outputs": [],
   "source": [
    "GPInventory.columns = ['Code']"
   ]
  },
  {
   "cell_type": "code",
   "execution_count": 37,
   "metadata": {},
   "outputs": [],
   "source": [
    "GPInventory = GPInventory.reset_index()"
   ]
  },
  {
   "cell_type": "code",
   "execution_count": 38,
   "metadata": {},
   "outputs": [],
   "source": [
    "GPInventory = GPInventory.drop(['index'], axis=1)"
   ]
  },
  {
   "cell_type": "markdown",
   "metadata": {},
   "source": [
    "<font color='yellow' size =5>Load from missing images</font>"
   ]
  },
  {
   "cell_type": "code",
   "execution_count": 7,
   "metadata": {},
   "outputs": [],
   "source": [
    "GPInventory = pd.read_csv(r'/Users/krichnorakhun/Documents/Machine Learning/selenium/temp/missingImage.csv')"
   ]
  },
  {
   "cell_type": "code",
   "execution_count": 8,
   "metadata": {},
   "outputs": [],
   "source": [
    "GPInventory = GPInventory.drop(['file','size'], axis=1)"
   ]
  },
  {
   "cell_type": "code",
   "execution_count": 9,
   "metadata": {},
   "outputs": [],
   "source": [
    "GPInventory.columns = ['Code']"
   ]
  },
  {
   "cell_type": "code",
   "execution_count": 10,
   "metadata": {},
   "outputs": [
    {
     "data": {
      "text/html": [
       "<div>\n",
       "<style scoped>\n",
       "    .dataframe tbody tr th:only-of-type {\n",
       "        vertical-align: middle;\n",
       "    }\n",
       "\n",
       "    .dataframe tbody tr th {\n",
       "        vertical-align: top;\n",
       "    }\n",
       "\n",
       "    .dataframe thead th {\n",
       "        text-align: right;\n",
       "    }\n",
       "</style>\n",
       "<table border=\"1\" class=\"dataframe\">\n",
       "  <thead>\n",
       "    <tr style=\"text-align: right;\">\n",
       "      <th></th>\n",
       "      <th>Code</th>\n",
       "    </tr>\n",
       "  </thead>\n",
       "  <tbody>\n",
       "    <tr>\n",
       "      <th>0</th>\n",
       "      <td>687500K010</td>\n",
       "    </tr>\n",
       "    <tr>\n",
       "      <th>1</th>\n",
       "      <td>1985011040</td>\n",
       "    </tr>\n",
       "    <tr>\n",
       "      <th>2</th>\n",
       "      <td>5534647010</td>\n",
       "    </tr>\n",
       "    <tr>\n",
       "      <th>3</th>\n",
       "      <td>1111574120</td>\n",
       "    </tr>\n",
       "    <tr>\n",
       "      <th>4</th>\n",
       "      <td>8521428090</td>\n",
       "    </tr>\n",
       "    <tr>\n",
       "      <th>...</th>\n",
       "      <td>...</td>\n",
       "    </tr>\n",
       "    <tr>\n",
       "      <th>186</th>\n",
       "      <td>9091901259</td>\n",
       "    </tr>\n",
       "    <tr>\n",
       "      <th>187</th>\n",
       "      <td>1111528040</td>\n",
       "    </tr>\n",
       "    <tr>\n",
       "      <th>188</th>\n",
       "      <td>222150D080</td>\n",
       "    </tr>\n",
       "    <tr>\n",
       "      <th>189</th>\n",
       "      <td>819100K010</td>\n",
       "    </tr>\n",
       "    <tr>\n",
       "      <th>190</th>\n",
       "      <td>4502506140</td>\n",
       "    </tr>\n",
       "  </tbody>\n",
       "</table>\n",
       "<p>191 rows × 1 columns</p>\n",
       "</div>"
      ],
      "text/plain": [
       "           Code\n",
       "0    687500K010\n",
       "1    1985011040\n",
       "2    5534647010\n",
       "3    1111574120\n",
       "4    8521428090\n",
       "..          ...\n",
       "186  9091901259\n",
       "187  1111528040\n",
       "188  222150D080\n",
       "189  819100K010\n",
       "190  4502506140\n",
       "\n",
       "[191 rows x 1 columns]"
      ]
     },
     "execution_count": 10,
     "metadata": {},
     "output_type": "execute_result"
    }
   ],
   "source": [
    "GPInventory"
   ]
  },
  {
   "cell_type": "markdown",
   "metadata": {},
   "source": [
    "<font color='yellow' size=5> Scrapping Part </font>"
   ]
  },
  {
   "cell_type": "code",
   "execution_count": 11,
   "metadata": {},
   "outputs": [],
   "source": [
    "def clickInput10(x):\n",
    "    #Get input box\n",
    "    part_1 = driver.find_element(By.XPATH,'/html/body/form/div[1]/div[1]/div[1]/div[2]/input[1]')\n",
    "    part_2 = driver.find_element(By.XPATH,'/html/body/form/div[1]/div[1]/div[1]/div[2]/input[2]')\n",
    "    part_3 = driver.find_element(By.XPATH,'/html/body/form/div[1]/div[1]/div[1]/div[2]/input[3]')\n",
    "    part_1.send_keys(x[:6])\n",
    "    part_2.send_keys(x[6:11])\n",
    "    #part_3.send_keys(x[11:])\n",
    "    part_3.send_keys(Keys.ENTER)\n",
    "    Run_Botton = driver.find_element(By.XPATH,'/html/body/form/div[1]/div[3]/div[2]/button[10]')\n",
    "    Run_Botton.click()\n",
    "    return"
   ]
  },
  {
   "cell_type": "code",
   "execution_count": 12,
   "metadata": {},
   "outputs": [],
   "source": [
    "def clickInput12(x):\n",
    "    #Get input box\n",
    "    part_1 = driver.find_element(By.XPATH,'/html/body/form/div[1]/div[1]/div[1]/div[2]/input[1]')\n",
    "    part_2 = driver.find_element(By.XPATH,'/html/body/form/div[1]/div[1]/div[1]/div[2]/input[2]')\n",
    "    part_3 = driver.find_element(By.XPATH,'/html/body/form/div[1]/div[1]/div[1]/div[2]/input[3]')\n",
    "    part_1.send_keys(x[:6])\n",
    "    part_2.send_keys(x[6:11])\n",
    "    part_3.send_keys(x[11:])\n",
    "    part_3.send_keys(Keys.ENTER)\n",
    "    Run_Botton = driver.find_element(By.XPATH,'/html/body/form/div[1]/div[3]/div[2]/button[10]')\n",
    "    Run_Botton.click()\n",
    "    return"
   ]
  },
  {
   "cell_type": "code",
   "execution_count": 13,
   "metadata": {},
   "outputs": [],
   "source": [
    "def getResult_1(x,output):\n",
    "    tempData = pd.DataFrame()\n",
    "    soup = bs4.BeautifulSoup(x)\n",
    "    tableInSoup = soup.find_all('table',{'class':'excelLikeList'})\n",
    "    tempData.loc[0, 'PartID'] = tableInSoup[0].find_all('div', { 'class':'side'})[0].text\n",
    "    tempData.loc[0, 'Part Description'] = tableInSoup[0].find_all('div', { 'class':'side'})[1].text\n",
    "    output = pd.concat([output,tempData], ignore_index=True)\n",
    "    return(output)"
   ]
  },
  {
   "cell_type": "code",
   "execution_count": 14,
   "metadata": {},
   "outputs": [],
   "source": [
    "def clickNewInput():\n",
    "    newFind = driver.find_element(By.XPATH,'/html/body/form/div[1]/div[3]/div[2]/button[1]')\n",
    "    newFind.click()\n"
   ]
  },
  {
   "cell_type": "code",
   "execution_count": 15,
   "metadata": {},
   "outputs": [],
   "source": [
    "def getResult_2(data,output):\n",
    "    soup = bs4.BeautifulSoup(data)\n",
    "    tableInSoup = soup.find_all('table',{'class':'excelLikeList'})\n",
    "    tempData = pd.DataFrame()\n",
    "    for x in tableInSoup[1].find_all('tr'):\n",
    "        tempData.loc[0,'PartID'] = x.find_all('td')[1].text\n",
    "        tempData.loc[0,'PNC'] = x.find_all('td')[2].text\n",
    "        tempData.loc[0,'Count'] = x.find_all('td')[3].text\n",
    "        tempData.loc[0,'Catalogue'] = x.find_all('td')[4].text\n",
    "        tempData.loc[0,'Model'] = x.find_all('td')[5].text\n",
    "        tempData.loc[0,'Fr-To'] = x.find_all('td')[6].text\n",
    "        tempData.loc[0,'Model(Details)'] = x.find_all('td')[7].text\n",
    "        output = pd.concat([output, tempData], ignore_index=True)\n",
    "    return(output)\n",
    "    #print(x.find_all('td')[1].text)"
   ]
  },
  {
   "cell_type": "code",
   "execution_count": 16,
   "metadata": {},
   "outputs": [],
   "source": [
    "def getResult_2pics(data,output,imgName,thirdTable):\n",
    "    soup = bs4.BeautifulSoup(data)\n",
    "    tableInSoup = soup.find_all('table',{'class':'excelLikeList'})\n",
    "    \n",
    "    tempData_List = []\n",
    "    for x in tableInSoup[1].find_all('tr'):\n",
    "        # tempData.loc[0,'PartID'] = x.find_all('td')[1].text\n",
    "        # tempData.loc[0,'PNC'] = x.find_all('td')[2].text\n",
    "        # tempData.loc[0,'Count'] = x.find_all('td')[3].text\n",
    "        # tempData.loc[0,'Catalogue'] = x.find_all('td')[4].text\n",
    "        # tempData.loc[0,'Model'] = x.find_all('td')[5].text\n",
    "        # tempData.loc[0,'Fr-To'] = x.find_all('td')[6].text\n",
    "        # tempData.loc[0,'Model(Details)'] = x.find_all('td')[7].text\n",
    "        \n",
    "        tempData_List.append({\n",
    "        'PartID': x.find_all('td')[1].text,\n",
    "        'PNC': x.find_all('td')[2].text,\n",
    "        'Count': x.find_all('td')[3].text,\n",
    "        'Catalogue': x.find_all('td')[4].text,\n",
    "        'Model': x.find_all('td')[5].text,\n",
    "        'Fr-To' : x.find_all('td')[6].text,\n",
    "        'Model(Details)' : x.find_all('td')[7].text\n",
    "        })\n",
    "\n",
    "        #output = pd.concat([output, tempData], ignore_index=True)\n",
    "        \n",
    "        #for add to Third Table\n",
    "        PartID = x.find_all('td')[1].text\n",
    "        PNC = x.find_all('td')[2].text\n",
    "    tempData = pd.DataFrame(tempData_List)\n",
    "    output = pd.concat([output, tempData], ignore_index=True)        \n",
    "    \n",
    "    #Click First Row\n",
    "    firtRowToClickID = soup.find_all('table',{'id':'F10_tblListInnerSearch'})[0].find_all('tr')[0].get('id')\n",
    "    driver.find_element(By.ID,firtRowToClickID).click()\n",
    "\n",
    "    #Click button to open new window to show picture\n",
    "    driver.find_element(By.XPATH,'/html/body/form/div[1]/div[3]/div[2]/button[8]').click()\n",
    "    \n",
    "    # Wait for a new window/tab to open\n",
    "    wait = WebDriverWait(driver, 60)\n",
    "    current_windows = driver.window_handles\n",
    "    wait.until(lambda driver: len(driver.window_handles) > len(current_windows))\n",
    "\n",
    "    # Switch to the new window/tab\n",
    "    new_window_handles = driver.window_handles\n",
    "    driver.switch_to.window(new_window_handles[-1])\n",
    "        \n",
    "    #Get into iframe where picture located.\n",
    "    iframe = driver.find_element(By.XPATH,'/html/body/div/iframe')\n",
    "    driver.switch_to.frame(iframe)\n",
    "\n",
    "    # Wait for the image to be present\n",
    "    wait = WebDriverWait(driver, 30)  # Adjust the timeout as needed\n",
    "    img_element = wait.until(EC.presence_of_element_located((By.ID, 'figImgFig')))\n",
    "\n",
    "    # Now retrieve the image URL\n",
    "    img_url = img_element.get_attribute('src')\n",
    "    urllib.request.urlretrieve(img_url,'images/'+imgName+'.png')\n",
    "\n",
    "    #Get PNC list on image and its location\n",
    "    data = driver.page_source\n",
    "    soup = bs4.BeautifulSoup(data)\n",
    "    \n",
    "    tempdata2_List = []\n",
    "    width = float(soup.find_all('img',{'id':'figImgFig'})[0].get('style').split(';')[1].split(':')[1].replace('px','').strip())\n",
    "    height = float(soup.find_all('img',{'id':'figImgFig'})[0].get('style').split(';')[2].split(':')[1].replace('px','').strip())\n",
    "    for pnc in soup.find_all('div',{'id':'figInner'})[0].find_all('div'):\n",
    "        top = float(pnc.get('style').split(';')[0].split(':')[1].replace('px', ''))\n",
    "        left = float(pnc.get('style').split(';')[1].split(':')[1].replace('px', ''))\n",
    "        fontsize = float(pnc.get('style').split(';')[2].split(':')[1].replace('px',''))\n",
    "        lineheight = float(pnc.get('style').split(';')[3].split(':')[1].replace('px',''))\n",
    "        transform = pnc.get('style').split(';')[4].split(':')[1].strip()        \n",
    "        text = pnc.text\n",
    "         # Append to the list as a dictionary\n",
    "        tempdata2_List.append({\n",
    "        'PartID': PartID,\n",
    "        'PNC': PNC,\n",
    "        'Top': top,\n",
    "        'Left': left,\n",
    "        'Fontsize':fontsize,\n",
    "        'LineHeight':lineheight,\n",
    "        'Transform':transform,\n",
    "        'Width':width,\n",
    "        'Height':height,\n",
    "        'Text': text\n",
    "        })\n",
    "    tempData2 = pd.DataFrame(tempdata2_List)\n",
    "    thirdTable = pd.concat([thirdTable, tempData2], ignore_index=True)\n",
    "\n",
    "    #Close window and switch back to previous window.\n",
    "    driver.close()\n",
    "    # Wait for the new window/tab and then switch to it\n",
    "    window_handles = driver.window_handles\n",
    "    driver.switch_to.window(window_handles[-1])\n",
    "\n",
    "    iframe = driver.find_element(By.XPATH,'/html/body/div[2]/iframe')\n",
    "    driver.switch_to.frame(iframe)\n",
    "    \n",
    "    return output,thirdTable\n",
    "    #print(x.find_all('td')[1].text)"
   ]
  },
  {
   "cell_type": "markdown",
   "metadata": {},
   "source": [
    "<font color='yellow' size=5> simulate save picture </font>"
   ]
  },
  {
   "cell_type": "code",
   "execution_count": 21,
   "metadata": {},
   "outputs": [],
   "source": [
    "clickInput12('687500K010')"
   ]
  },
  {
   "cell_type": "code",
   "execution_count": 22,
   "metadata": {},
   "outputs": [],
   "source": [
    "WebDriverWait(driver,60)\n",
    "data = driver.page_source\n",
    "soup = bs4.BeautifulSoup(data)"
   ]
  },
  {
   "cell_type": "code",
   "execution_count": 23,
   "metadata": {},
   "outputs": [],
   "source": [
    "firtRowToClickID = soup.find_all('table',{'id':'F10_tblListInnerSearch'})[0].find_all('tr')[0].get('id')"
   ]
  },
  {
   "cell_type": "code",
   "execution_count": 24,
   "metadata": {},
   "outputs": [],
   "source": [
    "driver.find_element(By.ID,firtRowToClickID).click()"
   ]
  },
  {
   "cell_type": "code",
   "execution_count": 25,
   "metadata": {},
   "outputs": [
    {
     "data": {
      "text/plain": [
       "True"
      ]
     },
     "execution_count": 25,
     "metadata": {},
     "output_type": "execute_result"
    }
   ],
   "source": [
    "#Click to open new window to show picture\n",
    "driver.find_element(By.XPATH,'/html/body/form/div[1]/div[3]/div[2]/button[8]').click()\n",
    "# Wait for a new window/tab to open\n",
    "wait = WebDriverWait(driver, 60)\n",
    "current_windows = driver.window_handles\n",
    "wait.until(lambda driver: len(driver.window_handles) > len(current_windows))"
   ]
  },
  {
   "cell_type": "code",
   "execution_count": 34,
   "metadata": {},
   "outputs": [],
   "source": [
    "# Switch to the new window/tab\n",
    "new_window_handles = driver.window_handles\n",
    "driver.switch_to.window(new_window_handles[-1])"
   ]
  },
  {
   "cell_type": "code",
   "execution_count": 35,
   "metadata": {},
   "outputs": [],
   "source": [
    "#Get into iframe where picture located.\n",
    "iframe = driver.find_element(By.XPATH,'/html/body/div/iframe')\n",
    "driver.switch_to.frame(iframe)"
   ]
  },
  {
   "cell_type": "code",
   "execution_count": 36,
   "metadata": {},
   "outputs": [
    {
     "name": "stdout",
     "output_type": "stream",
     "text": [
      "https://spsepchtr.mx.toyota.co.jp/kN0k/CONTENTS/HBUNKAI/113494B/113494B.PNG\n"
     ]
    }
   ],
   "source": [
    "# Wait for the image to be present\n",
    "wait = WebDriverWait(driver, 30)  # Adjust the timeout as needed\n",
    "img_element = wait.until(EC.presence_of_element_located((By.ID, 'figImgFig')))\n",
    "\n",
    "# Now retrieve the image URL\n",
    "img_url = img_element.get_attribute('src')\n",
    "print(img_url)"
   ]
  },
  {
   "cell_type": "code",
   "execution_count": 37,
   "metadata": {},
   "outputs": [],
   "source": [
    "data = driver.page_source\n",
    "soup = bs4.BeautifulSoup(data)"
   ]
  },
  {
   "cell_type": "code",
   "execution_count": 54,
   "metadata": {},
   "outputs": [],
   "source": [
    "width = float(soup.find_all('img',{'id':'figImgFig'})[0].get('style').split(';')[1].split(':')[1].replace('px','').strip())"
   ]
  },
  {
   "cell_type": "code",
   "execution_count": 60,
   "metadata": {},
   "outputs": [
    {
     "data": {
      "text/plain": [
       "492.0"
      ]
     },
     "execution_count": 60,
     "metadata": {},
     "output_type": "execute_result"
    }
   ],
   "source": [
    "height = float(soup.find_all('img',{'id':'figImgFig'})[0].get('style').split(';')[2].split(':')[1].replace('px','').strip())"
   ]
  },
  {
   "cell_type": "code",
   "execution_count": 31,
   "metadata": {},
   "outputs": [],
   "source": [
    "pnc = soup.find_all('div',{'id':'figInner'})[0].find_all('div')[0]"
   ]
  },
  {
   "cell_type": "code",
   "execution_count": 51,
   "metadata": {},
   "outputs": [
    {
     "data": {
      "text/plain": [
       "'top: 243.024px; left: 156.81px; font-size: 8.09647px; line-height: 8.09647px; transform: scale(1.1, 1.25);'"
      ]
     },
     "execution_count": 51,
     "metadata": {},
     "output_type": "execute_result"
    }
   ],
   "source": [
    "pnc.get('style')#.split(';')[4].split(':')[1].strip()"
   ]
  },
  {
   "cell_type": "code",
   "execution_count": 412,
   "metadata": {},
   "outputs": [
    {
     "name": "stdout",
     "output_type": "stream",
     "text": [
      "top: 243.024px; left: 156.81px; font-size: 8.09647px; line-height: 8.09647px; transform: scale(1.1, 1.25);\n",
      "156.81\n",
      "04112\n",
      "top: 6.02412px; left: 155.81px; font-size: 8.09647px; line-height: 8.09647px; transform: scale(1.1, 1.25);\n",
      "155.81\n",
      "04111\n"
     ]
    }
   ],
   "source": [
    "tempData2 = pd.DataFrame()\n",
    "for pnc in soup.find_all('div',{'id':'figInner'})[0].find_all('div'):\n",
    "    tempData2['PartID'] = PartID\n",
    "    tempData2['PNC'] = PNC\n",
    "    tempData2['Top'] = float(pnc.get('style').split(';')[0].split(':')[1].replace('px',''))\n",
    "    tempData2['Left'] = float(pnc.get('style').split(';')[1].split(':')[1].replace('px',''))\n",
    "    \n",
    "    tempData2['Text'] = pnc.text\n",
    "    \n",
    "    "
   ]
  },
  {
   "cell_type": "code",
   "execution_count": 395,
   "metadata": {},
   "outputs": [
    {
     "data": {
      "text/plain": [
       "'top: 243.024px; left: 156.81px; font-size: 8.09647px; line-height: 8.09647px; transform: scale(1.1, 1.25);'"
      ]
     },
     "execution_count": 395,
     "metadata": {},
     "output_type": "execute_result"
    }
   ],
   "source": [
    "soup.find_all('div',{'id':'figInner'})[0].find_all('div')[0].get('style')"
   ]
  },
  {
   "cell_type": "code",
   "execution_count": 92,
   "metadata": {},
   "outputs": [],
   "source": [
    "driver.close()"
   ]
  },
  {
   "cell_type": "code",
   "execution_count": 27,
   "metadata": {},
   "outputs": [],
   "source": [
    "# Wait for the new window/tab and then switch to it\n",
    "window_handles = driver.window_handles\n",
    "driver.switch_to.window(window_handles[-1])"
   ]
  },
  {
   "cell_type": "code",
   "execution_count": 28,
   "metadata": {},
   "outputs": [],
   "source": [
    "#Get into iframe that contain input box\n",
    "iframe = driver.find_element(By.XPATH,'/html/body/div[2]/iframe')\n",
    "driver.switch_to.frame(iframe)"
   ]
  },
  {
   "cell_type": "code",
   "execution_count": 210,
   "metadata": {},
   "outputs": [
    {
     "data": {
      "text/plain": [
       "[<title>Part Number Application to Models</title>]"
      ]
     },
     "execution_count": 210,
     "metadata": {},
     "output_type": "execute_result"
    }
   ],
   "source": [
    "bs4.BeautifulSoup(driver.page_source).find_all('title')"
   ]
  },
  {
   "cell_type": "code",
   "execution_count": 159,
   "metadata": {},
   "outputs": [
    {
     "data": {
      "text/plain": [
       "[<title>Part Number Application to Models</title>]"
      ]
     },
     "execution_count": 159,
     "metadata": {},
     "output_type": "execute_result"
    }
   ],
   "source": [
    "soup.find_all('title')"
   ]
  },
  {
   "cell_type": "markdown",
   "metadata": {},
   "source": [
    "<font color='yellow' size=5>RUN</font>"
   ]
  },
  {
   "cell_type": "code",
   "execution_count": 17,
   "metadata": {},
   "outputs": [],
   "source": [
    "MainTable = pd.DataFrame()\n",
    "SecondTable = pd.DataFrame()\n",
    "ThirdTable = pd.DataFrame()"
   ]
  },
  {
   "cell_type": "code",
   "execution_count": 18,
   "metadata": {},
   "outputs": [],
   "source": [
    "def clearCheckbox():\n",
    "    driver.find_element(By.ID,'F10_chkSmksKbnJA').click()\n",
    "    driver.find_element(By.ID,'F10_chkSmksKbnEU').click()\n",
    "    driver.find_element(By.ID,'F10_chkSmksKbnNA').click()"
   ]
  },
  {
   "cell_type": "code",
   "execution_count": 26,
   "metadata": {},
   "outputs": [
    {
     "name": "stdout",
     "output_type": "stream",
     "text": [
      "165\n",
      "166\n",
      "167\n",
      "168\n",
      "169\n",
      "170\n",
      "171\n",
      "172\n",
      "173\n",
      "174\n",
      "175\n",
      "176\n",
      "177\n",
      "178\n",
      "179\n",
      "180\n",
      "181\n",
      "182\n",
      "183\n",
      "184\n",
      "185\n",
      "186\n",
      "187\n",
      "188\n",
      "189\n",
      "190\n"
     ]
    }
   ],
   "source": [
    "for index, row in GPInventory.iloc[165:].iterrows():\n",
    "    \n",
    "    if len(row['Code'].strip())==10:\n",
    "        clickInput10(row['Code'].strip())\n",
    "    else:\n",
    "        clickInput12(row['Code'].strip())\n",
    "    \n",
    "    wait = WebDriverWait(driver, 60) \n",
    "    data = driver.page_source\n",
    "    soup = bs4.BeautifulSoup(data)\n",
    "\n",
    "    try:\n",
    "        wait.until(EC.visibility_of_element_located((By.ID, 'eltColF10_divListSelectHinban4')))\n",
    "        data = driver.page_source\n",
    "        soup = bs4.BeautifulSoup(data)\n",
    "        if soup.find_all('div',{'id':'eltColF10_divListSelectHinban4'})[0].text != 'ไม่มีใช้งาน':\n",
    "            wait.until(EC.visibility_of_element_located((By.ID, 'eltRowF10_divListSearch1')))\n",
    "       \n",
    "        #time.sleep(1)\n",
    "        data = driver.page_source\n",
    "        MainTable = getResult_1(data,MainTable)\n",
    "        if soup.find_all('div',{'id':'eltColF10_divListSelectHinban4'})[0].text != 'ไม่มีใช้งาน':\n",
    "            SecondTable, ThirdTable = getResult_2pics(data,SecondTable,row['Code'].strip(),ThirdTable)\n",
    "        print(index)\n",
    "        \n",
    "    except TimeoutException:\n",
    "        print(\"Timeout occurred! Performing alternative steps.\")\n",
    "\n",
    "    finally:\n",
    "        clickNewInput()\n",
    "        clearCheckbox()\n",
    "        "
   ]
  },
  {
   "cell_type": "code",
   "execution_count": 473,
   "metadata": {},
   "outputs": [],
   "source": [
    "#Get into iframe that contain input box\n",
    "driver.switch_to.default_content()\n",
    "iframe = driver.find_element(By.XPATH,'/html/body/div[2]/iframe')\n",
    "driver.switch_to.frame(iframe)"
   ]
  },
  {
   "cell_type": "code",
   "execution_count": 43,
   "metadata": {},
   "outputs": [],
   "source": [
    "clickNewInput()"
   ]
  },
  {
   "cell_type": "code",
   "execution_count": 74,
   "metadata": {},
   "outputs": [],
   "source": [
    "MainTable1 = MainTable.drop_duplicates()"
   ]
  },
  {
   "cell_type": "code",
   "execution_count": 75,
   "metadata": {},
   "outputs": [],
   "source": [
    "MainTable1.to_excel(r'/Users/krichnorakhun/Documents/GP/inventory/EPC1_w_images.xlsx', index=False)"
   ]
  },
  {
   "cell_type": "code",
   "execution_count": 76,
   "metadata": {},
   "outputs": [],
   "source": [
    "SecondTable1 = SecondTable.drop_duplicates()"
   ]
  },
  {
   "cell_type": "code",
   "execution_count": 77,
   "metadata": {},
   "outputs": [],
   "source": [
    "SecondTable1.to_excel(r'/Users/krichnorakhun/Documents/GP/inventory/EPC2_w_images.xlsx', index=False)"
   ]
  },
  {
   "cell_type": "code",
   "execution_count": 78,
   "metadata": {},
   "outputs": [],
   "source": [
    "ThirdTable1 = ThirdTable.drop_duplicates()"
   ]
  },
  {
   "cell_type": "code",
   "execution_count": 79,
   "metadata": {},
   "outputs": [],
   "source": [
    "ThirdTable1.to_csv(r'/Users/krichnorakhun/Documents/GP/inventory/EPC3_w_images.csv', index=False)"
   ]
  },
  {
   "cell_type": "code",
   "execution_count": 73,
   "metadata": {},
   "outputs": [
    {
     "data": {
      "text/html": [
       "<div>\n",
       "<style scoped>\n",
       "    .dataframe tbody tr th:only-of-type {\n",
       "        vertical-align: middle;\n",
       "    }\n",
       "\n",
       "    .dataframe tbody tr th {\n",
       "        vertical-align: top;\n",
       "    }\n",
       "\n",
       "    .dataframe thead th {\n",
       "        text-align: right;\n",
       "    }\n",
       "</style>\n",
       "<table border=\"1\" class=\"dataframe\">\n",
       "  <thead>\n",
       "    <tr style=\"text-align: right;\">\n",
       "      <th></th>\n",
       "      <th>PartID</th>\n",
       "      <th>Part Description</th>\n",
       "    </tr>\n",
       "  </thead>\n",
       "  <tbody>\n",
       "    <tr>\n",
       "      <th>0</th>\n",
       "      <td>04111-0E042</td>\n",
       "      <td>ไม่มีใช้งาน</td>\n",
       "    </tr>\n",
       "    <tr>\n",
       "      <th>1</th>\n",
       "      <td>04111-30544</td>\n",
       "      <td>ชุดปะเก็น, การซ่อมใหญ่เครื่องยนต์</td>\n",
       "    </tr>\n",
       "    <tr>\n",
       "      <th>2</th>\n",
       "      <td>04152-YZZA1</td>\n",
       "      <td>ไม่มีใช้งาน</td>\n",
       "    </tr>\n",
       "    <tr>\n",
       "      <th>3</th>\n",
       "      <td>04152-YZZA5</td>\n",
       "      <td>ไม่มีใช้งาน</td>\n",
       "    </tr>\n",
       "    <tr>\n",
       "      <th>4</th>\n",
       "      <td>04111-0C136</td>\n",
       "      <td>ไม่มีใช้งาน</td>\n",
       "    </tr>\n",
       "    <tr>\n",
       "      <th>...</th>\n",
       "      <td>...</td>\n",
       "      <td>...</td>\n",
       "    </tr>\n",
       "    <tr>\n",
       "      <th>4351</th>\n",
       "      <td>PZ046-0KS65</td>\n",
       "      <td>ไม่มีใช้งาน</td>\n",
       "    </tr>\n",
       "    <tr>\n",
       "      <th>4352</th>\n",
       "      <td>PZ057-0K022-00</td>\n",
       "      <td>ไม่มีใช้งาน</td>\n",
       "    </tr>\n",
       "    <tr>\n",
       "      <th>4353</th>\n",
       "      <td>PZT01-8702L</td>\n",
       "      <td>ไม่มีใช้งาน</td>\n",
       "    </tr>\n",
       "    <tr>\n",
       "      <th>4354</th>\n",
       "      <td>PZT01-8742L</td>\n",
       "      <td>ไม่มีใช้งาน</td>\n",
       "    </tr>\n",
       "    <tr>\n",
       "      <th>4355</th>\n",
       "      <td>PZT01-8752L</td>\n",
       "      <td>ไม่มีใช้งาน</td>\n",
       "    </tr>\n",
       "  </tbody>\n",
       "</table>\n",
       "<p>4351 rows × 2 columns</p>\n",
       "</div>"
      ],
      "text/plain": [
       "              PartID                   Part Description\n",
       "0        04111-0E042                        ไม่มีใช้งาน\n",
       "1        04111-30544  ชุดปะเก็น, การซ่อมใหญ่เครื่องยนต์\n",
       "2        04152-YZZA1                        ไม่มีใช้งาน\n",
       "3        04152-YZZA5                        ไม่มีใช้งาน\n",
       "4        04111-0C136                        ไม่มีใช้งาน\n",
       "...              ...                                ...\n",
       "4351     PZ046-0KS65                        ไม่มีใช้งาน\n",
       "4352  PZ057-0K022-00                        ไม่มีใช้งาน\n",
       "4353     PZT01-8702L                        ไม่มีใช้งาน\n",
       "4354     PZT01-8742L                        ไม่มีใช้งาน\n",
       "4355     PZT01-8752L                        ไม่มีใช้งาน\n",
       "\n",
       "[4351 rows x 2 columns]"
      ]
     },
     "execution_count": 73,
     "metadata": {},
     "output_type": "execute_result"
    }
   ],
   "source": [
    "MainTable"
   ]
  },
  {
   "cell_type": "code",
   "execution_count": 58,
   "metadata": {},
   "outputs": [
    {
     "data": {
      "text/html": [
       "<div>\n",
       "<style scoped>\n",
       "    .dataframe tbody tr th:only-of-type {\n",
       "        vertical-align: middle;\n",
       "    }\n",
       "\n",
       "    .dataframe tbody tr th {\n",
       "        vertical-align: top;\n",
       "    }\n",
       "\n",
       "    .dataframe thead th {\n",
       "        text-align: right;\n",
       "    }\n",
       "</style>\n",
       "<table border=\"1\" class=\"dataframe\">\n",
       "  <thead>\n",
       "    <tr style=\"text-align: right;\">\n",
       "      <th></th>\n",
       "      <th>PartID</th>\n",
       "      <th>PNC</th>\n",
       "      <th>Count</th>\n",
       "      <th>Catalogue</th>\n",
       "      <th>Model</th>\n",
       "      <th>Fr-To</th>\n",
       "      <th>Model(Details)</th>\n",
       "    </tr>\n",
       "  </thead>\n",
       "  <tbody>\n",
       "    <tr>\n",
       "      <th>0</th>\n",
       "      <td>04111-30544</td>\n",
       "      <td>04111</td>\n",
       "      <td>01</td>\n",
       "      <td>711350</td>\n",
       "      <td>HIACE</td>\n",
       "      <td>201005- 201309</td>\n",
       "      <td>2KDFTV..KDH222..TH</td>\n",
       "    </tr>\n",
       "    <tr>\n",
       "      <th>1</th>\n",
       "      <td>04112-0L191</td>\n",
       "      <td>04112</td>\n",
       "      <td>01</td>\n",
       "      <td>6713A0</td>\n",
       "      <td>FORTUNER</td>\n",
       "      <td>201410- 201611</td>\n",
       "      <td>2KDFTV..KUN50,60..IDN,MA,PHL,SA,VN*130</td>\n",
       "    </tr>\n",
       "    <tr>\n",
       "      <th>2</th>\n",
       "      <td>04112-0L191</td>\n",
       "      <td>04112</td>\n",
       "      <td>01</td>\n",
       "      <td>672380</td>\n",
       "      <td>HILUX</td>\n",
       "      <td>201410- 201601</td>\n",
       "      <td>2KDFTV..KUN25..IDN,MA2KDFTV..KUN35..DLX..PHL2K...</td>\n",
       "    </tr>\n",
       "    <tr>\n",
       "      <th>3</th>\n",
       "      <td>04112-0L191</td>\n",
       "      <td>04112</td>\n",
       "      <td>01</td>\n",
       "      <td>672390</td>\n",
       "      <td>HILUX</td>\n",
       "      <td>201505- 201707</td>\n",
       "      <td>2KDFTV..KUN125,135..HDCR</td>\n",
       "    </tr>\n",
       "    <tr>\n",
       "      <th>4</th>\n",
       "      <td>04226-0L010</td>\n",
       "      <td>04226</td>\n",
       "      <td>01</td>\n",
       "      <td>611260</td>\n",
       "      <td>INNOVA/KIJANG INNOVA</td>\n",
       "      <td>200507- 200708</td>\n",
       "      <td>2KDFTV..KUN40..IND*163 OR *184</td>\n",
       "    </tr>\n",
       "    <tr>\n",
       "      <th>...</th>\n",
       "      <td>...</td>\n",
       "      <td>...</td>\n",
       "      <td>...</td>\n",
       "      <td>...</td>\n",
       "      <td>...</td>\n",
       "      <td>...</td>\n",
       "      <td>...</td>\n",
       "    </tr>\n",
       "    <tr>\n",
       "      <th>49345</th>\n",
       "      <td>53124-YP200</td>\n",
       "      <td>53122F</td>\n",
       "      <td>01</td>\n",
       "      <td>149330</td>\n",
       "      <td>YARIS/VIOS/LIMO (4D)</td>\n",
       "      <td>202009- 202207</td>\n",
       "      <td>NSP152MLM PACKAGE&amp;ACTIVE SAFETY PACKAGE-WITH</td>\n",
       "    </tr>\n",
       "    <tr>\n",
       "      <th>49346</th>\n",
       "      <td>53124-YP200</td>\n",
       "      <td>53124C</td>\n",
       "      <td>01</td>\n",
       "      <td>14C310</td>\n",
       "      <td>VIOS (4D)</td>\n",
       "      <td>202007-</td>\n",
       "      <td>NSP151MLM PACKAGE</td>\n",
       "    </tr>\n",
       "    <tr>\n",
       "      <th>49347</th>\n",
       "      <td>53124-YP200</td>\n",
       "      <td>53124C</td>\n",
       "      <td>01</td>\n",
       "      <td>14C310</td>\n",
       "      <td>VIOS (4D)</td>\n",
       "      <td>202103-</td>\n",
       "      <td>NSP151..CVTGR SPORT&amp;MLM PACKAGE</td>\n",
       "    </tr>\n",
       "    <tr>\n",
       "      <th>49348</th>\n",
       "      <td>53124-YP200</td>\n",
       "      <td>53124C</td>\n",
       "      <td>01</td>\n",
       "      <td>14E310</td>\n",
       "      <td>LIMO/VIOS (4D)</td>\n",
       "      <td>202103-</td>\n",
       "      <td>NSP151..GMLM PACKAGE</td>\n",
       "    </tr>\n",
       "    <tr>\n",
       "      <th>49349</th>\n",
       "      <td>53124-YP200</td>\n",
       "      <td>53124C</td>\n",
       "      <td>01</td>\n",
       "      <td>14E310</td>\n",
       "      <td>LIMO/VIOS (4D)</td>\n",
       "      <td>202103-</td>\n",
       "      <td>NSP151..GGR SPORT&amp;MLM PACKAGE</td>\n",
       "    </tr>\n",
       "  </tbody>\n",
       "</table>\n",
       "<p>49350 rows × 7 columns</p>\n",
       "</div>"
      ],
      "text/plain": [
       "            PartID     PNC Count Catalogue                 Model  \\\n",
       "0      04111-30544   04111    01    711350                 HIACE   \n",
       "1      04112-0L191   04112    01    6713A0              FORTUNER   \n",
       "2      04112-0L191   04112    01    672380                 HILUX   \n",
       "3      04112-0L191   04112    01    672390                 HILUX   \n",
       "4      04226-0L010   04226    01    611260  INNOVA/KIJANG INNOVA   \n",
       "...            ...     ...   ...       ...                   ...   \n",
       "49345  53124-YP200  53122F    01    149330  YARIS/VIOS/LIMO (4D)   \n",
       "49346  53124-YP200  53124C    01    14C310             VIOS (4D)   \n",
       "49347  53124-YP200  53124C    01    14C310             VIOS (4D)   \n",
       "49348  53124-YP200  53124C    01    14E310        LIMO/VIOS (4D)   \n",
       "49349  53124-YP200  53124C    01    14E310        LIMO/VIOS (4D)   \n",
       "\n",
       "                Fr-To                                     Model(Details)  \n",
       "0      201005- 201309                                 2KDFTV..KDH222..TH  \n",
       "1      201410- 201611             2KDFTV..KUN50,60..IDN,MA,PHL,SA,VN*130  \n",
       "2      201410- 201601  2KDFTV..KUN25..IDN,MA2KDFTV..KUN35..DLX..PHL2K...  \n",
       "3      201505- 201707                           2KDFTV..KUN125,135..HDCR  \n",
       "4      200507- 200708                     2KDFTV..KUN40..IND*163 OR *184  \n",
       "...               ...                                                ...  \n",
       "49345  202009- 202207       NSP152MLM PACKAGE&ACTIVE SAFETY PACKAGE-WITH  \n",
       "49346         202007-                                  NSP151MLM PACKAGE  \n",
       "49347         202103-                    NSP151..CVTGR SPORT&MLM PACKAGE  \n",
       "49348         202103-                               NSP151..GMLM PACKAGE  \n",
       "49349         202103-                      NSP151..GGR SPORT&MLM PACKAGE  \n",
       "\n",
       "[49350 rows x 7 columns]"
      ]
     },
     "execution_count": 58,
     "metadata": {},
     "output_type": "execute_result"
    }
   ],
   "source": [
    "SecondTable"
   ]
  },
  {
   "cell_type": "code",
   "execution_count": 75,
   "metadata": {},
   "outputs": [
    {
     "data": {
      "text/html": [
       "<div>\n",
       "<style scoped>\n",
       "    .dataframe tbody tr th:only-of-type {\n",
       "        vertical-align: middle;\n",
       "    }\n",
       "\n",
       "    .dataframe tbody tr th {\n",
       "        vertical-align: top;\n",
       "    }\n",
       "\n",
       "    .dataframe thead th {\n",
       "        text-align: right;\n",
       "    }\n",
       "</style>\n",
       "<table border=\"1\" class=\"dataframe\">\n",
       "  <thead>\n",
       "    <tr style=\"text-align: right;\">\n",
       "      <th></th>\n",
       "      <th>PartID</th>\n",
       "      <th>PNC</th>\n",
       "      <th>Count</th>\n",
       "      <th>Catalogue</th>\n",
       "      <th>Model</th>\n",
       "      <th>Fr-To</th>\n",
       "      <th>Model(Details)</th>\n",
       "    </tr>\n",
       "  </thead>\n",
       "  <tbody>\n",
       "    <tr>\n",
       "      <th>21770</th>\n",
       "      <td>27060-0C021</td>\n",
       "      <td>27020</td>\n",
       "      <td>01</td>\n",
       "      <td>611260</td>\n",
       "      <td>INNOVA/KIJANG INNOVA</td>\n",
       "      <td>201003- 201204</td>\n",
       "      <td>1TRFE,2TRFE..TGN4#..GCC,IDN,MA,PHL,TH,VN12V 80A</td>\n",
       "    </tr>\n",
       "    <tr>\n",
       "      <th>21771</th>\n",
       "      <td>27060-0C021</td>\n",
       "      <td>27020</td>\n",
       "      <td>01</td>\n",
       "      <td>611270</td>\n",
       "      <td>INNOVA/KIJANG INNOVA</td>\n",
       "      <td>201107- 201204</td>\n",
       "      <td>2TRFE..TGN4112V 80A</td>\n",
       "    </tr>\n",
       "    <tr>\n",
       "      <th>21772</th>\n",
       "      <td>27060-0C021</td>\n",
       "      <td>27020</td>\n",
       "      <td>01</td>\n",
       "      <td>611270</td>\n",
       "      <td>INNOVA/KIJANG INNOVA</td>\n",
       "      <td>201107- 201212</td>\n",
       "      <td>1TRFE..TGN40..(GL,STD)..VN1TRFE..TGN40..4FC..D...</td>\n",
       "    </tr>\n",
       "    <tr>\n",
       "      <th>21773</th>\n",
       "      <td>27060-0C021</td>\n",
       "      <td>27020</td>\n",
       "      <td>01</td>\n",
       "      <td>611270</td>\n",
       "      <td>INNOVA/KIJANG INNOVA</td>\n",
       "      <td>201107- 201304</td>\n",
       "      <td>1TRFE..TGN40..IDN,TH1TRFE..TGN40..5F..DLX..VN1...</td>\n",
       "    </tr>\n",
       "    <tr>\n",
       "      <th>21774</th>\n",
       "      <td>27060-0C021</td>\n",
       "      <td>27020</td>\n",
       "      <td>01</td>\n",
       "      <td>611270</td>\n",
       "      <td>INNOVA/KIJANG INNOVA</td>\n",
       "      <td>201204- 201304</td>\n",
       "      <td>2TRFE..TGN4112V 80A</td>\n",
       "    </tr>\n",
       "    <tr>\n",
       "      <th>21775</th>\n",
       "      <td>27060-0C021</td>\n",
       "      <td>27020</td>\n",
       "      <td>01</td>\n",
       "      <td>611270</td>\n",
       "      <td>INNOVA/KIJANG INNOVA</td>\n",
       "      <td>201107- 201603</td>\n",
       "      <td>1TRFE..TGN40..MA,PHL12V 80A</td>\n",
       "    </tr>\n",
       "    <tr>\n",
       "      <th>21776</th>\n",
       "      <td>27060-0C021</td>\n",
       "      <td>27020</td>\n",
       "      <td>01</td>\n",
       "      <td>611270</td>\n",
       "      <td>INNOVA/KIJANG INNOVA</td>\n",
       "      <td>201304- 201603</td>\n",
       "      <td>2TRFE..TGN4112V 80A</td>\n",
       "    </tr>\n",
       "    <tr>\n",
       "      <th>21777</th>\n",
       "      <td>27060-0C021</td>\n",
       "      <td>27020</td>\n",
       "      <td>01</td>\n",
       "      <td>671380</td>\n",
       "      <td>FORTUNER</td>\n",
       "      <td>201003- 201204</td>\n",
       "      <td>2TRFE..TGN51,6112V 80A</td>\n",
       "    </tr>\n",
       "    <tr>\n",
       "      <th>21778</th>\n",
       "      <td>27060-0C021</td>\n",
       "      <td>27020</td>\n",
       "      <td>01</td>\n",
       "      <td>6713A0</td>\n",
       "      <td>FORTUNER</td>\n",
       "      <td>201107- 201204</td>\n",
       "      <td>2TRFE..TGN51,61..GCC,PHL12V 80A</td>\n",
       "    </tr>\n",
       "    <tr>\n",
       "      <th>21779</th>\n",
       "      <td>27060-0C021</td>\n",
       "      <td>27020</td>\n",
       "      <td>01</td>\n",
       "      <td>6713A0</td>\n",
       "      <td>FORTUNER</td>\n",
       "      <td>201107- 201304</td>\n",
       "      <td>2TRFE..TGN51,61..IDN,TH,VN12V 80A</td>\n",
       "    </tr>\n",
       "    <tr>\n",
       "      <th>21780</th>\n",
       "      <td>27060-0C021</td>\n",
       "      <td>27020</td>\n",
       "      <td>01</td>\n",
       "      <td>6713A0</td>\n",
       "      <td>FORTUNER</td>\n",
       "      <td>201204- 201304</td>\n",
       "      <td>2TRFE..TGN51,61..GCC,PHL12V 80A</td>\n",
       "    </tr>\n",
       "    <tr>\n",
       "      <th>21781</th>\n",
       "      <td>27060-0C021</td>\n",
       "      <td>27020</td>\n",
       "      <td>01</td>\n",
       "      <td>6713A0</td>\n",
       "      <td>FORTUNER</td>\n",
       "      <td>201107- 201703</td>\n",
       "      <td>2TRFE..TGN51,61..CO,EPT,GEN,KZS,LA,MA,PKN,SA12...</td>\n",
       "    </tr>\n",
       "    <tr>\n",
       "      <th>21782</th>\n",
       "      <td>27060-0C021</td>\n",
       "      <td>27020</td>\n",
       "      <td>01</td>\n",
       "      <td>6713A0</td>\n",
       "      <td>FORTUNER</td>\n",
       "      <td>201304- 201703</td>\n",
       "      <td>2TRFE..TGN51,61..GCC,PHL12V 80A</td>\n",
       "    </tr>\n",
       "    <tr>\n",
       "      <th>21783</th>\n",
       "      <td>27060-0C021</td>\n",
       "      <td>27020</td>\n",
       "      <td>01</td>\n",
       "      <td>672370</td>\n",
       "      <td>HILUX</td>\n",
       "      <td>201003- 201107</td>\n",
       "      <td>2TRFE..TGN16..(DCB,SCB)..GEN12V 80A</td>\n",
       "    </tr>\n",
       "    <tr>\n",
       "      <th>21784</th>\n",
       "      <td>27060-0C021</td>\n",
       "      <td>27020</td>\n",
       "      <td>01</td>\n",
       "      <td>672370</td>\n",
       "      <td>HILUX</td>\n",
       "      <td>201003- 201108</td>\n",
       "      <td>1TRFE..TGN15..IV312V 80A</td>\n",
       "    </tr>\n",
       "    <tr>\n",
       "      <th>21785</th>\n",
       "      <td>27060-0C021</td>\n",
       "      <td>27020</td>\n",
       "      <td>01</td>\n",
       "      <td>672370</td>\n",
       "      <td>HILUX</td>\n",
       "      <td>201003- 201204</td>\n",
       "      <td>1TRFE..TGN15..CBU2TRFE..TGN16..XTR2TRFE..TGN16...</td>\n",
       "    </tr>\n",
       "    <tr>\n",
       "      <th>21786</th>\n",
       "      <td>27060-0C021</td>\n",
       "      <td>27020</td>\n",
       "      <td>01</td>\n",
       "      <td>672380</td>\n",
       "      <td>HILUX</td>\n",
       "      <td>201107- 201204</td>\n",
       "      <td>2TRFE..TGN16..ARL,GEN2TRFE..TGN16..SR..GCC2TRF...</td>\n",
       "    </tr>\n",
       "    <tr>\n",
       "      <th>21787</th>\n",
       "      <td>27060-0C021</td>\n",
       "      <td>27020</td>\n",
       "      <td>01</td>\n",
       "      <td>672380</td>\n",
       "      <td>HILUX</td>\n",
       "      <td>201107- 201304</td>\n",
       "      <td>1TRFE,2TRFE..TGN10,16..IDN,TH12V 80A</td>\n",
       "    </tr>\n",
       "    <tr>\n",
       "      <th>21788</th>\n",
       "      <td>27060-0C021</td>\n",
       "      <td>27020</td>\n",
       "      <td>01</td>\n",
       "      <td>672380</td>\n",
       "      <td>HILUX</td>\n",
       "      <td>201204- 201304</td>\n",
       "      <td>2TRFE..TGN16..ARL2TRFE..TGN16..XTR2TRFE..TGN26...</td>\n",
       "    </tr>\n",
       "    <tr>\n",
       "      <th>21789</th>\n",
       "      <td>27060-0C021</td>\n",
       "      <td>27020</td>\n",
       "      <td>01</td>\n",
       "      <td>672380</td>\n",
       "      <td>HILUX</td>\n",
       "      <td>201107-</td>\n",
       "      <td>2TRFE..TGN26..4FC..GEN2TRFE..TGN26..SCB..GEN2T...</td>\n",
       "    </tr>\n",
       "    <tr>\n",
       "      <th>21790</th>\n",
       "      <td>27060-0C021</td>\n",
       "      <td>27020</td>\n",
       "      <td>01</td>\n",
       "      <td>672380</td>\n",
       "      <td>HILUX</td>\n",
       "      <td>201304-</td>\n",
       "      <td>2TRFE..TGN16..ARL2TRFE..TGN16..XTR2TRFE..TGN26...</td>\n",
       "    </tr>\n",
       "  </tbody>\n",
       "</table>\n",
       "</div>"
      ],
      "text/plain": [
       "            PartID    PNC Count Catalogue                 Model  \\\n",
       "21770  27060-0C021  27020    01    611260  INNOVA/KIJANG INNOVA   \n",
       "21771  27060-0C021  27020    01    611270  INNOVA/KIJANG INNOVA   \n",
       "21772  27060-0C021  27020    01    611270  INNOVA/KIJANG INNOVA   \n",
       "21773  27060-0C021  27020    01    611270  INNOVA/KIJANG INNOVA   \n",
       "21774  27060-0C021  27020    01    611270  INNOVA/KIJANG INNOVA   \n",
       "21775  27060-0C021  27020    01    611270  INNOVA/KIJANG INNOVA   \n",
       "21776  27060-0C021  27020    01    611270  INNOVA/KIJANG INNOVA   \n",
       "21777  27060-0C021  27020    01    671380              FORTUNER   \n",
       "21778  27060-0C021  27020    01    6713A0              FORTUNER   \n",
       "21779  27060-0C021  27020    01    6713A0              FORTUNER   \n",
       "21780  27060-0C021  27020    01    6713A0              FORTUNER   \n",
       "21781  27060-0C021  27020    01    6713A0              FORTUNER   \n",
       "21782  27060-0C021  27020    01    6713A0              FORTUNER   \n",
       "21783  27060-0C021  27020    01    672370                 HILUX   \n",
       "21784  27060-0C021  27020    01    672370                 HILUX   \n",
       "21785  27060-0C021  27020    01    672370                 HILUX   \n",
       "21786  27060-0C021  27020    01    672380                 HILUX   \n",
       "21787  27060-0C021  27020    01    672380                 HILUX   \n",
       "21788  27060-0C021  27020    01    672380                 HILUX   \n",
       "21789  27060-0C021  27020    01    672380                 HILUX   \n",
       "21790  27060-0C021  27020    01    672380                 HILUX   \n",
       "\n",
       "                Fr-To                                     Model(Details)  \n",
       "21770  201003- 201204    1TRFE,2TRFE..TGN4#..GCC,IDN,MA,PHL,TH,VN12V 80A  \n",
       "21771  201107- 201204                                2TRFE..TGN4112V 80A  \n",
       "21772  201107- 201212  1TRFE..TGN40..(GL,STD)..VN1TRFE..TGN40..4FC..D...  \n",
       "21773  201107- 201304  1TRFE..TGN40..IDN,TH1TRFE..TGN40..5F..DLX..VN1...  \n",
       "21774  201204- 201304                                2TRFE..TGN4112V 80A  \n",
       "21775  201107- 201603                        1TRFE..TGN40..MA,PHL12V 80A  \n",
       "21776  201304- 201603                                2TRFE..TGN4112V 80A  \n",
       "21777  201003- 201204                             2TRFE..TGN51,6112V 80A  \n",
       "21778  201107- 201204                    2TRFE..TGN51,61..GCC,PHL12V 80A  \n",
       "21779  201107- 201304                  2TRFE..TGN51,61..IDN,TH,VN12V 80A  \n",
       "21780  201204- 201304                    2TRFE..TGN51,61..GCC,PHL12V 80A  \n",
       "21781  201107- 201703  2TRFE..TGN51,61..CO,EPT,GEN,KZS,LA,MA,PKN,SA12...  \n",
       "21782  201304- 201703                    2TRFE..TGN51,61..GCC,PHL12V 80A  \n",
       "21783  201003- 201107                2TRFE..TGN16..(DCB,SCB)..GEN12V 80A  \n",
       "21784  201003- 201108                           1TRFE..TGN15..IV312V 80A  \n",
       "21785  201003- 201204  1TRFE..TGN15..CBU2TRFE..TGN16..XTR2TRFE..TGN16...  \n",
       "21786  201107- 201204  2TRFE..TGN16..ARL,GEN2TRFE..TGN16..SR..GCC2TRF...  \n",
       "21787  201107- 201304               1TRFE,2TRFE..TGN10,16..IDN,TH12V 80A  \n",
       "21788  201204- 201304  2TRFE..TGN16..ARL2TRFE..TGN16..XTR2TRFE..TGN26...  \n",
       "21789         201107-  2TRFE..TGN26..4FC..GEN2TRFE..TGN26..SCB..GEN2T...  \n",
       "21790         201304-  2TRFE..TGN16..ARL2TRFE..TGN16..XTR2TRFE..TGN26...  "
      ]
     },
     "execution_count": 75,
     "metadata": {},
     "output_type": "execute_result"
    }
   ],
   "source": [
    "SecondTable.loc[SecondTable['PartID']=='27060-0C021']"
   ]
  },
  {
   "cell_type": "code",
   "execution_count": 80,
   "metadata": {},
   "outputs": [
    {
     "data": {
      "text/html": [
       "<div>\n",
       "<style scoped>\n",
       "    .dataframe tbody tr th:only-of-type {\n",
       "        vertical-align: middle;\n",
       "    }\n",
       "\n",
       "    .dataframe tbody tr th {\n",
       "        vertical-align: top;\n",
       "    }\n",
       "\n",
       "    .dataframe thead th {\n",
       "        text-align: right;\n",
       "    }\n",
       "</style>\n",
       "<table border=\"1\" class=\"dataframe\">\n",
       "  <thead>\n",
       "    <tr style=\"text-align: right;\">\n",
       "      <th></th>\n",
       "      <th>PartID</th>\n",
       "      <th>PNC</th>\n",
       "      <th>Top</th>\n",
       "      <th>Left</th>\n",
       "      <th>Fontsize</th>\n",
       "      <th>LineHeight</th>\n",
       "      <th>Transform</th>\n",
       "      <th>Width</th>\n",
       "      <th>Height</th>\n",
       "      <th>Text</th>\n",
       "    </tr>\n",
       "  </thead>\n",
       "  <tbody>\n",
       "    <tr>\n",
       "      <th>0</th>\n",
       "      <td>04111-30544</td>\n",
       "      <td>04111</td>\n",
       "      <td>243.02400</td>\n",
       "      <td>156.8100</td>\n",
       "      <td>8.09647</td>\n",
       "      <td>8.09647</td>\n",
       "      <td>scale(1.1, 1.25)</td>\n",
       "      <td>339.0</td>\n",
       "      <td>492.0</td>\n",
       "      <td>04112</td>\n",
       "    </tr>\n",
       "    <tr>\n",
       "      <th>1</th>\n",
       "      <td>04111-30544</td>\n",
       "      <td>04111</td>\n",
       "      <td>6.02412</td>\n",
       "      <td>155.8100</td>\n",
       "      <td>8.09647</td>\n",
       "      <td>8.09647</td>\n",
       "      <td>scale(1.1, 1.25)</td>\n",
       "      <td>339.0</td>\n",
       "      <td>492.0</td>\n",
       "      <td>04111</td>\n",
       "    </tr>\n",
       "    <tr>\n",
       "      <th>2</th>\n",
       "      <td>04112-0L191</td>\n",
       "      <td>04112</td>\n",
       "      <td>13.02460</td>\n",
       "      <td>157.8100</td>\n",
       "      <td>8.09856</td>\n",
       "      <td>8.09856</td>\n",
       "      <td>scale(1.1, 1.25)</td>\n",
       "      <td>339.0</td>\n",
       "      <td>493.0</td>\n",
       "      <td>04111</td>\n",
       "    </tr>\n",
       "    <tr>\n",
       "      <th>3</th>\n",
       "      <td>04112-0L191</td>\n",
       "      <td>04112</td>\n",
       "      <td>28.02460</td>\n",
       "      <td>157.8100</td>\n",
       "      <td>8.09856</td>\n",
       "      <td>8.09856</td>\n",
       "      <td>scale(1.1, 1.25)</td>\n",
       "      <td>339.0</td>\n",
       "      <td>493.0</td>\n",
       "      <td>04112</td>\n",
       "    </tr>\n",
       "    <tr>\n",
       "      <th>4</th>\n",
       "      <td>04226-0L010</td>\n",
       "      <td>04226</td>\n",
       "      <td>264.73400</td>\n",
       "      <td>476.6330</td>\n",
       "      <td>7.34137</td>\n",
       "      <td>7.34137</td>\n",
       "      <td>scale(0.95, 1.1)</td>\n",
       "      <td>650.0</td>\n",
       "      <td>448.0</td>\n",
       "      <td>90466-T0041</td>\n",
       "    </tr>\n",
       "    <tr>\n",
       "      <th>...</th>\n",
       "      <td>...</td>\n",
       "      <td>...</td>\n",
       "      <td>...</td>\n",
       "      <td>...</td>\n",
       "      <td>...</td>\n",
       "      <td>...</td>\n",
       "      <td>...</td>\n",
       "      <td>...</td>\n",
       "      <td>...</td>\n",
       "      <td>...</td>\n",
       "    </tr>\n",
       "    <tr>\n",
       "      <th>128012</th>\n",
       "      <td>99367-J1960</td>\n",
       "      <td>16361A</td>\n",
       "      <td>291.77100</td>\n",
       "      <td>34.7084</td>\n",
       "      <td>7.08441</td>\n",
       "      <td>7.08441</td>\n",
       "      <td>scale(1.1, 1.25)</td>\n",
       "      <td>339.0</td>\n",
       "      <td>492.0</td>\n",
       "      <td>FIG 16-01</td>\n",
       "    </tr>\n",
       "    <tr>\n",
       "      <th>128013</th>\n",
       "      <td>99367-J1960</td>\n",
       "      <td>16361A</td>\n",
       "      <td>130.77100</td>\n",
       "      <td>185.7080</td>\n",
       "      <td>7.08441</td>\n",
       "      <td>7.08441</td>\n",
       "      <td>scale(1.1, 1.25)</td>\n",
       "      <td>339.0</td>\n",
       "      <td>492.0</td>\n",
       "      <td>REFER TO</td>\n",
       "    </tr>\n",
       "    <tr>\n",
       "      <th>128014</th>\n",
       "      <td>99367-J1960</td>\n",
       "      <td>16361A</td>\n",
       "      <td>136.77100</td>\n",
       "      <td>185.7080</td>\n",
       "      <td>7.08441</td>\n",
       "      <td>7.08441</td>\n",
       "      <td>scale(1.1, 1.25)</td>\n",
       "      <td>339.0</td>\n",
       "      <td>492.0</td>\n",
       "      <td>FIG 11-06</td>\n",
       "    </tr>\n",
       "    <tr>\n",
       "      <th>128015</th>\n",
       "      <td>99367-J1960</td>\n",
       "      <td>16361A</td>\n",
       "      <td>130.77100</td>\n",
       "      <td>264.7080</td>\n",
       "      <td>7.08441</td>\n",
       "      <td>7.08441</td>\n",
       "      <td>scale(1.1, 1.25)</td>\n",
       "      <td>339.0</td>\n",
       "      <td>492.0</td>\n",
       "      <td>REFER TO</td>\n",
       "    </tr>\n",
       "    <tr>\n",
       "      <th>128016</th>\n",
       "      <td>99367-J1960</td>\n",
       "      <td>16361A</td>\n",
       "      <td>136.77100</td>\n",
       "      <td>264.7080</td>\n",
       "      <td>7.08441</td>\n",
       "      <td>7.08441</td>\n",
       "      <td>scale(1.1, 1.25)</td>\n",
       "      <td>339.0</td>\n",
       "      <td>492.0</td>\n",
       "      <td>FIG 16-01</td>\n",
       "    </tr>\n",
       "  </tbody>\n",
       "</table>\n",
       "<p>128017 rows × 10 columns</p>\n",
       "</div>"
      ],
      "text/plain": [
       "             PartID     PNC        Top      Left  Fontsize  LineHeight  \\\n",
       "0       04111-30544   04111  243.02400  156.8100   8.09647     8.09647   \n",
       "1       04111-30544   04111    6.02412  155.8100   8.09647     8.09647   \n",
       "2       04112-0L191   04112   13.02460  157.8100   8.09856     8.09856   \n",
       "3       04112-0L191   04112   28.02460  157.8100   8.09856     8.09856   \n",
       "4       04226-0L010   04226  264.73400  476.6330   7.34137     7.34137   \n",
       "...             ...     ...        ...       ...       ...         ...   \n",
       "128012  99367-J1960  16361A  291.77100   34.7084   7.08441     7.08441   \n",
       "128013  99367-J1960  16361A  130.77100  185.7080   7.08441     7.08441   \n",
       "128014  99367-J1960  16361A  136.77100  185.7080   7.08441     7.08441   \n",
       "128015  99367-J1960  16361A  130.77100  264.7080   7.08441     7.08441   \n",
       "128016  99367-J1960  16361A  136.77100  264.7080   7.08441     7.08441   \n",
       "\n",
       "               Transform  Width  Height         Text  \n",
       "0       scale(1.1, 1.25)  339.0   492.0        04112  \n",
       "1       scale(1.1, 1.25)  339.0   492.0        04111  \n",
       "2       scale(1.1, 1.25)  339.0   493.0        04111  \n",
       "3       scale(1.1, 1.25)  339.0   493.0        04112  \n",
       "4       scale(0.95, 1.1)  650.0   448.0  90466-T0041  \n",
       "...                  ...    ...     ...          ...  \n",
       "128012  scale(1.1, 1.25)  339.0   492.0    FIG 16-01  \n",
       "128013  scale(1.1, 1.25)  339.0   492.0     REFER TO  \n",
       "128014  scale(1.1, 1.25)  339.0   492.0    FIG 11-06  \n",
       "128015  scale(1.1, 1.25)  339.0   492.0     REFER TO  \n",
       "128016  scale(1.1, 1.25)  339.0   492.0    FIG 16-01  \n",
       "\n",
       "[128017 rows x 10 columns]"
      ]
     },
     "execution_count": 80,
     "metadata": {},
     "output_type": "execute_result"
    }
   ],
   "source": [
    "ThirdTable"
   ]
  }
 ],
 "metadata": {
  "kernelspec": {
   "display_name": "selenium",
   "language": "python",
   "name": "python3"
  },
  "language_info": {
   "codemirror_mode": {
    "name": "ipython",
    "version": 3
   },
   "file_extension": ".py",
   "mimetype": "text/x-python",
   "name": "python",
   "nbconvert_exporter": "python",
   "pygments_lexer": "ipython3",
   "version": "3.9.12"
  }
 },
 "nbformat": 4,
 "nbformat_minor": 2
}
