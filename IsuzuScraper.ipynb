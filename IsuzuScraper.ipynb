{
 "cells": [
  {
   "cell_type": "code",
   "execution_count": 1,
   "metadata": {},
   "outputs": [],
   "source": [
    "from selenium import webdriver\n",
    "from selenium.webdriver.support.ui import Select\n",
    "from selenium.webdriver.common.by import By\n",
    "from selenium.webdriver.common.keys import Keys\n",
    "import pandas as pd \n",
    "import bs4 as bs4\n",
    "import time\n",
    "from selenium.webdriver.support.ui import WebDriverWait\n",
    "from selenium.common.exceptions import TimeoutException\n",
    "from selenium.webdriver.support import expected_conditions as EC\n",
    "import urllib\n",
    "from PIL import Image\n"
   ]
  },
  {
   "cell_type": "code",
   "execution_count": 10,
   "metadata": {},
   "outputs": [],
   "source": [
    "driver = webdriver.Chrome()\n",
    "driver.get('https://isuzu.snaponepc.com/epc/#/')"
   ]
  },
  {
   "cell_type": "code",
   "execution_count": 11,
   "metadata": {},
   "outputs": [],
   "source": [
    "userInput = driver.find_element(By.XPATH,'/html/body/snapon-app/snapon-base/div/div/snapon-login/div[2]/div/form/div/div[2]/div[6]/input')\n",
    "userInput.send_keys('TIS60user1')\n",
    "pwdInput = driver.find_element(By.XPATH,'/html/body/snapon-app/snapon-base/div/div/snapon-login/div[2]/div/form/div/div[2]/div[7]/input')\n",
    "pwdInput.send_keys('Z8aj9Liz')"
   ]
  },
  {
   "cell_type": "code",
   "execution_count": 12,
   "metadata": {},
   "outputs": [],
   "source": [
    "ClickChangeLang = driver.find_element(By.XPATH,'/html/body/snapon-app/snapon-base/div/div/snapon-login/div[2]/div/form/div/div[2]/div[8]/p-dropdown/div/div[2]/span')\n",
    "ClickChangeLang.click()\n",
    "selThai = driver.find_element(By.XPATH,'/html/body/snapon-app/snapon-base/div/div/snapon-login/div[2]/div/form/div/div[2]/div[8]/p-dropdown/div/p-overlay/div/div/div/div/ul/p-dropdownitem[25]/li/div')\n",
    "selThai.click()\n",
    "ClickLogin = driver.find_element(By.XPATH,'/html/body/snapon-app/snapon-base/div/div/snapon-login/div[2]/div/form/div/div[2]/div[10]/button/span')\n",
    "ClickLogin.click()"
   ]
  },
  {
   "cell_type": "code",
   "execution_count": null,
   "metadata": {},
   "outputs": [],
   "source": [
    "8-94136-784-1\n",
    "5-87813-173-0"
   ]
  },
  {
   "cell_type": "code",
   "execution_count": 13,
   "metadata": {},
   "outputs": [],
   "source": [
    "inputPart = driver.find_element(By.XPATH,'/html/body/snapon-app/snapon-epc/div/div[1]/div[2]/epc-toolbar/p-toolbar/div/div[2]/p-dropdown/div/input')\n",
    "inputPart.send_keys('8-94136-784-1')\n",
    "inputPart.send_keys(Keys.ENTER)"
   ]
  },
  {
   "cell_type": "code",
   "execution_count": null,
   "metadata": {},
   "outputs": [],
   "source": [
    "ag-center-cols-container"
   ]
  },
  {
   "cell_type": "code",
   "execution_count": 14,
   "metadata": {},
   "outputs": [],
   "source": [
    "data = driver.page_source\n",
    "soup = bs4.BeautifulSoup(data)"
   ]
  },
  {
   "cell_type": "code",
   "execution_count": 31,
   "metadata": {},
   "outputs": [],
   "source": [
    "noOfRow = len(soup.find_all('div',{'class':'ag-center-cols-container'})[0].find_all('div'))"
   ]
  },
  {
   "cell_type": "code",
   "execution_count": 42,
   "metadata": {},
   "outputs": [],
   "source": [
    "ListVihicle = soup.find_all('div',{'class':'ag-center-cols-container'})[0].find_all('div')"
   ]
  },
  {
   "cell_type": "code",
   "execution_count": 96,
   "metadata": {},
   "outputs": [
    {
     "data": {
      "text/plain": [
       "<div aria-label=\"Press SPACE to select this row.\" aria-rowindex=\"2\" class=\"ag-row ag-row-no-focus ag-row-even ag-row-level-0 ag-row-position-absolute ag-row-first\" comp-id=\"2964\" role=\"row\" row-id=\"0\" row-index=\"0\" style=\"height: 25px; transform: translateY(0px); pointer-events: none; background: linear-gradient(white, lightgrey); border-right: 1px solid grey; border-bottom: 1px solid grey; border-top: 1px solid grey;\"><div aria-colindex=\"1\" class=\"ag-cell ag-cell-not-inline-editing ag-cell-auto-height ag-cell-value ag-cell-wrap-text\" col-id=\"equipment\" comp-id=\"2965\" role=\"gridcell\" style=\"width: 398px; left: 0px;\" tabindex=\"-1\" unselectable=\"on\">TRUCKS N</div></div>"
      ]
     },
     "execution_count": 96,
     "metadata": {},
     "output_type": "execute_result"
    }
   ],
   "source": [
    "ListVihicle[0]"
   ]
  },
  {
   "cell_type": "code",
   "execution_count": 126,
   "metadata": {},
   "outputs": [
    {
     "data": {
      "text/plain": [
       "<div aria-label=\"Press SPACE to select this row.\" aria-rowindex=\"2\" class=\"ag-row ag-row-no-focus ag-row-even ag-row-level-0 ag-row-position-absolute ag-row-first\" comp-id=\"2964\" role=\"row\" row-id=\"0\" row-index=\"0\" style=\"height: 25px; transform: translateY(0px); pointer-events: none; background: linear-gradient(white, lightgrey); border-right: 1px solid grey; border-bottom: 1px solid grey; border-top: 1px solid grey;\"><div aria-colindex=\"1\" class=\"ag-cell ag-cell-not-inline-editing ag-cell-auto-height ag-cell-value ag-cell-wrap-text\" col-id=\"equipment\" comp-id=\"2965\" role=\"gridcell\" style=\"width: 398px; left: 0px;\" tabindex=\"-1\" unselectable=\"on\">TRUCKS N</div></div>"
      ]
     },
     "execution_count": 126,
     "metadata": {},
     "output_type": "execute_result"
    }
   ],
   "source": [
    "ListVihicle[0]#.get('aria-label')"
   ]
  },
  {
   "cell_type": "code",
   "execution_count": null,
   "metadata": {},
   "outputs": [],
   "source": [
    "ListVihicle = soup.find_all('div',{'class':'ag-center-cols-container'})[0].find_all('div')\n",
    "for i in range(noOfRow):\n",
    "    Vehicle = ListVihicle[i]\n",
    "    if ListVihicle[0].get('aria-label') != 'Press SPACE to select this row.':\n",
    "        "
   ]
  },
  {
   "cell_type": "code",
   "execution_count": null,
   "metadata": {},
   "outputs": [],
   "source": [
    "<div aria-label=\"Press SPACE to select this row.\" aria-rowindex=\"2\" class=\"ag-row ag-row-no-focus ag-row-even ag-row-level-0 ag-row-position-absolute ag-row-first\" comp-id=\"2964\" role=\"row\" row-id=\"0\" row-index=\"0\" style=\"height: 25px; transform: translateY(0px); pointer-events: none; background: linear-gradient(white, lightgrey); border-right: 1px solid grey; border-bottom: 1px solid grey; border-top: 1px solid grey;\">\n",
    "<div aria-colindex=\"1\" class=\"ag-cell ag-cell-not-inline-editing ag-cell-auto-height ag-cell-value ag-cell-wrap-text\" col-id=\"equipment\" comp-id=\"2965\" role=\"gridcell\" style=\"width: 398px; left: 0px;\" tabindex=\"-1\" unselectable=\"on\">TRUCKS N</div></div>\n",
    "\n",
    "<div aria-label=\"Press SPACE to select this row.\" aria-rowindex=\"3\" class=\"ag-row ag-row-no-focus ag-row-odd ag-row-level-0 ag-row-position-absolute\" comp-id=\"2966\" role=\"row\" row-id=\"1\" row-index=\"1\" style=\"height: 25px; transform: translateY(25px); \">\n",
    "<div aria-colindex=\"1\" class=\"ag-cell ag-cell-not-inline-editing ag-cell-auto-height ag-cell-value ag-cell-wrap-text\" col-id=\"equipment\" comp-id=\"2967\" role=\"gridcell\" style=\"width: 398px; left: 0px;\" tabindex=\"-1\" unselectable=\"on\">50581 - NFR/NFS 89.0 - 93.0</div></div>\n",
    "\n",
    "[<div aria-colindex=\"1\" class=\"ag-cell ag-cell-not-inline-editing ag-cell-auto-height ag-cell-value ag-cell-wrap-text\" col-id=\"equipment\" comp-id=\"2965\" role=\"gridcell\" style=\"width: 398px; left: 0px;\" tabindex=\"-1\" unselectable=\"on\">TRUCKS N</div>]\n",
    "[<div aria-colindex=\"1\" class=\"ag-cell ag-cell-not-inline-editing ag-cell-auto-height ag-cell-value ag-cell-wrap-text\" col-id=\"equipment\" comp-id=\"2967\" role=\"gridcell\" style=\"width: 398px; left: 0px;\" tabindex=\"-1\" unselectable=\"on\">50581 - NFR/NFS 89.0 - 93.0</div>]"
   ]
  }
 ],
 "metadata": {
  "kernelspec": {
   "display_name": "selenium",
   "language": "python",
   "name": "python3"
  },
  "language_info": {
   "codemirror_mode": {
    "name": "ipython",
    "version": 3
   },
   "file_extension": ".py",
   "mimetype": "text/x-python",
   "name": "python",
   "nbconvert_exporter": "python",
   "pygments_lexer": "ipython3",
   "version": "3.9.12"
  }
 },
 "nbformat": 4,
 "nbformat_minor": 2
}
