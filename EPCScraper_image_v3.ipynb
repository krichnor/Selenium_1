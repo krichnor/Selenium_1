{
 "cells": [
  {
   "cell_type": "code",
   "execution_count": 2,
   "metadata": {},
   "outputs": [],
   "source": [
    "from selenium import webdriver\n",
    "from selenium.webdriver.common.by import By\n",
    "from selenium.webdriver.common.keys import Keys\n",
    "import pandas as pd \n",
    "import bs4 as bs4\n",
    "import time\n",
    "from selenium.webdriver.support.ui import WebDriverWait\n",
    "from selenium.common.exceptions import TimeoutException\n",
    "from selenium.webdriver.support import expected_conditions as EC\n",
    "import urllib\n"
   ]
  },
  {
   "cell_type": "code",
   "execution_count": 193,
   "metadata": {},
   "outputs": [],
   "source": [
    "driver = webdriver.Edge()\n",
    "driver.get('https://spsepchtr.mx.toyota.co.jp/kN0k/V2/servlet/jp.co.toyota.pv2y580.servlet.CCV2Y580')\n",
    "user_input = driver.find_element(By.XPATH,'/html/body/div/div[2]/div[2]/div/div/form/div[2]/div[1]/table/tbody/tr[1]/td[2]/input')\n",
    "user_input.send_keys('12062B5@97221')\n",
    "pwd_input = driver.find_element(By.XPATH, '/html/body/div/div[2]/div[2]/div/div/form/div[2]/div[1]/table/tbody/tr[2]/td[2]/input')\n",
    "pwd_input.send_keys('Gpauto555#')\n",
    "pwd_input.send_keys(Keys.ENTER)"
   ]
  },
  {
   "cell_type": "code",
   "execution_count": 194,
   "metadata": {},
   "outputs": [],
   "source": [
    "confirm_login_button = driver.find_element(By.XPATH,'/html/body/div/div[2]/div/div[2]/input[1]')\n",
    "confirm_login_button.click()"
   ]
  },
  {
   "cell_type": "code",
   "execution_count": 195,
   "metadata": {},
   "outputs": [],
   "source": [
    "# Wait for the new window/tab and then switch to it\n",
    "window_handles = driver.window_handles\n",
    "driver.switch_to.window(window_handles[-1])"
   ]
  },
  {
   "cell_type": "code",
   "execution_count": 196,
   "metadata": {},
   "outputs": [],
   "source": [
    "#Get into the menu to search parts.\n",
    "iframe = driver.find_element(By.XPATH,'/html/body/div/iframe')\n",
    "driver.switch_to.frame(iframe)\n",
    "partSearch_button = driver.find_element(By.XPATH,'/html/body/form/div[1]/div[1]/div[3]/div[1]/fieldset/button[2]')\n",
    "partSearch_button.click()"
   ]
  },
  {
   "cell_type": "code",
   "execution_count": 197,
   "metadata": {},
   "outputs": [],
   "source": [
    "#Get into iframe that contain input box\n",
    "driver.switch_to.default_content()\n",
    "iframe = driver.find_element(By.XPATH,'/html/body/div[2]/iframe')\n",
    "driver.switch_to.frame(iframe)"
   ]
  },
  {
   "cell_type": "markdown",
   "metadata": {},
   "source": [
    "<font color='yellow' size = 5>Inventory</font>"
   ]
  },
  {
   "cell_type": "code",
   "execution_count": 54,
   "metadata": {},
   "outputs": [],
   "source": [
    "GPInventory = pd.read_excel(r'GP.xlsx')\n",
    "GPInventory = GPInventory.loc[GPInventory['ItemGroup'].apply(lambda x : str(x).find('TOYOTA'))>=0][['ItemCode']]"
   ]
  },
  {
   "cell_type": "code",
   "execution_count": 55,
   "metadata": {},
   "outputs": [],
   "source": [
    "GPInventory = GPInventory.drop_duplicates()"
   ]
  },
  {
   "cell_type": "code",
   "execution_count": 56,
   "metadata": {},
   "outputs": [],
   "source": [
    "GPInventory.loc[:,'ItemCode'] = GPInventory['ItemCode'].apply(lambda x : x[4:] )"
   ]
  },
  {
   "cell_type": "code",
   "execution_count": 57,
   "metadata": {},
   "outputs": [],
   "source": [
    "GPInventory = GPInventory.loc[GPInventory['ItemCode'].apply(lambda x : len(x)).isin([10,12])]"
   ]
  },
  {
   "cell_type": "code",
   "execution_count": 58,
   "metadata": {},
   "outputs": [],
   "source": [
    "GPInventory.columns = ['Code']"
   ]
  },
  {
   "cell_type": "code",
   "execution_count": 59,
   "metadata": {},
   "outputs": [],
   "source": [
    "GPInventory = GPInventory.reset_index()"
   ]
  },
  {
   "cell_type": "code",
   "execution_count": 60,
   "metadata": {},
   "outputs": [],
   "source": [
    "GPInventory = GPInventory.drop(['index'], axis=1)"
   ]
  },
  {
   "cell_type": "markdown",
   "metadata": {},
   "source": [
    "<font color='lightgreen' size=5> Inventory Full Version</font>"
   ]
  },
  {
   "cell_type": "code",
   "execution_count": 11,
   "metadata": {},
   "outputs": [],
   "source": [
    "#GPInventory = pd.read_csv(r'/Users/krichnorakhun/Documents/GP/inventory/TOY-CompleteList.csv')\n",
    "GPInventory = pd.read_csv(r'TOY-CompleteList.csv')"
   ]
  },
  {
   "cell_type": "code",
   "execution_count": 12,
   "metadata": {},
   "outputs": [],
   "source": [
    "GPInventory = GPInventory[['PartNO']]"
   ]
  },
  {
   "cell_type": "code",
   "execution_count": 13,
   "metadata": {},
   "outputs": [],
   "source": [
    "GPInventory.columns = ['Code']\n",
    "GPInventory = GPInventory.reset_index()\n",
    "GPInventory = GPInventory.drop(['index'], axis=1)\n",
    "GPInventory['Code'] = GPInventory['Code'].apply(lambda x : x[:12] )"
   ]
  },
  {
   "cell_type": "code",
   "execution_count": 14,
   "metadata": {},
   "outputs": [
    {
     "data": {
      "text/html": [
       "<div>\n",
       "<style scoped>\n",
       "    .dataframe tbody tr th:only-of-type {\n",
       "        vertical-align: middle;\n",
       "    }\n",
       "\n",
       "    .dataframe tbody tr th {\n",
       "        vertical-align: top;\n",
       "    }\n",
       "\n",
       "    .dataframe thead th {\n",
       "        text-align: right;\n",
       "    }\n",
       "</style>\n",
       "<table border=\"1\" class=\"dataframe\">\n",
       "  <thead>\n",
       "    <tr style=\"text-align: right;\">\n",
       "      <th></th>\n",
       "      <th>Code</th>\n",
       "    </tr>\n",
       "  </thead>\n",
       "  <tbody>\n",
       "    <tr>\n",
       "      <th>0</th>\n",
       "      <td>000085401002</td>\n",
       "    </tr>\n",
       "    <tr>\n",
       "      <th>1</th>\n",
       "      <td>000085401004</td>\n",
       "    </tr>\n",
       "    <tr>\n",
       "      <th>2</th>\n",
       "      <td>000085401017</td>\n",
       "    </tr>\n",
       "    <tr>\n",
       "      <th>3</th>\n",
       "      <td>0400407122</td>\n",
       "    </tr>\n",
       "    <tr>\n",
       "      <th>4</th>\n",
       "      <td>040060210D</td>\n",
       "    </tr>\n",
       "    <tr>\n",
       "      <th>...</th>\n",
       "      <td>...</td>\n",
       "    </tr>\n",
       "    <tr>\n",
       "      <th>46525</th>\n",
       "      <td>811500KV10</td>\n",
       "    </tr>\n",
       "    <tr>\n",
       "      <th>46526</th>\n",
       "      <td>8156058170</td>\n",
       "    </tr>\n",
       "    <tr>\n",
       "      <th>46527</th>\n",
       "      <td>879400KM60</td>\n",
       "    </tr>\n",
       "    <tr>\n",
       "      <th>46528</th>\n",
       "      <td>9028004001</td>\n",
       "    </tr>\n",
       "    <tr>\n",
       "      <th>46529</th>\n",
       "      <td>9031134057</td>\n",
       "    </tr>\n",
       "  </tbody>\n",
       "</table>\n",
       "<p>46530 rows × 1 columns</p>\n",
       "</div>"
      ],
      "text/plain": [
       "               Code\n",
       "0      000085401002\n",
       "1      000085401004\n",
       "2      000085401017\n",
       "3        0400407122\n",
       "4        040060210D\n",
       "...             ...\n",
       "46525    811500KV10\n",
       "46526    8156058170\n",
       "46527    879400KM60\n",
       "46528    9028004001\n",
       "46529    9031134057\n",
       "\n",
       "[46530 rows x 1 columns]"
      ]
     },
     "execution_count": 14,
     "metadata": {},
     "output_type": "execute_result"
    }
   ],
   "source": [
    "GPInventory"
   ]
  },
  {
   "cell_type": "markdown",
   "metadata": {},
   "source": [
    "<font color='lightgreen' size=5> Inventory Fix missing images</font>"
   ]
  },
  {
   "cell_type": "code",
   "execution_count": 31,
   "metadata": {},
   "outputs": [],
   "source": [
    "GPInventory = pd.read_csv(r'E:\\GP\\Toyota\\ResultFromScrap\\missingImage.csv')"
   ]
  },
  {
   "cell_type": "code",
   "execution_count": 32,
   "metadata": {},
   "outputs": [],
   "source": [
    "GPInventory = GPInventory.drop(['file','size'], axis=1)"
   ]
  },
  {
   "cell_type": "code",
   "execution_count": 34,
   "metadata": {},
   "outputs": [],
   "source": [
    "GPInventory.columns = ['Code']\n",
    "GPInventory = GPInventory.reset_index()\n",
    "GPInventory = GPInventory.drop(['index'], axis=1)\n",
    "GPInventory['Code'] = GPInventory['Code'].apply(lambda x :str(x)[:12] )"
   ]
  },
  {
   "cell_type": "markdown",
   "metadata": {},
   "source": [
    "<font color='lightgreen' size=5> Inventory missing data > 10,000</font>"
   ]
  },
  {
   "cell_type": "code",
   "execution_count": 3,
   "metadata": {},
   "outputs": [],
   "source": [
    "GPInventory = pd.read_csv(r'E:\\GP\\Toyota\\ResultFromScrap\\missingData_1.csv')"
   ]
  },
  {
   "cell_type": "code",
   "execution_count": 4,
   "metadata": {},
   "outputs": [],
   "source": [
    "GPInventory.columns = ['Code']\n",
    "GPInventory = GPInventory.reset_index()\n",
    "GPInventory = GPInventory.drop(['index'], axis=1)\n",
    "GPInventory['Code'] = GPInventory['Code'].apply(lambda x :str(x)[:12] )"
   ]
  },
  {
   "cell_type": "markdown",
   "metadata": {},
   "source": [
    "<font color='lightgreen' size=5>Second Scrapping Data</font>"
   ]
  },
  {
   "cell_type": "code",
   "execution_count": 3,
   "metadata": {},
   "outputs": [],
   "source": [
    "GPInventory = pd.read_csv(r'/Volumes/500G/GP/Toyota/RequirementData/SecondScrap.csv')"
   ]
  },
  {
   "cell_type": "code",
   "execution_count": 4,
   "metadata": {},
   "outputs": [],
   "source": [
    "GPInventory.columns = ['Code']\n",
    "GPInventory = GPInventory.reset_index()\n",
    "GPInventory = GPInventory.drop(['index'], axis=1)\n",
    "GPInventory['Code'] = GPInventory['Code'].apply(lambda x :str(x)[:12] )"
   ]
  },
  {
   "cell_type": "code",
   "execution_count": 31,
   "metadata": {},
   "outputs": [],
   "source": [
    "GPInventory = GPInventory.loc[GPInventory['Code'].apply(lambda x : len(x))>5]"
   ]
  },
  {
   "cell_type": "markdown",
   "metadata": {},
   "source": [
    "<font color='lightgreen' size=5>Missing Images</font>"
   ]
  },
  {
   "cell_type": "code",
   "execution_count": 164,
   "metadata": {},
   "outputs": [],
   "source": [
    "GPInventory = pd.read_csv(r'/Users/krichnorakhun/Documents/Machine Learning/selenium/missingImage.csv')\n",
    "GPInventory.columns = ['Code']\n",
    "GPInventory = GPInventory.reset_index()\n",
    "GPInventory = GPInventory.drop(['index'], axis=1)\n",
    "GPInventory['Code'] = GPInventory['Code'].apply(lambda x :str(x)[:12] )"
   ]
  },
  {
   "cell_type": "code",
   "execution_count": 165,
   "metadata": {},
   "outputs": [
    {
     "data": {
      "text/html": [
       "<div>\n",
       "<style scoped>\n",
       "    .dataframe tbody tr th:only-of-type {\n",
       "        vertical-align: middle;\n",
       "    }\n",
       "\n",
       "    .dataframe tbody tr th {\n",
       "        vertical-align: top;\n",
       "    }\n",
       "\n",
       "    .dataframe thead th {\n",
       "        text-align: right;\n",
       "    }\n",
       "</style>\n",
       "<table border=\"1\" class=\"dataframe\">\n",
       "  <thead>\n",
       "    <tr style=\"text-align: right;\">\n",
       "      <th></th>\n",
       "      <th>Code</th>\n",
       "    </tr>\n",
       "  </thead>\n",
       "  <tbody>\n",
       "    <tr>\n",
       "      <th>0</th>\n",
       "      <td>9046641003</td>\n",
       "    </tr>\n",
       "  </tbody>\n",
       "</table>\n",
       "</div>"
      ],
      "text/plain": [
       "         Code\n",
       "0  9046641003"
      ]
     },
     "execution_count": 165,
     "metadata": {},
     "output_type": "execute_result"
    }
   ],
   "source": [
    "GPInventory"
   ]
  },
  {
   "cell_type": "markdown",
   "metadata": {},
   "source": [
    "<font color='yellow' size=5> Scrapping Part </font>"
   ]
  },
  {
   "cell_type": "code",
   "execution_count": 11,
   "metadata": {},
   "outputs": [],
   "source": [
    "def clickInput10(x):\n",
    "    #Get input box\n",
    "    part_1 = driver.find_element(By.XPATH,'/html/body/form/div[1]/div[1]/div[1]/div[2]/input[1]')\n",
    "    part_2 = driver.find_element(By.XPATH,'/html/body/form/div[1]/div[1]/div[1]/div[2]/input[2]')\n",
    "    part_3 = driver.find_element(By.XPATH,'/html/body/form/div[1]/div[1]/div[1]/div[2]/input[3]')\n",
    "    part_1.send_keys(x[:6])\n",
    "    part_2.send_keys(x[6:11])\n",
    "    #part_3.send_keys(x[11:])\n",
    "    part_3.send_keys(Keys.ENTER)\n",
    "    Run_Botton = driver.find_element(By.XPATH,'/html/body/form/div[1]/div[3]/div[2]/button[10]')\n",
    "    Run_Botton.click()\n",
    "    return"
   ]
  },
  {
   "cell_type": "code",
   "execution_count": 12,
   "metadata": {},
   "outputs": [],
   "source": [
    "def clickInput12(x):\n",
    "    #Get input box\n",
    "    part_1 = driver.find_element(By.XPATH,'/html/body/form/div[1]/div[1]/div[1]/div[2]/input[1]')\n",
    "    part_2 = driver.find_element(By.XPATH,'/html/body/form/div[1]/div[1]/div[1]/div[2]/input[2]')\n",
    "    part_3 = driver.find_element(By.XPATH,'/html/body/form/div[1]/div[1]/div[1]/div[2]/input[3]')\n",
    "    part_1.send_keys(x[:6])\n",
    "    part_2.send_keys(x[6:11])\n",
    "    part_3.send_keys(x[11:])\n",
    "    part_3.send_keys(Keys.ENTER)\n",
    "    Run_Botton = driver.find_element(By.XPATH,'/html/body/form/div[1]/div[3]/div[2]/button[10]')\n",
    "    Run_Botton.click()\n",
    "    return"
   ]
  },
  {
   "cell_type": "code",
   "execution_count": 13,
   "metadata": {},
   "outputs": [],
   "source": [
    "def getResult_1(x,output):\n",
    "    tempData = pd.DataFrame()\n",
    "    soup = bs4.BeautifulSoup(x)\n",
    "    tableInSoup = soup.find_all('table',{'class':'excelLikeList'})\n",
    "    tempData.loc[0, 'PartID'] = tableInSoup[0].find_all('div', { 'class':'side'})[0].text\n",
    "    tempData.loc[0, 'Part Description'] = tableInSoup[0].find_all('div', { 'class':'side'})[1].text\n",
    "    output = pd.concat([output,tempData], ignore_index=True)\n",
    "    return(output,tableInSoup[0].find_all('div', { 'class':'side'})[0].text)"
   ]
  },
  {
   "cell_type": "code",
   "execution_count": 14,
   "metadata": {},
   "outputs": [],
   "source": [
    "def clickNewInput():\n",
    "    newFind = driver.find_element(By.XPATH,'/html/body/form/div[1]/div[3]/div[2]/button[1]')\n",
    "    newFind.click()\n"
   ]
  },
  {
   "cell_type": "code",
   "execution_count": 15,
   "metadata": {},
   "outputs": [],
   "source": [
    "def getResult_2(data,output):\n",
    "    soup = bs4.BeautifulSoup(data)\n",
    "    tableInSoup = soup.find_all('table',{'class':'excelLikeList'})\n",
    "    tempData = pd.DataFrame()\n",
    "    for x in tableInSoup[1].find_all('tr'):\n",
    "        tempData.loc[0,'PartID'] = x.find_all('td')[1].text\n",
    "        tempData.loc[0,'PNC'] = x.find_all('td')[2].text\n",
    "        tempData.loc[0,'Count'] = x.find_all('td')[3].text\n",
    "        tempData.loc[0,'Catalogue'] = x.find_all('td')[4].text\n",
    "        tempData.loc[0,'Model'] = x.find_all('td')[5].text\n",
    "        tempData.loc[0,'Fr-To'] = x.find_all('td')[6].text\n",
    "        tempData.loc[0,'Model(Details)'] = x.find_all('td')[7].text\n",
    "        output = pd.concat([output, tempData], ignore_index=True)\n",
    "    return(output)\n",
    "    #print(x.find_all('td')[1].text)"
   ]
  },
  {
   "cell_type": "code",
   "execution_count": 169,
   "metadata": {},
   "outputs": [],
   "source": [
    "def getResult_2pics(data,output,imgName,thirdTable,PartID):\n",
    "    soup = bs4.BeautifulSoup(data)\n",
    "    tableInSoup = soup.find_all('table',{'class':'excelLikeList'})\n",
    "    \n",
    "    tempData_List = []\n",
    "    for x in tableInSoup[1].find_all('tr'):\n",
    "        # tempData.loc[0,'PartID'] = x.find_all('td')[1].text\n",
    "        # tempData.loc[0,'PNC'] = x.find_all('td')[2].text\n",
    "        # tempData.loc[0,'Count'] = x.find_all('td')[3].text\n",
    "        # tempData.loc[0,'Catalogue'] = x.find_all('td')[4].text\n",
    "        # tempData.loc[0,'Model'] = x.find_all('td')[5].text\n",
    "        # tempData.loc[0,'Fr-To'] = x.find_all('td')[6].text\n",
    "        # tempData.loc[0,'Model(Details)'] = x.find_all('td')[7].text\n",
    "        \n",
    "        tempData_List.append({\n",
    "        'PartID': PartID, #x.find_all('td')[1].text,\n",
    "        'PNC': x.find_all('td')[2].text,\n",
    "        'Count': x.find_all('td')[3].text,\n",
    "        'Catalogue': x.find_all('td')[4].text,\n",
    "        'Model': x.find_all('td')[5].text,\n",
    "        'Fr-To' : x.find_all('td')[6].text,\n",
    "        'Model(Details)' : x.find_all('td')[7].text\n",
    "        })\n",
    "\n",
    "        #output = pd.concat([output, tempData], ignore_index=True)\n",
    "        \n",
    "        #for add to Third Table\n",
    "        #PartID = x.find_all('td')[1].text\n",
    "        PNC = x.find_all('td')[2].text\n",
    "\n",
    "    tempData = pd.DataFrame(tempData_List)\n",
    "    output = pd.concat([output, tempData], ignore_index=True)        \n",
    "    \n",
    "    #Click First Row\n",
    "    firtRowToClickID = soup.find_all('table',{'id':'F10_tblListInnerSearch'})[0].find_all('tr')[0].get('id')\n",
    "    driver.find_element(By.ID,firtRowToClickID).click()\n",
    "\n",
    "    #Click button to open new window to show picture\n",
    "    driver.find_element(By.XPATH,'/html/body/form/div[1]/div[3]/div[2]/button[8]').click()\n",
    "    \n",
    "    # Wait for a new window/tab to open\n",
    "    wait = WebDriverWait(driver, 60)\n",
    "    current_windows = driver.window_handles\n",
    "    wait.until(lambda driver: len(driver.window_handles) > len(current_windows))\n",
    "\n",
    "    # Switch to the new window/tab\n",
    "    new_window_handles = driver.window_handles\n",
    "    driver.switch_to.window(new_window_handles[-1])\n",
    "        \n",
    "    #Get into iframe where picture located.\n",
    "    iframe = driver.find_element(By.XPATH,'/html/body/div/iframe')\n",
    "    driver.switch_to.frame(iframe)\n",
    "\n",
    "    # Wait for the image to be present\n",
    "    wait = WebDriverWait(driver, 30)  # Adjust the timeout as needed\n",
    "    img_element = wait.until(EC.presence_of_element_located((By.ID, 'figImgFig')))\n",
    "\n",
    "    # Now retrieve the image URL\n",
    "    img_url = img_element.get_attribute('src')\n",
    "    urllib.request.urlretrieve(img_url,'images/'+imgName+'.png')\n",
    "\n",
    "    #Get PNC list on image and its location\n",
    "    data = driver.page_source\n",
    "    soup = bs4.BeautifulSoup(data)\n",
    "    \n",
    "    tempdata2_List = []\n",
    "    width = float(soup.find_all('img',{'id':'figImgFig'})[0].get('style').split(';')[1].split(':')[1].replace('px','').strip())\n",
    "    height = float(soup.find_all('img',{'id':'figImgFig'})[0].get('style').split(';')[2].split(':')[1].replace('px','').strip())\n",
    "    figureName = soup.find_all('div',{'id':'D13_tblThumbnailtmnFigname_0_0'})[0].text\n",
    "    for pnc in soup.find_all('div',{'id':'figInner'})[0].find_all('div'):\n",
    "        top = float(pnc.get('style').split(';')[0].split(':')[1].replace('px', ''))\n",
    "        left = float(pnc.get('style').split(';')[1].split(':')[1].replace('px', ''))\n",
    "        fontsize = float(pnc.get('style').split(';')[2].split(':')[1].replace('px',''))\n",
    "        lineheight = float(pnc.get('style').split(';')[3].split(':')[1].replace('px',''))\n",
    "        transform = pnc.get('style').split(';')[4].split(':')[1].strip()        \n",
    "        text = pnc.text\n",
    "         # Append to the list as a dictionary\n",
    "        tempdata2_List.append({\n",
    "        'PartID': PartID,\n",
    "        'PNC': PNC,\n",
    "        'Top': top,\n",
    "        'Left': left,\n",
    "        'Fontsize':fontsize,\n",
    "        'LineHeight':lineheight,\n",
    "        'Transform':transform,\n",
    "        'Width':width,\n",
    "        'Height':height,\n",
    "        'Text': text,\n",
    "        'figureName':figureName\n",
    "        })\n",
    "    tempData2 = pd.DataFrame(tempdata2_List)\n",
    "    thirdTable = pd.concat([thirdTable, tempData2], ignore_index=True)\n",
    "\n",
    "    #Close window and switch back to previous window.\n",
    "    driver.close()\n",
    "    # Wait for the new window/tab and then switch to it\n",
    "    window_handles = driver.window_handles\n",
    "    driver.switch_to.window(window_handles[-1])\n",
    "\n",
    "    iframe = driver.find_element(By.XPATH,'/html/body/div[2]/iframe')\n",
    "    driver.switch_to.frame(iframe)\n",
    "    \n",
    "    return output,thirdTable\n",
    "    #print(x.find_all('td')[1].text)"
   ]
  },
  {
   "cell_type": "markdown",
   "metadata": {},
   "source": [
    "<font color='yellow' size=5> simulate save picture </font>"
   ]
  },
  {
   "cell_type": "code",
   "execution_count": 185,
   "metadata": {},
   "outputs": [],
   "source": [
    "clickInput12('9046641003')"
   ]
  },
  {
   "cell_type": "code",
   "execution_count": 186,
   "metadata": {},
   "outputs": [],
   "source": [
    "WebDriverWait(driver,60)\n",
    "data = driver.page_source\n",
    "soup = bs4.BeautifulSoup(data)"
   ]
  },
  {
   "cell_type": "code",
   "execution_count": 187,
   "metadata": {},
   "outputs": [],
   "source": [
    "firtRowToClickID = soup.find_all('table',{'id':'F10_tblListInnerSearch'})[0].find_all('tr')[0].get('id')"
   ]
  },
  {
   "cell_type": "code",
   "execution_count": 188,
   "metadata": {},
   "outputs": [],
   "source": [
    "driver.find_element(By.ID,firtRowToClickID).click()"
   ]
  },
  {
   "cell_type": "code",
   "execution_count": 189,
   "metadata": {},
   "outputs": [
    {
     "data": {
      "text/plain": [
       "True"
      ]
     },
     "execution_count": 189,
     "metadata": {},
     "output_type": "execute_result"
    }
   ],
   "source": [
    "#Click to open new window to show picture\n",
    "driver.find_element(By.XPATH,'/html/body/form/div[1]/div[3]/div[2]/button[8]').click()\n",
    "# Wait for a new window/tab to open\n",
    "wait = WebDriverWait(driver, 60)\n",
    "current_windows = driver.window_handles\n",
    "wait.until(lambda driver: len(driver.window_handles) > len(current_windows))"
   ]
  },
  {
   "cell_type": "code",
   "execution_count": 190,
   "metadata": {},
   "outputs": [],
   "source": [
    "# Switch to the new window/tab\n",
    "new_window_handles = driver.window_handles\n",
    "driver.switch_to.window(new_window_handles[-1])"
   ]
  },
  {
   "cell_type": "code",
   "execution_count": 191,
   "metadata": {},
   "outputs": [],
   "source": [
    "#Get into iframe where picture located.\n",
    "iframe = driver.find_element(By.XPATH,'/html/body/div/iframe')\n",
    "driver.switch_to.frame(iframe)"
   ]
  },
  {
   "cell_type": "code",
   "execution_count": 192,
   "metadata": {},
   "outputs": [
    {
     "name": "stdout",
     "output_type": "stream",
     "text": [
      "https://spsepchtr.mx.toyota.co.jp/kN0k/CONTENTS/HBUNKAI/162454C/162454C.PNG\n"
     ]
    }
   ],
   "source": [
    "# Wait for the image to be present\n",
    "wait = WebDriverWait(driver, 30)  # Adjust the timeout as needed\n",
    "img_element = wait.until(EC.presence_of_element_located((By.ID, 'figImgFig')))\n",
    "\n",
    "# Now retrieve the image URL\n",
    "img_url = img_element.get_attribute('src')\n",
    "print(img_url)"
   ]
  },
  {
   "cell_type": "code",
   "execution_count": 35,
   "metadata": {},
   "outputs": [],
   "source": [
    "data = driver.page_source\n",
    "soup = bs4.BeautifulSoup(data)"
   ]
  },
  {
   "cell_type": "code",
   "execution_count": 44,
   "metadata": {},
   "outputs": [
    {
     "data": {
      "text/plain": [
       "'ชุดปะเก็นโอเวอร์ฮอลเครื่องยนต์'"
      ]
     },
     "execution_count": 44,
     "metadata": {},
     "output_type": "execute_result"
    }
   ],
   "source": [
    "soup.find_all('div',{'id':'D13_tblThumbnailtmnFigname_0_0'})[0].text"
   ]
  },
  {
   "cell_type": "code",
   "execution_count": 54,
   "metadata": {},
   "outputs": [],
   "source": [
    "width = float(soup.find_all('img',{'id':'figImgFig'})[0].get('style').split(';')[1].split(':')[1].replace('px','').strip())"
   ]
  },
  {
   "cell_type": "code",
   "execution_count": 60,
   "metadata": {},
   "outputs": [
    {
     "data": {
      "text/plain": [
       "492.0"
      ]
     },
     "execution_count": 60,
     "metadata": {},
     "output_type": "execute_result"
    }
   ],
   "source": [
    "height = float(soup.find_all('img',{'id':'figImgFig'})[0].get('style').split(';')[2].split(':')[1].replace('px','').strip())"
   ]
  },
  {
   "cell_type": "code",
   "execution_count": 31,
   "metadata": {},
   "outputs": [],
   "source": [
    "pnc = soup.find_all('div',{'id':'figInner'})[0].find_all('div')[0]"
   ]
  },
  {
   "cell_type": "code",
   "execution_count": 51,
   "metadata": {},
   "outputs": [
    {
     "data": {
      "text/plain": [
       "'top: 243.024px; left: 156.81px; font-size: 8.09647px; line-height: 8.09647px; transform: scale(1.1, 1.25);'"
      ]
     },
     "execution_count": 51,
     "metadata": {},
     "output_type": "execute_result"
    }
   ],
   "source": [
    "pnc.get('style')#.split(';')[4].split(':')[1].strip()"
   ]
  },
  {
   "cell_type": "code",
   "execution_count": 412,
   "metadata": {},
   "outputs": [
    {
     "name": "stdout",
     "output_type": "stream",
     "text": [
      "top: 243.024px; left: 156.81px; font-size: 8.09647px; line-height: 8.09647px; transform: scale(1.1, 1.25);\n",
      "156.81\n",
      "04112\n",
      "top: 6.02412px; left: 155.81px; font-size: 8.09647px; line-height: 8.09647px; transform: scale(1.1, 1.25);\n",
      "155.81\n",
      "04111\n"
     ]
    }
   ],
   "source": [
    "tempData2 = pd.DataFrame()\n",
    "for pnc in soup.find_all('div',{'id':'figInner'})[0].find_all('div'):\n",
    "    tempData2['PartID'] = PartID\n",
    "    tempData2['PNC'] = PNC\n",
    "    tempData2['Top'] = float(pnc.get('style').split(';')[0].split(':')[1].replace('px',''))\n",
    "    tempData2['Left'] = float(pnc.get('style').split(';')[1].split(':')[1].replace('px',''))\n",
    "    \n",
    "    tempData2['Text'] = pnc.text\n",
    "    \n",
    "    "
   ]
  },
  {
   "cell_type": "code",
   "execution_count": 395,
   "metadata": {},
   "outputs": [
    {
     "data": {
      "text/plain": [
       "'top: 243.024px; left: 156.81px; font-size: 8.09647px; line-height: 8.09647px; transform: scale(1.1, 1.25);'"
      ]
     },
     "execution_count": 395,
     "metadata": {},
     "output_type": "execute_result"
    }
   ],
   "source": [
    "soup.find_all('div',{'id':'figInner'})[0].find_all('div')[0].get('style')"
   ]
  },
  {
   "cell_type": "code",
   "execution_count": 92,
   "metadata": {},
   "outputs": [],
   "source": [
    "driver.close()"
   ]
  },
  {
   "cell_type": "code",
   "execution_count": 27,
   "metadata": {},
   "outputs": [],
   "source": [
    "# Wait for the new window/tab and then switch to it\n",
    "window_handles = driver.window_handles\n",
    "driver.switch_to.window(window_handles[-1])"
   ]
  },
  {
   "cell_type": "code",
   "execution_count": 28,
   "metadata": {},
   "outputs": [],
   "source": [
    "#Get into iframe that contain input box\n",
    "iframe = driver.find_element(By.XPATH,'/html/body/div[2]/iframe')\n",
    "driver.switch_to.frame(iframe)"
   ]
  },
  {
   "cell_type": "code",
   "execution_count": 210,
   "metadata": {},
   "outputs": [
    {
     "data": {
      "text/plain": [
       "[<title>Part Number Application to Models</title>]"
      ]
     },
     "execution_count": 210,
     "metadata": {},
     "output_type": "execute_result"
    }
   ],
   "source": [
    "bs4.BeautifulSoup(driver.page_source).find_all('title')"
   ]
  },
  {
   "cell_type": "code",
   "execution_count": 159,
   "metadata": {},
   "outputs": [
    {
     "data": {
      "text/plain": [
       "[<title>Part Number Application to Models</title>]"
      ]
     },
     "execution_count": 159,
     "metadata": {},
     "output_type": "execute_result"
    }
   ],
   "source": [
    "soup.find_all('title')"
   ]
  },
  {
   "cell_type": "markdown",
   "metadata": {},
   "source": [
    "<font color='yellow' size=5>RUN</font>"
   ]
  },
  {
   "cell_type": "code",
   "execution_count": 166,
   "metadata": {},
   "outputs": [],
   "source": [
    "MainTable = pd.DataFrame()\n",
    "SecondTable = pd.DataFrame()\n",
    "ThirdTable = pd.DataFrame()"
   ]
  },
  {
   "cell_type": "code",
   "execution_count": 19,
   "metadata": {},
   "outputs": [],
   "source": [
    "def clearCheckbox():\n",
    "    driver.find_element(By.ID,'F10_chkSmksKbnJA').click()\n",
    "    driver.find_element(By.ID,'F10_chkSmksKbnEU').click()\n",
    "    driver.find_element(By.ID,'F10_chkSmksKbnNA').click()"
   ]
  },
  {
   "cell_type": "code",
   "execution_count": 177,
   "metadata": {},
   "outputs": [
    {
     "ename": "NoSuchElementException",
     "evalue": "Message: no such element: Unable to locate element: {\"method\":\"xpath\",\"selector\":\"/html/body/form/div[1]/div[3]/div[2]/button[1]\"}\n  (Session info: MicrosoftEdge=120.0.2210.61); For documentation on this error, please visit: https://www.selenium.dev/documentation/webdriver/troubleshooting/errors#no-such-element-exception\nStacktrace:\n0   msedgedriver                        0x0000000104b1fb58 msedgedriver + 4586328\n1   msedgedriver                        0x0000000104b17788 msedgedriver + 4552584\n2   msedgedriver                        0x0000000104708cb8 msedgedriver + 298168\n3   msedgedriver                        0x0000000104754940 msedgedriver + 608576\n4   msedgedriver                        0x000000010479604c msedgedriver + 876620\n5   msedgedriver                        0x0000000104747b78 msedgedriver + 555896\n6   msedgedriver                        0x00000001047491b8 msedgedriver + 561592\n7   msedgedriver                        0x0000000104ae1910 msedgedriver + 4331792\n8   msedgedriver                        0x0000000104ae5a44 msedgedriver + 4348484\n9   msedgedriver                        0x0000000104ae608c msedgedriver + 4350092\n10  msedgedriver                        0x0000000104acad28 msedgedriver + 4238632\n11  msedgedriver                        0x0000000104ae6700 msedgedriver + 4351744\n12  msedgedriver                        0x0000000104abd3bc msedgedriver + 4182972\n13  msedgedriver                        0x0000000104b05400 msedgedriver + 4477952\n14  msedgedriver                        0x0000000104b055c8 msedgedriver + 4478408\n15  msedgedriver                        0x0000000104b168c8 msedgedriver + 4548808\n16  libsystem_pthread.dylib             0x00000001a683c26c _pthread_start + 148\n17  libsystem_pthread.dylib             0x00000001a683708c thread_start + 8\n",
     "output_type": "error",
     "traceback": [
      "\u001b[0;31m---------------------------------------------------------------------------\u001b[0m",
      "\u001b[0;31mNoSuchElementException\u001b[0m                    Traceback (most recent call last)",
      "\u001b[1;32m/Users/krichnorakhun/Documents/Machine Learning/selenium/EPCScraper_image_v3.ipynb Cell 66\u001b[0m line \u001b[0;36m2\n\u001b[1;32m     <a href='vscode-notebook-cell:/Users/krichnorakhun/Documents/Machine%20Learning/selenium/EPCScraper_image_v3.ipynb#Y112sZmlsZQ%3D%3D?line=21'>22</a>\u001b[0m \u001b[39mif\u001b[39;00m soup\u001b[39m.\u001b[39mfind_all(\u001b[39m'\u001b[39m\u001b[39mdiv\u001b[39m\u001b[39m'\u001b[39m,{\u001b[39m'\u001b[39m\u001b[39mid\u001b[39m\u001b[39m'\u001b[39m:\u001b[39m'\u001b[39m\u001b[39meltColF10_divListSelectHinban4\u001b[39m\u001b[39m'\u001b[39m})[\u001b[39m0\u001b[39m]\u001b[39m.\u001b[39mtext \u001b[39m!=\u001b[39m \u001b[39m'\u001b[39m\u001b[39mไม่มีใช้งาน\u001b[39m\u001b[39m'\u001b[39m:\n\u001b[0;32m---> <a href='vscode-notebook-cell:/Users/krichnorakhun/Documents/Machine%20Learning/selenium/EPCScraper_image_v3.ipynb#Y112sZmlsZQ%3D%3D?line=22'>23</a>\u001b[0m     SecondTable, ThirdTable \u001b[39m=\u001b[39m getResult_2pics(data,SecondTable,row[\u001b[39m'\u001b[39;49m\u001b[39mCode\u001b[39;49m\u001b[39m'\u001b[39;49m]\u001b[39m.\u001b[39;49mstrip(),ThirdTable,PartID )\n\u001b[1;32m     <a href='vscode-notebook-cell:/Users/krichnorakhun/Documents/Machine%20Learning/selenium/EPCScraper_image_v3.ipynb#Y112sZmlsZQ%3D%3D?line=23'>24</a>\u001b[0m \u001b[39mprint\u001b[39m(index)\n",
      "\u001b[1;32m/Users/krichnorakhun/Documents/Machine Learning/selenium/EPCScraper_image_v3.ipynb Cell 66\u001b[0m line \u001b[0;36m1\n\u001b[1;32m     <a href='vscode-notebook-cell:/Users/krichnorakhun/Documents/Machine%20Learning/selenium/EPCScraper_image_v3.ipynb#Y112sZmlsZQ%3D%3D?line=97'>98</a>\u001b[0m driver\u001b[39m.\u001b[39mswitch_to\u001b[39m.\u001b[39mwindow(window_handles[\u001b[39m-\u001b[39m\u001b[39m1\u001b[39m])\n\u001b[0;32m--> <a href='vscode-notebook-cell:/Users/krichnorakhun/Documents/Machine%20Learning/selenium/EPCScraper_image_v3.ipynb#Y112sZmlsZQ%3D%3D?line=99'>100</a>\u001b[0m iframe \u001b[39m=\u001b[39m driver\u001b[39m.\u001b[39;49mfind_element(By\u001b[39m.\u001b[39;49mXPATH,\u001b[39m'\u001b[39;49m\u001b[39m/html/body/div[2]/iframe\u001b[39;49m\u001b[39m'\u001b[39;49m)\n\u001b[1;32m    <a href='vscode-notebook-cell:/Users/krichnorakhun/Documents/Machine%20Learning/selenium/EPCScraper_image_v3.ipynb#Y112sZmlsZQ%3D%3D?line=100'>101</a>\u001b[0m driver\u001b[39m.\u001b[39mswitch_to\u001b[39m.\u001b[39mframe(iframe)\n",
      "File \u001b[0;32m~/Documents/Machine Learning/selenium/lib/python3.9/site-packages/selenium/webdriver/remote/webdriver.py:740\u001b[0m, in \u001b[0;36mWebDriver.find_element\u001b[0;34m(self, by, value)\u001b[0m\n\u001b[1;32m    738\u001b[0m     value \u001b[39m=\u001b[39m \u001b[39mf\u001b[39m\u001b[39m'\u001b[39m\u001b[39m[name=\u001b[39m\u001b[39m\"\u001b[39m\u001b[39m{\u001b[39;00mvalue\u001b[39m}\u001b[39;00m\u001b[39m\"\u001b[39m\u001b[39m]\u001b[39m\u001b[39m'\u001b[39m\n\u001b[0;32m--> 740\u001b[0m \u001b[39mreturn\u001b[39;00m \u001b[39mself\u001b[39;49m\u001b[39m.\u001b[39;49mexecute(Command\u001b[39m.\u001b[39;49mFIND_ELEMENT, {\u001b[39m\"\u001b[39;49m\u001b[39musing\u001b[39;49m\u001b[39m\"\u001b[39;49m: by, \u001b[39m\"\u001b[39;49m\u001b[39mvalue\u001b[39;49m\u001b[39m\"\u001b[39;49m: value})[\u001b[39m\"\u001b[39m\u001b[39mvalue\u001b[39m\u001b[39m\"\u001b[39m]\n",
      "File \u001b[0;32m~/Documents/Machine Learning/selenium/lib/python3.9/site-packages/selenium/webdriver/remote/webdriver.py:346\u001b[0m, in \u001b[0;36mWebDriver.execute\u001b[0;34m(self, driver_command, params)\u001b[0m\n\u001b[1;32m    345\u001b[0m \u001b[39mif\u001b[39;00m response:\n\u001b[0;32m--> 346\u001b[0m     \u001b[39mself\u001b[39;49m\u001b[39m.\u001b[39;49merror_handler\u001b[39m.\u001b[39;49mcheck_response(response)\n\u001b[1;32m    347\u001b[0m     response[\u001b[39m\"\u001b[39m\u001b[39mvalue\u001b[39m\u001b[39m\"\u001b[39m] \u001b[39m=\u001b[39m \u001b[39mself\u001b[39m\u001b[39m.\u001b[39m_unwrap_value(response\u001b[39m.\u001b[39mget(\u001b[39m\"\u001b[39m\u001b[39mvalue\u001b[39m\u001b[39m\"\u001b[39m, \u001b[39mNone\u001b[39;00m))\n",
      "File \u001b[0;32m~/Documents/Machine Learning/selenium/lib/python3.9/site-packages/selenium/webdriver/remote/errorhandler.py:229\u001b[0m, in \u001b[0;36mErrorHandler.check_response\u001b[0;34m(self, response)\u001b[0m\n\u001b[1;32m    228\u001b[0m     \u001b[39mraise\u001b[39;00m exception_class(message, screen, stacktrace, alert_text)  \u001b[39m# type: ignore[call-arg]  # mypy is not smart enough here\u001b[39;00m\n\u001b[0;32m--> 229\u001b[0m \u001b[39mraise\u001b[39;00m exception_class(message, screen, stacktrace)\n",
      "\u001b[0;31mNoSuchElementException\u001b[0m: Message: no such element: Unable to locate element: {\"method\":\"xpath\",\"selector\":\"/html/body/div[2]/iframe\"}\n  (Session info: MicrosoftEdge=120.0.2210.61); For documentation on this error, please visit: https://www.selenium.dev/documentation/webdriver/troubleshooting/errors#no-such-element-exception\nStacktrace:\n0   msedgedriver                        0x0000000104b1fb58 msedgedriver + 4586328\n1   msedgedriver                        0x0000000104b17788 msedgedriver + 4552584\n2   msedgedriver                        0x0000000104708cb8 msedgedriver + 298168\n3   msedgedriver                        0x0000000104754940 msedgedriver + 608576\n4   msedgedriver                        0x000000010479604c msedgedriver + 876620\n5   msedgedriver                        0x0000000104747b78 msedgedriver + 555896\n6   msedgedriver                        0x00000001047491b8 msedgedriver + 561592\n7   msedgedriver                        0x0000000104ae1910 msedgedriver + 4331792\n8   msedgedriver                        0x0000000104ae5a44 msedgedriver + 4348484\n9   msedgedriver                        0x0000000104ae608c msedgedriver + 4350092\n10  msedgedriver                        0x0000000104acad28 msedgedriver + 4238632\n11  msedgedriver                        0x0000000104ae6700 msedgedriver + 4351744\n12  msedgedriver                        0x0000000104abd3bc msedgedriver + 4182972\n13  msedgedriver                        0x0000000104b05400 msedgedriver + 4477952\n14  msedgedriver                        0x0000000104b055c8 msedgedriver + 4478408\n15  msedgedriver                        0x0000000104b168c8 msedgedriver + 4548808\n16  libsystem_pthread.dylib             0x00000001a683c26c _pthread_start + 148\n17  libsystem_pthread.dylib             0x00000001a683708c thread_start + 8\n",
      "\nDuring handling of the above exception, another exception occurred:\n",
      "\u001b[0;31mNoSuchElementException\u001b[0m                    Traceback (most recent call last)",
      "\u001b[1;32m/Users/krichnorakhun/Documents/Machine Learning/selenium/EPCScraper_image_v3.ipynb Cell 66\u001b[0m line \u001b[0;36m3\n\u001b[1;32m     <a href='vscode-notebook-cell:/Users/krichnorakhun/Documents/Machine%20Learning/selenium/EPCScraper_image_v3.ipynb#Y112sZmlsZQ%3D%3D?line=29'>30</a>\u001b[0m     MainTable, PartID \u001b[39m=\u001b[39m getResult_1(data,MainTable)\n\u001b[1;32m     <a href='vscode-notebook-cell:/Users/krichnorakhun/Documents/Machine%20Learning/selenium/EPCScraper_image_v3.ipynb#Y112sZmlsZQ%3D%3D?line=32'>33</a>\u001b[0m \u001b[39mfinally\u001b[39;00m:\n\u001b[0;32m---> <a href='vscode-notebook-cell:/Users/krichnorakhun/Documents/Machine%20Learning/selenium/EPCScraper_image_v3.ipynb#Y112sZmlsZQ%3D%3D?line=33'>34</a>\u001b[0m     clickNewInput()\n\u001b[1;32m     <a href='vscode-notebook-cell:/Users/krichnorakhun/Documents/Machine%20Learning/selenium/EPCScraper_image_v3.ipynb#Y112sZmlsZQ%3D%3D?line=34'>35</a>\u001b[0m     clearCheckbox()\n",
      "\u001b[1;32m/Users/krichnorakhun/Documents/Machine Learning/selenium/EPCScraper_image_v3.ipynb Cell 66\u001b[0m line \u001b[0;36m2\n\u001b[1;32m      <a href='vscode-notebook-cell:/Users/krichnorakhun/Documents/Machine%20Learning/selenium/EPCScraper_image_v3.ipynb#Y112sZmlsZQ%3D%3D?line=0'>1</a>\u001b[0m \u001b[39mdef\u001b[39;00m \u001b[39mclickNewInput\u001b[39m():\n\u001b[0;32m----> <a href='vscode-notebook-cell:/Users/krichnorakhun/Documents/Machine%20Learning/selenium/EPCScraper_image_v3.ipynb#Y112sZmlsZQ%3D%3D?line=1'>2</a>\u001b[0m     newFind \u001b[39m=\u001b[39m driver\u001b[39m.\u001b[39;49mfind_element(By\u001b[39m.\u001b[39;49mXPATH,\u001b[39m'\u001b[39;49m\u001b[39m/html/body/form/div[1]/div[3]/div[2]/button[1]\u001b[39;49m\u001b[39m'\u001b[39;49m)\n\u001b[1;32m      <a href='vscode-notebook-cell:/Users/krichnorakhun/Documents/Machine%20Learning/selenium/EPCScraper_image_v3.ipynb#Y112sZmlsZQ%3D%3D?line=2'>3</a>\u001b[0m     newFind\u001b[39m.\u001b[39mclick()\n",
      "File \u001b[0;32m~/Documents/Machine Learning/selenium/lib/python3.9/site-packages/selenium/webdriver/remote/webdriver.py:740\u001b[0m, in \u001b[0;36mWebDriver.find_element\u001b[0;34m(self, by, value)\u001b[0m\n\u001b[1;32m    737\u001b[0m     by \u001b[39m=\u001b[39m By\u001b[39m.\u001b[39mCSS_SELECTOR\n\u001b[1;32m    738\u001b[0m     value \u001b[39m=\u001b[39m \u001b[39mf\u001b[39m\u001b[39m'\u001b[39m\u001b[39m[name=\u001b[39m\u001b[39m\"\u001b[39m\u001b[39m{\u001b[39;00mvalue\u001b[39m}\u001b[39;00m\u001b[39m\"\u001b[39m\u001b[39m]\u001b[39m\u001b[39m'\u001b[39m\n\u001b[0;32m--> 740\u001b[0m \u001b[39mreturn\u001b[39;00m \u001b[39mself\u001b[39;49m\u001b[39m.\u001b[39;49mexecute(Command\u001b[39m.\u001b[39;49mFIND_ELEMENT, {\u001b[39m\"\u001b[39;49m\u001b[39musing\u001b[39;49m\u001b[39m\"\u001b[39;49m: by, \u001b[39m\"\u001b[39;49m\u001b[39mvalue\u001b[39;49m\u001b[39m\"\u001b[39;49m: value})[\u001b[39m\"\u001b[39m\u001b[39mvalue\u001b[39m\u001b[39m\"\u001b[39m]\n",
      "File \u001b[0;32m~/Documents/Machine Learning/selenium/lib/python3.9/site-packages/selenium/webdriver/remote/webdriver.py:346\u001b[0m, in \u001b[0;36mWebDriver.execute\u001b[0;34m(self, driver_command, params)\u001b[0m\n\u001b[1;32m    344\u001b[0m response \u001b[39m=\u001b[39m \u001b[39mself\u001b[39m\u001b[39m.\u001b[39mcommand_executor\u001b[39m.\u001b[39mexecute(driver_command, params)\n\u001b[1;32m    345\u001b[0m \u001b[39mif\u001b[39;00m response:\n\u001b[0;32m--> 346\u001b[0m     \u001b[39mself\u001b[39;49m\u001b[39m.\u001b[39;49merror_handler\u001b[39m.\u001b[39;49mcheck_response(response)\n\u001b[1;32m    347\u001b[0m     response[\u001b[39m\"\u001b[39m\u001b[39mvalue\u001b[39m\u001b[39m\"\u001b[39m] \u001b[39m=\u001b[39m \u001b[39mself\u001b[39m\u001b[39m.\u001b[39m_unwrap_value(response\u001b[39m.\u001b[39mget(\u001b[39m\"\u001b[39m\u001b[39mvalue\u001b[39m\u001b[39m\"\u001b[39m, \u001b[39mNone\u001b[39;00m))\n\u001b[1;32m    348\u001b[0m     \u001b[39mreturn\u001b[39;00m response\n",
      "File \u001b[0;32m~/Documents/Machine Learning/selenium/lib/python3.9/site-packages/selenium/webdriver/remote/errorhandler.py:229\u001b[0m, in \u001b[0;36mErrorHandler.check_response\u001b[0;34m(self, response)\u001b[0m\n\u001b[1;32m    227\u001b[0m         alert_text \u001b[39m=\u001b[39m value[\u001b[39m\"\u001b[39m\u001b[39malert\u001b[39m\u001b[39m\"\u001b[39m]\u001b[39m.\u001b[39mget(\u001b[39m\"\u001b[39m\u001b[39mtext\u001b[39m\u001b[39m\"\u001b[39m)\n\u001b[1;32m    228\u001b[0m     \u001b[39mraise\u001b[39;00m exception_class(message, screen, stacktrace, alert_text)  \u001b[39m# type: ignore[call-arg]  # mypy is not smart enough here\u001b[39;00m\n\u001b[0;32m--> 229\u001b[0m \u001b[39mraise\u001b[39;00m exception_class(message, screen, stacktrace)\n",
      "\u001b[0;31mNoSuchElementException\u001b[0m: Message: no such element: Unable to locate element: {\"method\":\"xpath\",\"selector\":\"/html/body/form/div[1]/div[3]/div[2]/button[1]\"}\n  (Session info: MicrosoftEdge=120.0.2210.61); For documentation on this error, please visit: https://www.selenium.dev/documentation/webdriver/troubleshooting/errors#no-such-element-exception\nStacktrace:\n0   msedgedriver                        0x0000000104b1fb58 msedgedriver + 4586328\n1   msedgedriver                        0x0000000104b17788 msedgedriver + 4552584\n2   msedgedriver                        0x0000000104708cb8 msedgedriver + 298168\n3   msedgedriver                        0x0000000104754940 msedgedriver + 608576\n4   msedgedriver                        0x000000010479604c msedgedriver + 876620\n5   msedgedriver                        0x0000000104747b78 msedgedriver + 555896\n6   msedgedriver                        0x00000001047491b8 msedgedriver + 561592\n7   msedgedriver                        0x0000000104ae1910 msedgedriver + 4331792\n8   msedgedriver                        0x0000000104ae5a44 msedgedriver + 4348484\n9   msedgedriver                        0x0000000104ae608c msedgedriver + 4350092\n10  msedgedriver                        0x0000000104acad28 msedgedriver + 4238632\n11  msedgedriver                        0x0000000104ae6700 msedgedriver + 4351744\n12  msedgedriver                        0x0000000104abd3bc msedgedriver + 4182972\n13  msedgedriver                        0x0000000104b05400 msedgedriver + 4477952\n14  msedgedriver                        0x0000000104b055c8 msedgedriver + 4478408\n15  msedgedriver                        0x0000000104b168c8 msedgedriver + 4548808\n16  libsystem_pthread.dylib             0x00000001a683c26c _pthread_start + 148\n17  libsystem_pthread.dylib             0x00000001a683708c thread_start + 8\n"
     ]
    }
   ],
   "source": [
    "for index, row in GPInventory.iloc[:].iterrows():\n",
    "    \n",
    "    if len(row['Code'].strip())==10:\n",
    "        clickInput10(row['Code'].strip())\n",
    "    else:\n",
    "        clickInput12(row['Code'].strip())\n",
    "    \n",
    "    wait = WebDriverWait(driver, 60) \n",
    "    data = driver.page_source\n",
    "    soup = bs4.BeautifulSoup(data)\n",
    "\n",
    "    try:\n",
    "        wait.until(EC.visibility_of_element_located((By.ID, 'eltColF10_divListSelectHinban4')))\n",
    "        data = driver.page_source\n",
    "        soup = bs4.BeautifulSoup(data)\n",
    "        if soup.find_all('div',{'id':'eltColF10_divListSelectHinban4'})[0].text != 'ไม่มีใช้งาน':\n",
    "            wait.until(EC.visibility_of_element_located((By.ID, 'eltRowF10_divListSearch1')))\n",
    "       \n",
    "        #time.sleep(1)\n",
    "        data = driver.page_source\n",
    "        MainTable, PartID = getResult_1(data,MainTable)\n",
    "        if soup.find_all('div',{'id':'eltColF10_divListSelectHinban4'})[0].text != 'ไม่มีใช้งาน':\n",
    "            SecondTable, ThirdTable = getResult_2pics(data,SecondTable,row['Code'].strip(),ThirdTable,PartID )\n",
    "        print(index)\n",
    "        \n",
    "    except TimeoutException:\n",
    "        print(index, sep=':')\n",
    "        print(\"Timeout occurred! Performing alternative steps.\")\n",
    "        data = driver.page_source\n",
    "        MainTable, PartID = getResult_1(data,MainTable)\n",
    "        \n",
    "\n",
    "    finally:\n",
    "        clickNewInput()\n",
    "        clearCheckbox()\n",
    "        "
   ]
  },
  {
   "cell_type": "code",
   "execution_count": 179,
   "metadata": {},
   "outputs": [
    {
     "data": {
      "text/html": [
       "<div>\n",
       "<style scoped>\n",
       "    .dataframe tbody tr th:only-of-type {\n",
       "        vertical-align: middle;\n",
       "    }\n",
       "\n",
       "    .dataframe tbody tr th {\n",
       "        vertical-align: top;\n",
       "    }\n",
       "\n",
       "    .dataframe thead th {\n",
       "        text-align: right;\n",
       "    }\n",
       "</style>\n",
       "<table border=\"1\" class=\"dataframe\">\n",
       "  <thead>\n",
       "    <tr style=\"text-align: right;\">\n",
       "      <th></th>\n",
       "      <th>Code</th>\n",
       "    </tr>\n",
       "  </thead>\n",
       "  <tbody>\n",
       "    <tr>\n",
       "      <th>0</th>\n",
       "      <td>9046641003</td>\n",
       "    </tr>\n",
       "  </tbody>\n",
       "</table>\n",
       "</div>"
      ],
      "text/plain": [
       "         Code\n",
       "0  9046641003"
      ]
     },
     "execution_count": 179,
     "metadata": {},
     "output_type": "execute_result"
    }
   ],
   "source": [
    "GPInventory"
   ]
  },
  {
   "cell_type": "code",
   "execution_count": 24,
   "metadata": {},
   "outputs": [
    {
     "data": {
      "text/html": [
       "<div>\n",
       "<style scoped>\n",
       "    .dataframe tbody tr th:only-of-type {\n",
       "        vertical-align: middle;\n",
       "    }\n",
       "\n",
       "    .dataframe tbody tr th {\n",
       "        vertical-align: top;\n",
       "    }\n",
       "\n",
       "    .dataframe thead th {\n",
       "        text-align: right;\n",
       "    }\n",
       "</style>\n",
       "<table border=\"1\" class=\"dataframe\">\n",
       "  <thead>\n",
       "    <tr style=\"text-align: right;\">\n",
       "      <th></th>\n",
       "      <th>Code</th>\n",
       "    </tr>\n",
       "  </thead>\n",
       "  <tbody>\n",
       "    <tr>\n",
       "      <th>463</th>\n",
       "      <td>1123K</td>\n",
       "    </tr>\n",
       "  </tbody>\n",
       "</table>\n",
       "</div>"
      ],
      "text/plain": [
       "      Code\n",
       "463  1123K"
      ]
     },
     "execution_count": 24,
     "metadata": {},
     "output_type": "execute_result"
    }
   ],
   "source": [
    "GPInventory[463:464]"
   ]
  },
  {
   "cell_type": "code",
   "execution_count": 473,
   "metadata": {},
   "outputs": [],
   "source": [
    "#Get into iframe that contain input box\n",
    "driver.switch_to.default_content()\n",
    "iframe = driver.find_element(By.XPATH,'/html/body/div[2]/iframe')\n",
    "driver.switch_to.frame(iframe)"
   ]
  },
  {
   "cell_type": "code",
   "execution_count": null,
   "metadata": {},
   "outputs": [],
   "source": [
    "clickNewInput()"
   ]
  },
  {
   "cell_type": "code",
   "execution_count": 127,
   "metadata": {},
   "outputs": [],
   "source": [
    "MainTable1 = MainTable.drop_duplicates()"
   ]
  },
  {
   "cell_type": "code",
   "execution_count": 128,
   "metadata": {},
   "outputs": [],
   "source": [
    "MainTable1.to_parquet(r'parquet/table1_backupC.parquet')"
   ]
  },
  {
   "cell_type": "code",
   "execution_count": 75,
   "metadata": {},
   "outputs": [],
   "source": [
    "MainTable1.to_excel(r'/Users/krichnorakhun/Documents/GP/inventory/EPC1_w_images.xlsx', index=False)"
   ]
  },
  {
   "cell_type": "code",
   "execution_count": 41,
   "metadata": {},
   "outputs": [
    {
     "data": {
      "text/plain": [
       "array([10, 12], dtype=int64)"
      ]
     },
     "execution_count": 41,
     "metadata": {},
     "output_type": "execute_result"
    }
   ],
   "source": [
    "MainTable1['PartID'].apply(lambda x : len(x.replace('-',''))).unique()"
   ]
  },
  {
   "cell_type": "code",
   "execution_count": 129,
   "metadata": {},
   "outputs": [],
   "source": [
    "SecondTable1 = SecondTable.drop_duplicates()"
   ]
  },
  {
   "cell_type": "code",
   "execution_count": 130,
   "metadata": {},
   "outputs": [],
   "source": [
    "SecondTable1.to_parquet(r'parquet/table2_backupc.parquet')"
   ]
  },
  {
   "cell_type": "code",
   "execution_count": 77,
   "metadata": {},
   "outputs": [],
   "source": [
    "SecondTable1.to_excel(r'/Users/krichnorakhun/Documents/GP/inventory/EPC2_w_images.xlsx', index=False)"
   ]
  },
  {
   "cell_type": "code",
   "execution_count": 43,
   "metadata": {},
   "outputs": [
    {
     "data": {
      "text/plain": [
       "array([10, 12, 24, 20], dtype=int64)"
      ]
     },
     "execution_count": 43,
     "metadata": {},
     "output_type": "execute_result"
    }
   ],
   "source": [
    "SecondTable1['PartID'].apply(lambda x : len(x.replace('-',''))).unique()"
   ]
  },
  {
   "cell_type": "code",
   "execution_count": 131,
   "metadata": {},
   "outputs": [],
   "source": [
    "ThirdTable1 = ThirdTable.drop_duplicates()"
   ]
  },
  {
   "cell_type": "code",
   "execution_count": 132,
   "metadata": {},
   "outputs": [],
   "source": [
    "ThirdTable1.to_parquet(r'parquet/table3_backupC.parquet')"
   ]
  },
  {
   "cell_type": "code",
   "execution_count": 34,
   "metadata": {},
   "outputs": [],
   "source": [
    "ThirdTable1.to_csv(r'D:/EPC3_w_images.csv', index=False)"
   ]
  },
  {
   "cell_type": "code",
   "execution_count": 33,
   "metadata": {},
   "outputs": [
    {
     "data": {
      "text/html": [
       "<div>\n",
       "<style scoped>\n",
       "    .dataframe tbody tr th:only-of-type {\n",
       "        vertical-align: middle;\n",
       "    }\n",
       "\n",
       "    .dataframe tbody tr th {\n",
       "        vertical-align: top;\n",
       "    }\n",
       "\n",
       "    .dataframe thead th {\n",
       "        text-align: right;\n",
       "    }\n",
       "</style>\n",
       "<table border=\"1\" class=\"dataframe\">\n",
       "  <thead>\n",
       "    <tr style=\"text-align: right;\">\n",
       "      <th></th>\n",
       "      <th>PartID</th>\n",
       "      <th>Part Description</th>\n",
       "    </tr>\n",
       "  </thead>\n",
       "  <tbody>\n",
       "    <tr>\n",
       "      <th>0</th>\n",
       "      <td>00008-54010-02</td>\n",
       "      <td>ไม่มีใช้งาน</td>\n",
       "    </tr>\n",
       "    <tr>\n",
       "      <th>1</th>\n",
       "      <td>00008-54010-04</td>\n",
       "      <td>ไม่มีใช้งาน</td>\n",
       "    </tr>\n",
       "    <tr>\n",
       "      <th>2</th>\n",
       "      <td>00008-54010-17</td>\n",
       "      <td>ไม่มีใช้งาน</td>\n",
       "    </tr>\n",
       "    <tr>\n",
       "      <th>3</th>\n",
       "      <td>08885-81360-AS</td>\n",
       "      <td>ไม่มีใช้งาน</td>\n",
       "    </tr>\n",
       "    <tr>\n",
       "      <th>4</th>\n",
       "      <td>12157-10010</td>\n",
       "      <td>ปะเก็น, ปลั๊กถ่าย (สำหรับฝาครอบตะแกรงกรองน้ำมั...</td>\n",
       "    </tr>\n",
       "    <tr>\n",
       "      <th>5</th>\n",
       "      <td>31478-30010</td>\n",
       "      <td>ฝาปิด, ปลั๊กระบาย (สำหรับแม่ปั๊มคลัตช์)</td>\n",
       "    </tr>\n",
       "    <tr>\n",
       "      <th>6</th>\n",
       "      <td>45100-35281-B0</td>\n",
       "      <td>ชุดล้อ, พวงมาลัย</td>\n",
       "    </tr>\n",
       "    <tr>\n",
       "      <th>7</th>\n",
       "      <td>45130-35242-B0</td>\n",
       "      <td>ชุดปุ่ม, แตร</td>\n",
       "    </tr>\n",
       "    <tr>\n",
       "      <th>8</th>\n",
       "      <td>48201-0K541</td>\n",
       "      <td>แหนบ, สปริงหลัง, เบอร์ 1</td>\n",
       "    </tr>\n",
       "    <tr>\n",
       "      <th>9</th>\n",
       "      <td>52030-26010-83</td>\n",
       "      <td>ไม่มีใช้งาน</td>\n",
       "    </tr>\n",
       "    <tr>\n",
       "      <th>10</th>\n",
       "      <td>52040-26010-83</td>\n",
       "      <td>ไม่มีใช้งาน</td>\n",
       "    </tr>\n",
       "    <tr>\n",
       "      <th>11</th>\n",
       "      <td>52159-DX021-00</td>\n",
       "      <td>ไม่มีใช้งาน</td>\n",
       "    </tr>\n",
       "    <tr>\n",
       "      <th>12</th>\n",
       "      <td>53611-22010-A0</td>\n",
       "      <td>ชุดประกอบคันดึง, ชุดควบคุมล็อคฝากระโปรงหน้า</td>\n",
       "    </tr>\n",
       "    <tr>\n",
       "      <th>13</th>\n",
       "      <td>55506-33030-A0</td>\n",
       "      <td>ชุดประกอบล็อค, ช่องเก็บของ</td>\n",
       "    </tr>\n",
       "    <tr>\n",
       "      <th>14</th>\n",
       "      <td>56116-22050</td>\n",
       "      <td>สต็อปเปอร์, กระจกบังลมหน้า, เบอร์ 1</td>\n",
       "    </tr>\n",
       "    <tr>\n",
       "      <th>15</th>\n",
       "      <td>56117-64010</td>\n",
       "      <td>แผ่นกั้นน้ำ, กาวกระจก</td>\n",
       "    </tr>\n",
       "    <tr>\n",
       "      <th>16</th>\n",
       "      <td>57115-12080-83</td>\n",
       "      <td>ไม่มีใช้งาน</td>\n",
       "    </tr>\n",
       "    <tr>\n",
       "      <th>17</th>\n",
       "      <td>57116-12080-83</td>\n",
       "      <td>ไม่มีใช้งาน</td>\n",
       "    </tr>\n",
       "    <tr>\n",
       "      <th>18</th>\n",
       "      <td>58573-35010-B0</td>\n",
       "      <td>แผ่นเพลท, ขายึดพรมปูพื้นด้านหลัง</td>\n",
       "    </tr>\n",
       "    <tr>\n",
       "      <th>19</th>\n",
       "      <td>58808-20060-03</td>\n",
       "      <td>ชุดประกอบฝาครอบ, ช่องเปลี่ยนเกียร์</td>\n",
       "    </tr>\n",
       "    <tr>\n",
       "      <th>20</th>\n",
       "      <td>62511-01020-B0</td>\n",
       "      <td>ไม่มีใช้งาน</td>\n",
       "    </tr>\n",
       "    <tr>\n",
       "      <th>21</th>\n",
       "      <td>62511-89135-03</td>\n",
       "      <td>แผ่นบอร์ด, แผงปิดแผงบังโคลนหลังด้านใน, RH</td>\n",
       "    </tr>\n",
       "    <tr>\n",
       "      <th>22</th>\n",
       "      <td>62512-01020-B0</td>\n",
       "      <td>ไม่มีใช้งาน</td>\n",
       "    </tr>\n",
       "    <tr>\n",
       "      <th>23</th>\n",
       "      <td>62613-89106-C0</td>\n",
       "      <td>ฝาครอบ, ซุ้มล้อแผงบังโคลนหลัง, RH</td>\n",
       "    </tr>\n",
       "    <tr>\n",
       "      <th>24</th>\n",
       "      <td>62614-89106-C0</td>\n",
       "      <td>ฝาครอบ, ซุ้มล้อแผงบังโคลนหลัง, LH</td>\n",
       "    </tr>\n",
       "    <tr>\n",
       "      <th>25</th>\n",
       "      <td>62638-35010-B0</td>\n",
       "      <td>ไม่มีใช้งาน</td>\n",
       "    </tr>\n",
       "    <tr>\n",
       "      <th>26</th>\n",
       "      <td>62639-35010-B0</td>\n",
       "      <td>ไม่มีใช้งาน</td>\n",
       "    </tr>\n",
       "    <tr>\n",
       "      <th>27</th>\n",
       "      <td>63399-26050-B0</td>\n",
       "      <td>คลิป (สำหรับแผ่นปูที่พื้นหน้า)</td>\n",
       "    </tr>\n",
       "    <tr>\n",
       "      <th>28</th>\n",
       "      <td>67610-35100-B0</td>\n",
       "      <td>ชุดประกอบบอร์ด, แผงปิดประตูหน้า, RH</td>\n",
       "    </tr>\n",
       "    <tr>\n",
       "      <th>29</th>\n",
       "      <td>67610-3D240-B0</td>\n",
       "      <td>ไม่มีใช้งาน</td>\n",
       "    </tr>\n",
       "    <tr>\n",
       "      <th>30</th>\n",
       "      <td>67620-02W70-C1</td>\n",
       "      <td>ชุดประกอบบอร์ด, แผงปิดประตูหน้า, LH</td>\n",
       "    </tr>\n",
       "    <tr>\n",
       "      <th>31</th>\n",
       "      <td>67620-35100-B0</td>\n",
       "      <td>ชุดประกอบบอร์ด, แผงปิดประตูหน้า, LH</td>\n",
       "    </tr>\n",
       "    <tr>\n",
       "      <th>32</th>\n",
       "      <td>67620-3D240-B0</td>\n",
       "      <td>ไม่มีใช้งาน</td>\n",
       "    </tr>\n",
       "    <tr>\n",
       "      <th>33</th>\n",
       "      <td>67630-35570-B0</td>\n",
       "      <td>ไม่มีใช้งาน</td>\n",
       "    </tr>\n",
       "    <tr>\n",
       "      <th>34</th>\n",
       "      <td>67630-YZB40-B0</td>\n",
       "      <td>ไม่มีใช้งาน</td>\n",
       "    </tr>\n",
       "    <tr>\n",
       "      <th>35</th>\n",
       "      <td>67640-35570-B0</td>\n",
       "      <td>ไม่มีใช้งาน</td>\n",
       "    </tr>\n",
       "    <tr>\n",
       "      <th>36</th>\n",
       "      <td>67640-YZB40-B0</td>\n",
       "      <td>ไม่มีใช้งาน</td>\n",
       "    </tr>\n",
       "    <tr>\n",
       "      <th>37</th>\n",
       "      <td>67750-35010-B0</td>\n",
       "      <td>ไม่มีใช้งาน</td>\n",
       "    </tr>\n",
       "    <tr>\n",
       "      <th>38</th>\n",
       "      <td>67867-12150</td>\n",
       "      <td>คลิป, แผ่นกันโคลนหน้า</td>\n",
       "    </tr>\n",
       "    <tr>\n",
       "      <th>39</th>\n",
       "      <td>67913-89103-03</td>\n",
       "      <td>แผ่นเพลท, แผ่นกันรอยประตูหน้า, RH</td>\n",
       "    </tr>\n",
       "    <tr>\n",
       "      <th>40</th>\n",
       "      <td>67913-89104-03</td>\n",
       "      <td>แผ่นเพลท, แผ่นกันรอยประตูหน้า, RH</td>\n",
       "    </tr>\n",
       "    <tr>\n",
       "      <th>41</th>\n",
       "      <td>67913-89105-03</td>\n",
       "      <td>แผ่นเพลท, แผ่นกันรอยประตูหน้า, RH</td>\n",
       "    </tr>\n",
       "    <tr>\n",
       "      <th>42</th>\n",
       "      <td>67914-89102-03</td>\n",
       "      <td>แผ่นเพลท, แผ่นกันรอยประตูหน้า, LH</td>\n",
       "    </tr>\n",
       "    <tr>\n",
       "      <th>43</th>\n",
       "      <td>67914-89103-03</td>\n",
       "      <td>แผ่นเพลท, แผ่นกันรอยประตูหน้า, LH</td>\n",
       "    </tr>\n",
       "    <tr>\n",
       "      <th>44</th>\n",
       "      <td>67914-89104-03</td>\n",
       "      <td>แผ่นเพลท, แผ่นกันรอยประตูหน้า, LH</td>\n",
       "    </tr>\n",
       "    <tr>\n",
       "      <th>45</th>\n",
       "      <td>67917-35010-B0</td>\n",
       "      <td>แผ่นเพลท, แผ่นกันรอยขีดข่วนประตูหลัง, RH</td>\n",
       "    </tr>\n",
       "    <tr>\n",
       "      <th>46</th>\n",
       "      <td>67918-0K040-C0</td>\n",
       "      <td>แผ่นเพลท, แผ่นกันรอยขีดข่วนประตูหลัง, LH</td>\n",
       "    </tr>\n",
       "    <tr>\n",
       "      <th>47</th>\n",
       "      <td>67918-35010-B0</td>\n",
       "      <td>แผ่นเพลท, แผ่นกันรอยขีดข่วนประตูหลัง, LH</td>\n",
       "    </tr>\n",
       "    <tr>\n",
       "      <th>48</th>\n",
       "      <td>69205-12200-B1</td>\n",
       "      <td>ชุดประกอบมือจับ, ประตูหน้าด้านใน, RH</td>\n",
       "    </tr>\n",
       "    <tr>\n",
       "      <th>49</th>\n",
       "      <td>69205-33040-E0</td>\n",
       "      <td>ชุดประกอบมือจับ, ประตูหน้าด้านใน, RH</td>\n",
       "    </tr>\n",
       "    <tr>\n",
       "      <th>50</th>\n",
       "      <td>69205-89105-B0</td>\n",
       "      <td>ชุดประกอบมือจับ, ประตูหน้าด้านใน, RH</td>\n",
       "    </tr>\n",
       "    <tr>\n",
       "      <th>51</th>\n",
       "      <td>69206-12190-B1</td>\n",
       "      <td>ชุดประกอบมือจับ, ประตูหน้าด้านใน, LH</td>\n",
       "    </tr>\n",
       "    <tr>\n",
       "      <th>52</th>\n",
       "      <td>69206-33040-E0</td>\n",
       "      <td>ชุดประกอบมือจับ, ประตูหน้าด้านใน, LH</td>\n",
       "    </tr>\n",
       "    <tr>\n",
       "      <th>53</th>\n",
       "      <td>69206-89105-B0</td>\n",
       "      <td>ชุดประกอบมือจับ, ประตูหลังด้านใน, RH</td>\n",
       "    </tr>\n",
       "    <tr>\n",
       "      <th>54</th>\n",
       "      <td>69260-12080-03</td>\n",
       "      <td>ชุดมือจับ, เร็กกูเลเตอร์กระจกประตูหน้า</td>\n",
       "    </tr>\n",
       "    <tr>\n",
       "      <th>55</th>\n",
       "      <td>69260-89104-03</td>\n",
       "      <td>ชุดมือจับ, เร็กกูเลเตอร์กระจกประตูหน้า</td>\n",
       "    </tr>\n",
       "    <tr>\n",
       "      <th>56</th>\n",
       "      <td>71811-89111-03</td>\n",
       "      <td>ฉนวน, เบาะนั่งหน้า, RH</td>\n",
       "    </tr>\n",
       "  </tbody>\n",
       "</table>\n",
       "</div>"
      ],
      "text/plain": [
       "            PartID                                   Part Description\n",
       "0   00008-54010-02                                        ไม่มีใช้งาน\n",
       "1   00008-54010-04                                        ไม่มีใช้งาน\n",
       "2   00008-54010-17                                        ไม่มีใช้งาน\n",
       "3   08885-81360-AS                                        ไม่มีใช้งาน\n",
       "4      12157-10010  ปะเก็น, ปลั๊กถ่าย (สำหรับฝาครอบตะแกรงกรองน้ำมั...\n",
       "5      31478-30010            ฝาปิด, ปลั๊กระบาย (สำหรับแม่ปั๊มคลัตช์)\n",
       "6   45100-35281-B0                                   ชุดล้อ, พวงมาลัย\n",
       "7   45130-35242-B0                                       ชุดปุ่ม, แตร\n",
       "8      48201-0K541                           แหนบ, สปริงหลัง, เบอร์ 1\n",
       "9   52030-26010-83                                        ไม่มีใช้งาน\n",
       "10  52040-26010-83                                        ไม่มีใช้งาน\n",
       "11  52159-DX021-00                                        ไม่มีใช้งาน\n",
       "12  53611-22010-A0        ชุดประกอบคันดึง, ชุดควบคุมล็อคฝากระโปรงหน้า\n",
       "13  55506-33030-A0                         ชุดประกอบล็อค, ช่องเก็บของ\n",
       "14     56116-22050                สต็อปเปอร์, กระจกบังลมหน้า, เบอร์ 1\n",
       "15     56117-64010                              แผ่นกั้นน้ำ, กาวกระจก\n",
       "16  57115-12080-83                                        ไม่มีใช้งาน\n",
       "17  57116-12080-83                                        ไม่มีใช้งาน\n",
       "18  58573-35010-B0                   แผ่นเพลท, ขายึดพรมปูพื้นด้านหลัง\n",
       "19  58808-20060-03                 ชุดประกอบฝาครอบ, ช่องเปลี่ยนเกียร์\n",
       "20  62511-01020-B0                                        ไม่มีใช้งาน\n",
       "21  62511-89135-03          แผ่นบอร์ด, แผงปิดแผงบังโคลนหลังด้านใน, RH\n",
       "22  62512-01020-B0                                        ไม่มีใช้งาน\n",
       "23  62613-89106-C0                  ฝาครอบ, ซุ้มล้อแผงบังโคลนหลัง, RH\n",
       "24  62614-89106-C0                  ฝาครอบ, ซุ้มล้อแผงบังโคลนหลัง, LH\n",
       "25  62638-35010-B0                                        ไม่มีใช้งาน\n",
       "26  62639-35010-B0                                        ไม่มีใช้งาน\n",
       "27  63399-26050-B0                     คลิป (สำหรับแผ่นปูที่พื้นหน้า)\n",
       "28  67610-35100-B0                ชุดประกอบบอร์ด, แผงปิดประตูหน้า, RH\n",
       "29  67610-3D240-B0                                        ไม่มีใช้งาน\n",
       "30  67620-02W70-C1                ชุดประกอบบอร์ด, แผงปิดประตูหน้า, LH\n",
       "31  67620-35100-B0                ชุดประกอบบอร์ด, แผงปิดประตูหน้า, LH\n",
       "32  67620-3D240-B0                                        ไม่มีใช้งาน\n",
       "33  67630-35570-B0                                        ไม่มีใช้งาน\n",
       "34  67630-YZB40-B0                                        ไม่มีใช้งาน\n",
       "35  67640-35570-B0                                        ไม่มีใช้งาน\n",
       "36  67640-YZB40-B0                                        ไม่มีใช้งาน\n",
       "37  67750-35010-B0                                        ไม่มีใช้งาน\n",
       "38     67867-12150                              คลิป, แผ่นกันโคลนหน้า\n",
       "39  67913-89103-03                  แผ่นเพลท, แผ่นกันรอยประตูหน้า, RH\n",
       "40  67913-89104-03                  แผ่นเพลท, แผ่นกันรอยประตูหน้า, RH\n",
       "41  67913-89105-03                  แผ่นเพลท, แผ่นกันรอยประตูหน้า, RH\n",
       "42  67914-89102-03                  แผ่นเพลท, แผ่นกันรอยประตูหน้า, LH\n",
       "43  67914-89103-03                  แผ่นเพลท, แผ่นกันรอยประตูหน้า, LH\n",
       "44  67914-89104-03                  แผ่นเพลท, แผ่นกันรอยประตูหน้า, LH\n",
       "45  67917-35010-B0           แผ่นเพลท, แผ่นกันรอยขีดข่วนประตูหลัง, RH\n",
       "46  67918-0K040-C0           แผ่นเพลท, แผ่นกันรอยขีดข่วนประตูหลัง, LH\n",
       "47  67918-35010-B0           แผ่นเพลท, แผ่นกันรอยขีดข่วนประตูหลัง, LH\n",
       "48  69205-12200-B1               ชุดประกอบมือจับ, ประตูหน้าด้านใน, RH\n",
       "49  69205-33040-E0               ชุดประกอบมือจับ, ประตูหน้าด้านใน, RH\n",
       "50  69205-89105-B0               ชุดประกอบมือจับ, ประตูหน้าด้านใน, RH\n",
       "51  69206-12190-B1               ชุดประกอบมือจับ, ประตูหน้าด้านใน, LH\n",
       "52  69206-33040-E0               ชุดประกอบมือจับ, ประตูหน้าด้านใน, LH\n",
       "53  69206-89105-B0               ชุดประกอบมือจับ, ประตูหลังด้านใน, RH\n",
       "54  69260-12080-03             ชุดมือจับ, เร็กกูเลเตอร์กระจกประตูหน้า\n",
       "55  69260-89104-03             ชุดมือจับ, เร็กกูเลเตอร์กระจกประตูหน้า\n",
       "56  71811-89111-03                             ฉนวน, เบาะนั่งหน้า, RH"
      ]
     },
     "execution_count": 33,
     "metadata": {},
     "output_type": "execute_result"
    }
   ],
   "source": [
    "MainTable"
   ]
  },
  {
   "cell_type": "code",
   "execution_count": 35,
   "metadata": {},
   "outputs": [
    {
     "data": {
      "text/plain": [
       "30"
      ]
     },
     "execution_count": 35,
     "metadata": {},
     "output_type": "execute_result"
    }
   ],
   "source": [
    "SecondTable['PartID'].nunique()"
   ]
  },
  {
   "cell_type": "code",
   "execution_count": 75,
   "metadata": {},
   "outputs": [
    {
     "data": {
      "text/html": [
       "<div>\n",
       "<style scoped>\n",
       "    .dataframe tbody tr th:only-of-type {\n",
       "        vertical-align: middle;\n",
       "    }\n",
       "\n",
       "    .dataframe tbody tr th {\n",
       "        vertical-align: top;\n",
       "    }\n",
       "\n",
       "    .dataframe thead th {\n",
       "        text-align: right;\n",
       "    }\n",
       "</style>\n",
       "<table border=\"1\" class=\"dataframe\">\n",
       "  <thead>\n",
       "    <tr style=\"text-align: right;\">\n",
       "      <th></th>\n",
       "      <th>PartID</th>\n",
       "      <th>PNC</th>\n",
       "      <th>Count</th>\n",
       "      <th>Catalogue</th>\n",
       "      <th>Model</th>\n",
       "      <th>Fr-To</th>\n",
       "      <th>Model(Details)</th>\n",
       "    </tr>\n",
       "  </thead>\n",
       "  <tbody>\n",
       "    <tr>\n",
       "      <th>21770</th>\n",
       "      <td>27060-0C021</td>\n",
       "      <td>27020</td>\n",
       "      <td>01</td>\n",
       "      <td>611260</td>\n",
       "      <td>INNOVA/KIJANG INNOVA</td>\n",
       "      <td>201003- 201204</td>\n",
       "      <td>1TRFE,2TRFE..TGN4#..GCC,IDN,MA,PHL,TH,VN12V 80A</td>\n",
       "    </tr>\n",
       "    <tr>\n",
       "      <th>21771</th>\n",
       "      <td>27060-0C021</td>\n",
       "      <td>27020</td>\n",
       "      <td>01</td>\n",
       "      <td>611270</td>\n",
       "      <td>INNOVA/KIJANG INNOVA</td>\n",
       "      <td>201107- 201204</td>\n",
       "      <td>2TRFE..TGN4112V 80A</td>\n",
       "    </tr>\n",
       "    <tr>\n",
       "      <th>21772</th>\n",
       "      <td>27060-0C021</td>\n",
       "      <td>27020</td>\n",
       "      <td>01</td>\n",
       "      <td>611270</td>\n",
       "      <td>INNOVA/KIJANG INNOVA</td>\n",
       "      <td>201107- 201212</td>\n",
       "      <td>1TRFE..TGN40..(GL,STD)..VN1TRFE..TGN40..4FC..D...</td>\n",
       "    </tr>\n",
       "    <tr>\n",
       "      <th>21773</th>\n",
       "      <td>27060-0C021</td>\n",
       "      <td>27020</td>\n",
       "      <td>01</td>\n",
       "      <td>611270</td>\n",
       "      <td>INNOVA/KIJANG INNOVA</td>\n",
       "      <td>201107- 201304</td>\n",
       "      <td>1TRFE..TGN40..IDN,TH1TRFE..TGN40..5F..DLX..VN1...</td>\n",
       "    </tr>\n",
       "    <tr>\n",
       "      <th>21774</th>\n",
       "      <td>27060-0C021</td>\n",
       "      <td>27020</td>\n",
       "      <td>01</td>\n",
       "      <td>611270</td>\n",
       "      <td>INNOVA/KIJANG INNOVA</td>\n",
       "      <td>201204- 201304</td>\n",
       "      <td>2TRFE..TGN4112V 80A</td>\n",
       "    </tr>\n",
       "    <tr>\n",
       "      <th>21775</th>\n",
       "      <td>27060-0C021</td>\n",
       "      <td>27020</td>\n",
       "      <td>01</td>\n",
       "      <td>611270</td>\n",
       "      <td>INNOVA/KIJANG INNOVA</td>\n",
       "      <td>201107- 201603</td>\n",
       "      <td>1TRFE..TGN40..MA,PHL12V 80A</td>\n",
       "    </tr>\n",
       "    <tr>\n",
       "      <th>21776</th>\n",
       "      <td>27060-0C021</td>\n",
       "      <td>27020</td>\n",
       "      <td>01</td>\n",
       "      <td>611270</td>\n",
       "      <td>INNOVA/KIJANG INNOVA</td>\n",
       "      <td>201304- 201603</td>\n",
       "      <td>2TRFE..TGN4112V 80A</td>\n",
       "    </tr>\n",
       "    <tr>\n",
       "      <th>21777</th>\n",
       "      <td>27060-0C021</td>\n",
       "      <td>27020</td>\n",
       "      <td>01</td>\n",
       "      <td>671380</td>\n",
       "      <td>FORTUNER</td>\n",
       "      <td>201003- 201204</td>\n",
       "      <td>2TRFE..TGN51,6112V 80A</td>\n",
       "    </tr>\n",
       "    <tr>\n",
       "      <th>21778</th>\n",
       "      <td>27060-0C021</td>\n",
       "      <td>27020</td>\n",
       "      <td>01</td>\n",
       "      <td>6713A0</td>\n",
       "      <td>FORTUNER</td>\n",
       "      <td>201107- 201204</td>\n",
       "      <td>2TRFE..TGN51,61..GCC,PHL12V 80A</td>\n",
       "    </tr>\n",
       "    <tr>\n",
       "      <th>21779</th>\n",
       "      <td>27060-0C021</td>\n",
       "      <td>27020</td>\n",
       "      <td>01</td>\n",
       "      <td>6713A0</td>\n",
       "      <td>FORTUNER</td>\n",
       "      <td>201107- 201304</td>\n",
       "      <td>2TRFE..TGN51,61..IDN,TH,VN12V 80A</td>\n",
       "    </tr>\n",
       "    <tr>\n",
       "      <th>21780</th>\n",
       "      <td>27060-0C021</td>\n",
       "      <td>27020</td>\n",
       "      <td>01</td>\n",
       "      <td>6713A0</td>\n",
       "      <td>FORTUNER</td>\n",
       "      <td>201204- 201304</td>\n",
       "      <td>2TRFE..TGN51,61..GCC,PHL12V 80A</td>\n",
       "    </tr>\n",
       "    <tr>\n",
       "      <th>21781</th>\n",
       "      <td>27060-0C021</td>\n",
       "      <td>27020</td>\n",
       "      <td>01</td>\n",
       "      <td>6713A0</td>\n",
       "      <td>FORTUNER</td>\n",
       "      <td>201107- 201703</td>\n",
       "      <td>2TRFE..TGN51,61..CO,EPT,GEN,KZS,LA,MA,PKN,SA12...</td>\n",
       "    </tr>\n",
       "    <tr>\n",
       "      <th>21782</th>\n",
       "      <td>27060-0C021</td>\n",
       "      <td>27020</td>\n",
       "      <td>01</td>\n",
       "      <td>6713A0</td>\n",
       "      <td>FORTUNER</td>\n",
       "      <td>201304- 201703</td>\n",
       "      <td>2TRFE..TGN51,61..GCC,PHL12V 80A</td>\n",
       "    </tr>\n",
       "    <tr>\n",
       "      <th>21783</th>\n",
       "      <td>27060-0C021</td>\n",
       "      <td>27020</td>\n",
       "      <td>01</td>\n",
       "      <td>672370</td>\n",
       "      <td>HILUX</td>\n",
       "      <td>201003- 201107</td>\n",
       "      <td>2TRFE..TGN16..(DCB,SCB)..GEN12V 80A</td>\n",
       "    </tr>\n",
       "    <tr>\n",
       "      <th>21784</th>\n",
       "      <td>27060-0C021</td>\n",
       "      <td>27020</td>\n",
       "      <td>01</td>\n",
       "      <td>672370</td>\n",
       "      <td>HILUX</td>\n",
       "      <td>201003- 201108</td>\n",
       "      <td>1TRFE..TGN15..IV312V 80A</td>\n",
       "    </tr>\n",
       "    <tr>\n",
       "      <th>21785</th>\n",
       "      <td>27060-0C021</td>\n",
       "      <td>27020</td>\n",
       "      <td>01</td>\n",
       "      <td>672370</td>\n",
       "      <td>HILUX</td>\n",
       "      <td>201003- 201204</td>\n",
       "      <td>1TRFE..TGN15..CBU2TRFE..TGN16..XTR2TRFE..TGN16...</td>\n",
       "    </tr>\n",
       "    <tr>\n",
       "      <th>21786</th>\n",
       "      <td>27060-0C021</td>\n",
       "      <td>27020</td>\n",
       "      <td>01</td>\n",
       "      <td>672380</td>\n",
       "      <td>HILUX</td>\n",
       "      <td>201107- 201204</td>\n",
       "      <td>2TRFE..TGN16..ARL,GEN2TRFE..TGN16..SR..GCC2TRF...</td>\n",
       "    </tr>\n",
       "    <tr>\n",
       "      <th>21787</th>\n",
       "      <td>27060-0C021</td>\n",
       "      <td>27020</td>\n",
       "      <td>01</td>\n",
       "      <td>672380</td>\n",
       "      <td>HILUX</td>\n",
       "      <td>201107- 201304</td>\n",
       "      <td>1TRFE,2TRFE..TGN10,16..IDN,TH12V 80A</td>\n",
       "    </tr>\n",
       "    <tr>\n",
       "      <th>21788</th>\n",
       "      <td>27060-0C021</td>\n",
       "      <td>27020</td>\n",
       "      <td>01</td>\n",
       "      <td>672380</td>\n",
       "      <td>HILUX</td>\n",
       "      <td>201204- 201304</td>\n",
       "      <td>2TRFE..TGN16..ARL2TRFE..TGN16..XTR2TRFE..TGN26...</td>\n",
       "    </tr>\n",
       "    <tr>\n",
       "      <th>21789</th>\n",
       "      <td>27060-0C021</td>\n",
       "      <td>27020</td>\n",
       "      <td>01</td>\n",
       "      <td>672380</td>\n",
       "      <td>HILUX</td>\n",
       "      <td>201107-</td>\n",
       "      <td>2TRFE..TGN26..4FC..GEN2TRFE..TGN26..SCB..GEN2T...</td>\n",
       "    </tr>\n",
       "    <tr>\n",
       "      <th>21790</th>\n",
       "      <td>27060-0C021</td>\n",
       "      <td>27020</td>\n",
       "      <td>01</td>\n",
       "      <td>672380</td>\n",
       "      <td>HILUX</td>\n",
       "      <td>201304-</td>\n",
       "      <td>2TRFE..TGN16..ARL2TRFE..TGN16..XTR2TRFE..TGN26...</td>\n",
       "    </tr>\n",
       "  </tbody>\n",
       "</table>\n",
       "</div>"
      ],
      "text/plain": [
       "            PartID    PNC Count Catalogue                 Model  \\\n",
       "21770  27060-0C021  27020    01    611260  INNOVA/KIJANG INNOVA   \n",
       "21771  27060-0C021  27020    01    611270  INNOVA/KIJANG INNOVA   \n",
       "21772  27060-0C021  27020    01    611270  INNOVA/KIJANG INNOVA   \n",
       "21773  27060-0C021  27020    01    611270  INNOVA/KIJANG INNOVA   \n",
       "21774  27060-0C021  27020    01    611270  INNOVA/KIJANG INNOVA   \n",
       "21775  27060-0C021  27020    01    611270  INNOVA/KIJANG INNOVA   \n",
       "21776  27060-0C021  27020    01    611270  INNOVA/KIJANG INNOVA   \n",
       "21777  27060-0C021  27020    01    671380              FORTUNER   \n",
       "21778  27060-0C021  27020    01    6713A0              FORTUNER   \n",
       "21779  27060-0C021  27020    01    6713A0              FORTUNER   \n",
       "21780  27060-0C021  27020    01    6713A0              FORTUNER   \n",
       "21781  27060-0C021  27020    01    6713A0              FORTUNER   \n",
       "21782  27060-0C021  27020    01    6713A0              FORTUNER   \n",
       "21783  27060-0C021  27020    01    672370                 HILUX   \n",
       "21784  27060-0C021  27020    01    672370                 HILUX   \n",
       "21785  27060-0C021  27020    01    672370                 HILUX   \n",
       "21786  27060-0C021  27020    01    672380                 HILUX   \n",
       "21787  27060-0C021  27020    01    672380                 HILUX   \n",
       "21788  27060-0C021  27020    01    672380                 HILUX   \n",
       "21789  27060-0C021  27020    01    672380                 HILUX   \n",
       "21790  27060-0C021  27020    01    672380                 HILUX   \n",
       "\n",
       "                Fr-To                                     Model(Details)  \n",
       "21770  201003- 201204    1TRFE,2TRFE..TGN4#..GCC,IDN,MA,PHL,TH,VN12V 80A  \n",
       "21771  201107- 201204                                2TRFE..TGN4112V 80A  \n",
       "21772  201107- 201212  1TRFE..TGN40..(GL,STD)..VN1TRFE..TGN40..4FC..D...  \n",
       "21773  201107- 201304  1TRFE..TGN40..IDN,TH1TRFE..TGN40..5F..DLX..VN1...  \n",
       "21774  201204- 201304                                2TRFE..TGN4112V 80A  \n",
       "21775  201107- 201603                        1TRFE..TGN40..MA,PHL12V 80A  \n",
       "21776  201304- 201603                                2TRFE..TGN4112V 80A  \n",
       "21777  201003- 201204                             2TRFE..TGN51,6112V 80A  \n",
       "21778  201107- 201204                    2TRFE..TGN51,61..GCC,PHL12V 80A  \n",
       "21779  201107- 201304                  2TRFE..TGN51,61..IDN,TH,VN12V 80A  \n",
       "21780  201204- 201304                    2TRFE..TGN51,61..GCC,PHL12V 80A  \n",
       "21781  201107- 201703  2TRFE..TGN51,61..CO,EPT,GEN,KZS,LA,MA,PKN,SA12...  \n",
       "21782  201304- 201703                    2TRFE..TGN51,61..GCC,PHL12V 80A  \n",
       "21783  201003- 201107                2TRFE..TGN16..(DCB,SCB)..GEN12V 80A  \n",
       "21784  201003- 201108                           1TRFE..TGN15..IV312V 80A  \n",
       "21785  201003- 201204  1TRFE..TGN15..CBU2TRFE..TGN16..XTR2TRFE..TGN16...  \n",
       "21786  201107- 201204  2TRFE..TGN16..ARL,GEN2TRFE..TGN16..SR..GCC2TRF...  \n",
       "21787  201107- 201304               1TRFE,2TRFE..TGN10,16..IDN,TH12V 80A  \n",
       "21788  201204- 201304  2TRFE..TGN16..ARL2TRFE..TGN16..XTR2TRFE..TGN26...  \n",
       "21789         201107-  2TRFE..TGN26..4FC..GEN2TRFE..TGN26..SCB..GEN2T...  \n",
       "21790         201304-  2TRFE..TGN16..ARL2TRFE..TGN16..XTR2TRFE..TGN26...  "
      ]
     },
     "execution_count": 75,
     "metadata": {},
     "output_type": "execute_result"
    }
   ],
   "source": [
    "SecondTable.loc[SecondTable['PartID']=='27060-0C021']"
   ]
  },
  {
   "cell_type": "code",
   "execution_count": 167,
   "metadata": {},
   "outputs": [
    {
     "data": {
      "text/plain": [
       "230"
      ]
     },
     "execution_count": 167,
     "metadata": {},
     "output_type": "execute_result"
    }
   ],
   "source": [
    "ThirdTable['figureName'].nunique()"
   ]
  },
  {
   "cell_type": "code",
   "execution_count": 36,
   "metadata": {},
   "outputs": [
    {
     "data": {
      "text/plain": [
       "30"
      ]
     },
     "execution_count": 36,
     "metadata": {},
     "output_type": "execute_result"
    }
   ],
   "source": [
    "ThirdTable['PartID'].nunique()"
   ]
  }
 ],
 "metadata": {
  "kernelspec": {
   "display_name": "selenium",
   "language": "python",
   "name": "python3"
  },
  "language_info": {
   "codemirror_mode": {
    "name": "ipython",
    "version": 3
   },
   "file_extension": ".py",
   "mimetype": "text/x-python",
   "name": "python",
   "nbconvert_exporter": "python",
   "pygments_lexer": "ipython3",
   "version": "3.9.12"
  }
 },
 "nbformat": 4,
 "nbformat_minor": 2
}
