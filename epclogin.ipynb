{
 "cells": [
  {
   "cell_type": "code",
   "execution_count": 76,
   "metadata": {},
   "outputs": [],
   "source": [
    "from selenium import webdriver\n",
    "from selenium.webdriver.common.by import By\n",
    "from selenium.webdriver.common.keys import Keys\n",
    "\n",
    "from selenium.webdriver.support.ui import WebDriverWait\n",
    "from selenium.webdriver.support import expected_conditions as EC\n",
    "from selenium.common.exceptions import NoSuchElementException, TimeoutException\n",
    "from selenium.common.exceptions import NoSuchElementException, NoSuchFrameException, TimeoutException\n",
    "\n",
    "from selenium.webdriver.common.action_chains import ActionChains\n",
    "import time\n",
    "\n",
    "import pandas as pd\n",
    "import bs4 as bs4"
   ]
  },
  {
   "cell_type": "code",
   "execution_count": 2,
   "metadata": {},
   "outputs": [],
   "source": [
    "#webdriver.Chrome(executable_path=r'/Users/krichnorakhun/Documents/Machine Learning/selenium/chromedriver_mac_arm64')\n",
    "driver = webdriver.Chrome()"
   ]
  },
  {
   "cell_type": "code",
   "execution_count": 60,
   "metadata": {},
   "outputs": [],
   "source": [
    "driver = webdriver.Edge()"
   ]
  },
  {
   "cell_type": "code",
   "execution_count": 61,
   "metadata": {},
   "outputs": [],
   "source": [
    "driver.get('https://spsepchtr.mx.toyota.co.jp/kN0k/V2/servlet/jp.co.toyota.pv2y580.servlet.CCV2Y580')"
   ]
  },
  {
   "cell_type": "code",
   "execution_count": 62,
   "metadata": {},
   "outputs": [],
   "source": [
    "user_input = driver.find_element(By.XPATH,'/html/body/div/div[2]/div[2]/div/div/form/div[2]/div[1]/table/tbody/tr[1]/td[2]/input')"
   ]
  },
  {
   "cell_type": "code",
   "execution_count": 63,
   "metadata": {},
   "outputs": [],
   "source": [
    "user_input.send_keys('12062B5@97221')"
   ]
  },
  {
   "cell_type": "code",
   "execution_count": 64,
   "metadata": {},
   "outputs": [],
   "source": [
    "pwd_input = driver.find_element(By.XPATH, '/html/body/div/div[2]/div[2]/div/div/form/div[2]/div[1]/table/tbody/tr[2]/td[2]/input')\n",
    "pwd_input.send_keys('Gpauto555#')\n",
    "pwd_input.send_keys(Keys.ENTER)"
   ]
  },
  {
   "cell_type": "markdown",
   "metadata": {},
   "source": [
    "<font color='yellow'> In case of repeat logged in</font>"
   ]
  },
  {
   "cell_type": "code",
   "execution_count": 65,
   "metadata": {},
   "outputs": [],
   "source": [
    "confirm_login_button = driver.find_element(By.XPATH,'/html/body/div/div[2]/div/div[2]/input[1]')\n",
    "confirm_login_button.click()"
   ]
  },
  {
   "cell_type": "markdown",
   "metadata": {},
   "source": [
    "<font color='yellow'> In case of normal logged in just skip clicking confirm button</font>"
   ]
  },
  {
   "cell_type": "code",
   "execution_count": 66,
   "metadata": {},
   "outputs": [],
   "source": [
    "# Wait for the new window/tab and then switch to it\n",
    "window_handles = driver.window_handles\n",
    "driver.switch_to.window(window_handles[-1])"
   ]
  },
  {
   "cell_type": "code",
   "execution_count": 67,
   "metadata": {},
   "outputs": [],
   "source": [
    "iframe = driver.find_element(By.XPATH,'/html/body/div/iframe')\n",
    "driver.switch_to.frame(iframe)"
   ]
  },
  {
   "cell_type": "code",
   "execution_count": 68,
   "metadata": {},
   "outputs": [],
   "source": [
    "partSearch_button = driver.find_element(By.XPATH,'/html/body/form/div[1]/div[1]/div[3]/div[1]/fieldset/button[2]')\n",
    "partSearch_button.click()"
   ]
  },
  {
   "cell_type": "code",
   "execution_count": 69,
   "metadata": {},
   "outputs": [],
   "source": [
    "driver.switch_to.default_content()"
   ]
  },
  {
   "cell_type": "code",
   "execution_count": 70,
   "metadata": {},
   "outputs": [],
   "source": [
    "iframe = driver.find_element(By.XPATH,'/html/body/div[2]/iframe')\n",
    "driver.switch_to.frame(iframe)"
   ]
  },
  {
   "cell_type": "code",
   "execution_count": 71,
   "metadata": {},
   "outputs": [],
   "source": [
    "part_1 = driver.find_element(By.XPATH,'/html/body/form/div[1]/div[1]/div[1]/div[2]/input[1]')\n",
    "part_2 = driver.find_element(By.XPATH,'/html/body/form/div[1]/div[1]/div[1]/div[2]/input[2]')\n",
    "part_3 = driver.find_element(By.XPATH,'/html/body/form/div[1]/div[1]/div[1]/div[2]/input[3]')"
   ]
  },
  {
   "cell_type": "code",
   "execution_count": 72,
   "metadata": {},
   "outputs": [],
   "source": [
    "part_1.send_keys('73210')\n",
    "part_2.send_keys('0K700')\n",
    "part_3.send_keys('A0')\n",
    "part_3.send_keys(Keys.ENTER)"
   ]
  },
  {
   "cell_type": "code",
   "execution_count": 73,
   "metadata": {},
   "outputs": [],
   "source": [
    "Run_Botton = driver.find_element(By.XPATH,'/html/body/form/div[1]/div[3]/div[2]/button[10]')\n",
    "Run_Botton.click()"
   ]
  },
  {
   "cell_type": "markdown",
   "metadata": {},
   "source": [
    "<font color='lightgreen'>Load data into variable and process data by SOUP</font>"
   ]
  },
  {
   "cell_type": "code",
   "execution_count": 74,
   "metadata": {},
   "outputs": [],
   "source": [
    "data = driver.page_source"
   ]
  },
  {
   "cell_type": "code",
   "execution_count": 79,
   "metadata": {},
   "outputs": [],
   "source": [
    "soup = bs4.BeautifulSoup(data)"
   ]
  },
  {
   "cell_type": "code",
   "execution_count": 97,
   "metadata": {},
   "outputs": [],
   "source": [
    "#soup.find_all('table',{'id' : 'F10_tblListInnerSearch'} )\n",
    "tableInSoup = soup.find_all('table',{'class':'excelLikeList'})"
   ]
  },
  {
   "cell_type": "code",
   "execution_count": 110,
   "metadata": {},
   "outputs": [],
   "source": [
    "output = {}"
   ]
  },
  {
   "cell_type": "code",
   "execution_count": 115,
   "metadata": {},
   "outputs": [],
   "source": [
    "output['PartID'] = tableInSoup[0].find_all('div', { 'class':'side'})[0].text\n",
    "output['Part Description'] = tableInSoup[0].find_all('div', { 'class':'side'})[1].text"
   ]
  },
  {
   "cell_type": "code",
   "execution_count": 171,
   "metadata": {},
   "outputs": [],
   "source": [
    "# Use a list to collect rows\n",
    "data_rows = []\n",
    "for i in tableInSoup[1].find_all('tr')[:]:\n",
    "    cells = i.find_all('td')\n",
    "    if len(cells) > 2:  # Make sure there are enough cells\n",
    "        # Append each row's data as a dictionary to the data_rows list\n",
    "        data_rows.append({\n",
    "            'PartID': cells[1].text,\n",
    "            'PNC': cells[2].text,\n",
    "            'Catalogue': cells[4].text,\n",
    "            'Model' : cells[5].text,\n",
    "            'Fr-To' : cells[6].text,\n",
    "            'Model-Details' : cells[7].text\n",
    "        })\n",
    "\n",
    "# Create a DataFrame from the collected rows\n",
    "partList = pd.DataFrame(data_rows)"
   ]
  },
  {
   "cell_type": "code",
   "execution_count": 172,
   "metadata": {},
   "outputs": [],
   "source": [
    "output['PartList'] = partList.to_dict(orient='records')"
   ]
  },
  {
   "cell_type": "code",
   "execution_count": 173,
   "metadata": {},
   "outputs": [
    {
     "data": {
      "text/plain": [
       "{'PartID': '73210-0K700-A0',\n",
       " 'Part Description': 'ชุดเข็มขัดนิรภัย, เบาะหน้าตัวนอก, RH',\n",
       " 'PartList': [{'PartID': '73210-0K700-A0',\n",
       "   'PNC': '73210',\n",
       "   'Catalogue': '672380',\n",
       "   'Model': 'HILUX',\n",
       "   'Fr-To': '201308- 201504',\n",
       "   'Model-Details': 'KUN2#,3#..SMTKUN15..SMT..SRIVORY,TRIM4#'},\n",
       "  {'PartID': '73210-0K700-A0',\n",
       "   'PNC': '73220',\n",
       "   'Catalogue': '672380',\n",
       "   'Model': 'HILUX',\n",
       "   'Fr-To': '201308- 201504',\n",
       "   'Model-Details': 'KUN2#,3#..SMTKUN15..SMT..SRIVORY,TRIM4#'}]}"
      ]
     },
     "execution_count": 173,
     "metadata": {},
     "output_type": "execute_result"
    }
   ],
   "source": [
    "output"
   ]
  },
  {
   "cell_type": "code",
   "execution_count": 125,
   "metadata": {},
   "outputs": [
    {
     "data": {
      "text/plain": [
       "[<td class=\"clearFloat\"><div class=\"side\" id=\"eltColF10_divListSearch2\">0001</div></td>,\n",
       " <td class=\"clearFloat\"><div class=\"side\" id=\"eltColF10_divListSearch3\">73210-0K700-A0</div></td>,\n",
       " <td class=\"clearFloat\"><div class=\"side\" id=\"eltColF10_divListSearch4\">73210</div></td>,\n",
       " <td class=\"clearFloat\"><div class=\"side cF10_cellRight\" id=\"eltColF10_divListSearch5\">01</div></td>,\n",
       " <td class=\"clearFloat\"><div class=\"side\" id=\"eltColF10_divListSearch6\">672380</div></td>,\n",
       " <td class=\"clearFloat\"><div class=\"side\" id=\"eltColF10_divListSearch7\">HILUX</div></td>,\n",
       " <td class=\"clearFloat\"><div class=\"side\" id=\"eltColF10_divListSearch8\">201308-<br/> 201504</div></td>,\n",
       " <td class=\"clearFloat\"><div class=\"side\" id=\"eltColF10_divListSearch9\">KUN2#,3#..SMT<br/>KUN15..SMT..SR<br/>IVORY,TRIM4#</div></td>,\n",
       " <td class=\"clearFloat\" style=\"display: none;\"><div class=\"side\" id=\"eltColF10_divListSearch10\">732100K700A0</div></td>,\n",
       " <td class=\"clearFloat\" style=\"display: none;\"><div class=\"side\" id=\"eltColF10_divListSearch11\">73210</div></td>,\n",
       " <td class=\"clearFloat\" style=\"display: none;\"><div class=\"side\" id=\"eltColF10_divListSearch12\">0533</div></td>,\n",
       " <td class=\"clearFloat\" style=\"display: none;\"><div class=\"side\" id=\"eltColF10_divListSearch13\">732100K700A0</div></td>,\n",
       " <td class=\"clearFloat\" style=\"display: none;\"><div class=\"side\" id=\"eltColF10_divListSearch14\">01</div></td>,\n",
       " <td class=\"clearFloat\" style=\"display: none;\"><div class=\"side\" id=\"eltColF10_divListSearch15\">201308</div></td>,\n",
       " <td class=\"clearFloat\" style=\"display: none;\"><div class=\"side\" id=\"eltColF10_divListSearch16\">201504</div></td>,\n",
       " <td class=\"clearFloat\" style=\"display: none;\"><div class=\"side\" id=\"eltColF10_divListSearch17\"></div></td>,\n",
       " <td class=\"clearFloat\" style=\"display: none;\"><div class=\"side\" id=\"eltColF10_divListSearch18\">000M8W</div></td>,\n",
       " <td class=\"clearFloat\" style=\"display: none;\"><div class=\"side\" id=\"eltColF10_divListSearch19\">4#</div></td>,\n",
       " <td class=\"clearFloat\" style=\"display: none;\"><div class=\"side\" id=\"eltColF10_divListSearch20\"></div></td>,\n",
       " <td class=\"clearFloat\" style=\"display: none;\"><div class=\"side\" id=\"eltColF10_divListSearch21\">0</div></td>,\n",
       " <td class=\"clearFloat\" style=\"display: none;\"><div class=\"side\" id=\"eltColF10_divListSearch22\">IVORY,TRIM4#</div></td>,\n",
       " <td class=\"clearFloat\" style=\"display: none;\"><div class=\"side\" id=\"eltColF10_divListSearch23\">7152</div></td>,\n",
       " <td class=\"clearFloat\" style=\"display: none;\"><div class=\"side\" id=\"eltColF10_divListSearch24\"></div></td>,\n",
       " <td class=\"clearFloat\" style=\"display: none;\"><div class=\"side\" id=\"eltColF10_divListSearch25\"></div></td>,\n",
       " <td class=\"clearFloat\" style=\"display: none;\"><div class=\"side\" id=\"eltColF10_divListSearch26\"></div></td>,\n",
       " <td class=\"clearFloat\" style=\"display: none;\"><div class=\"side\" id=\"eltColF10_divListSearch27\">0</div></td>]"
      ]
     },
     "execution_count": 125,
     "metadata": {},
     "output_type": "execute_result"
    }
   ],
   "source": [
    "tableInSoup[1].find_all('tr')[0].find_all('td')"
   ]
  },
  {
   "cell_type": "markdown",
   "metadata": {},
   "source": [
    "<font color='yellow'> From this is data to be query</font>"
   ]
  },
  {
   "cell_type": "code",
   "execution_count": 116,
   "metadata": {},
   "outputs": [
    {
     "data": {
      "text/plain": [
       "{'PartID': '73210-0K700-A0',\n",
       " 'Part Description': 'ชุดเข็มขัดนิรภัย, เบาะหน้าตัวนอก, RH'}"
      ]
     },
     "execution_count": 116,
     "metadata": {},
     "output_type": "execute_result"
    }
   ],
   "source": [
    "output"
   ]
  },
  {
   "cell_type": "code",
   "execution_count": 24,
   "metadata": {},
   "outputs": [],
   "source": [
    "partlist = pd.read_csv(r'/Users/krichnorakhun/Documents/GP/dataResult/replyWithFormat_ml.csv')"
   ]
  },
  {
   "cell_type": "code",
   "execution_count": 26,
   "metadata": {},
   "outputs": [
    {
     "data": {
      "text/html": [
       "<div>\n",
       "<style scoped>\n",
       "    .dataframe tbody tr th:only-of-type {\n",
       "        vertical-align: middle;\n",
       "    }\n",
       "\n",
       "    .dataframe tbody tr th {\n",
       "        vertical-align: top;\n",
       "    }\n",
       "\n",
       "    .dataframe thead th {\n",
       "        text-align: right;\n",
       "    }\n",
       "</style>\n",
       "<table border=\"1\" class=\"dataframe\">\n",
       "  <thead>\n",
       "    <tr style=\"text-align: right;\">\n",
       "      <th></th>\n",
       "      <th>TSTAMP</th>\n",
       "      <th>User</th>\n",
       "      <th>Room</th>\n",
       "      <th>sepmsg</th>\n",
       "      <th>Chassis</th>\n",
       "      <th>Brand</th>\n",
       "      <th>Code</th>\n",
       "      <th>Detail</th>\n",
       "      <th>Model</th>\n",
       "      <th>Price</th>\n",
       "      <th>Available</th>\n",
       "      <th>ml</th>\n",
       "    </tr>\n",
       "  </thead>\n",
       "  <tbody>\n",
       "    <tr>\n",
       "      <th>4</th>\n",
       "      <td>2023-06-01 12:09:34</td>\n",
       "      <td>TY-IS ยุ้ย</td>\n",
       "      <td>- GP</td>\n",
       "      <td>TOYOTA | 6480102908 | กระจกบังลมหลังไล่ฝ้า |  ...</td>\n",
       "      <td>NaN</td>\n",
       "      <td>TOYOTA</td>\n",
       "      <td>6480102908</td>\n",
       "      <td>กระจกบังลมหลังไล่ฝ้า</td>\n",
       "      <td>ZZE14# ZRE14#</td>\n",
       "      <td>4800.0</td>\n",
       "      <td>ไม่มีของต้องเบิก</td>\n",
       "      <td>ไม่มีของ</td>\n",
       "    </tr>\n",
       "    <tr>\n",
       "      <th>11</th>\n",
       "      <td>2023-06-05 19:24:18</td>\n",
       "      <td>TY / เอก🤕</td>\n",
       "      <td>- GP</td>\n",
       "      <td>TOYOTA | 8850128360 | คอยล์เย็นหลัง |  AGH30 G...</td>\n",
       "      <td>NaN</td>\n",
       "      <td>TOYOTA</td>\n",
       "      <td>8850128360</td>\n",
       "      <td>คอยล์เย็นหลัง</td>\n",
       "      <td>AGH30 GGH30 ACR50 GSR50 KDJ150</td>\n",
       "      <td>12350.0</td>\n",
       "      <td>ไม่มีของต้องเบิก</td>\n",
       "      <td>ไม่มีของ</td>\n",
       "    </tr>\n",
       "    <tr>\n",
       "      <th>12</th>\n",
       "      <td>2023-06-05 19:25:24</td>\n",
       "      <td>TY-IS ยุ้ย</td>\n",
       "      <td>- GP</td>\n",
       "      <td>TOYOTA | 8851528200 | วาล์วน้ำยาแอร์ หลัง |  A...</td>\n",
       "      <td>NaN</td>\n",
       "      <td>TOYOTA</td>\n",
       "      <td>8851528200</td>\n",
       "      <td>วาล์วน้ำยาแอร์ หลัง</td>\n",
       "      <td>AHR20 ACR50 GSR50 KDJ150</td>\n",
       "      <td>2960.0</td>\n",
       "      <td>ไม่มีของต้องเบิก</td>\n",
       "      <td>ไม่มีของ</td>\n",
       "    </tr>\n",
       "    <tr>\n",
       "      <th>13</th>\n",
       "      <td>2023-06-06 14:06:58</td>\n",
       "      <td>TY / เอก🤕</td>\n",
       "      <td>- GP</td>\n",
       "      <td>TOYOTA | 87139YZZ45 | กรองแอร์ |  ACV51 ASV50 ...</td>\n",
       "      <td>NaN</td>\n",
       "      <td>TOYOTA</td>\n",
       "      <td>87139YZZ45</td>\n",
       "      <td>กรองแอร์</td>\n",
       "      <td>ACV51 ASV50 AVV50 ANH20</td>\n",
       "      <td>2780.0</td>\n",
       "      <td>ไม่มีของต้องเบิก</td>\n",
       "      <td>ไม่มีของ</td>\n",
       "    </tr>\n",
       "    <tr>\n",
       "      <th>18</th>\n",
       "      <td>2023-06-07 13:20:59</td>\n",
       "      <td>TY / เอก🤕</td>\n",
       "      <td>- GP</td>\n",
       "      <td>TOYOTA | 732100K700A0 | เข็มขัดนิรภัยหน้า R-L ...</td>\n",
       "      <td>NaN</td>\n",
       "      <td>TOYOTA</td>\n",
       "      <td>732100K700A0</td>\n",
       "      <td>เข็มขัดนิรภัยหน้า R-L SMART</td>\n",
       "      <td>KUN1-2#</td>\n",
       "      <td>1810.0</td>\n",
       "      <td>ไม่มีของต้องเบิก</td>\n",
       "      <td>ไม่มีของ</td>\n",
       "    </tr>\n",
       "    <tr>\n",
       "      <th>...</th>\n",
       "      <td>...</td>\n",
       "      <td>...</td>\n",
       "      <td>...</td>\n",
       "      <td>...</td>\n",
       "      <td>...</td>\n",
       "      <td>...</td>\n",
       "      <td>...</td>\n",
       "      <td>...</td>\n",
       "      <td>...</td>\n",
       "      <td>...</td>\n",
       "      <td>...</td>\n",
       "      <td>...</td>\n",
       "    </tr>\n",
       "    <tr>\n",
       "      <th>156695</th>\n",
       "      <td>2023-11-02 17:33:30</td>\n",
       "      <td>SUPPORT GPlแก้มยุ้ย</td>\n",
       "      <td>อ-1238  ATC.</td>\n",
       "      <td>TOYOTA | 53701KK450 | เหล็กซุ้มล้อหน้า R REVO ...</td>\n",
       "      <td>NaN</td>\n",
       "      <td>TOYOTA</td>\n",
       "      <td>53701KK450</td>\n",
       "      <td>เหล็กซุ้มล้อหน้า R REVO</td>\n",
       "      <td>GUN12#</td>\n",
       "      <td>3220.0</td>\n",
       "      <td>ไม่มีของต้องเบิก</td>\n",
       "      <td>ไม่มีของ</td>\n",
       "    </tr>\n",
       "    <tr>\n",
       "      <th>156698</th>\n",
       "      <td>2023-11-02 17:37:55</td>\n",
       "      <td>SUPPORT GPlแก้มยุ้ย</td>\n",
       "      <td>อ-1238  ATC.</td>\n",
       "      <td>TOYOTA | 167110L150 | บังลมหม้อน้ำ REVO | GUN1...</td>\n",
       "      <td>NaN</td>\n",
       "      <td>TOYOTA</td>\n",
       "      <td>167110L150</td>\n",
       "      <td>บังลมหม้อน้ำ REVO</td>\n",
       "      <td>GUN12# GUN14# GUN156-65</td>\n",
       "      <td>1440.0</td>\n",
       "      <td>มีของ</td>\n",
       "      <td>มีของ</td>\n",
       "    </tr>\n",
       "    <tr>\n",
       "      <th>156704</th>\n",
       "      <td>2023-11-03 12:07:10</td>\n",
       "      <td>SUPPORT GPlแก้มยุ้ย</td>\n",
       "      <td>อ-1238  ATC.</td>\n",
       "      <td>TOYOTA | 6700406190 | ประตูหลัง L มีม่านบังแดด...</td>\n",
       "      <td>NaN</td>\n",
       "      <td>TOYOTA</td>\n",
       "      <td>6700406190</td>\n",
       "      <td>ประตูหลัง L มีม่านบังแดด</td>\n",
       "      <td>ASV50 ASV51 ACV51 AVV50</td>\n",
       "      <td>8950.0</td>\n",
       "      <td>ไม่มีของต้องเบิก</td>\n",
       "      <td>ไม่มีของ</td>\n",
       "    </tr>\n",
       "    <tr>\n",
       "      <th>156705</th>\n",
       "      <td>2023-11-03 12:07:10</td>\n",
       "      <td>SUPPORT GPlแก้มยุ้ย</td>\n",
       "      <td>อ-1238  ATC.</td>\n",
       "      <td>TOYOTA | 7585833030 | คิ้วโครเมี่ยมบันได L 201...</td>\n",
       "      <td>NaN</td>\n",
       "      <td>TOYOTA</td>\n",
       "      <td>7585833030</td>\n",
       "      <td>คิ้วโครเมี่ยมบันได L 2012</td>\n",
       "      <td>ACV51 ASV50 AVV50</td>\n",
       "      <td>2390.0</td>\n",
       "      <td>ไม่มีของต้องเบิก</td>\n",
       "      <td>ไม่มีของ</td>\n",
       "    </tr>\n",
       "    <tr>\n",
       "      <th>156709</th>\n",
       "      <td>2023-11-03 19:26:56</td>\n",
       "      <td>SUPPORT GP l บี</td>\n",
       "      <td>อ-1238  ATC.</td>\n",
       "      <td>TOYOTA | 897450K010 | ถ่านกุญแจรีโมท | GUN12# ...</td>\n",
       "      <td>NaN</td>\n",
       "      <td>TOYOTA</td>\n",
       "      <td>897450K010</td>\n",
       "      <td>ถ่านกุญแจรีโมท</td>\n",
       "      <td>GUN12#</td>\n",
       "      <td>175.0</td>\n",
       "      <td>ไม่มีของต้องเบิก</td>\n",
       "      <td>ไม่มีของ</td>\n",
       "    </tr>\n",
       "  </tbody>\n",
       "</table>\n",
       "<p>40117 rows × 12 columns</p>\n",
       "</div>"
      ],
      "text/plain": [
       "                     TSTAMP                 User          Room  \\\n",
       "4       2023-06-01 12:09:34           TY-IS ยุ้ย          - GP   \n",
       "11      2023-06-05 19:24:18            TY / เอก🤕          - GP   \n",
       "12      2023-06-05 19:25:24           TY-IS ยุ้ย          - GP   \n",
       "13      2023-06-06 14:06:58            TY / เอก🤕          - GP   \n",
       "18      2023-06-07 13:20:59            TY / เอก🤕          - GP   \n",
       "...                     ...                  ...           ...   \n",
       "156695  2023-11-02 17:33:30  SUPPORT GPlแก้มยุ้ย  อ-1238  ATC.   \n",
       "156698  2023-11-02 17:37:55  SUPPORT GPlแก้มยุ้ย  อ-1238  ATC.   \n",
       "156704  2023-11-03 12:07:10  SUPPORT GPlแก้มยุ้ย  อ-1238  ATC.   \n",
       "156705  2023-11-03 12:07:10  SUPPORT GPlแก้มยุ้ย  อ-1238  ATC.   \n",
       "156709  2023-11-03 19:26:56      SUPPORT GP l บี  อ-1238  ATC.   \n",
       "\n",
       "                                                   sepmsg Chassis   Brand  \\\n",
       "4       TOYOTA | 6480102908 | กระจกบังลมหลังไล่ฝ้า |  ...     NaN  TOYOTA   \n",
       "11      TOYOTA | 8850128360 | คอยล์เย็นหลัง |  AGH30 G...     NaN  TOYOTA   \n",
       "12      TOYOTA | 8851528200 | วาล์วน้ำยาแอร์ หลัง |  A...     NaN  TOYOTA   \n",
       "13      TOYOTA | 87139YZZ45 | กรองแอร์ |  ACV51 ASV50 ...     NaN  TOYOTA   \n",
       "18      TOYOTA | 732100K700A0 | เข็มขัดนิรภัยหน้า R-L ...     NaN  TOYOTA   \n",
       "...                                                   ...     ...     ...   \n",
       "156695  TOYOTA | 53701KK450 | เหล็กซุ้มล้อหน้า R REVO ...     NaN  TOYOTA   \n",
       "156698  TOYOTA | 167110L150 | บังลมหม้อน้ำ REVO | GUN1...     NaN  TOYOTA   \n",
       "156704  TOYOTA | 6700406190 | ประตูหลัง L มีม่านบังแดด...     NaN  TOYOTA   \n",
       "156705  TOYOTA | 7585833030 | คิ้วโครเมี่ยมบันได L 201...     NaN  TOYOTA   \n",
       "156709  TOYOTA | 897450K010 | ถ่านกุญแจรีโมท | GUN12# ...     NaN  TOYOTA   \n",
       "\n",
       "                  Code                         Detail  \\\n",
       "4          6480102908           กระจกบังลมหลังไล่ฝ้า    \n",
       "11         8850128360                  คอยล์เย็นหลัง    \n",
       "12         8851528200            วาล์วน้ำยาแอร์ หลัง    \n",
       "13         87139YZZ45                       กรองแอร์    \n",
       "18       732100K700A0    เข็มขัดนิรภัยหน้า R-L SMART    \n",
       "...                ...                            ...   \n",
       "156695     53701KK450        เหล็กซุ้มล้อหน้า R REVO    \n",
       "156698     167110L150              บังลมหม้อน้ำ REVO    \n",
       "156704     6700406190       ประตูหลัง L มีม่านบังแดด    \n",
       "156705     7585833030      คิ้วโครเมี่ยมบันได L 2012    \n",
       "156709     897450K010                 ถ่านกุญแจรีโมท    \n",
       "\n",
       "                                    Model    Price          Available  \\\n",
       "4                          ZZE14# ZRE14#    4800.0   ไม่มีของต้องเบิก   \n",
       "11        AGH30 GGH30 ACR50 GSR50 KDJ150   12350.0   ไม่มีของต้องเบิก   \n",
       "12              AHR20 ACR50 GSR50 KDJ150    2960.0   ไม่มีของต้องเบิก   \n",
       "13               ACV51 ASV50 AVV50 ANH20    2780.0   ไม่มีของต้องเบิก   \n",
       "18                               KUN1-2#    1810.0   ไม่มีของต้องเบิก   \n",
       "...                                   ...      ...                ...   \n",
       "156695                            GUN12#    3220.0   ไม่มีของต้องเบิก   \n",
       "156698           GUN12# GUN14# GUN156-65    1440.0              มีของ   \n",
       "156704           ASV50 ASV51 ACV51 AVV50    8950.0   ไม่มีของต้องเบิก   \n",
       "156705                 ACV51 ASV50 AVV50    2390.0   ไม่มีของต้องเบิก   \n",
       "156709                            GUN12#     175.0   ไม่มีของต้องเบิก   \n",
       "\n",
       "              ml  \n",
       "4       ไม่มีของ  \n",
       "11      ไม่มีของ  \n",
       "12      ไม่มีของ  \n",
       "13      ไม่มีของ  \n",
       "18      ไม่มีของ  \n",
       "...          ...  \n",
       "156695  ไม่มีของ  \n",
       "156698     มีของ  \n",
       "156704  ไม่มีของ  \n",
       "156705  ไม่มีของ  \n",
       "156709  ไม่มีของ  \n",
       "\n",
       "[40117 rows x 12 columns]"
      ]
     },
     "execution_count": 26,
     "metadata": {},
     "output_type": "execute_result"
    }
   ],
   "source": [
    "partlist.loc[partlist['Brand']=='TOYOTA']"
   ]
  }
 ],
 "metadata": {
  "kernelspec": {
   "display_name": "selenium",
   "language": "python",
   "name": "python3"
  },
  "language_info": {
   "codemirror_mode": {
    "name": "ipython",
    "version": 3
   },
   "file_extension": ".py",
   "mimetype": "text/x-python",
   "name": "python",
   "nbconvert_exporter": "python",
   "pygments_lexer": "ipython3",
   "version": "3.9.12"
  }
 },
 "nbformat": 4,
 "nbformat_minor": 2
}
